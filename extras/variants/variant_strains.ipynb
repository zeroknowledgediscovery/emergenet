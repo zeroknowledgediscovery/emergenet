{
 "cells": [
  {
   "cell_type": "markdown",
   "id": "3c90944a",
   "metadata": {},
   "source": [
    "# Variant Animal Strains"
   ]
  },
  {
   "cell_type": "code",
   "execution_count": 1,
   "id": "98a31900",
   "metadata": {},
   "outputs": [
    {
     "data": {
      "text/html": [
       "<div>\n",
       "<style scoped>\n",
       "    .dataframe tbody tr th:only-of-type {\n",
       "        vertical-align: middle;\n",
       "    }\n",
       "\n",
       "    .dataframe tbody tr th {\n",
       "        vertical-align: top;\n",
       "    }\n",
       "\n",
       "    .dataframe thead th {\n",
       "        text-align: right;\n",
       "    }\n",
       "</style>\n",
       "<table border=\"1\" class=\"dataframe\">\n",
       "  <thead>\n",
       "    <tr style=\"text-align: right;\">\n",
       "      <th></th>\n",
       "      <th>name</th>\n",
       "      <th>irat_emergence</th>\n",
       "      <th>irat_impact</th>\n",
       "    </tr>\n",
       "  </thead>\n",
       "  <tbody>\n",
       "    <tr>\n",
       "      <th>0</th>\n",
       "      <td>A/Ohio/24/2017</td>\n",
       "      <td>5.077369</td>\n",
       "      <td>5.298214</td>\n",
       "    </tr>\n",
       "    <tr>\n",
       "      <th>0</th>\n",
       "      <td>A/Ohio/09/2015</td>\n",
       "      <td>6.654085</td>\n",
       "      <td>6.654220</td>\n",
       "    </tr>\n",
       "    <tr>\n",
       "      <th>0</th>\n",
       "      <td>A/Taiwan/1/2021</td>\n",
       "      <td>4.282494</td>\n",
       "      <td>4.669932</td>\n",
       "    </tr>\n",
       "    <tr>\n",
       "      <th>0</th>\n",
       "      <td>A/Iowa/39/2015</td>\n",
       "      <td>6.660403</td>\n",
       "      <td>6.659785</td>\n",
       "    </tr>\n",
       "    <tr>\n",
       "      <th>0</th>\n",
       "      <td>A/Parana/720/2015</td>\n",
       "      <td>5.692469</td>\n",
       "      <td>5.817514</td>\n",
       "    </tr>\n",
       "    <tr>\n",
       "      <th>0</th>\n",
       "      <td>A/Alberta/01/2020_(H1N2)v</td>\n",
       "      <td>5.136519</td>\n",
       "      <td>5.347342</td>\n",
       "    </tr>\n",
       "    <tr>\n",
       "      <th>0</th>\n",
       "      <td>A/Texas/14/2008</td>\n",
       "      <td>6.639157</td>\n",
       "      <td>6.641074</td>\n",
       "    </tr>\n",
       "    <tr>\n",
       "      <th>0</th>\n",
       "      <td>A/Wisconsin/71/2016</td>\n",
       "      <td>5.724307</td>\n",
       "      <td>5.844814</td>\n",
       "    </tr>\n",
       "    <tr>\n",
       "      <th>0</th>\n",
       "      <td>A/Ohio/02/2007</td>\n",
       "      <td>6.648516</td>\n",
       "      <td>6.649316</td>\n",
       "    </tr>\n",
       "    <tr>\n",
       "      <th>0</th>\n",
       "      <td>A/Minnesota/19/2011</td>\n",
       "      <td>5.708310</td>\n",
       "      <td>5.831093</td>\n",
       "    </tr>\n",
       "    <tr>\n",
       "      <th>0</th>\n",
       "      <td>A/New Jersey/8/1976</td>\n",
       "      <td>6.625954</td>\n",
       "      <td>6.629449</td>\n",
       "    </tr>\n",
       "    <tr>\n",
       "      <th>0</th>\n",
       "      <td>A/Minnesota/45/2016</td>\n",
       "      <td>5.114060</td>\n",
       "      <td>5.328664</td>\n",
       "    </tr>\n",
       "  </tbody>\n",
       "</table>\n",
       "</div>"
      ],
      "text/plain": [
       "                        name  irat_emergence  irat_impact\n",
       "0             A/Ohio/24/2017        5.077369     5.298214\n",
       "0             A/Ohio/09/2015        6.654085     6.654220\n",
       "0            A/Taiwan/1/2021        4.282494     4.669932\n",
       "0             A/Iowa/39/2015        6.660403     6.659785\n",
       "0          A/Parana/720/2015        5.692469     5.817514\n",
       "0  A/Alberta/01/2020_(H1N2)v        5.136519     5.347342\n",
       "0            A/Texas/14/2008        6.639157     6.641074\n",
       "0        A/Wisconsin/71/2016        5.724307     5.844814\n",
       "0             A/Ohio/02/2007        6.648516     6.649316\n",
       "0        A/Minnesota/19/2011        5.708310     5.831093\n",
       "0        A/New Jersey/8/1976        6.625954     6.629449\n",
       "0        A/Minnesota/45/2016        5.114060     5.328664"
      ]
     },
     "execution_count": 1,
     "metadata": {},
     "output_type": "execute_result"
    }
   ],
   "source": [
    "import pandas as pd\n",
    "import warnings\n",
    "warnings.filterwarnings('ignore')\n",
    "\n",
    "# list of variant animal strains to analyze\n",
    "STRAINS = ['A/Ohio/24/2017',\n",
    "           'A/Ohio/09/2015',\n",
    "           'A/Taiwan/1/2021',\n",
    "           'A/Iowa/39/2015',\n",
    "           'A/Parana/720/2015',\n",
    "           'A/Alberta/01/2020_(H1N2)v',\n",
    "           'A/Texas/14/2008',\n",
    "           'A/Wisconsin/71/2016',\n",
    "           'A/Ohio/02/2007',\n",
    "           'A/Minnesota/19/2011',\n",
    "           'A/New Jersey/8/1976',\n",
    "           'A/Minnesota/45/2016']\n",
    "\n",
    "results = pd.DataFrame({})\n",
    "for STRAIN in STRAINS:\n",
    "    NAME = STRAIN.replace('/', ':')\n",
    "    df = pd.read_csv('results/'+NAME+'.csv', index_col=0)\n",
    "    if len(results) == 0:\n",
    "        results = df\n",
    "    else:\n",
    "        results = results.append(df)\n",
    "\n",
    "results.to_csv('results/variant_strain_results.csv')\n",
    "results[['name', 'irat_emergence', 'irat_impact']]"
   ]
  },
  {
   "cell_type": "code",
   "execution_count": 2,
   "id": "aecad6ca",
   "metadata": {},
   "outputs": [
    {
     "data": {
      "text/html": [
       "<div>\n",
       "<style scoped>\n",
       "    .dataframe tbody tr th:only-of-type {\n",
       "        vertical-align: middle;\n",
       "    }\n",
       "\n",
       "    .dataframe tbody tr th {\n",
       "        vertical-align: top;\n",
       "    }\n",
       "\n",
       "    .dataframe thead th {\n",
       "        text-align: right;\n",
       "    }\n",
       "</style>\n",
       "<table border=\"1\" class=\"dataframe\">\n",
       "  <thead>\n",
       "    <tr style=\"text-align: right;\">\n",
       "      <th></th>\n",
       "      <th>name</th>\n",
       "      <th>ha_metadata</th>\n",
       "      <th>na_metadata</th>\n",
       "      <th>ha_seq</th>\n",
       "      <th>na_seq</th>\n",
       "      <th>risk_ha</th>\n",
       "      <th>var_ha</th>\n",
       "      <th>risk_na</th>\n",
       "      <th>var_na</th>\n",
       "      <th>geom_mean</th>\n",
       "      <th>irat_emergence</th>\n",
       "      <th>irat_impact</th>\n",
       "    </tr>\n",
       "  </thead>\n",
       "  <tbody>\n",
       "    <tr>\n",
       "      <th>0</th>\n",
       "      <td>A/Taiwan/1/2021</td>\n",
       "      <td>A/Taiwan/1/2021|EPI_ISL_4847065|A_/_H1N2|C1||u...</td>\n",
       "      <td>A/Taiwan/1/2021|EPI_ISL_4847065|A_/_H1N2|C1||u...</td>\n",
       "      <td>MKATLLILLGTFTTANADTLCVGYHANNSTDTVDTVLEKNVTVTHS...</td>\n",
       "      <td>MNPIKKIITIGSVSLTITSICFLMQIVILLTTVKLHFKQHECNSPP...</td>\n",
       "      <td>0.37727</td>\n",
       "      <td>0.043282</td>\n",
       "      <td>0.073669</td>\n",
       "      <td>0.000522</td>\n",
       "      <td>0.166713</td>\n",
       "      <td>4.282494</td>\n",
       "      <td>4.669932</td>\n",
       "    </tr>\n",
       "  </tbody>\n",
       "</table>\n",
       "</div>"
      ],
      "text/plain": [
       "              name                                        ha_metadata  \\\n",
       "0  A/Taiwan/1/2021  A/Taiwan/1/2021|EPI_ISL_4847065|A_/_H1N2|C1||u...   \n",
       "\n",
       "                                         na_metadata  \\\n",
       "0  A/Taiwan/1/2021|EPI_ISL_4847065|A_/_H1N2|C1||u...   \n",
       "\n",
       "                                              ha_seq  \\\n",
       "0  MKATLLILLGTFTTANADTLCVGYHANNSTDTVDTVLEKNVTVTHS...   \n",
       "\n",
       "                                              na_seq  risk_ha    var_ha  \\\n",
       "0  MNPIKKIITIGSVSLTITSICFLMQIVILLTTVKLHFKQHECNSPP...  0.37727  0.043282   \n",
       "\n",
       "    risk_na    var_na  geom_mean  irat_emergence  irat_impact  \n",
       "0  0.073669  0.000522   0.166713        4.282494     4.669932  "
      ]
     },
     "execution_count": 2,
     "metadata": {},
     "output_type": "execute_result"
    }
   ],
   "source": [
    "pd.read_csv('results/A:Taiwan:1:2021.csv', index_col=0)"
   ]
  },
  {
   "cell_type": "code",
   "execution_count": 3,
   "id": "81b1f5d4",
   "metadata": {},
   "outputs": [
    {
     "data": {
      "text/html": [
       "<div>\n",
       "<style scoped>\n",
       "    .dataframe tbody tr th:only-of-type {\n",
       "        vertical-align: middle;\n",
       "    }\n",
       "\n",
       "    .dataframe tbody tr th {\n",
       "        vertical-align: top;\n",
       "    }\n",
       "\n",
       "    .dataframe thead th {\n",
       "        text-align: right;\n",
       "    }\n",
       "</style>\n",
       "<table border=\"1\" class=\"dataframe\">\n",
       "  <thead>\n",
       "    <tr style=\"text-align: right;\">\n",
       "      <th></th>\n",
       "      <th>name</th>\n",
       "      <th>ha_metadata</th>\n",
       "      <th>na_metadata</th>\n",
       "      <th>ha_seq</th>\n",
       "      <th>na_seq</th>\n",
       "      <th>risk_ha</th>\n",
       "      <th>var_ha</th>\n",
       "      <th>risk_na</th>\n",
       "      <th>var_na</th>\n",
       "      <th>geom_mean</th>\n",
       "      <th>irat_emergence</th>\n",
       "      <th>irat_impact</th>\n",
       "    </tr>\n",
       "  </thead>\n",
       "  <tbody>\n",
       "    <tr>\n",
       "      <th>0</th>\n",
       "      <td>A/Taiwan/1/2021</td>\n",
       "      <td>A/Taiwan/1/2021|EPI_ISL_4847065|A_/_H1N2|C1||u...</td>\n",
       "      <td>A/Taiwan/1/2021|EPI_ISL_4847065|A_/_H1N2|C1||u...</td>\n",
       "      <td>MKATLLILLGTFTTANADTLCVGYHANNSTDTVDTVLEKNVTVTHS...</td>\n",
       "      <td>MNPIKKIITIGSVSLTITSICFLMQIVILLTTVKLHFKQHECNSPP...</td>\n",
       "      <td>0.37727</td>\n",
       "      <td>0.043282</td>\n",
       "      <td>0.073669</td>\n",
       "      <td>0.000522</td>\n",
       "      <td>0.166713</td>\n",
       "      <td>4.282494</td>\n",
       "      <td>4.669932</td>\n",
       "    </tr>\n",
       "  </tbody>\n",
       "</table>\n",
       "</div>"
      ],
      "text/plain": [
       "              name                                        ha_metadata  \\\n",
       "0  A/Taiwan/1/2021  A/Taiwan/1/2021|EPI_ISL_4847065|A_/_H1N2|C1||u...   \n",
       "\n",
       "                                         na_metadata  \\\n",
       "0  A/Taiwan/1/2021|EPI_ISL_4847065|A_/_H1N2|C1||u...   \n",
       "\n",
       "                                              ha_seq  \\\n",
       "0  MKATLLILLGTFTTANADTLCVGYHANNSTDTVDTVLEKNVTVTHS...   \n",
       "\n",
       "                                              na_seq  risk_ha    var_ha  \\\n",
       "0  MNPIKKIITIGSVSLTITSICFLMQIVILLTTVKLHFKQHECNSPP...  0.37727  0.043282   \n",
       "\n",
       "    risk_na    var_na  geom_mean  irat_emergence  irat_impact  \n",
       "0  0.073669  0.000522   0.166713        4.282494     4.669932  "
      ]
     },
     "execution_count": 3,
     "metadata": {},
     "output_type": "execute_result"
    }
   ],
   "source": [
    "df = pd.read_csv('results/A:Taiwan:1:2021.csv', index_col=0)\n",
    "df"
   ]
  },
  {
   "cell_type": "code",
   "execution_count": 4,
   "id": "315dbe87",
   "metadata": {},
   "outputs": [],
   "source": [
    "from Levenshtein import distance\n",
    "from Bio import SeqIO\n",
    "import numpy as np"
   ]
  },
  {
   "cell_type": "code",
   "execution_count": 5,
   "id": "7a3511f7",
   "metadata": {},
   "outputs": [],
   "source": [
    "def parse_fasta(filepath):\n",
    "    ids = []\n",
    "    seqs = []\n",
    "    for record in SeqIO.parse(filepath, 'fasta'):\n",
    "        if len(record.seq) < 550:\n",
    "            continue\n",
    "        ids.append(str(record.id))\n",
    "        seqs.append(''.join(record.seq[:550].upper()))\n",
    "#         seqs.append(np.array(record.seq[:550].upper()))\n",
    "    seq_df = pd.DataFrame({'id': ids, 'sequence': seqs})\n",
    "    return seq_df"
   ]
  },
  {
   "cell_type": "code",
   "execution_count": 6,
   "id": "c9f42628",
   "metadata": {},
   "outputs": [],
   "source": [
    "taiwan = df['ha_seq'].values[0]"
   ]
  },
  {
   "cell_type": "code",
   "execution_count": 7,
   "id": "21c65e78",
   "metadata": {},
   "outputs": [
    {
     "data": {
      "text/plain": [
       "566"
      ]
     },
     "execution_count": 7,
     "metadata": {},
     "output_type": "execute_result"
    }
   ],
   "source": [
    "len(taiwan)"
   ]
  },
  {
   "cell_type": "code",
   "execution_count": 29,
   "id": "00d3b701",
   "metadata": {},
   "outputs": [],
   "source": [
    "h1n2_ha = parse_fasta('data/human/h1n2_ha.fasta')"
   ]
  },
  {
   "cell_type": "code",
   "execution_count": 38,
   "id": "f553a5b0",
   "metadata": {},
   "outputs": [
    {
     "data": {
      "text/plain": [
       "'MKAILVVLLYTFTTANADTLCIGYHANNSTDTVDTVLEKNVTVTHSVNLLEDKHNGKLCKLRGVAPLHLGKCNIAGWILGNPECESLSTARSWSYIVETSNSDNGTCYPGDFINYEELREQLSSVSSFERFEIFPKASSWPNHDSNKGVTAACPHAGAKSFYKNLIWLVKKGNSYPKLNQTYINDKGKEVLVLWGIHHPPTTADQQILYQNADAYVFVGTSRYSKKFKPEIATRPKVRDQEGRMNYYWTLVEPGDKITFEATGNLVVPRYAFTMERNAGSGIIISDTPVHDCNTTCQTPEGAINTSLPFQNVHPITIGKCPKYVKSTKLRLATGLRNVPSIQSRGLFGAIAGFIEGGWTGMVDGWYGYHHQNEQGSGYAADLKSTQNAIDKITNKVNSVIEKMNTQFTAVGKEFNHLEKRIENLNKKVDDGFLDIWTYNAELLVLLENERTLDYHDSNVKNLYEKVRNQLKNNAKEIGNGCFEFYHKCDNTCMESVKNGTYDYPKYSEEAKLNREKIDGVKLESTRIYQILAIYSTVASSLVLVVSLGAI'"
      ]
     },
     "execution_count": 38,
     "metadata": {},
     "output_type": "execute_result"
    }
   ],
   "source": [
    "seq"
   ]
  },
  {
   "cell_type": "code",
   "execution_count": 8,
   "id": "3eb6e4f8",
   "metadata": {},
   "outputs": [],
   "source": [
    "t2 = 'MKAILLVLLHTFAAANADTICIGYHANNSTDTVDTVLEKNVTVTHSVNLLEDKHNGKLCKLGGKSPLYLGNCNIAGWLLGNPECESILTVNSWSYIVETSNSDNGTCYPGSFTNYEELREQLSSVSSFEKFEIFPTESSWPNHKTGETASCPYAGKGSFYRNLIWLVKKDDSYPRLNISYVNNKGKEVLVLWGIHHPPTGNDQQWLYKNANASVFVGTSTYSHKFKPEIAARPKVRGQAGRMNYYWTIVEPGDTITFEATGNLVVPRYAFAMNRGSGSGIIVSDAPIHDCNTTCQTPKGALNTSLPFQNVHPVTIGECPKYVKSRRLKMATGLRNIPSIQSRGLFGAIAGFIEGGWTGMIDGWYGYHHQNDQGSGYAADQKSTQKAIDGITNKVNSVIEKMNTQFAAVGKEFNNLERRIENLNRKVDDGFLDVWTYNAELLVLLENERTLDFHDSNVKNLYEKVRNQLRNNAKEIGNGCFEFYHKCDNTCMESVKNGTYNYLKYSEESKLNREKIDGVKLDSTRVYQILAIYSTVASSLVLLVSLGALSFWMCSNGSLQCRICI'"
   ]
  },
  {
   "cell_type": "code",
   "execution_count": 9,
   "id": "911093a1",
   "metadata": {
    "scrolled": true
   },
   "outputs": [
    {
     "data": {
      "text/plain": [
       "92"
      ]
     },
     "execution_count": 9,
     "metadata": {},
     "output_type": "execute_result"
    }
   ],
   "source": [
    "distance(taiwan, t2)"
   ]
  },
  {
   "cell_type": "code",
   "execution_count": 44,
   "id": "6ba7228a",
   "metadata": {},
   "outputs": [],
   "source": [
    "t3 = 'MKTKLFVLFCVFNTLKADTICIGYHANNSTDTVDTIMEKNVTVTHSVNLLETNHNGKLCSLNGKAPLQLGNCDVAGWILGNPECDLLVTANSWSYIIETSNSKNGTCYPGEFADYEELRELLSTVSSFERFEIFPKNSWPSHEAGTTVSCSKSGANSFYRNLLWITSKGKPYSKLSKSYKNNKGKEVLVIWGVHHPPTYSDQQTLYQNNHTYVSVVSSKYYQRFTPEIVPRPEIREQRGRMNYYWTLLDQEDTITFEATGNLIAPRYAFALEKGSNSGIMKSDAHVHNCTTKCQTPHGALKSDRPFQNVHPITIGECPKYVKSTQLRMATGLRNIPSIQSRGLFGAIAGFIEGGWTGMIDGWYGYHHQNEQGSGYAADQKSTQIAIDGVSNKVNTIIEKMNIQFASVGKEFNELEKRIGNLNKKVDDGFLDVWTYNAELLVLLENERTLDFHDFNVKNLYEKVKLQLRNNAKEIGNGCFEFYHKCDNECMESVKNGTYNYPKYSEESKLKREEIDGVKLESMGVQQILAIYSTVASSLVLLVSLGAISFWMCSNGSLQCRICI'"
   ]
  },
  {
   "cell_type": "code",
   "execution_count": 45,
   "id": "91185d2d",
   "metadata": {},
   "outputs": [
    {
     "data": {
      "text/plain": [
       "132"
      ]
     },
     "execution_count": 45,
     "metadata": {},
     "output_type": "execute_result"
    }
   ],
   "source": [
    "distance(taiwan, t3)"
   ]
  },
  {
   "cell_type": "code",
   "execution_count": 46,
   "id": "a3ea27fe",
   "metadata": {},
   "outputs": [],
   "source": [
    "t4 = 'MEAKLFVLFSVFTALKADIICVGYHANNSTDTVDTILEKNVTVTHSVNLLETSHNGKLCSLNGKAPLQLGSCNVAGWILGNPECDLLLTANSWSYIIETPNSENGTCYPGEFADYEELREQLSAVSSFERFEIFPKATSWPGHETTKGTTTSCSHSGSKSFYRNLIWIVSKGNSYPKISKSYTNNKGKEVLIIWGVHHPPTYGDQQTLYQNNHTYVSVESSKYYRRFTPEIVTRPKIRDQAGRMNYYWTLLDQGDTITIEATGNLIAPWYAFALNKGINSGIVMSEAHVHNCTTKCQTPLGALKGNLPFQNVHPTTIGECPKYVKSTQLRMATGLRNIPSIQSRGLFGAIAGFIEGGWTGMIDGWYGYHHQNEQGSGYAADQKSTQIAIDGINNKVNSIIEKMNIQFTSVGKEFNNLEKRIENLNKKVDDGFLDVWTYNAELLILLENERTLDFHDFNVKNLYEKVKSQLRNNAKEIGNGCFEFYHKCDNECMESVKNGTYNYPKYSEESKLNREEIDGVKLESMGVHQILAIYSTVASSLVLLVSLGAISFWMCSNGSLQCRVCI'"
   ]
  },
  {
   "cell_type": "code",
   "execution_count": 47,
   "id": "54785035",
   "metadata": {},
   "outputs": [
    {
     "data": {
      "text/plain": [
       "119"
      ]
     },
     "execution_count": 47,
     "metadata": {},
     "output_type": "execute_result"
    }
   ],
   "source": [
    "distance(taiwan, t4)"
   ]
  },
  {
   "cell_type": "code",
   "execution_count": 37,
   "id": "14fffc37",
   "metadata": {},
   "outputs": [
    {
     "name": "stdout",
     "output_type": "stream",
     "text": [
      "70\n",
      "132\n",
      "129\n",
      "132\n",
      "132\n",
      "132\n",
      "132\n",
      "131\n",
      "132\n",
      "132\n",
      "127\n",
      "92\n",
      "132\n",
      "132\n",
      "132\n",
      "130\n",
      "93\n",
      "90\n",
      "72\n",
      "72\n",
      "83\n",
      "131\n",
      "130\n",
      "70\n",
      "70\n"
     ]
    }
   ],
   "source": [
    "for seq in h1n2_ha['sequence'].values:\n",
    "    print(distance(seq, taiwan[:550]))"
   ]
  },
  {
   "cell_type": "markdown",
   "id": "69c101b7",
   "metadata": {},
   "source": [
    "## Wisconsin"
   ]
  },
  {
   "cell_type": "code",
   "execution_count": 63,
   "id": "e9fc03d9",
   "metadata": {},
   "outputs": [
    {
     "data": {
      "text/html": [
       "<div>\n",
       "<style scoped>\n",
       "    .dataframe tbody tr th:only-of-type {\n",
       "        vertical-align: middle;\n",
       "    }\n",
       "\n",
       "    .dataframe tbody tr th {\n",
       "        vertical-align: top;\n",
       "    }\n",
       "\n",
       "    .dataframe thead th {\n",
       "        text-align: right;\n",
       "    }\n",
       "</style>\n",
       "<table border=\"1\" class=\"dataframe\">\n",
       "  <thead>\n",
       "    <tr style=\"text-align: right;\">\n",
       "      <th></th>\n",
       "      <th>name</th>\n",
       "      <th>ha_metadata</th>\n",
       "      <th>na_metadata</th>\n",
       "      <th>ha_seq</th>\n",
       "      <th>na_seq</th>\n",
       "      <th>risk_ha</th>\n",
       "      <th>var_ha</th>\n",
       "      <th>risk_na</th>\n",
       "      <th>var_na</th>\n",
       "      <th>geom_mean</th>\n",
       "      <th>irat_emergence</th>\n",
       "      <th>irat_impact</th>\n",
       "    </tr>\n",
       "  </thead>\n",
       "  <tbody>\n",
       "    <tr>\n",
       "      <th>0</th>\n",
       "      <td>A/Wisconsin/71/2016</td>\n",
       "      <td>A/Wisconsin/71/2016|EPI_ISL_230639|A_/_H1N2|C1...</td>\n",
       "      <td>A/Wisconsin/71/2016|EPI_ISL_230639|A_/_H1N2|C1...</td>\n",
       "      <td>MKVKLLILLCTFTAAYADTICIGYHANNSTDTVDTVLEKNVTVTHS...</td>\n",
       "      <td>MNPNQKIITIGSVSLIIATICFLMQIAILVTTVTLHFKQHNCDSSP...</td>\n",
       "      <td>0.121691</td>\n",
       "      <td>0.025035</td>\n",
       "      <td>0.026707</td>\n",
       "      <td>0.005998</td>\n",
       "      <td>0.057009</td>\n",
       "      <td>5.724307</td>\n",
       "      <td>5.844814</td>\n",
       "    </tr>\n",
       "  </tbody>\n",
       "</table>\n",
       "</div>"
      ],
      "text/plain": [
       "                  name                                        ha_metadata  \\\n",
       "0  A/Wisconsin/71/2016  A/Wisconsin/71/2016|EPI_ISL_230639|A_/_H1N2|C1...   \n",
       "\n",
       "                                         na_metadata  \\\n",
       "0  A/Wisconsin/71/2016|EPI_ISL_230639|A_/_H1N2|C1...   \n",
       "\n",
       "                                              ha_seq  \\\n",
       "0  MKVKLLILLCTFTAAYADTICIGYHANNSTDTVDTVLEKNVTVTHS...   \n",
       "\n",
       "                                              na_seq   risk_ha    var_ha  \\\n",
       "0  MNPNQKIITIGSVSLIIATICFLMQIAILVTTVTLHFKQHNCDSSP...  0.121691  0.025035   \n",
       "\n",
       "    risk_na    var_na  geom_mean  irat_emergence  irat_impact  \n",
       "0  0.026707  0.005998   0.057009        5.724307     5.844814  "
      ]
     },
     "execution_count": 63,
     "metadata": {},
     "output_type": "execute_result"
    }
   ],
   "source": [
    "df = pd.read_csv('results/A:Wisconsin:71:2016.csv', index_col=0)\n",
    "df"
   ]
  },
  {
   "cell_type": "code",
   "execution_count": 71,
   "id": "eaf570f6",
   "metadata": {},
   "outputs": [
    {
     "data": {
      "text/html": [
       "<div>\n",
       "<style scoped>\n",
       "    .dataframe tbody tr th:only-of-type {\n",
       "        vertical-align: middle;\n",
       "    }\n",
       "\n",
       "    .dataframe tbody tr th {\n",
       "        vertical-align: top;\n",
       "    }\n",
       "\n",
       "    .dataframe thead th {\n",
       "        text-align: right;\n",
       "    }\n",
       "</style>\n",
       "<table border=\"1\" class=\"dataframe\">\n",
       "  <thead>\n",
       "    <tr style=\"text-align: right;\">\n",
       "      <th></th>\n",
       "      <th>name</th>\n",
       "      <th>ha_metadata</th>\n",
       "      <th>ha_seq</th>\n",
       "      <th>risk_ha</th>\n",
       "      <th>var_ha</th>\n",
       "      <th>min_score</th>\n",
       "      <th>min_seq</th>\n",
       "    </tr>\n",
       "  </thead>\n",
       "  <tbody>\n",
       "    <tr>\n",
       "      <th>0</th>\n",
       "      <td>A/Wisconsin/71/2016</td>\n",
       "      <td>A/Wisconsin/71/2016|EPI_ISL_230639|A_/_H1N2|C1...</td>\n",
       "      <td>MKVKLLILLCTFTAAYADTICIGYHANNSTDTVDTVLEKNVTVTHS...</td>\n",
       "      <td>0.061984</td>\n",
       "      <td>0.016892</td>\n",
       "      <td>0.0</td>\n",
       "      <td>['M' 'K' 'V' 'K' 'L' 'L' 'I' 'L' 'L' 'C' 'T' '...</td>\n",
       "    </tr>\n",
       "  </tbody>\n",
       "</table>\n",
       "</div>"
      ],
      "text/plain": [
       "                  name                                        ha_metadata  \\\n",
       "0  A/Wisconsin/71/2016  A/Wisconsin/71/2016|EPI_ISL_230639|A_/_H1N2|C1...   \n",
       "\n",
       "                                              ha_seq   risk_ha    var_ha  \\\n",
       "0  MKVKLLILLCTFTAAYADTICIGYHANNSTDTVDTVLEKNVTVTHS...  0.061984  0.016892   \n",
       "\n",
       "   min_score                                            min_seq  \n",
       "0        0.0  ['M' 'K' 'V' 'K' 'L' 'L' 'I' 'L' 'L' 'C' 'T' '...  "
      ]
     },
     "execution_count": 71,
     "metadata": {},
     "output_type": "execute_result"
    }
   ],
   "source": [
    "df = pd.read_csv('results/A:Wisconsin:71:20161.csv', index_col=0)\n",
    "df"
   ]
  },
  {
   "cell_type": "code",
   "execution_count": null,
   "id": "09923170",
   "metadata": {},
   "outputs": [],
   "source": []
  }
 ],
 "metadata": {
  "kernelspec": {
   "display_name": "Python 3",
   "language": "python",
   "name": "python3"
  },
  "language_info": {
   "codemirror_mode": {
    "name": "ipython",
    "version": 3
   },
   "file_extension": ".py",
   "mimetype": "text/x-python",
   "name": "python",
   "nbconvert_exporter": "python",
   "pygments_lexer": "ipython3",
   "version": "3.8.8"
  }
 },
 "nbformat": 4,
 "nbformat_minor": 5
}
