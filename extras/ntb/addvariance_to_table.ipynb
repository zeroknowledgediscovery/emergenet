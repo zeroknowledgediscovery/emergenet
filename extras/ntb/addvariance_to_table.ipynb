{
 "cells": [
  {
   "cell_type": "code",
   "execution_count": 29,
   "id": "6621b9d3",
   "metadata": {},
   "outputs": [],
   "source": [
    "import pandas as pd\n",
    "import numpy as np"
   ]
  },
  {
   "cell_type": "code",
   "execution_count": 33,
   "id": "b38d7b05",
   "metadata": {},
   "outputs": [],
   "source": [
    "sf=pd.read_csv('../../paper_data_v2/irat_enet/results/animal_predictions/var.csv',names=['ermergence_SEM','impact_SEM'])"
   ]
  },
  {
   "cell_type": "code",
   "execution_count": 34,
   "id": "9e941ccc",
   "metadata": {},
   "outputs": [],
   "source": [
    "sf=np.sqrt(sf)"
   ]
  },
  {
   "cell_type": "code",
   "execution_count": 35,
   "id": "09ac02b0",
   "metadata": {},
   "outputs": [],
   "source": [
    "sf.to_csv('sf.csv',index=None,float_format='%.3g')"
   ]
  },
  {
   "cell_type": "code",
   "execution_count": 36,
   "id": "7fe33139",
   "metadata": {},
   "outputs": [
    {
     "name": "stdout",
     "output_type": "stream",
     "text": [
      "ermergence_SEM,impact_SEM\r\n",
      "0.00246,0.00217\r\n",
      "0.0248,0.0218\r\n",
      "0.00426,0.00376\r\n",
      "0.0695,0.0613\r\n",
      "0.0043,0.00378\r\n",
      "0.0329,0.029\r\n",
      "0.002,0.00176\r\n",
      "0.0268,0.0235\r\n",
      "0.0204,0.0179\r\n",
      "0.0238,0.0209\r\n",
      "0.00273,0.0024\r\n",
      "0.0254,0.0222\r\n",
      "0.00305,0.00268\r\n",
      "0.0276,0.0242\r\n",
      "0.00336,0.00294\r\n",
      "0.00335,0.00294\r\n",
      "0.0051,0.00446\r\n",
      "0.00224,0.00196\r\n",
      "0.00351,0.00308\r\n",
      "0.0254,0.0222\r\n",
      "0.0034,0.00298\r\n",
      "0.0034,0.00297\r\n",
      "0.0293,0.0256\r\n",
      "0.00329,0.00288\r\n",
      "0.00336,0.00294\r\n",
      "0.00343,0.003\r\n",
      "0.00343,0.003\r\n",
      "0.00343,0.003\r\n",
      "0.00343,0.003\r\n",
      "0.00343,0.003\r\n",
      "0.00343,0.003\r\n",
      "0.00343,0.003\r\n",
      "0.00343,0.003\r\n",
      "0.00343,0.003\r\n",
      "0.00343,0.003\r\n",
      "0.00343,0.003\r\n",
      "0.00343,0.003\r\n",
      "0.00343,0.003\r\n",
      "0.00343,0.003\r\n",
      "0.00343,0.003\r\n",
      "0.00343,0.003\r\n",
      "0.00343,0.003\r\n",
      "0.0245,0.0215\r\n",
      "0.00343,0.003\r\n",
      "0.00343,0.003\r\n",
      "0.00344,0.00301\r\n",
      "0.00344,0.00301\r\n",
      "0.00344,0.00301\r\n",
      "0.00344,0.00301\r\n",
      "0.00341,0.00299\r\n",
      "0.00278,0.00243\r\n",
      "0.00349,0.00306\r\n",
      "0.00226,0.00197\r\n",
      "0.00335,0.00294\r\n",
      "0.00333,0.00292\r\n",
      "0.00323,0.00282\r\n",
      "0.0277,0.0243\r\n",
      "0.00334,0.00293\r\n",
      "0.00334,0.00293\r\n",
      "0.00334,0.00293\r\n",
      "0.00418,0.00366\r\n",
      "0.00331,0.0029\r\n",
      "0.00332,0.00291\r\n",
      "0.0239,0.0209\r\n",
      "0.00329,0.00288\r\n",
      "0.00345,0.00302\r\n",
      "0.0277,0.0243\r\n",
      "0.0276,0.0241\r\n",
      "0.00382,0.00334\r\n",
      "0.0318,0.0278\r\n",
      "0.0351,0.0307\r\n",
      "0.00265,0.00231\r\n",
      "0.0298,0.026\r\n",
      "0,0\r\n"
     ]
    }
   ],
   "source": [
    "! cat sf.csv"
   ]
  },
  {
   "cell_type": "code",
   "execution_count": null,
   "id": "b6c98123",
   "metadata": {},
   "outputs": [],
   "source": []
  }
 ],
 "metadata": {
  "kernelspec": {
   "display_name": "Python 3 (ipykernel)",
   "language": "python",
   "name": "python3"
  },
  "language_info": {
   "codemirror_mode": {
    "name": "ipython",
    "version": 3
   },
   "file_extension": ".py",
   "mimetype": "text/x-python",
   "name": "python",
   "nbconvert_exporter": "python",
   "pygments_lexer": "ipython3",
   "version": "3.7.5"
  }
 },
 "nbformat": 4,
 "nbformat_minor": 5
}
