{
 "cells": [
  {
   "cell_type": "code",
   "execution_count": 154,
   "metadata": {},
   "outputs": [],
   "source": [
    "import numpy as np\n",
    "import pandas as pd\n",
    "from quasinet.qnet import qdistance, load_qnet\n",
    "from emergenet.domseq import DomSeq, save_model, load_model\n",
    "import os\n",
    "import shutil\n",
    "import glob\n",
    "from Levenshtein import distance as edit_distance"
   ]
  },
  {
   "cell_type": "code",
   "execution_count": 155,
   "metadata": {},
   "outputs": [],
   "source": [
    "RBD=[63,286]\n",
    "#RBD=[120,220]\n",
    "#RBD=[350,520]\n",
    "#RBD=[1,50]\n"
   ]
  },
  {
   "cell_type": "code",
   "execution_count": 156,
   "metadata": {},
   "outputs": [],
   "source": [
    "IRATseq=glob.glob('../../irat_qnet/raw_data/irat_sequences/*ha.fasta')\n",
    "R={}\n",
    "\n",
    "def func(a):\n",
    "    return np.mean(a)\n",
    "\n",
    "for PATH in IRATseq:\n",
    "    #print(PATH)\n",
    "    seqname=PATH.split('/')[-1].replace(':','_')\n",
    "    domseq = DomSeq(seq_trunc_length=550, random_state=42)\n",
    "    r0 = domseq.load_data(filepath=PATH)\n",
    "    r0=r0.set_index('id').sequence.values\n",
    "    r0_=''.join(list(r0[0])[RBD[0]:RBD[1]])\n",
    "    \n",
    "    S=-1\n",
    "    if os.path.exists(PATH.replace('irat_sequences','gisaid')):\n",
    "        domseq = DomSeq(seq_trunc_length=550, random_state=42)\n",
    "        df_ = domseq.load_data(filepath=PATH.replace('irat_sequences','gisaid'))\n",
    "        seq=df_.set_index('id').sequence.values\n",
    "        S=func(np.array([edit_distance(r0_,''.join(list(x)[RBD[0]:RBD[1]])) for x in seq]))\n",
    "    \n",
    "    R[seqname]=-S"
   ]
  },
  {
   "cell_type": "code",
   "execution_count": 157,
   "metadata": {},
   "outputs": [
    {
     "data": {
      "text/html": [
       "<div>\n",
       "<style scoped>\n",
       "    .dataframe tbody tr th:only-of-type {\n",
       "        vertical-align: middle;\n",
       "    }\n",
       "\n",
       "    .dataframe tbody tr th {\n",
       "        vertical-align: top;\n",
       "    }\n",
       "\n",
       "    .dataframe thead th {\n",
       "        text-align: right;\n",
       "    }\n",
       "</style>\n",
       "<table border=\"1\" class=\"dataframe\">\n",
       "  <thead>\n",
       "    <tr style=\"text-align: right;\">\n",
       "      <th></th>\n",
       "      <th>ld</th>\n",
       "    </tr>\n",
       "  </thead>\n",
       "  <tbody>\n",
       "    <tr>\n",
       "      <th>A/American green-winged teal/Washington/1957050/2014</th>\n",
       "      <td>-32.415385</td>\n",
       "    </tr>\n",
       "    <tr>\n",
       "      <th>A/American wigeon/South Carolina/AH0195145/2021</th>\n",
       "      <td>-33.763473</td>\n",
       "    </tr>\n",
       "    <tr>\n",
       "      <th>A/Anhui-Lujiang/39/2018</th>\n",
       "      <td>-21.033333</td>\n",
       "    </tr>\n",
       "    <tr>\n",
       "      <th>A/Astrakhan/3212/2020</th>\n",
       "      <td>-30.385827</td>\n",
       "    </tr>\n",
       "    <tr>\n",
       "      <th>A/Bangladesh/0994/2011</th>\n",
       "      <td>-28.666667</td>\n",
       "    </tr>\n",
       "    <tr>\n",
       "      <th>A/California/62/2018</th>\n",
       "      <td>-33.418182</td>\n",
       "    </tr>\n",
       "    <tr>\n",
       "      <th>A/Hong Kong/125/2017</th>\n",
       "      <td>-1.800915</td>\n",
       "    </tr>\n",
       "    <tr>\n",
       "      <th>A/Indiana/08/2011</th>\n",
       "      <td>-39.060052</td>\n",
       "    </tr>\n",
       "    <tr>\n",
       "      <th>A/Jiangxi-Donghu/346/2013</th>\n",
       "      <td>1.000000</td>\n",
       "    </tr>\n",
       "    <tr>\n",
       "      <th>A/Netherlands/219/2003</th>\n",
       "      <td>-8.891304</td>\n",
       "    </tr>\n",
       "    <tr>\n",
       "      <th>A/Northern pintail/Washington/40964/2014</th>\n",
       "      <td>-32.064516</td>\n",
       "    </tr>\n",
       "    <tr>\n",
       "      <th>A/Ohio/13/2017</th>\n",
       "      <td>-25.476632</td>\n",
       "    </tr>\n",
       "    <tr>\n",
       "      <th>A/Shanghai/02/2013</th>\n",
       "      <td>-4.162921</td>\n",
       "    </tr>\n",
       "    <tr>\n",
       "      <th>A/Sichuan/06681/2021</th>\n",
       "      <td>-15.755556</td>\n",
       "    </tr>\n",
       "    <tr>\n",
       "      <th>A/Vietnam/1203/2004</th>\n",
       "      <td>-12.723735</td>\n",
       "    </tr>\n",
       "    <tr>\n",
       "      <th>A/Yunnan/14564/2015</th>\n",
       "      <td>-33.956395</td>\n",
       "    </tr>\n",
       "    <tr>\n",
       "      <th>A/canine/Illinois/12191/2015</th>\n",
       "      <td>-58.637560</td>\n",
       "    </tr>\n",
       "    <tr>\n",
       "      <th>A/chicken/Tennessee/17-007147-2/2017</th>\n",
       "      <td>-40.181452</td>\n",
       "    </tr>\n",
       "    <tr>\n",
       "      <th>A/chicken/Tennessee/17-007431-3/2017</th>\n",
       "      <td>-43.149194</td>\n",
       "    </tr>\n",
       "    <tr>\n",
       "      <th>A/gyrfalcon/Washington/41088/2014</th>\n",
       "      <td>-32.043988</td>\n",
       "    </tr>\n",
       "    <tr>\n",
       "      <th>A/swine/Shandong/1207/2016</th>\n",
       "      <td>-72.160666</td>\n",
       "    </tr>\n",
       "    <tr>\n",
       "      <th>A/turkey/Indiana/1573-2/2016</th>\n",
       "      <td>-41.145455</td>\n",
       "    </tr>\n",
       "  </tbody>\n",
       "</table>\n",
       "</div>"
      ],
      "text/plain": [
       "                                                           ld\n",
       "A/American green-winged teal/Washington/1957050... -32.415385\n",
       "A/American wigeon/South Carolina/AH0195145/2021    -33.763473\n",
       "A/Anhui-Lujiang/39/2018                            -21.033333\n",
       "A/Astrakhan/3212/2020                              -30.385827\n",
       "A/Bangladesh/0994/2011                             -28.666667\n",
       "A/California/62/2018                               -33.418182\n",
       "A/Hong Kong/125/2017                                -1.800915\n",
       "A/Indiana/08/2011                                  -39.060052\n",
       "A/Jiangxi-Donghu/346/2013                            1.000000\n",
       "A/Netherlands/219/2003                              -8.891304\n",
       "A/Northern pintail/Washington/40964/2014           -32.064516\n",
       "A/Ohio/13/2017                                     -25.476632\n",
       "A/Shanghai/02/2013                                  -4.162921\n",
       "A/Sichuan/06681/2021                               -15.755556\n",
       "A/Vietnam/1203/2004                                -12.723735\n",
       "A/Yunnan/14564/2015                                -33.956395\n",
       "A/canine/Illinois/12191/2015                       -58.637560\n",
       "A/chicken/Tennessee/17-007147-2/2017               -40.181452\n",
       "A/chicken/Tennessee/17-007431-3/2017               -43.149194\n",
       "A/gyrfalcon/Washington/41088/2014                  -32.043988\n",
       "A/swine/Shandong/1207/2016                         -72.160666\n",
       "A/turkey/Indiana/1573-2/2016                       -41.145455"
      ]
     },
     "execution_count": 157,
     "metadata": {},
     "output_type": "execute_result"
    }
   ],
   "source": [
    "lf=pd.DataFrame.from_dict([R]).transpose()\n",
    "lf.columns=['ld']\n",
    "lf.index=[x.replace('_','/').replace('/ha.fasta','') for x in lf.index.values]\n",
    "lf"
   ]
  },
  {
   "cell_type": "code",
   "execution_count": 161,
   "metadata": {},
   "outputs": [],
   "source": [
    "df=pd.read_csv('/home/ishanu/ZED/Research/emergenet/irat_qnet/results/fulldataframe.csv',index_col=0).set_index('strain')\n",
    "#df=df[['subtype', 'IRAT assessment date', 'IRAT Emergence Estimate',\n",
    "#       'IRAT Impact Estimate']]\n",
    "df=df[['IRAT Emergence Estimate',\n",
    "       'IRAT Impact Estimate']]\n",
    "df=df.join(lf)\n",
    "df=df[df.ld<0]\n",
    "rf=df.copy()"
   ]
  },
  {
   "cell_type": "code",
   "execution_count": 162,
   "metadata": {},
   "outputs": [],
   "source": [
    "import seaborn as sns\n",
    "from zedstat.ci import ci\n",
    "import pylab as plt\n",
    "from jupyterthemes import jtplot\n",
    "jtplot.style()\n"
   ]
  },
  {
   "cell_type": "code",
   "execution_count": 165,
   "metadata": {},
   "outputs": [
    {
     "name": "stdout",
     "output_type": "stream",
     "text": [
      "aic:  72.77171117606274 p-value:  0.3642305828832735 correlation:  0.20857809288517903\n"
     ]
    },
    {
     "data": {
      "image/png": "[encoded data removed]",
      "text/plain": [
       "<Figure size 460.8x403.2 with 1 Axes>"
      ]
     },
     "metadata": {},
     "output_type": "display_data"
    }
   ],
   "source": [
    "xvar='ld'\n",
    "yvar='IRAT Emergence Estimate'\n",
    "pred,pval,aic,corr,est=ci(rf,xvar,yvar,alpha=.05)\n",
    "fig, ax = plt.subplots()\n",
    "plt.fill_between(pred.index,pred.ub,pred.lb,alpha=.2)\n",
    "pred.pred.plot()\n",
    "rf.set_index(xvar)[yvar].plot(style='wo')\n",
    "plt.gca().set_ylabel(yvar)\n",
    "print('aic: ',aic,'p-value: ',pval,'correlation: ',corr)\n",
    "\n",
    "pred=pred.rename(columns={'pred':'pred_GM','ub':'ub_GM','lb':'lb_GM'})\n",
    "rf0=rf.join(pred,on=xvar)"
   ]
  },
  {
   "cell_type": "code",
   "execution_count": null,
   "metadata": {},
   "outputs": [],
   "source": []
  }
 ],
 "metadata": {
  "kernelspec": {
   "display_name": "Python 3 (ipykernel)",
   "language": "python",
   "name": "python3"
  },
  "language_info": {
   "codemirror_mode": {
    "name": "ipython",
    "version": 3
   },
   "file_extension": ".py",
   "mimetype": "text/x-python",
   "name": "python",
   "nbconvert_exporter": "python",
   "pygments_lexer": "ipython3",
   "version": "3.10.8"
  }
 },
 "nbformat": 4,
 "nbformat_minor": 4
}
