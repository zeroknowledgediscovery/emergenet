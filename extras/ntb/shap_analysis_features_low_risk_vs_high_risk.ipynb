{
 "cells": [
  {
   "cell_type": "code",
   "execution_count": 3,
   "metadata": {},
   "outputs": [],
   "source": [
    "import numpy as np\n",
    "import pandas as pd\n",
    "from quasinet.qnet import qdistance, load_qnet\n",
    "from emergenet.domseq import DomSeq, save_model, load_model\n",
    "import os\n",
    "import glob"
   ]
  },
  {
   "cell_type": "code",
   "execution_count": 22,
   "metadata": {},
   "outputs": [],
   "source": [
    "Q_PATH='../../paper_data_v2//irat_enet/enet_models/current_enets/h1n1_ha.joblib.gz'\n",
    "qnet__=load_qnet(Q_PATH,gz=True)"
   ]
  },
  {
   "cell_type": "code",
   "execution_count": 23,
   "metadata": {},
   "outputs": [],
   "source": [
    "import multiprocessing as mulpro\n",
    "import itertools\n",
    "import shap"
   ]
  },
  {
   "cell_type": "code",
   "execution_count": 24,
   "metadata": {},
   "outputs": [],
   "source": [
    "df=pd.read_csv('../../paper_data_v2/irat_enet/results/animal_predictions/combined_results.csv')"
   ]
  },
  {
   "cell_type": "code",
   "execution_count": 25,
   "metadata": {},
   "outputs": [],
   "source": [
    "df_=df[df.subtype=='H1N1'][['ha_accession','ha','emergence_risk']].set_index('ha_accession').sort_values('emergence_risk')\n",
    "low_risk_seq=df_[df_.emergence_risk<6].ha.values\n",
    "high_risk_seq=df_[df_.emergence_risk>6.5].ha.values\n",
    "\n",
    "S0=[np.array(list(x)) for x in low_risk_seq]\n",
    "slow=pd.DataFrame(S0).mode().values[0]\n",
    "shigh=np.array([np.array(list(x)) for x in high_risk_seq])"
   ]
  },
  {
   "cell_type": "code",
   "execution_count": 26,
   "metadata": {},
   "outputs": [],
   "source": [
    "s0__=slow\n",
    "def fpar(s):\n",
    "    return qdistance(s0__,s,qnet__,qnet__)\n",
    "def f(s_array):\n",
    "    pool = mulpro.Pool(processes=10)\n",
    "    return np.array(pool.map(fpar, s_array))    "
   ]
  },
  {
   "cell_type": "code",
   "execution_count": 27,
   "metadata": {},
   "outputs": [],
   "source": [
    "explainer = shap.KernelExplainer(f,np.array([slow]))"
   ]
  },
  {
   "cell_type": "code",
   "execution_count": 28,
   "metadata": {},
   "outputs": [
    {
     "data": {
      "application/vnd.jupyter.widget-view+json": {
       "model_id": "76e3ffcdcdca4c3ba13cda801387887f",
       "version_major": 2,
       "version_minor": 0
      },
      "text/plain": [
       "  0%|          | 0/51 [00:00<?, ?it/s]"
      ]
     },
     "metadata": {},
     "output_type": "display_data"
    }
   ],
   "source": [
    "S_=np.array([x for x in shigh if np.random.rand()<.2 ])\n",
    "shap_values = explainer.shap_values(S_, nsamples=550)"
   ]
  },
  {
   "cell_type": "code",
   "execution_count": 29,
   "metadata": {},
   "outputs": [],
   "source": [
    "shp1=pd.DataFrame(pd.DataFrame(shap_values).abs().mean().sort_values(ascending=False),columns=['shp_h1n1'])\n",
    "shp1.index.name='H1N1_features'"
   ]
  },
  {
   "cell_type": "code",
   "execution_count": null,
   "metadata": {},
   "outputs": [],
   "source": []
  },
  {
   "cell_type": "code",
   "execution_count": 30,
   "metadata": {},
   "outputs": [],
   "source": [
    "Q_PATH='../../paper_data_v2//irat_enet/enet_models/current_enets/h3n2_ha.joblib.gz'\n",
    "qnet__=load_qnet(Q_PATH,gz=True)\n"
   ]
  },
  {
   "cell_type": "code",
   "execution_count": 31,
   "metadata": {},
   "outputs": [],
   "source": [
    "df_=df[df.subtype=='H3N2'][['ha_accession','ha','emergence_risk']].set_index('ha_accession').sort_values('emergence_risk')\n",
    "low_risk_seq=df_[df_.emergence_risk<6].ha.values\n",
    "high_risk_seq=df_[df_.emergence_risk>6.5].ha.values\n",
    "\n",
    "S0=[np.array(list(x)) for x in low_risk_seq]\n",
    "slow=pd.DataFrame(S0).mode().values[0]\n",
    "shigh=np.array([np.array(list(x)) for x in high_risk_seq])"
   ]
  },
  {
   "cell_type": "code",
   "execution_count": 32,
   "metadata": {},
   "outputs": [],
   "source": [
    "s0__=slow\n",
    "def fpar(s):\n",
    "    return qdistance(s0__,s,qnet__,qnet__)\n",
    "def f(s_array):\n",
    "    pool = mulpro.Pool(processes=10)\n",
    "    return np.array(pool.map(fpar, s_array))    "
   ]
  },
  {
   "cell_type": "code",
   "execution_count": 33,
   "metadata": {},
   "outputs": [],
   "source": [
    "explainer = shap.KernelExplainer(f,np.array([slow]))"
   ]
  },
  {
   "cell_type": "code",
   "execution_count": 34,
   "metadata": {},
   "outputs": [
    {
     "data": {
      "application/vnd.jupyter.widget-view+json": {
       "model_id": "614ca754b5c74b95bf3515a478482fe9",
       "version_major": 2,
       "version_minor": 0
      },
      "text/plain": [
       "  0%|          | 0/38 [00:00<?, ?it/s]"
      ]
     },
     "metadata": {},
     "output_type": "display_data"
    }
   ],
   "source": [
    "S_=np.array([x for x in shigh if np.random.rand()<.2 ])\n",
    "shap_values = explainer.shap_values(S_, nsamples=550)"
   ]
  },
  {
   "cell_type": "code",
   "execution_count": 35,
   "metadata": {},
   "outputs": [],
   "source": [
    "shp2=pd.DataFrame(pd.DataFrame(shap_values).abs().mean().sort_values(ascending=False),columns=['shp_h3n2'])\n",
    "shp2.index.name='H3N2_features'"
   ]
  },
  {
   "cell_type": "code",
   "execution_count": 36,
   "metadata": {},
   "outputs": [],
   "source": [
    "shp1.to_csv('lowhighrisk_H1N1.csv')\n",
    "shp2.to_csv('lowhighrisk_H3N2.csv')\n"
   ]
  },
  {
   "cell_type": "code",
   "execution_count": 40,
   "metadata": {},
   "outputs": [
    {
     "data": {
      "text/plain": [
       "<AxesSubplot:xlabel='H1N1_features'>"
      ]
     },
     "execution_count": 40,
     "metadata": {},
     "output_type": "execute_result"
    },
    {
     "data": {
      "image/png": "[encoded data removed]",
      "text/plain": [
       "<Figure size 432x288 with 1 Axes>"
      ]
     },
     "metadata": {
      "needs_background": "light"
     },
     "output_type": "display_data"
    }
   ],
   "source": [
    "ax=shp2.sort_index().ewm(alpha=.95).mean().plot(logy=False)\n",
    "shp1.sort_index().ewm(alpha=.95).mean().plot(logy=False,ax=ax)\n"
   ]
  },
  {
   "cell_type": "code",
   "execution_count": 10,
   "metadata": {},
   "outputs": [],
   "source": [
    "shp1=pd.read_csv('lowhighrisk_H1N1.csv',index_col=0)\n",
    "shp2=pd.read_csv('lowhighrisk_H3N2.csv',index_col=0)\n"
   ]
  },
  {
   "cell_type": "code",
   "execution_count": 11,
   "metadata": {},
   "outputs": [
    {
     "data": {
      "text/html": [
       "<div>\n",
       "<style scoped>\n",
       "    .dataframe tbody tr th:only-of-type {\n",
       "        vertical-align: middle;\n",
       "    }\n",
       "\n",
       "    .dataframe tbody tr th {\n",
       "        vertical-align: top;\n",
       "    }\n",
       "\n",
       "    .dataframe thead th {\n",
       "        text-align: right;\n",
       "    }\n",
       "</style>\n",
       "<table border=\"1\" class=\"dataframe\">\n",
       "  <thead>\n",
       "    <tr style=\"text-align: right;\">\n",
       "      <th></th>\n",
       "      <th>shp_h1n1</th>\n",
       "    </tr>\n",
       "    <tr>\n",
       "      <th>H1N1_features</th>\n",
       "      <th></th>\n",
       "    </tr>\n",
       "  </thead>\n",
       "  <tbody>\n",
       "    <tr>\n",
       "      <th>145</th>\n",
       "      <td>0.004103</td>\n",
       "    </tr>\n",
       "    <tr>\n",
       "      <th>292</th>\n",
       "      <td>0.004045</td>\n",
       "    </tr>\n",
       "    <tr>\n",
       "      <th>123</th>\n",
       "      <td>0.003762</td>\n",
       "    </tr>\n",
       "    <tr>\n",
       "      <th>227</th>\n",
       "      <td>0.003003</td>\n",
       "    </tr>\n",
       "    <tr>\n",
       "      <th>275</th>\n",
       "      <td>0.002602</td>\n",
       "    </tr>\n",
       "    <tr>\n",
       "      <th>70</th>\n",
       "      <td>0.002059</td>\n",
       "    </tr>\n",
       "    <tr>\n",
       "      <th>408</th>\n",
       "      <td>0.002023</td>\n",
       "    </tr>\n",
       "    <tr>\n",
       "      <th>10</th>\n",
       "      <td>0.001941</td>\n",
       "    </tr>\n",
       "    <tr>\n",
       "      <th>278</th>\n",
       "      <td>0.001920</td>\n",
       "    </tr>\n",
       "    <tr>\n",
       "      <th>276</th>\n",
       "      <td>0.001676</td>\n",
       "    </tr>\n",
       "  </tbody>\n",
       "</table>\n",
       "</div>"
      ],
      "text/plain": [
       "               shp_h1n1\n",
       "H1N1_features          \n",
       "145            0.004103\n",
       "292            0.004045\n",
       "123            0.003762\n",
       "227            0.003003\n",
       "275            0.002602\n",
       "70             0.002059\n",
       "408            0.002023\n",
       "10             0.001941\n",
       "278            0.001920\n",
       "276            0.001676"
      ]
     },
     "execution_count": 11,
     "metadata": {},
     "output_type": "execute_result"
    }
   ],
   "source": [
    "shp1.head(10)"
   ]
  },
  {
   "cell_type": "code",
   "execution_count": 34,
   "metadata": {},
   "outputs": [
    {
     "data": {
      "text/plain": [
       "<AxesSubplot:xlabel='H1N1_features'>"
      ]
     },
     "execution_count": 34,
     "metadata": {},
     "output_type": "execute_result"
    },
    {
     "data": {
      "image/png": "[encoded data removed]",
      "text/plain": [
       "<Figure size 432x288 with 1 Axes>"
      ]
     },
     "metadata": {
      "needs_background": "light"
     },
     "output_type": "display_data"
    }
   ],
   "source": [
    "s1=shp1.sort_index().ewm(alpha=.85).mean()\n",
    "s1=s1/s1.max()\n",
    "s2=shp2.sort_index().ewm(alpha=.85).mean()\n",
    "s2=s2/s2.max()\n",
    "ax=s2.plot(logy=False)\n",
    "#ax.set_ylim(0,0.005)\n",
    "s1.plot(logy=False,ax=ax)\n"
   ]
  },
  {
   "cell_type": "code",
   "execution_count": 78,
   "metadata": {},
   "outputs": [
    {
     "data": {
      "text/html": [
       "<div>\n",
       "<style scoped>\n",
       "    .dataframe tbody tr th:only-of-type {\n",
       "        vertical-align: middle;\n",
       "    }\n",
       "\n",
       "    .dataframe tbody tr th {\n",
       "        vertical-align: top;\n",
       "    }\n",
       "\n",
       "    .dataframe thead th {\n",
       "        text-align: right;\n",
       "    }\n",
       "</style>\n",
       "<table border=\"1\" class=\"dataframe\">\n",
       "  <thead>\n",
       "    <tr style=\"text-align: right;\">\n",
       "      <th></th>\n",
       "      <th>shp_h1n1</th>\n",
       "    </tr>\n",
       "    <tr>\n",
       "      <th>H1N1_features</th>\n",
       "      <th></th>\n",
       "    </tr>\n",
       "  </thead>\n",
       "  <tbody>\n",
       "    <tr>\n",
       "      <th>0</th>\n",
       "      <td>0.000000</td>\n",
       "    </tr>\n",
       "    <tr>\n",
       "      <th>1</th>\n",
       "      <td>0.237298</td>\n",
       "    </tr>\n",
       "    <tr>\n",
       "      <th>2</th>\n",
       "      <td>0.034912</td>\n",
       "    </tr>\n",
       "    <tr>\n",
       "      <th>3</th>\n",
       "      <td>0.011454</td>\n",
       "    </tr>\n",
       "    <tr>\n",
       "      <th>4</th>\n",
       "      <td>0.001717</td>\n",
       "    </tr>\n",
       "    <tr>\n",
       "      <th>...</th>\n",
       "      <td>...</td>\n",
       "    </tr>\n",
       "    <tr>\n",
       "      <th>545</th>\n",
       "      <td>0.004228</td>\n",
       "    </tr>\n",
       "    <tr>\n",
       "      <th>546</th>\n",
       "      <td>0.000634</td>\n",
       "    </tr>\n",
       "    <tr>\n",
       "      <th>547</th>\n",
       "      <td>0.000095</td>\n",
       "    </tr>\n",
       "    <tr>\n",
       "      <th>548</th>\n",
       "      <td>0.000014</td>\n",
       "    </tr>\n",
       "    <tr>\n",
       "      <th>549</th>\n",
       "      <td>0.000002</td>\n",
       "    </tr>\n",
       "  </tbody>\n",
       "</table>\n",
       "<p>550 rows × 1 columns</p>\n",
       "</div>"
      ],
      "text/plain": [
       "               shp_h1n1\n",
       "H1N1_features          \n",
       "0              0.000000\n",
       "1              0.237298\n",
       "2              0.034912\n",
       "3              0.011454\n",
       "4              0.001717\n",
       "...                 ...\n",
       "545            0.004228\n",
       "546            0.000634\n",
       "547            0.000095\n",
       "548            0.000014\n",
       "549            0.000002\n",
       "\n",
       "[550 rows x 1 columns]"
      ]
     },
     "execution_count": 78,
     "metadata": {},
     "output_type": "execute_result"
    }
   ],
   "source": [
    "s1"
   ]
  },
  {
   "cell_type": "code",
   "execution_count": 70,
   "metadata": {},
   "outputs": [
    {
     "data": {
      "text/plain": [
       "array([  8,  28,  31,  32,  39,  40,  44,  45,  46,  48,  50,  51,  52,\n",
       "        55,  56,  57,  58,  59,  64,  65,  66,  67,  68,  69,  71,  72,\n",
       "        73,  74,  80,  82,  94,  95,  96,  98, 102, 103, 107, 109, 110,\n",
       "       114, 115, 118, 119, 120, 121, 122, 124, 125, 134, 135, 137, 138,\n",
       "       139, 144, 145, 146, 148, 154, 155, 164, 169, 170, 171, 172, 173,\n",
       "       175, 176, 177, 182, 183, 188, 194, 195, 198, 200, 201, 202, 204,\n",
       "       205, 206, 207, 210, 212, 213, 215, 216, 217, 227, 231, 232, 234,\n",
       "       235, 236, 238, 240, 250, 254, 255, 257, 266, 269, 270, 274, 275,\n",
       "       277, 278, 279, 280, 284, 285, 287, 288, 290, 291, 294, 296, 298,\n",
       "       299, 300, 303, 313, 315, 316, 317, 318, 321, 325, 326, 334, 337,\n",
       "       340, 341, 345, 346, 348, 351, 353, 354, 355, 361, 369, 370, 371,\n",
       "       372, 373, 374, 376, 386, 387, 390, 393, 401, 405, 407, 410, 411,\n",
       "       413, 415, 420, 421, 422, 423, 427, 429, 430, 431, 432, 435, 437,\n",
       "       438, 439, 440, 441, 449, 451, 452, 453, 454, 455, 456, 459, 460,\n",
       "       462, 470, 472, 473, 476, 477, 479, 481, 484, 486, 488, 489, 490,\n",
       "       493, 496, 507, 508, 510, 511, 514, 520, 522, 528, 529, 530, 535,\n",
       "       537, 539, 540, 543, 545, 549])"
      ]
     },
     "execution_count": 70,
     "metadata": {},
     "output_type": "execute_result"
    }
   ],
   "source": [
    "s2[s2>0.05].dropna().index.values"
   ]
  },
  {
   "cell_type": "code",
   "execution_count": 82,
   "metadata": {},
   "outputs": [
    {
     "data": {
      "text/plain": [
       "'1 10 11 14 15 64 70 71 110 123 124 136 137 144 145 146 153 158 165 167 177 178 179 180 182 184 195 202 203 205 206 211 227 228 250 266 274 275 276 277 278 279 283 286 287 292 293 299 300 408 409 415 467 470 522 543'"
      ]
     },
     "execution_count": 82,
     "metadata": {},
     "output_type": "execute_result"
    }
   ],
   "source": [
    "' '.join(s1[s1>0.05].dropna().index.values.astype(str))"
   ]
  },
  {
   "cell_type": "code",
   "execution_count": 81,
   "metadata": {},
   "outputs": [
    {
     "data": {
      "text/plain": [
       "'2 3 7 12 16 65 67 72 90 111 112 125 141 147 154 155 159 166 168 171 181 183 185 196 201 204 207 212 229 232 238 244 251 267 280 284 285 294 311 337 410 416 434 468 471 523 544'"
      ]
     },
     "execution_count": 81,
     "metadata": {},
     "output_type": "execute_result"
    }
   ],
   "source": [
    "' '.join(s1[s1.shp_h1n1.between(0.01,0.05)].dropna().index.values.astype(str))"
   ]
  },
  {
   "cell_type": "code",
   "execution_count": 43,
   "metadata": {},
   "outputs": [
    {
     "name": "stdout",
     "output_type": "stream",
     "text": [
      "'A:American wigeon:South Carolina:AH0195145:2021_ha_SHAP.csv'\r\n",
      " A:Anhui-Lujiang:39:2018_ha_SHAP.csv\r\n",
      " A:Astrakhan:3212:2020_ha_SHAP.csv\r\n",
      " A:California:62:2018_ha_SHAP.csv\r\n",
      " A:canine:Illinois:12191:2015_ha_SHAP.csv\r\n",
      " A:chicken:Tennessee:17-007147-2:2017_ha_SHAP.csv\r\n",
      " A:chicken:Tennessee:17-007431-3:2017_ha_SHAP.csv\r\n",
      " A:gyrfalcon:Washington:41088:2014_ha_SHAP.csv\r\n",
      " A:Indiana:08:2011_ha_SHAP.csv\r\n",
      " A:Netherlands:219:2003_ha_SHAP.csv\r\n",
      " A:Ohio:13:2017_ha_SHAP.csv\r\n",
      " A:Shanghai:02:2013_ha_SHAP.csv\r\n",
      " A:Sichuan:06681:2021_ha_SHAP.csv\r\n",
      " A:swine:Shandong:1207:2016_ha_SHAP.csv\r\n",
      " A:turkey:Indiana:1573-2:2016_ha_SHAP.csv\r\n",
      " A:Vietnam:1203:2004_ha_SHAP.csv\r\n",
      " A:Yunnan:14564:2015_ha_SHAP.csv\r\n",
      " north_h1n1_ha_SHAP.csv\r\n",
      " north_h3n2_ha_SHAP.csv\r\n",
      " south_h1n1_ha_SHAP.csv\r\n",
      " south_h3n2_ha_SHAP.csv\r\n"
     ]
    }
   ],
   "source": [
    "! ls *SHAP*csv\n"
   ]
  },
  {
   "cell_type": "code",
   "execution_count": 60,
   "metadata": {},
   "outputs": [
    {
     "data": {
      "text/plain": [
       "array([ 70, 141, 153, 155, 182, 184, 187, 202, 203, 222, 223, 227, 231,\n",
       "       238, 265, 299, 408])"
      ]
     },
     "execution_count": 60,
     "metadata": {},
     "output_type": "execute_result"
    }
   ],
   "source": [
    "sf_n_h1n1=pd.read_csv('north_h1n1_ha_SHAP.csv',index_col=0)\n",
    "sf_n_h1n1=sf_n_h1n1.sort_index().ewm(alpha=.85).mean()\n",
    "sf_n_h1n1=sf_n_h1n1/sf_n_h1n1.max()\n",
    "sf_n_h1n1[sf_n_h1n1>0.03].dropna().index.values"
   ]
  },
  {
   "cell_type": "code",
   "execution_count": 64,
   "metadata": {},
   "outputs": [
    {
     "data": {
      "text/plain": [
       "<AxesSubplot:xlabel='features'>"
      ]
     },
     "execution_count": 64,
     "metadata": {},
     "output_type": "execute_result"
    },
    {
     "data": {
      "image/png": "[encoded data removed]",
      "text/plain": [
       "<Figure size 432x288 with 1 Axes>"
      ]
     },
     "metadata": {
      "needs_background": "light"
     },
     "output_type": "display_data"
    }
   ],
   "source": [
    "sf_n_h1n1.plot()"
   ]
  },
  {
   "cell_type": "code",
   "execution_count": 66,
   "metadata": {},
   "outputs": [
    {
     "data": {
      "text/plain": [
       "array([  7,  70,  71, 110, 136, 146, 147, 165, 177, 178, 202, 203, 225,\n",
       "       232, 240, 266, 415, 522, 523])"
      ]
     },
     "execution_count": 66,
     "metadata": {},
     "output_type": "execute_result"
    }
   ],
   "source": [
    "sf_s_h1n1=pd.read_csv('south_h1n1_ha_SHAP.csv',index_col=0)\n",
    "sf_s_h1n1=sf_s_h1n1.sort_index().ewm(alpha=.85).mean()\n",
    "sf_s_h1n1=sf_s_h1n1/sf_s_h1n1.max()\n",
    "sf_s_h1n1[sf_s_h1n1>0.03].dropna().index.values"
   ]
  },
  {
   "cell_type": "code",
   "execution_count": 67,
   "metadata": {},
   "outputs": [
    {
     "data": {
      "text/plain": [
       "<AxesSubplot:xlabel='features'>"
      ]
     },
     "execution_count": 67,
     "metadata": {},
     "output_type": "execute_result"
    },
    {
     "data": {
      "image/png": "[encoded data removed]",
      "text/plain": [
       "<Figure size 432x288 with 1 Axes>"
      ]
     },
     "metadata": {
      "needs_background": "light"
     },
     "output_type": "display_data"
    }
   ],
   "source": [
    "sf_s_h1n1.plot()"
   ]
  }
 ],
 "metadata": {
  "kernelspec": {
   "display_name": "Python 3 (ipykernel)",
   "language": "python",
   "name": "python3"
  },
  "language_info": {
   "codemirror_mode": {
    "name": "ipython",
    "version": 3
   },
   "file_extension": ".py",
   "mimetype": "text/x-python",
   "name": "python",
   "nbconvert_exporter": "python",
   "pygments_lexer": "ipython3",
   "version": "3.10.8"
  }
 },
 "nbformat": 4,
 "nbformat_minor": 4
}
