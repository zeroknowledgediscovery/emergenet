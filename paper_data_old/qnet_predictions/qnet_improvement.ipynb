{
 "cells": [
  {
   "cell_type": "markdown",
   "metadata": {},
   "source": [
    "# Qnet Improvement\n",
    "- Shows percent improvement of Qnet predictions over WHO predictions\n",
    "- Table 1 in the paper"
   ]
  },
  {
   "cell_type": "code",
   "execution_count": 31,
   "metadata": {},
   "outputs": [],
   "source": [
    "import pandas as pd\n",
    "import numpy as np\n",
    "\n",
    "FILES = ['north_h1n1_ha', 'south_h1n1_ha', 'north_h3n2_ha', 'south_h3n2_ha', \n",
    "         'north_h1n1_na', 'south_h1n1_na', 'north_h3n2_na', 'south_h3n2_na']"
   ]
  },
  {
   "cell_type": "markdown",
   "metadata": {},
   "source": [
    "## North-South\n",
    "- One decade and two decade qnet improvements"
   ]
  },
  {
   "cell_type": "code",
   "execution_count": 32,
   "metadata": {},
   "outputs": [],
   "source": [
    "one_decade_error = []\n",
    "two_decade_error = []\n",
    "\n",
    "for FILE in FILES:\n",
    "    # directories\n",
    "    CSV_DIR = 'tables/' + FILE + '.csv'\n",
    "    df = pd.read_csv(CSV_DIR)\n",
    "    # total error, 2 decade\n",
    "    who_2 = df['ldistance_WHO'][-20:].sum()\n",
    "    qnet_2 = df['ldistance_Qnet_recommendation'][-20:].sum()\n",
    "    two_decade_error.append(round((who_2 - qnet_2)*100/who_2, 2))\n",
    "    # total error, 1 decade\n",
    "    who_1 = df['ldistance_WHO'][-10:].sum()\n",
    "    qnet_1 = df['ldistance_Qnet_recommendation'][-10:].sum()\n",
    "    one_decade_error.append(round((who_1 - qnet_1)*100/who_1, 2))"
   ]
  },
  {
   "cell_type": "code",
   "execution_count": 33,
   "metadata": {
    "scrolled": true
   },
   "outputs": [
    {
     "data": {
      "text/html": [
       "<div>\n",
       "<style scoped>\n",
       "    .dataframe tbody tr th:only-of-type {\n",
       "        vertical-align: middle;\n",
       "    }\n",
       "\n",
       "    .dataframe tbody tr th {\n",
       "        vertical-align: top;\n",
       "    }\n",
       "\n",
       "    .dataframe thead th {\n",
       "        text-align: right;\n",
       "    }\n",
       "</style>\n",
       "<table border=\"1\" class=\"dataframe\">\n",
       "  <thead>\n",
       "    <tr style=\"text-align: right;\">\n",
       "      <th></th>\n",
       "      <th>Name</th>\n",
       "      <th>Two decades (%improvement)</th>\n",
       "      <th>One decade (%improvement)</th>\n",
       "    </tr>\n",
       "  </thead>\n",
       "  <tbody>\n",
       "    <tr>\n",
       "      <th>0</th>\n",
       "      <td>north_h1n1_ha</td>\n",
       "      <td>31.78</td>\n",
       "      <td>75.00</td>\n",
       "    </tr>\n",
       "    <tr>\n",
       "      <th>1</th>\n",
       "      <td>south_h1n1_ha</td>\n",
       "      <td>35.02</td>\n",
       "      <td>67.44</td>\n",
       "    </tr>\n",
       "    <tr>\n",
       "      <th>2</th>\n",
       "      <td>north_h3n2_ha</td>\n",
       "      <td>38.76</td>\n",
       "      <td>42.50</td>\n",
       "    </tr>\n",
       "    <tr>\n",
       "      <th>3</th>\n",
       "      <td>south_h3n2_ha</td>\n",
       "      <td>36.72</td>\n",
       "      <td>38.67</td>\n",
       "    </tr>\n",
       "    <tr>\n",
       "      <th>4</th>\n",
       "      <td>north_h1n1_na</td>\n",
       "      <td>19.64</td>\n",
       "      <td>56.00</td>\n",
       "    </tr>\n",
       "    <tr>\n",
       "      <th>5</th>\n",
       "      <td>south_h1n1_na</td>\n",
       "      <td>11.29</td>\n",
       "      <td>48.28</td>\n",
       "    </tr>\n",
       "    <tr>\n",
       "      <th>6</th>\n",
       "      <td>north_h3n2_na</td>\n",
       "      <td>13.92</td>\n",
       "      <td>8.57</td>\n",
       "    </tr>\n",
       "    <tr>\n",
       "      <th>7</th>\n",
       "      <td>south_h3n2_na</td>\n",
       "      <td>14.77</td>\n",
       "      <td>22.73</td>\n",
       "    </tr>\n",
       "  </tbody>\n",
       "</table>\n",
       "</div>"
      ],
      "text/plain": [
       "            Name  Two decades (%improvement)  One decade (%improvement)\n",
       "0  north_h1n1_ha                       31.78                      75.00\n",
       "1  south_h1n1_ha                       35.02                      67.44\n",
       "2  north_h3n2_ha                       38.76                      42.50\n",
       "3  south_h3n2_ha                       36.72                      38.67\n",
       "4  north_h1n1_na                       19.64                      56.00\n",
       "5  south_h1n1_na                       11.29                      48.28\n",
       "6  north_h3n2_na                       13.92                       8.57\n",
       "7  south_h3n2_na                       14.77                      22.73"
      ]
     },
     "execution_count": 33,
     "metadata": {},
     "output_type": "execute_result"
    }
   ],
   "source": [
    "qnet_improvement_df = pd.DataFrame({'Name':FILES,\n",
    "                                    'Two decades (%improvement)':two_decade_error,\n",
    "                                    'One decade (%improvement)':one_decade_error})\n",
    "qnet_improvement_df"
   ]
  },
  {
   "cell_type": "markdown",
   "metadata": {},
   "source": [
    "# Averages"
   ]
  },
  {
   "cell_type": "code",
   "execution_count": 38,
   "metadata": {},
   "outputs": [],
   "source": [
    "one_decade_average = []\n",
    "two_decade_average = []\n",
    "for i in [0, 2, 4, 6]:\n",
    "    one_decade_average.append(round((one_decade_error[i] + one_decade_error[i+1])/2, 2))\n",
    "    two_decade_average.append(round((two_decade_error[i] + two_decade_error[i+1])/2, 2))"
   ]
  },
  {
   "cell_type": "code",
   "execution_count": 39,
   "metadata": {},
   "outputs": [
    {
     "data": {
      "text/html": [
       "<div>\n",
       "<style scoped>\n",
       "    .dataframe tbody tr th:only-of-type {\n",
       "        vertical-align: middle;\n",
       "    }\n",
       "\n",
       "    .dataframe tbody tr th {\n",
       "        vertical-align: top;\n",
       "    }\n",
       "\n",
       "    .dataframe thead th {\n",
       "        text-align: right;\n",
       "    }\n",
       "</style>\n",
       "<table border=\"1\" class=\"dataframe\">\n",
       "  <thead>\n",
       "    <tr style=\"text-align: right;\">\n",
       "      <th></th>\n",
       "      <th>Name</th>\n",
       "      <th>Two decades (%improvement)</th>\n",
       "      <th>One decade (%improvement)</th>\n",
       "    </tr>\n",
       "  </thead>\n",
       "  <tbody>\n",
       "    <tr>\n",
       "      <th>0</th>\n",
       "      <td>h1n1_ha</td>\n",
       "      <td>33.40</td>\n",
       "      <td>71.22</td>\n",
       "    </tr>\n",
       "    <tr>\n",
       "      <th>1</th>\n",
       "      <td>h3n2_ha</td>\n",
       "      <td>37.74</td>\n",
       "      <td>40.58</td>\n",
       "    </tr>\n",
       "    <tr>\n",
       "      <th>2</th>\n",
       "      <td>h1n1_na</td>\n",
       "      <td>15.46</td>\n",
       "      <td>52.14</td>\n",
       "    </tr>\n",
       "    <tr>\n",
       "      <th>3</th>\n",
       "      <td>h3n2_na</td>\n",
       "      <td>14.34</td>\n",
       "      <td>15.65</td>\n",
       "    </tr>\n",
       "  </tbody>\n",
       "</table>\n",
       "</div>"
      ],
      "text/plain": [
       "      Name  Two decades (%improvement)  One decade (%improvement)\n",
       "0  h1n1_ha                       33.40                      71.22\n",
       "1  h3n2_ha                       37.74                      40.58\n",
       "2  h1n1_na                       15.46                      52.14\n",
       "3  h3n2_na                       14.34                      15.65"
      ]
     },
     "execution_count": 39,
     "metadata": {},
     "output_type": "execute_result"
    }
   ],
   "source": [
    "average_improvement_df = pd.DataFrame({'Name':['h1n1_ha','h3n2_ha', 'h1n1_na', 'h3n2_na'],\n",
    "                                       'Two decades (%improvement)':two_decade_average,\n",
    "                                       'One decade (%improvement)':one_decade_average})\n",
    "average_improvement_df"
   ]
  },
  {
   "cell_type": "code",
   "execution_count": null,
   "metadata": {},
   "outputs": [],
   "source": []
  }
 ],
 "metadata": {
  "kernelspec": {
   "display_name": "Python 3",
   "language": "python",
   "name": "python3"
  },
  "language_info": {
   "codemirror_mode": {
    "name": "ipython",
    "version": 3
   },
   "file_extension": ".py",
   "mimetype": "text/x-python",
   "name": "python",
   "nbconvert_exporter": "python",
   "pygments_lexer": "ipython3",
   "version": "3.7.6"
  }
 },
 "nbformat": 4,
 "nbformat_minor": 4
}
