{
 "cells": [
  {
   "cell_type": "markdown",
   "id": "c3d52741",
   "metadata": {},
   "source": [
    "# Animal Influenza Emergence Risk Predictions\n",
    "- Uses the Emergenet package to generate emergence risk scores for animal strains\n",
    "- Collected animal HA and NA strains from January 1, 2020 - September 30, 2022\n",
    "- Used qnets from `qnet_models/current_qnets/`"
   ]
  },
  {
   "cell_type": "code",
   "execution_count": 297,
   "id": "6b182d89",
   "metadata": {},
   "outputs": [],
   "source": [
    "import os \n",
    "import numpy as np\n",
    "import pandas as pd\n",
    "import scipy.stats as stats\n",
    "from matplotlib import pyplot as plt\n",
    "import math\n",
    "from tqdm.notebook import trange, tqdm\n",
    "import warnings\n",
    "warnings.filterwarnings('ignore')\n",
    "from Bio import SeqIO\n",
    "\n",
    "# linear model\n",
    "import statsmodels.api as sm\n",
    "import statsmodels.formula.api as smf\n",
    "\n",
    "from emergenet import Enet, save_model, load_model\n",
    "# from emergenet.emergenet import Enet, save_model, load_model\n",
    "from quasinet.qnet import Qnet, qdistance, qdistance_matrix, membership_degree, save_qnet, load_qnet\n",
    "from zedstat.textable import textable"
   ]
  },
  {
   "cell_type": "code",
   "execution_count": 314,
   "id": "51eb26fe",
   "metadata": {},
   "outputs": [],
   "source": [
    "# input: fasta file name, length to truncate each sequence, whether to represent strains as char arrays\n",
    "# output: dataframe of sequences\n",
    "def parse_fasta(file_name, trunc, seq_array = False):\n",
    "    acc = []\n",
    "    seq = []\n",
    "    for record in SeqIO.parse(file_name, 'fasta'):\n",
    "        if len(record.seq) < trunc:\n",
    "            continue\n",
    "        acc.append(record.id.split('|')[0])\n",
    "        if seq_array:\n",
    "            seq.append(np.array(record.seq[:trunc].upper()))\n",
    "        else:\n",
    "            seq.append(str(record.seq[:trunc].upper()))\n",
    "    df = pd.DataFrame({'id':acc, 'sequence':seq})\n",
    "    return df\n",
    "\n",
    "\n",
    "# input: dataframe of sequences, number of samples\n",
    "# output: array of nucleotide lists\n",
    "def sequence_array(seq_df):\n",
    "    seqs = seq_df['sequence'].values\n",
    "    seq_lst = []\n",
    "    for seq in seqs:\n",
    "        seq_lst.append(seq)\n",
    "    return np.array(seq_lst)\n",
    "\n",
    "\n",
    "# input: name to call qnet, array of nucleotide lists, number of nucleotides\n",
    "# output: save qnet as joblib\n",
    "def train_save_qnet(name, seq_arr, num_nuc):\n",
    "    myqnet = Qnet(feature_names=['x'+str(i) for i in np.arange(num_nuc)],n_jobs=1)\n",
    "    myqnet.fit(seq_arr)\n",
    "    save_qnet(myqnet, QNET_DIR + name + '.joblib')\n",
    "    \n",
    "\n",
    "# input: data, emergence and impact models\n",
    "# output: data with emergence and impact predictions\n",
    "def predict_irat(df, emergence_mod, impact_mod):\n",
    "    df = df.rename(columns={'geometric_mean_risk':'Geometric_Mean',\n",
    "                            'ha_risk':'HA_Avg_Qdist',\n",
    "                            'na_risk':'NA_Avg_Qdist'})\n",
    "    df['predicted_emergence_score'] = emergence_mod.predict(df)\n",
    "    df['predicted_impact_score'] = impact_mod.predict(df)\n",
    "    for i in range(len(df)):\n",
    "        if df['Geometric_Mean'][i] > 0.3:\n",
    "            df.at[i, 'predicted_emergence_score'] = 3.8\n",
    "            df.at[i, 'predicted_impact_score'] = 4.45\n",
    "    return df\n",
    "\n",
    "\n",
    "# input: fasta file name, length to truncate each sequence\n",
    "# output: dataframe of sequences (containing only name and accession)\n",
    "def parse_fasta2(file_name, trunc):\n",
    "    name = []\n",
    "    acc = []\n",
    "    subtype = []\n",
    "    for record in SeqIO.parse(file_name, 'fasta'):\n",
    "        if len(record.seq) < trunc:\n",
    "            continue\n",
    "        name.append(record.id.split('|')[0])\n",
    "        acc.append(record.id.split('|')[4])\n",
    "        subtype.append(record.id.split('|')[1][-4:])\n",
    "    df = pd.DataFrame({'id':name, 'subtype':subtype, 'accession':acc})\n",
    "    return df"
   ]
  },
  {
   "cell_type": "markdown",
   "id": "1d42540c",
   "metadata": {},
   "source": [
    "## Predictions"
   ]
  },
  {
   "cell_type": "code",
   "execution_count": 299,
   "id": "b096f47a",
   "metadata": {},
   "outputs": [],
   "source": [
    "DATA_DIR = 'raw_data/gisaid_animal/'\n",
    "HUMAN_DATA_DIR = 'raw_data/gisaid_current/'\n",
    "QNET_DIR = 'qnet_models/current_qnets/'\n",
    "OUT_DIR = 'results/animal_predictions/'\n",
    "\n",
    "NA_TRUNC = 449\n",
    "HA_TRUNC = 550\n",
    "\n",
    "FILES = ['h1n1', 'h1n2', 'h3n2', 'h5n1', 'h5n2', 'h5n6', 'h5n8', 'h7', 'h9n2']"
   ]
  },
  {
   "cell_type": "code",
   "execution_count": null,
   "id": "ac9c9f1e",
   "metadata": {},
   "outputs": [
    {
     "data": {
      "application/vnd.jupyter.widget-view+json": {
       "model_id": "390df5b6d12543e3b6a91784a847dbfd",
       "version_major": 2,
       "version_minor": 0
      },
      "text/plain": [
       "  0%|          | 0/1 [00:00<?, ?it/s]"
      ]
     },
     "metadata": {},
     "output_type": "display_data"
    },
    {
     "data": {
      "application/vnd.jupyter.widget-view+json": {
       "model_id": "21ec6fe5674847d8b21c75b22fe57640",
       "version_major": 2,
       "version_minor": 0
      },
      "text/plain": [
       "  0%|          | 0/1484 [00:00<?, ?it/s]"
      ]
     },
     "metadata": {},
     "output_type": "display_data"
    }
   ],
   "source": [
    "for FILE in tqdm(FILES):\n",
    "    ha_qnet = load_model(QNET_DIR + FILE + '_ha.joblib')\n",
    "    na_qnet = load_model(QNET_DIR + FILE + '_na.joblib')\n",
    "    \n",
    "    ha_df = parse_fasta(DATA_DIR + FILE + '_ha.fasta', HA_TRUNC)\n",
    "    na_df = parse_fasta(DATA_DIR + FILE + '_na.fasta', NA_TRUNC)\n",
    "    df = ha_df.merge(na_df, how='inner', on='id').rename(columns={'sequence_x':'ha', 'sequence_y':'na'})\n",
    "    \n",
    "    human_ha_df = parse_fasta(HUMAN_DATA_DIR + FILE + '_ha.fasta', HA_TRUNC, seq_array=True)\n",
    "    human_na_df = parse_fasta(HUMAN_DATA_DIR + FILE + '_na.fasta', NA_TRUNC, seq_array=True)\n",
    "    \n",
    "    ha_emergence_risk = []\n",
    "    ha_variance = []\n",
    "    na_emergence_risk = []\n",
    "    na_variance = []\n",
    "    geometric_mean_risk = []\n",
    "\n",
    "    for i in trange(len(df)):\n",
    "        row = df.iloc[i]\n",
    "        enet_ha = Enet(seq=row['ha'], seq_trunc_length=HA_TRUNC, random_state=42)\n",
    "        enet_na = Enet(seq=row['na'], seq_trunc_length=NA_TRUNC, random_state=42)\n",
    "\n",
    "        emergence_risk_score_ha, variance_ha = enet_ha.emergence_risk(seq_df=human_ha_df, qnet=ha_qnet, sample_size=100)\n",
    "        emergence_risk_score_na, variance_na = enet_na.emergence_risk(seq_df=human_na_df, qnet=na_qnet, sample_size=100)\n",
    "\n",
    "        ha_emergence_risk.append(emergence_risk_score_ha)\n",
    "        ha_variance.append(variance_ha)\n",
    "        na_emergence_risk.append(emergence_risk_score_na)\n",
    "        na_variance.append(variance_na)\n",
    "        geometric_mean_risk.append(math.sqrt(emergence_risk_score_ha * emergence_risk_score_na))\n",
    "\n",
    "    df['ha_risk'] = ha_emergence_risk\n",
    "    df['ha_variance'] = ha_variance\n",
    "    df['na_risk'] = na_emergence_risk\n",
    "    df['na_variance'] = na_variance\n",
    "    df['geometric_mean_risk'] = geometric_mean_risk\n",
    "\n",
    "    # save dataframe as csv\n",
    "    os.makedirs(OUT_DIR, exist_ok=True)\n",
    "    df.to_csv(OUT_DIR + FILE + '.csv', index=False)"
   ]
  },
  {
   "cell_type": "markdown",
   "id": "9eddde2f",
   "metadata": {},
   "source": [
    "## Scale Predictions with GLM"
   ]
  },
  {
   "cell_type": "code",
   "execution_count": 340,
   "id": "3dd1b1d6",
   "metadata": {},
   "outputs": [],
   "source": [
    "data = pd.read_csv('results/irat_average_qdistances.csv')\n",
    "data = data.rename(columns={'Potential Emergence Estimate':'IRAT_Emergence_Score',\n",
    "                            'Potential Impact Estimate':'IRAT_Impact_Score',\n",
    "                            'Geometric Mean':'Geometric_Mean',\n",
    "                            'HA Average Qdistance':'HA_Avg_Qdist',\n",
    "                            'NA Average Qdistance':'NA_Avg_Qdist'})\n",
    "# remove Yunnan and Netherlands outliers, and Duck strain\n",
    "data = data[(data['HA_Avg_Qdist'] > 0) & (data['NA_Avg_Qdist'] > 0)].drop(labels=[10, 12], axis=0)"
   ]
  },
  {
   "cell_type": "code",
   "execution_count": 341,
   "id": "0c70d6b7",
   "metadata": {},
   "outputs": [
    {
     "name": "stdout",
     "output_type": "stream",
     "text": [
      "                  Generalized Linear Model Regression Results                   \n",
      "================================================================================\n",
      "Dep. Variable:     IRAT_Emergence_Score   No. Observations:                   20\n",
      "Model:                              GLM   Df Residuals:                       17\n",
      "Model Family:                  Gaussian   Df Model:                            2\n",
      "Link Function:                 identity   Scale:                         0.74617\n",
      "Method:                            IRLS   Log-Likelihood:                -23.826\n",
      "Date:                  Fri, 18 Nov 2022   Deviance:                       12.685\n",
      "Time:                          21:05:25   Pearson chi2:                     12.7\n",
      "No. Iterations:                       3   Pseudo R-squ. (CS):             0.7678\n",
      "Covariance Type:              nonrobust                                         \n",
      "=============================================================================================\n",
      "                                coef    std err          z      P>|z|      [0.025      0.975]\n",
      "---------------------------------------------------------------------------------------------\n",
      "Intercept                     6.7809      0.460     14.736      0.000       5.879       7.683\n",
      "Geometric_Mean              -19.3647      8.078     -2.397      0.017     -35.198      -3.531\n",
      "NA_Avg_Qdist:HA_Avg_Qdist    31.5402     26.392      1.195      0.232     -20.187      83.267\n",
      "=============================================================================================\n"
     ]
    }
   ],
   "source": [
    "# IRAT_Emergence_Score ~ Geometric_Mean + HA_Avg_Qdist:NA_Avg_Qdist\n",
    "formula1 = 'IRAT_Emergence_Score ~ Geometric_Mean + NA_Avg_Qdist:HA_Avg_Qdist'\n",
    "mod1 = smf.glm(formula=formula1, data=data).fit()\n",
    "print(mod1.summary())"
   ]
  },
  {
   "cell_type": "code",
   "execution_count": 342,
   "id": "c34a89d0",
   "metadata": {},
   "outputs": [
    {
     "name": "stdout",
     "output_type": "stream",
     "text": [
      "                 Generalized Linear Model Regression Results                  \n",
      "==============================================================================\n",
      "Dep. Variable:      IRAT_Impact_Score   No. Observations:                   20\n",
      "Model:                            GLM   Df Residuals:                       17\n",
      "Model Family:                Gaussian   Df Model:                            2\n",
      "Link Function:               identity   Scale:                          1.0345\n",
      "Method:                          IRLS   Log-Likelihood:                -27.093\n",
      "Date:                Fri, 18 Nov 2022   Deviance:                       17.587\n",
      "Time:                        21:05:26   Pearson chi2:                     17.6\n",
      "No. Iterations:                     3   Pseudo R-squ. (CS):             0.4584\n",
      "Covariance Type:            nonrobust                                         \n",
      "=============================================================================================\n",
      "                                coef    std err          z      P>|z|      [0.025      0.975]\n",
      "---------------------------------------------------------------------------------------------\n",
      "Intercept                     6.6913      0.542     12.350      0.000       5.629       7.753\n",
      "Geometric_Mean              -15.5210      9.512     -1.632      0.103     -34.165       3.123\n",
      "NA_Avg_Qdist:HA_Avg_Qdist    26.8979     31.076      0.866      0.387     -34.010      87.806\n",
      "=============================================================================================\n"
     ]
    }
   ],
   "source": [
    "# IRAT_Impact_Score ~ Geometric_Mean + HA_Avg_Qdist:NA_Avg_Qdist\n",
    "formula2 = 'IRAT_Impact_Score ~ Geometric_Mean + NA_Avg_Qdist:HA_Avg_Qdist'\n",
    "mod2 = smf.glm(formula=formula2, data=data).fit()\n",
    "print(mod2.summary())"
   ]
  },
  {
   "cell_type": "code",
   "execution_count": 343,
   "id": "bd8583bf",
   "metadata": {},
   "outputs": [
    {
     "data": {
      "application/vnd.jupyter.widget-view+json": {
       "model_id": "064824c4f3ea46d497f02fbcf945bab1",
       "version_major": 2,
       "version_minor": 0
      },
      "text/plain": [
       "  0%|          | 0/9 [00:00<?, ?it/s]"
      ]
     },
     "metadata": {},
     "output_type": "display_data"
    }
   ],
   "source": [
    "df_merged = pd.DataFrame({})\n",
    "\n",
    "for FILE in tqdm(FILES):\n",
    "    ha_df = parse_fasta2(DATA_DIR + FILE + '_ha.fasta', HA_TRUNC)\n",
    "    na_df = parse_fasta2(DATA_DIR + FILE + '_na.fasta', NA_TRUNC)\n",
    "    # df1: metadata\n",
    "    df1 = ha_df.merge(na_df, how='inner', on='id').drop(columns=['subtype_y'])\n",
    "    df1.rename(columns={'subtype_x':'subtype','accession_x':'ha_accession', 'accession_y':'na_accession'}, inplace=True)\n",
    "    # df2: predictions\n",
    "    df2 = pd.read_csv(OUT_DIR + FILE + '.csv')\n",
    "    df2 = predict_irat(df2, mod1, mod2)\n",
    "    df2.to_csv(OUT_DIR + FILE + '.csv', index=False)\n",
    "    # df3: merge df1 and df2\n",
    "    df3 = df1.merge(df2, how='inner', on='id').drop_duplicates(subset=['id'])\n",
    "    df3 = df3[df3['id'] != 'not_release_-_host_x_isolate_name_not_match']\n",
    "    if len(df_merged) == 0:\n",
    "        df_merged = df3\n",
    "    else:\n",
    "        df_merged = df_merged.append(df3, ignore_index=True)\n",
    "\n",
    "df_merged.to_csv(OUT_DIR + 'combined_results.csv', index=False)"
   ]
  },
  {
   "cell_type": "markdown",
   "id": "f2b9b442",
   "metadata": {},
   "source": [
    "## Results"
   ]
  },
  {
   "cell_type": "code",
   "execution_count": 344,
   "id": "c8c4e778",
   "metadata": {
    "scrolled": false
   },
   "outputs": [
    {
     "data": {
      "text/html": [
       "<div>\n",
       "<style scoped>\n",
       "    .dataframe tbody tr th:only-of-type {\n",
       "        vertical-align: middle;\n",
       "    }\n",
       "\n",
       "    .dataframe tbody tr th {\n",
       "        vertical-align: top;\n",
       "    }\n",
       "\n",
       "    .dataframe thead th {\n",
       "        text-align: right;\n",
       "    }\n",
       "</style>\n",
       "<table border=\"1\" class=\"dataframe\">\n",
       "  <thead>\n",
       "    <tr style=\"text-align: right;\">\n",
       "      <th></th>\n",
       "      <th>id</th>\n",
       "      <th>subtype</th>\n",
       "      <th>ha_accession</th>\n",
       "      <th>na_accession</th>\n",
       "      <th>ha</th>\n",
       "      <th>na</th>\n",
       "      <th>HA_Avg_Qdist</th>\n",
       "      <th>ha_variance</th>\n",
       "      <th>NA_Avg_Qdist</th>\n",
       "      <th>na_variance</th>\n",
       "      <th>Geometric_Mean</th>\n",
       "      <th>predicted_impact_score</th>\n",
       "      <th>predicted_emergence_score</th>\n",
       "    </tr>\n",
       "  </thead>\n",
       "  <tbody>\n",
       "    <tr>\n",
       "      <th>218</th>\n",
       "      <td>A/swine/Missouri/A02524711/2020</td>\n",
       "      <td>H1N1</td>\n",
       "      <td>EPI1818121</td>\n",
       "      <td>EPI1818122</td>\n",
       "      <td>MKAILVVMLYTFTTANADTLCIGYHANNSTDTVDTVLEKNVTVTHS...</td>\n",
       "      <td>MNPNQKIITIGSICMTIGTANLILQIGNIISIWVSHSIQIGNQSQI...</td>\n",
       "      <td>0.007931</td>\n",
       "      <td>0.00001</td>\n",
       "      <td>0.001876</td>\n",
       "      <td>0.000002</td>\n",
       "      <td>0.003857</td>\n",
       "      <td>6.631798</td>\n",
       "      <td>6.706662</td>\n",
       "    </tr>\n",
       "    <tr>\n",
       "      <th>142</th>\n",
       "      <td>A/swine/Wisconsin/A02479131/2020</td>\n",
       "      <td>H1N1</td>\n",
       "      <td>EPI1780098</td>\n",
       "      <td>EPI1780099</td>\n",
       "      <td>MKAILVVMLYTFTTANADTLCIGYHANNSTDTVDTVLEKNVTVTHS...</td>\n",
       "      <td>MNPNQKIITIGSICMTIGTANLILQIGNIISIWVSHSIQIGNQSQI...</td>\n",
       "      <td>0.007945</td>\n",
       "      <td>0.00001</td>\n",
       "      <td>0.001876</td>\n",
       "      <td>0.000002</td>\n",
       "      <td>0.003860</td>\n",
       "      <td>6.631748</td>\n",
       "      <td>6.706601</td>\n",
       "    </tr>\n",
       "    <tr>\n",
       "      <th>157</th>\n",
       "      <td>A/swine/Missouri/A02479157/2020</td>\n",
       "      <td>H1N1</td>\n",
       "      <td>EPI1780243</td>\n",
       "      <td>EPI1780244</td>\n",
       "      <td>MKAILVVMLYTFTTANADTLCIGYHANNSTDTVDTVLEKNVTVTHS...</td>\n",
       "      <td>MNPNQKIITIGSICMTIGTANLILQIGNIISIWVSHSIQIGNQSQI...</td>\n",
       "      <td>0.007954</td>\n",
       "      <td>0.00001</td>\n",
       "      <td>0.001876</td>\n",
       "      <td>0.000002</td>\n",
       "      <td>0.003863</td>\n",
       "      <td>6.631716</td>\n",
       "      <td>6.706560</td>\n",
       "    </tr>\n",
       "    <tr>\n",
       "      <th>165</th>\n",
       "      <td>A/swine/North_Carolina/A02479181/2020</td>\n",
       "      <td>H1N1</td>\n",
       "      <td>EPI1780419</td>\n",
       "      <td>EPI1780420</td>\n",
       "      <td>MKAILVVMLYTFTTANADTLCIGYHANNSTDTVDTVLEKNVTVTHS...</td>\n",
       "      <td>MNPNQKIITIGSICMTIGTANLILQIGNIISIWVSHSIQIGNQSQI...</td>\n",
       "      <td>0.007931</td>\n",
       "      <td>0.00001</td>\n",
       "      <td>0.001885</td>\n",
       "      <td>0.000002</td>\n",
       "      <td>0.003866</td>\n",
       "      <td>6.631657</td>\n",
       "      <td>6.706486</td>\n",
       "    </tr>\n",
       "    <tr>\n",
       "      <th>124</th>\n",
       "      <td>A/swine/Missouri/A02479058/2020</td>\n",
       "      <td>H1N1</td>\n",
       "      <td>EPI1778732</td>\n",
       "      <td>EPI1778733</td>\n",
       "      <td>MKAILVVMLYTFTTANADTLCIGYHANNSTDTVDTVLEKNVTVTHS...</td>\n",
       "      <td>MNPNQKIITIGSICMTIGTANLILQIGNIISIWVSHSIQIGNQSQI...</td>\n",
       "      <td>0.007931</td>\n",
       "      <td>0.00001</td>\n",
       "      <td>0.001885</td>\n",
       "      <td>0.000002</td>\n",
       "      <td>0.003866</td>\n",
       "      <td>6.631657</td>\n",
       "      <td>6.706486</td>\n",
       "    </tr>\n",
       "  </tbody>\n",
       "</table>\n",
       "</div>"
      ],
      "text/plain": [
       "                                        id subtype ha_accession na_accession  \\\n",
       "218        A/swine/Missouri/A02524711/2020    H1N1   EPI1818121   EPI1818122   \n",
       "142       A/swine/Wisconsin/A02479131/2020    H1N1   EPI1780098   EPI1780099   \n",
       "157        A/swine/Missouri/A02479157/2020    H1N1   EPI1780243   EPI1780244   \n",
       "165  A/swine/North_Carolina/A02479181/2020    H1N1   EPI1780419   EPI1780420   \n",
       "124        A/swine/Missouri/A02479058/2020    H1N1   EPI1778732   EPI1778733   \n",
       "\n",
       "                                                    ha  \\\n",
       "218  MKAILVVMLYTFTTANADTLCIGYHANNSTDTVDTVLEKNVTVTHS...   \n",
       "142  MKAILVVMLYTFTTANADTLCIGYHANNSTDTVDTVLEKNVTVTHS...   \n",
       "157  MKAILVVMLYTFTTANADTLCIGYHANNSTDTVDTVLEKNVTVTHS...   \n",
       "165  MKAILVVMLYTFTTANADTLCIGYHANNSTDTVDTVLEKNVTVTHS...   \n",
       "124  MKAILVVMLYTFTTANADTLCIGYHANNSTDTVDTVLEKNVTVTHS...   \n",
       "\n",
       "                                                    na  HA_Avg_Qdist  \\\n",
       "218  MNPNQKIITIGSICMTIGTANLILQIGNIISIWVSHSIQIGNQSQI...      0.007931   \n",
       "142  MNPNQKIITIGSICMTIGTANLILQIGNIISIWVSHSIQIGNQSQI...      0.007945   \n",
       "157  MNPNQKIITIGSICMTIGTANLILQIGNIISIWVSHSIQIGNQSQI...      0.007954   \n",
       "165  MNPNQKIITIGSICMTIGTANLILQIGNIISIWVSHSIQIGNQSQI...      0.007931   \n",
       "124  MNPNQKIITIGSICMTIGTANLILQIGNIISIWVSHSIQIGNQSQI...      0.007931   \n",
       "\n",
       "     ha_variance  NA_Avg_Qdist  na_variance  Geometric_Mean  \\\n",
       "218      0.00001      0.001876     0.000002        0.003857   \n",
       "142      0.00001      0.001876     0.000002        0.003860   \n",
       "157      0.00001      0.001876     0.000002        0.003863   \n",
       "165      0.00001      0.001885     0.000002        0.003866   \n",
       "124      0.00001      0.001885     0.000002        0.003866   \n",
       "\n",
       "     predicted_impact_score  predicted_emergence_score  \n",
       "218                6.631798                   6.706662  \n",
       "142                6.631748                   6.706601  \n",
       "157                6.631716                   6.706560  \n",
       "165                6.631657                   6.706486  \n",
       "124                6.631657                   6.706486  "
      ]
     },
     "execution_count": 344,
     "metadata": {},
     "output_type": "execute_result"
    }
   ],
   "source": [
    "df_merged.sort_values(by='Geometric_Mean', ascending=True).head(5)"
   ]
  },
  {
   "cell_type": "code",
   "execution_count": 345,
   "id": "5afdb572",
   "metadata": {},
   "outputs": [
    {
     "data": {
      "image/png": "[encoded data removed]",
      "text/plain": [
       "<Figure size 432x288 with 1 Axes>"
      ]
     },
     "metadata": {
      "needs_background": "light"
     },
     "output_type": "display_data"
    }
   ],
   "source": [
    "plt.scatter(df_merged['Geometric_Mean'], df_merged['predicted_emergence_score'], label='Emergence')\n",
    "plt.scatter(df_merged['Geometric_Mean'], df_merged['predicted_impact_score'], label='Impact')\n",
    "plt.xlabel('Geometric Mean of HA and NA Qdistance')\n",
    "plt.ylabel('Predicted IRAT Score')\n",
    "plt.legend();"
   ]
  },
  {
   "cell_type": "code",
   "execution_count": 346,
   "id": "306753a2",
   "metadata": {},
   "outputs": [
    {
     "data": {
      "text/plain": [
       "subtype\n",
       "H1N1     938\n",
       "H1N2     784\n",
       "H3N2     826\n",
       "H5N1    1598\n",
       "H5N2      20\n",
       "H5N6     140\n",
       "H5N8    1382\n",
       "H7N1       3\n",
       "H7N2       1\n",
       "H7N3      99\n",
       "H7N5       1\n",
       "H7N6       8\n",
       "H7N7      11\n",
       "H7N8       3\n",
       "H7N9      17\n",
       "H9N2     235\n",
       "Name: id, dtype: int64"
      ]
     },
     "execution_count": 346,
     "metadata": {},
     "output_type": "execute_result"
    }
   ],
   "source": [
    "df_merged.groupby(by='subtype').count()['id']"
   ]
  },
  {
   "cell_type": "code",
   "execution_count": null,
   "id": "3be1f812",
   "metadata": {},
   "outputs": [],
   "source": []
  }
 ],
 "metadata": {
  "kernelspec": {
   "display_name": "Python 3",
   "language": "python",
   "name": "python3"
  },
  "language_info": {
   "codemirror_mode": {
    "name": "ipython",
    "version": 3
   },
   "file_extension": ".py",
   "mimetype": "text/x-python",
   "name": "python",
   "nbconvert_exporter": "python",
   "pygments_lexer": "ipython3",
   "version": "3.7.6"
  }
 },
 "nbformat": 4,
 "nbformat_minor": 5
}
