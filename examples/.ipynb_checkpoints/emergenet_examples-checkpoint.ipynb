{
 "cells": [
  {
   "cell_type": "markdown",
   "id": "fbbbd5e5",
   "metadata": {},
   "source": [
    "# Example Using Emergenet\n",
    "- Compares risk assesment from IRAT and risk assessment using Emergenet\n",
    "- Analyzes HA and NA subsegments of A/Ohio/13/2017 (H3N2), which was evaluated by IRAT on July 2019\n",
    "- Data sources:\n",
    "    - IRAT (CDC): https://www.cdc.gov/flu/pandemic-resources/monitoring/irat-virus-summaries.htm#H1N2variant\n",
    "    - GISAID: https://platform.epicov.org/epi3/cfrontend#586f5f\n",
    "- Collected Human HA and NA strains within one year prior to IRAT analysis (July 1, 2018 - June 30, 2019)"
   ]
  },
  {
   "cell_type": "code",
   "execution_count": 1,
   "id": "1ed06d86",
   "metadata": {},
   "outputs": [],
   "source": [
    "import sys\n",
    "sys.path.append(\"..\")\n",
    "import pandas as pd\n",
    "import numpy as np\n",
    "from Bio import SeqIO\n",
    "\n",
    "from emergenet.emergenet import Enet, save_model, load_model\n",
    "\n",
    "DATA_DIR = 'example_data/'"
   ]
  },
  {
   "cell_type": "markdown",
   "id": "4fc79324",
   "metadata": {},
   "source": [
    "## HA Emergence Risk Score"
   ]
  },
  {
   "cell_type": "code",
   "execution_count": 2,
   "id": "67a401c3",
   "metadata": {},
   "outputs": [
    {
     "name": "stdout",
     "output_type": "stream",
     "text": [
      "A/Ohio/13/2017|A_/_H3N2|$SEGMENT_NAME|2017-07-14|EPI1056653|\n",
      "MKTIIALSHILCLVFAQKLPGNDNNMATLCLGHHAVPNGTIVKTITNDQIEVTNATELVQSFSTGEICNSPYQILDGENCTLIDALLGDPQCDGFQNNKWDLFVERSKAHSNCYPYDVPDYASLRSLVASSGTLEFNNESFNWTGVTQDGASSSCKRRSSNSFFSRLNWLTHLNFKYPALEVTMPNNEQFDKLYIWGVHHPATDKDQISLYAQAAGRIIVSTKRNQQAVIPNIGSRPRVRDIPSRISIYWTIVRPGDILLINSTGNLIAPRGYFKIRSGKSSIMRSDAPIGKCNSACITPNGSIPNDKPFQNVNRITYGACPRYVKQNTLKLATGMRNIPEKQTRGIFGAIAGFIENGWEGMVDGWYGFRHQNSEGRGQAADLKSTQAAIDQINGKLNRLIGKTNEKFHQIEKEFSDVEGRIQDLEKYVEDTKIDLWSYNAELLVALENQHTIDLTDSEMNKLFEKTKKQLRENAEDMGNGCFKIYHKCDNACIGSIRNGTYDHDVYRNEALNNRFQIKGVELKSEYKDWILWISFAISCFLLCVALLGFIMWACQKGNIKCNICI\n",
      "Length of target sequence: 566\n"
     ]
    }
   ],
   "source": [
    "# initialize the Enet with a sequence not currently circulating\n",
    "enet_ha = Enet(seq=DATA_DIR+'ha_target_sequence.fasta', seq_trunc_length=550, random_state=42)\n",
    "print(enet_ha.seq_metadata)\n",
    "print(enet_ha.seq)\n",
    "print('Length of target sequence:', len(enet_ha.seq))"
   ]
  },
  {
   "cell_type": "code",
   "execution_count": 3,
   "id": "9234ff53",
   "metadata": {},
   "outputs": [
    {
     "name": "stdout",
     "output_type": "stream",
     "text": [
      "Number of sequences: 12389\n"
     ]
    },
    {
     "data": {
      "text/html": [
       "<div>\n",
       "<style scoped>\n",
       "    .dataframe tbody tr th:only-of-type {\n",
       "        vertical-align: middle;\n",
       "    }\n",
       "\n",
       "    .dataframe tbody tr th {\n",
       "        vertical-align: top;\n",
       "    }\n",
       "\n",
       "    .dataframe thead th {\n",
       "        text-align: right;\n",
       "    }\n",
       "</style>\n",
       "<table border=\"1\" class=\"dataframe\">\n",
       "  <thead>\n",
       "    <tr style=\"text-align: right;\">\n",
       "      <th></th>\n",
       "      <th>id</th>\n",
       "      <th>sequence</th>\n",
       "    </tr>\n",
       "  </thead>\n",
       "  <tbody>\n",
       "    <tr>\n",
       "      <th>0</th>\n",
       "      <td>A/Taiwan/79440/2018|A_/_H3N2|$SEGMENT_NAME|201...</td>\n",
       "      <td>[M, K, T, I, I, A, L, S, Y, I, L, C, L, V, F, ...</td>\n",
       "    </tr>\n",
       "    <tr>\n",
       "      <th>1</th>\n",
       "      <td>A/Taiwan/79440/2018|A_/_H3N2|$SEGMENT_NAME|201...</td>\n",
       "      <td>[M, K, T, I, I, A, L, S, Y, I, L, C, L, V, F, ...</td>\n",
       "    </tr>\n",
       "    <tr>\n",
       "      <th>2</th>\n",
       "      <td>A/Taiwan/80749/2018|A_/_H3N2|$SEGMENT_NAME|201...</td>\n",
       "      <td>[M, K, T, I, I, A, L, S, Y, I, L, C, L, V, F, ...</td>\n",
       "    </tr>\n",
       "    <tr>\n",
       "      <th>3</th>\n",
       "      <td>A/Taiwan/79429/2018|A_/_H3N2|$SEGMENT_NAME|201...</td>\n",
       "      <td>[M, K, T, I, I, A, L, S, Y, I, L, C, L, V, F, ...</td>\n",
       "    </tr>\n",
       "    <tr>\n",
       "      <th>4</th>\n",
       "      <td>A/Myanmar/18M219/2018|A_/_H3N2|$SEGMENT_NAME|2...</td>\n",
       "      <td>[M, K, T, I, I, A, L, S, Y, I, L, C, L, V, F, ...</td>\n",
       "    </tr>\n",
       "  </tbody>\n",
       "</table>\n",
       "</div>"
      ],
      "text/plain": [
       "                                                  id  \\\n",
       "0  A/Taiwan/79440/2018|A_/_H3N2|$SEGMENT_NAME|201...   \n",
       "1  A/Taiwan/79440/2018|A_/_H3N2|$SEGMENT_NAME|201...   \n",
       "2  A/Taiwan/80749/2018|A_/_H3N2|$SEGMENT_NAME|201...   \n",
       "3  A/Taiwan/79429/2018|A_/_H3N2|$SEGMENT_NAME|201...   \n",
       "4  A/Myanmar/18M219/2018|A_/_H3N2|$SEGMENT_NAME|2...   \n",
       "\n",
       "                                            sequence  \n",
       "0  [M, K, T, I, I, A, L, S, Y, I, L, C, L, V, F, ...  \n",
       "1  [M, K, T, I, I, A, L, S, Y, I, L, C, L, V, F, ...  \n",
       "2  [M, K, T, I, I, A, L, S, Y, I, L, C, L, V, F, ...  \n",
       "3  [M, K, T, I, I, A, L, S, Y, I, L, C, L, V, F, ...  \n",
       "4  [M, K, T, I, I, A, L, S, Y, I, L, C, L, V, F, ...  "
      ]
     },
     "execution_count": 3,
     "metadata": {},
     "output_type": "execute_result"
    }
   ],
   "source": [
    "# load fasta data\n",
    "df_ha = enet_ha.load_data(filepath=DATA_DIR+'ha_sequences.fasta', outfile=DATA_DIR+'ha_sequences.csv')\n",
    "print('Number of sequences:', len(df_ha))\n",
    "df_ha.head()"
   ]
  },
  {
   "cell_type": "code",
   "execution_count": null,
   "id": "3848f9c8",
   "metadata": {},
   "outputs": [],
   "source": [
    "%%time\n",
    "# train qnet (automatically includes target sequence with df sequences)\n",
    "qnet_ha = enet_ha.train(seq_df=df_ha, sample_size=1000, n_jobs=1)"
   ]
  },
  {
   "cell_type": "code",
   "execution_count": null,
   "id": "1ff38cc1",
   "metadata": {},
   "outputs": [],
   "source": [
    "# save qnet\n",
    "save_model(qnet=qnet_ha, outfile=DATA_DIR+'ha_qnet.joblib')"
   ]
  },
  {
   "cell_type": "code",
   "execution_count": null,
   "id": "2edc3ee8",
   "metadata": {},
   "outputs": [],
   "source": [
    "# load qnet\n",
    "qnet_ha = load_model(filepath=DATA_DIR+'ha_qnet.joblib')"
   ]
  },
  {
   "cell_type": "code",
   "execution_count": 49,
   "id": "8cc97367",
   "metadata": {},
   "outputs": [
    {
     "name": "stdout",
     "output_type": "stream",
     "text": [
      "0.021191122262609302\n",
      "CPU times: user 41 s, sys: 15 ms, total: 41 s\n",
      "Wall time: 41.1 s\n"
     ]
    }
   ],
   "source": [
    "%%time\n",
    "# compute emergence risk score\n",
    "emergence_risk_score_ha = enet_ha.emergence_risk(seq_df=df_ha, qnet=qnet_ha, sample_size=1000)\n",
    "print(emergence_risk_score_ha)"
   ]
  },
  {
   "cell_type": "markdown",
   "id": "8012bc62",
   "metadata": {},
   "source": [
    "## NA Emergence Risk Score"
   ]
  },
  {
   "cell_type": "code",
   "execution_count": 50,
   "id": "0ffd676f",
   "metadata": {},
   "outputs": [
    {
     "name": "stdout",
     "output_type": "stream",
     "text": [
      "A/Ohio/13/2017|A_/_H3N2|$SEGMENT_NAME|2017-07-14|EPI1056652|\n",
      "MNPNQKIITIGSVSLIIATICFLMQIAILVTTITLHFKQHNCDSSPNNHVMFCEPTIIERNKTEIVYLTNTTVEKEICPKPTEYRNWSKPQCNITGFAPFSKDNSIRLSAGGDIWVTREPYVSCDQDKCYQFALGQGTTLNNGHSNDTVHDRTPYRTLLMNELGVPFHLGTRQVCIAWSSSSCHDGKAWLHVCITGDDKNATASLIYNGRLVDSIGSWSKNILRTQESECVCINGTCTVVMTDGSASGKADTKILFIEEGKIIHISTLSGSAQHVEECSCYPRYSGVRCVCRDNWKGSNRPIVDINVKDYSTVSSYICSGLVGDTPRKNDSFSSSNCLDPNNEEGGHGVKGWAFDDGNDLWMGRTISEKSRLGYETFKVVKGWSEPNSKLQSNRQVIVDRGNRSGYSGIFSIEGKNCINRCFYVELIRGRKEETKVLWTSNSIVVFCGTSGTYGTGSWPDGADINLMPI\n",
      "Length of target sequence: 469\n"
     ]
    }
   ],
   "source": [
    "# initialize the Enet with a sequence not currently circulating\n",
    "enet_na = Enet(seq=DATA_DIR+'na_target_sequence.fasta', seq_trunc_length=449, random_state=42)\n",
    "print(enet_na.seq_metadata)\n",
    "print(enet_na.seq)\n",
    "print('Length of target sequence:', len(enet_na.seq))"
   ]
  },
  {
   "cell_type": "code",
   "execution_count": 51,
   "id": "0d9456b6",
   "metadata": {},
   "outputs": [
    {
     "name": "stdout",
     "output_type": "stream",
     "text": [
      "Number of sequences: 12388\n"
     ]
    },
    {
     "data": {
      "text/html": [
       "<div>\n",
       "<style scoped>\n",
       "    .dataframe tbody tr th:only-of-type {\n",
       "        vertical-align: middle;\n",
       "    }\n",
       "\n",
       "    .dataframe tbody tr th {\n",
       "        vertical-align: top;\n",
       "    }\n",
       "\n",
       "    .dataframe thead th {\n",
       "        text-align: right;\n",
       "    }\n",
       "</style>\n",
       "<table border=\"1\" class=\"dataframe\">\n",
       "  <thead>\n",
       "    <tr style=\"text-align: right;\">\n",
       "      <th></th>\n",
       "      <th>id</th>\n",
       "      <th>sequence</th>\n",
       "    </tr>\n",
       "  </thead>\n",
       "  <tbody>\n",
       "    <tr>\n",
       "      <th>0</th>\n",
       "      <td>A/Taiwan/79440/2018|A_/_H3N2|$SEGMENT_NAME|201...</td>\n",
       "      <td>[M, N, P, N, Q, K, I, I, T, I, G, S, V, S, L, ...</td>\n",
       "    </tr>\n",
       "    <tr>\n",
       "      <th>1</th>\n",
       "      <td>A/Taiwan/79440/2018|A_/_H3N2|$SEGMENT_NAME|201...</td>\n",
       "      <td>[M, N, P, N, Q, K, I, I, T, I, G, S, V, S, L, ...</td>\n",
       "    </tr>\n",
       "    <tr>\n",
       "      <th>2</th>\n",
       "      <td>A/Taiwan/80749/2018|A_/_H3N2|$SEGMENT_NAME|201...</td>\n",
       "      <td>[M, N, P, N, Q, K, I, I, T, I, G, S, V, S, L, ...</td>\n",
       "    </tr>\n",
       "    <tr>\n",
       "      <th>3</th>\n",
       "      <td>A/Taiwan/79429/2018|A_/_H3N2|$SEGMENT_NAME|201...</td>\n",
       "      <td>[M, N, P, N, Q, K, I, I, T, I, G, S, V, S, L, ...</td>\n",
       "    </tr>\n",
       "    <tr>\n",
       "      <th>4</th>\n",
       "      <td>A/Myanmar/18M219/2018|A_/_H3N2|$SEGMENT_NAME|2...</td>\n",
       "      <td>[M, N, P, N, Q, K, I, I, T, I, G, S, V, S, L, ...</td>\n",
       "    </tr>\n",
       "  </tbody>\n",
       "</table>\n",
       "</div>"
      ],
      "text/plain": [
       "                                                  id  \\\n",
       "0  A/Taiwan/79440/2018|A_/_H3N2|$SEGMENT_NAME|201...   \n",
       "1  A/Taiwan/79440/2018|A_/_H3N2|$SEGMENT_NAME|201...   \n",
       "2  A/Taiwan/80749/2018|A_/_H3N2|$SEGMENT_NAME|201...   \n",
       "3  A/Taiwan/79429/2018|A_/_H3N2|$SEGMENT_NAME|201...   \n",
       "4  A/Myanmar/18M219/2018|A_/_H3N2|$SEGMENT_NAME|2...   \n",
       "\n",
       "                                            sequence  \n",
       "0  [M, N, P, N, Q, K, I, I, T, I, G, S, V, S, L, ...  \n",
       "1  [M, N, P, N, Q, K, I, I, T, I, G, S, V, S, L, ...  \n",
       "2  [M, N, P, N, Q, K, I, I, T, I, G, S, V, S, L, ...  \n",
       "3  [M, N, P, N, Q, K, I, I, T, I, G, S, V, S, L, ...  \n",
       "4  [M, N, P, N, Q, K, I, I, T, I, G, S, V, S, L, ...  "
      ]
     },
     "execution_count": 51,
     "metadata": {},
     "output_type": "execute_result"
    }
   ],
   "source": [
    "# load fasta data\n",
    "df_na = enet_na.load_data(filepath=DATA_DIR+'na_sequences.fasta', outfile=DATA_DIR+'na_sequences.csv')\n",
    "print('Number of sequences:', len(df_na))\n",
    "df_na.head()"
   ]
  },
  {
   "cell_type": "code",
   "execution_count": 52,
   "id": "4b423757",
   "metadata": {},
   "outputs": [
    {
     "name": "stdout",
     "output_type": "stream",
     "text": [
      "CPU times: user 2min 3s, sys: 290 ms, total: 2min 4s\n",
      "Wall time: 2min 4s\n"
     ]
    }
   ],
   "source": [
    "%%time\n",
    "# train qnet (automatically includes target sequence with df sequences)\n",
    "qnet_na = enet_na.train(seq_df=df_na, sample_size=1000, n_jobs=1)"
   ]
  },
  {
   "cell_type": "code",
   "execution_count": 53,
   "id": "3abc18f7",
   "metadata": {},
   "outputs": [],
   "source": [
    "# save qnet\n",
    "save_model(qnet=qnet_na, outfile=DATA_DIR+'na_qnet.joblib')"
   ]
  },
  {
   "cell_type": "code",
   "execution_count": 54,
   "id": "90aa211f",
   "metadata": {},
   "outputs": [],
   "source": [
    "# load qnet\n",
    "qnet_na = load_model(filepath=DATA_DIR+'na_qnet.joblib')"
   ]
  },
  {
   "cell_type": "code",
   "execution_count": 55,
   "id": "86b00133",
   "metadata": {},
   "outputs": [
    {
     "name": "stdout",
     "output_type": "stream",
     "text": [
      "0.03134153156313295\n",
      "CPU times: user 31.8 s, sys: 17 ms, total: 31.8 s\n",
      "Wall time: 31.8 s\n"
     ]
    }
   ],
   "source": [
    "%%time\n",
    "# compute emergence risk score\n",
    "emergence_risk_score_na = enet_na.emergence_risk(seq_df=df_na, qnet=qnet_na, sample_size=1000)\n",
    "print(emergence_risk_score_na)"
   ]
  },
  {
   "cell_type": "markdown",
   "id": "b6f0c953",
   "metadata": {},
   "source": [
    "## Average Emergence Risk Score\n",
    "- Emergence risk scores should match values in SI-Table 16 (with some variation due to sampling differences in training Qnet)"
   ]
  },
  {
   "cell_type": "code",
   "execution_count": 56,
   "id": "fa159210",
   "metadata": {},
   "outputs": [
    {
     "name": "stdout",
     "output_type": "stream",
     "text": [
      "Emergenet potential emergence estimate: 0.026266\n",
      "IRAT potential emergence estimate: 6.6\n"
     ]
    }
   ],
   "source": [
    "# compute average emergence risk (recall we used 1000 samples in each)\n",
    "emergence_risk_score_avg = (emergence_risk_score_ha * 1000 + emergence_risk_score_na * 1000)/2000\n",
    "print('Emergenet potential emergence estimate:', round(emergence_risk_score_avg, 6))\n",
    "print('IRAT potential emergence estimate: 6.6')"
   ]
  },
  {
   "cell_type": "code",
   "execution_count": null,
   "id": "267def52",
   "metadata": {},
   "outputs": [],
   "source": []
  }
 ],
 "metadata": {
  "kernelspec": {
   "display_name": "Python 3 (ipykernel)",
   "language": "python",
   "name": "python3"
  },
  "language_info": {
   "codemirror_mode": {
    "name": "ipython",
    "version": 3
   },
   "file_extension": ".py",
   "mimetype": "text/x-python",
   "name": "python",
   "nbconvert_exporter": "python",
   "pygments_lexer": "ipython3",
   "version": "3.10.6"
  }
 },
 "nbformat": 4,
 "nbformat_minor": 5
}
