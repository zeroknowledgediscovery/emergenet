{
 "cells": [
  {
   "cell_type": "markdown",
   "id": "fbbbd5e5",
   "metadata": {},
   "source": [
    "# Example Using emergenet.emergenet\n",
    "- Compares risk assesment from IRAT and risk assessment using Emergenet\n",
    "- Analyzes HA and NA segments of A/Ohio/13/2017 (H3N2), which was evaluated by IRAT on July 2019\n",
    "- Collected Human HA and NA strains within one year prior to IRAT analysis (July 1, 2018 - June 30, 2019)"
   ]
  },
  {
   "cell_type": "code",
   "execution_count": 1,
   "id": "449063ea",
   "metadata": {},
   "outputs": [],
   "source": [
    "%%capture\n",
    "!pip install emergenet --upgrade"
   ]
  },
  {
   "cell_type": "code",
   "execution_count": 2,
   "id": "1ed06d86",
   "metadata": {},
   "outputs": [],
   "source": [
    "from emergenet.emergenet import Enet, save_model, load_model, irat_risk\n",
    "\n",
    "DATA_DIR = 'example_data/emergenet/'"
   ]
  },
  {
   "cell_type": "markdown",
   "id": "4fc79324",
   "metadata": {},
   "source": [
    "## HA Emergence Risk Score"
   ]
  },
  {
   "cell_type": "code",
   "execution_count": 15,
   "id": "67a401c3",
   "metadata": {},
   "outputs": [
    {
     "name": "stdout",
     "output_type": "stream",
     "text": [
      "Initializing Enet with fasta file\n",
      "---------------------------------\n",
      "\n",
      "A/Alberta/01/2020_(H1N2)v|EPI_ISL_683998|A_/_H1N2|P1||6B.1|2020-10-01|Bastien_Nathalie||RV16380/20|2020-12-09|Provincial_Laboratory_of_Public_Health_for_Southern_Alberta|Public_Health_Agency_of_Canada_(PHAC)|HA|EPI1815179|\n",
      "MKAILLVLLHTFAATSADTICVGYHANNSTDTVDTVLEKNVTVTHSVNLLEDKHNGKLCKLRGKAPLYLGKCNIAGWLLGNPECELPLTVSSWSYIVETSDSDNGTCYPGDFTNYEELREQLSSVSSFERFEMFPKESSWPNHETNKSVTAACPYAGASSFYRNLIWLVKKDDSYPMLNISYVNNKGKEVLVLWGIHHPPTEDDQKWLYKNADAYVFVGTSTYSQKFEPEIATRPRVRDQTGRMNYYWTLVKPGDKITFEATGNLVVPRYAFAMNRGSESGIIISDAPVHDCNTICQTPKGALNTSLPFQNVHPVTIGECPKYIKSTRLKMATGLRNTPSIQSRGLFGAIAGFIEGGWTGMVDGWYGYHHQNEQGSGYAADQKSTQRAVDGITNKVNSIIERMNSQFTAVGKEFSNLERRIENLNKKVDDGFLDVWTYNAELLILLENERTLDFHDSNVKNLYERVRNQLRNNAKEIGNGCFEFYHKCDNTCMESVKNGTYDYPKYSEESKLNREEIDGVKLDSTKVYQILAIYSTVASSLVVLVSLGALSFWMCSNGSLQCRICI\n",
      "Length of target sequence: 566\n"
     ]
    }
   ],
   "source": [
    "# initialize the Enet with A/Ohio/13/2017 HA\n",
    "#enet_ha = Enet(seq=DATA_DIR+'ha_target_sequence.fasta', seq_trunc_length=550, random_state=42)\n",
    "enet_ha = Enet(seq='../extras/variants/alberta.fasta', seq_trunc_length=550, random_state=42)\n",
    "\n",
    "print('Initializing Enet with fasta file\\n---------------------------------\\n')\n",
    "print(enet_ha.seq_metadata)\n",
    "print(enet_ha.seq)\n",
    "print('Length of target sequence:', len(enet_ha.seq))"
   ]
  },
  {
   "cell_type": "code",
   "execution_count": null,
   "metadata": {},
   "outputs": [],
   "source": []
  },
  {
   "cell_type": "code",
   "execution_count": 10,
   "id": "c168442d",
   "metadata": {},
   "outputs": [
    {
     "name": "stdout",
     "output_type": "stream",
     "text": [
      "Initializing Enet with nucleotide sequence\n",
      "------------------------------------------\n",
      "\n",
      "A/Ohio/13/2017|A_/_H3N2|$SEGMENT_NAME|2017-07-14|EPI1056653|\n",
      "MKTIIALSHILCLVFAQKLPGNDNNMATLCLGHHAVPNGTIVKTITNDQIEVTNATELVQSFSTGEICNSPYQILDGENCTLIDALLGDPQCDGFQNNKWDLFVERSKAHSNCYPYDVPDYASLRSLVASSGTLEFNNESFNWTGVTQDGASSSCKRRSSNSFFSRLNWLTHLNFKYPALEVTMPNNEQFDKLYIWGVHHPATDKDQISLYAQAAGRIIVSTKRNQQAVIPNIGSRPRVRDIPSRISIYWTIVRPGDILLINSTGNLIAPRGYFKIRSGKSSIMRSDAPIGKCNSACITPNGSIPNDKPFQNVNRITYGACPRYVKQNTLKLATGMRNIPEKQTRGIFGAIAGFIENGWEGMVDGWYGFRHQNSEGRGQAADLKSTQAAIDQINGKLNRLIGKTNEKFHQIEKEFSDVEGRIQDLEKYVEDTKIDLWSYNAELLVALENQHTIDLTDSEMNKLFEKTKKQLRENAEDMGNGCFKIYHKCDNACIGSIRNGTYDHDVYRNEALNNRFQIKGVELKSEYKDWILWISFAISCFLLCVALLGFIMWACQKGNIKCNICI\n",
      "Length of target sequence: 566\n"
     ]
    }
   ],
   "source": [
    "# can also initialize with sequence rather than fasta file\n",
    "enet_ha_1 = Enet(seq='MKTIIALSHILCLVFAQKLPGNDNNMATLCLGHHAVPNGTIVKTITNDQIEVTNATELVQSFSTGEICNSPYQILDGENCTLIDALLGDPQCDGFQNNKWDLFVERSKAHSNCYPYDVPDYASLRSLVASSGTLEFNNESFNWTGVTQDGASSSCKRRSSNSFFSRLNWLTHLNFKYPALEVTMPNNEQFDKLYIWGVHHPATDKDQISLYAQAAGRIIVSTKRNQQAVIPNIGSRPRVRDIPSRISIYWTIVRPGDILLINSTGNLIAPRGYFKIRSGKSSIMRSDAPIGKCNSACITPNGSIPNDKPFQNVNRITYGACPRYVKQNTLKLATGMRNIPEKQTRGIFGAIAGFIENGWEGMVDGWYGFRHQNSEGRGQAADLKSTQAAIDQINGKLNRLIGKTNEKFHQIEKEFSDVEGRIQDLEKYVEDTKIDLWSYNAELLVALENQHTIDLTDSEMNKLFEKTKKQLRENAEDMGNGCFKIYHKCDNACIGSIRNGTYDHDVYRNEALNNRFQIKGVELKSEYKDWILWISFAISCFLLCVALLGFIMWACQKGNIKCNICI',\n",
    "               seq_trunc_length=550, seq_metadata='A/Ohio/13/2017|A_/_H3N2|$SEGMENT_NAME|2017-07-14|EPI1056653|', random_state=42)\n",
    "\n",
    "print('Initializing Enet with nucleotide sequence\\n------------------------------------------\\n')\n",
    "print(enet_ha_1.seq_metadata)\n",
    "print(enet_ha_1.seq)\n",
    "print('Length of target sequence:', len(enet_ha_1.seq))"
   ]
  },
  {
   "cell_type": "code",
   "execution_count": 16,
   "id": "9234ff53",
   "metadata": {},
   "outputs": [
    {
     "name": "stdout",
     "output_type": "stream",
     "text": [
      "Number of sequences: 12389\n"
     ]
    },
    {
     "data": {
      "text/html": [
       "<div>\n",
       "<style scoped>\n",
       "    .dataframe tbody tr th:only-of-type {\n",
       "        vertical-align: middle;\n",
       "    }\n",
       "\n",
       "    .dataframe tbody tr th {\n",
       "        vertical-align: top;\n",
       "    }\n",
       "\n",
       "    .dataframe thead th {\n",
       "        text-align: right;\n",
       "    }\n",
       "</style>\n",
       "<table border=\"1\" class=\"dataframe\">\n",
       "  <thead>\n",
       "    <tr style=\"text-align: right;\">\n",
       "      <th></th>\n",
       "      <th>id</th>\n",
       "      <th>sequence</th>\n",
       "    </tr>\n",
       "  </thead>\n",
       "  <tbody>\n",
       "    <tr>\n",
       "      <th>0</th>\n",
       "      <td>A/Taiwan/79440/2018|A_/_H3N2|$SEGMENT_NAME|201...</td>\n",
       "      <td>[M, K, T, I, I, A, L, S, Y, I, L, C, L, V, F, ...</td>\n",
       "    </tr>\n",
       "    <tr>\n",
       "      <th>1</th>\n",
       "      <td>A/Taiwan/79440/2018|A_/_H3N2|$SEGMENT_NAME|201...</td>\n",
       "      <td>[M, K, T, I, I, A, L, S, Y, I, L, C, L, V, F, ...</td>\n",
       "    </tr>\n",
       "    <tr>\n",
       "      <th>2</th>\n",
       "      <td>A/Taiwan/80749/2018|A_/_H3N2|$SEGMENT_NAME|201...</td>\n",
       "      <td>[M, K, T, I, I, A, L, S, Y, I, L, C, L, V, F, ...</td>\n",
       "    </tr>\n",
       "    <tr>\n",
       "      <th>3</th>\n",
       "      <td>A/Taiwan/79429/2018|A_/_H3N2|$SEGMENT_NAME|201...</td>\n",
       "      <td>[M, K, T, I, I, A, L, S, Y, I, L, C, L, V, F, ...</td>\n",
       "    </tr>\n",
       "    <tr>\n",
       "      <th>4</th>\n",
       "      <td>A/Myanmar/18M219/2018|A_/_H3N2|$SEGMENT_NAME|2...</td>\n",
       "      <td>[M, K, T, I, I, A, L, S, Y, I, L, C, L, V, F, ...</td>\n",
       "    </tr>\n",
       "  </tbody>\n",
       "</table>\n",
       "</div>"
      ],
      "text/plain": [
       "                                                  id   \n",
       "0  A/Taiwan/79440/2018|A_/_H3N2|$SEGMENT_NAME|201...  \\\n",
       "1  A/Taiwan/79440/2018|A_/_H3N2|$SEGMENT_NAME|201...   \n",
       "2  A/Taiwan/80749/2018|A_/_H3N2|$SEGMENT_NAME|201...   \n",
       "3  A/Taiwan/79429/2018|A_/_H3N2|$SEGMENT_NAME|201...   \n",
       "4  A/Myanmar/18M219/2018|A_/_H3N2|$SEGMENT_NAME|2...   \n",
       "\n",
       "                                            sequence  \n",
       "0  [M, K, T, I, I, A, L, S, Y, I, L, C, L, V, F, ...  \n",
       "1  [M, K, T, I, I, A, L, S, Y, I, L, C, L, V, F, ...  \n",
       "2  [M, K, T, I, I, A, L, S, Y, I, L, C, L, V, F, ...  \n",
       "3  [M, K, T, I, I, A, L, S, Y, I, L, C, L, V, F, ...  \n",
       "4  [M, K, T, I, I, A, L, S, Y, I, L, C, L, V, F, ...  "
      ]
     },
     "execution_count": 16,
     "metadata": {},
     "output_type": "execute_result"
    }
   ],
   "source": [
    "# load fasta data\n",
    "df_ha = enet_ha.load_data(filepath=DATA_DIR+'ha_sequences.fasta')\n",
    "\n",
    "print('Number of sequences:', len(df_ha))\n",
    "df_ha.head()"
   ]
  },
  {
   "cell_type": "code",
   "execution_count": 17,
   "id": "3848f9c8",
   "metadata": {},
   "outputs": [
    {
     "name": "stdout",
     "output_type": "stream",
     "text": [
      "CPU times: user 10min 21s, sys: 486 ms, total: 10min 21s\n",
      "Wall time: 10min 26s\n"
     ]
    }
   ],
   "source": [
    "%%time\n",
    "# train enet (automatically includes target sequence with df)\n",
    "enet_ha1 = enet_ha.train(seq_df=df_ha, sample_size=1000, n_jobs=1)\n",
    "# save enet\n",
    "save_model(enet=enet_ha1, outfile=DATA_DIR+'ha_enet.joblib')"
   ]
  },
  {
   "cell_type": "code",
   "execution_count": 18,
   "id": "2edc3ee8",
   "metadata": {},
   "outputs": [],
   "source": [
    "# load enet\n",
    "enet_ha1 = load_model(filepath=DATA_DIR+'ha_enet.joblib')"
   ]
  },
  {
   "cell_type": "code",
   "execution_count": 19,
   "metadata": {},
   "outputs": [
    {
     "name": "stdout",
     "output_type": "stream",
     "text": [
      "Emergenet Risk Score: 0.19984013035450224\n",
      "Variance: 0.03993607770010445\n",
      "CPU times: user 181 ms, sys: 2.99 ms, total: 184 ms\n",
      "Wall time: 181 ms\n"
     ]
    }
   ],
   "source": [
    "%%time\n",
    "# compute risk score\n",
    "risk_score_ha, variance_ha = enet_ha.emergence_risk(seq_df=df_ha.head(1), enet=enet_ha1, sample_size=1000)\n",
    "\n",
    "print('Emergenet Risk Score:', risk_score_ha)\n",
    "print('Variance:', variance_ha)"
   ]
  },
  {
   "cell_type": "code",
   "execution_count": 11,
   "id": "3f5791e4",
   "metadata": {},
   "outputs": [
    {
     "name": "stdout",
     "output_type": "stream",
     "text": [
      "Emergenet Risk Score: 0.012340261003657222\n",
      "Variance: 0.00015228204163838315\n",
      "CPU times: user 139 ms, sys: 1.01 ms, total: 140 ms\n",
      "Wall time: 138 ms\n"
     ]
    }
   ],
   "source": [
    "%%time\n",
    "# compute risk score\n",
    "risk_score_ha, variance_ha = enet_ha.emergence_risk(seq_df=df_ha.head(1), enet=enet_ha1, sample_size=1000)\n",
    "\n",
    "print('Emergenet Risk Score:', risk_score_ha)\n",
    "print('Variance:', variance_ha)"
   ]
  },
  {
   "cell_type": "code",
   "execution_count": 15,
   "id": "af8445ed",
   "metadata": {},
   "outputs": [
    {
     "name": "stdout",
     "output_type": "stream",
     "text": [
      "Emergenet Risk Score: 0.020328876194469082\n",
      "Bounds: [0.02001265632283635, 0.020721550600361946]\n",
      "Variance: 1.6303481243028225e-05\n",
      "CPU times: user 6min 55s, sys: 495 ms, total: 6min 55s\n",
      "Wall time: 6min 55s\n"
     ]
    }
   ],
   "source": [
    "%%time\n",
    "# compute risk score with qsampling to get upper and lower bounds, see qsampling module\n",
    "# https://zeroknowledgediscovery.github.io/quasinet/build/html/quasinet.html#quasinet.qsampling.qsample\n",
    "avg_ha, min_ha, max_ha, var_ha = enet_ha.emergence_risk_qsampling(seq_df=df_ha, enet=enet_ha1, sample_size=1000, qsamples=10, steps=10)\n",
    "\n",
    "print('Emergenet Risk Score:', avg_ha)\n",
    "print('Bounds:', [min_ha, max_ha])\n",
    "print('Variance:', var_ha)"
   ]
  },
  {
   "cell_type": "markdown",
   "id": "8012bc62",
   "metadata": {},
   "source": [
    "## NA Emergence Risk Score"
   ]
  },
  {
   "cell_type": "code",
   "execution_count": 19,
   "id": "0ffd676f",
   "metadata": {},
   "outputs": [
    {
     "name": "stdout",
     "output_type": "stream",
     "text": [
      "Initializing Enet with fasta file\n",
      "---------------------------------\n",
      "\n",
      "A/Ohio/13/2017|A_/_H3N2|$SEGMENT_NAME|2017-07-14|EPI1056652|\n",
      "MNPNQKIITIGSVSLIIATICFLMQIAILVTTITLHFKQHNCDSSPNNHVMFCEPTIIERNKTEIVYLTNTTVEKEICPKPTEYRNWSKPQCNITGFAPFSKDNSIRLSAGGDIWVTREPYVSCDQDKCYQFALGQGTTLNNGHSNDTVHDRTPYRTLLMNELGVPFHLGTRQVCIAWSSSSCHDGKAWLHVCITGDDKNATASLIYNGRLVDSIGSWSKNILRTQESECVCINGTCTVVMTDGSASGKADTKILFIEEGKIIHISTLSGSAQHVEECSCYPRYSGVRCVCRDNWKGSNRPIVDINVKDYSTVSSYICSGLVGDTPRKNDSFSSSNCLDPNNEEGGHGVKGWAFDDGNDLWMGRTISEKSRLGYETFKVVKGWSEPNSKLQSNRQVIVDRGNRSGYSGIFSIEGKNCINRCFYVELIRGRKEETKVLWTSNSIVVFCGTSGTYGTGSWPDGADINLMPI\n",
      "Length of target sequence: 469\n"
     ]
    }
   ],
   "source": [
    "# initialize the Enet with A/Ohio/13/2017 NA\n",
    "enet_na = Enet(seq=DATA_DIR+'na_target_sequence.fasta', seq_trunc_length=449, random_state=42)\n",
    "\n",
    "print('Initializing Enet with fasta file\\n---------------------------------\\n')\n",
    "print(enet_na.seq_metadata)\n",
    "print(enet_na.seq)\n",
    "print('Length of target sequence:', len(enet_na.seq))"
   ]
  },
  {
   "cell_type": "code",
   "execution_count": 20,
   "id": "1a050858",
   "metadata": {},
   "outputs": [
    {
     "name": "stdout",
     "output_type": "stream",
     "text": [
      "Initializing Enet with nucleotide sequence\n",
      "------------------------------------------\n",
      "\n",
      "A/Ohio/13/2017|A_/_H3N2|$SEGMENT_NAME|2017-07-14|EPI1056653|\n",
      "MNPNQKIITIGSVSLIIATICFLMQIAILVTTITLHFKQHNCDSSPNNHVMFCEPTIIERNKTEIVYLTNTTVEKEICPKPTEYRNWSKPQCNITGFAPFSKDNSIRLSAGGDIWVTREPYVSCDQDKCYQFALGQGTTLNNGHSNDTVHDRTPYRTLLMNELGVPFHLGTRQVCIAWSSSSCHDGKAWLHVCITGDDKNATASLIYNGRLVDSIGSWSKNILRTQESECVCINGTCTVVMTDGSASGKADTKILFIEEGKIIHISTLSGSAQHVEECSCYPRYSGVRCVCRDNWKGSNRPIVDINVKDYSTVSSYICSGLVGDTPRKNDSFSSSNCLDPNNEEGGHGVKGWAFDDGNDLWMGRTISEKSRLGYETFKVVKGWSEPNSKLQSNRQVIVDRGNRSGYSGIFSIEGKNCINRCFYVELIRGRKEETKVLWTSNSIVVFCGTSGTYGTGSWPDGADINLMPI\n",
      "Length of target sequence: 469\n"
     ]
    }
   ],
   "source": [
    "# can also initialize with sequence rather than fasta file\n",
    "enet_na_1 = Enet(seq='MNPNQKIITIGSVSLIIATICFLMQIAILVTTITLHFKQHNCDSSPNNHVMFCEPTIIERNKTEIVYLTNTTVEKEICPKPTEYRNWSKPQCNITGFAPFSKDNSIRLSAGGDIWVTREPYVSCDQDKCYQFALGQGTTLNNGHSNDTVHDRTPYRTLLMNELGVPFHLGTRQVCIAWSSSSCHDGKAWLHVCITGDDKNATASLIYNGRLVDSIGSWSKNILRTQESECVCINGTCTVVMTDGSASGKADTKILFIEEGKIIHISTLSGSAQHVEECSCYPRYSGVRCVCRDNWKGSNRPIVDINVKDYSTVSSYICSGLVGDTPRKNDSFSSSNCLDPNNEEGGHGVKGWAFDDGNDLWMGRTISEKSRLGYETFKVVKGWSEPNSKLQSNRQVIVDRGNRSGYSGIFSIEGKNCINRCFYVELIRGRKEETKVLWTSNSIVVFCGTSGTYGTGSWPDGADINLMPI',\n",
    "                 seq_trunc_length=449, seq_metadata='A/Ohio/13/2017|A_/_H3N2|$SEGMENT_NAME|2017-07-14|EPI1056653|', random_state=42)\n",
    "\n",
    "print('Initializing Enet with nucleotide sequence\\n------------------------------------------\\n')\n",
    "print(enet_na_1.seq_metadata)\n",
    "print(enet_na_1.seq)\n",
    "print('Length of target sequence:', len(enet_na_1.seq))"
   ]
  },
  {
   "cell_type": "code",
   "execution_count": 21,
   "id": "0d9456b6",
   "metadata": {},
   "outputs": [
    {
     "name": "stdout",
     "output_type": "stream",
     "text": [
      "Number of sequences: 12388\n"
     ]
    },
    {
     "data": {
      "text/html": [
       "<div>\n",
       "<style scoped>\n",
       "    .dataframe tbody tr th:only-of-type {\n",
       "        vertical-align: middle;\n",
       "    }\n",
       "\n",
       "    .dataframe tbody tr th {\n",
       "        vertical-align: top;\n",
       "    }\n",
       "\n",
       "    .dataframe thead th {\n",
       "        text-align: right;\n",
       "    }\n",
       "</style>\n",
       "<table border=\"1\" class=\"dataframe\">\n",
       "  <thead>\n",
       "    <tr style=\"text-align: right;\">\n",
       "      <th></th>\n",
       "      <th>id</th>\n",
       "      <th>sequence</th>\n",
       "    </tr>\n",
       "  </thead>\n",
       "  <tbody>\n",
       "    <tr>\n",
       "      <th>0</th>\n",
       "      <td>A/Taiwan/79440/2018|A_/_H3N2|$SEGMENT_NAME|201...</td>\n",
       "      <td>[M, N, P, N, Q, K, I, I, T, I, G, S, V, S, L, ...</td>\n",
       "    </tr>\n",
       "    <tr>\n",
       "      <th>1</th>\n",
       "      <td>A/Taiwan/79440/2018|A_/_H3N2|$SEGMENT_NAME|201...</td>\n",
       "      <td>[M, N, P, N, Q, K, I, I, T, I, G, S, V, S, L, ...</td>\n",
       "    </tr>\n",
       "    <tr>\n",
       "      <th>2</th>\n",
       "      <td>A/Taiwan/80749/2018|A_/_H3N2|$SEGMENT_NAME|201...</td>\n",
       "      <td>[M, N, P, N, Q, K, I, I, T, I, G, S, V, S, L, ...</td>\n",
       "    </tr>\n",
       "    <tr>\n",
       "      <th>3</th>\n",
       "      <td>A/Taiwan/79429/2018|A_/_H3N2|$SEGMENT_NAME|201...</td>\n",
       "      <td>[M, N, P, N, Q, K, I, I, T, I, G, S, V, S, L, ...</td>\n",
       "    </tr>\n",
       "    <tr>\n",
       "      <th>4</th>\n",
       "      <td>A/Myanmar/18M219/2018|A_/_H3N2|$SEGMENT_NAME|2...</td>\n",
       "      <td>[M, N, P, N, Q, K, I, I, T, I, G, S, V, S, L, ...</td>\n",
       "    </tr>\n",
       "  </tbody>\n",
       "</table>\n",
       "</div>"
      ],
      "text/plain": [
       "                                                  id  \\\n",
       "0  A/Taiwan/79440/2018|A_/_H3N2|$SEGMENT_NAME|201...   \n",
       "1  A/Taiwan/79440/2018|A_/_H3N2|$SEGMENT_NAME|201...   \n",
       "2  A/Taiwan/80749/2018|A_/_H3N2|$SEGMENT_NAME|201...   \n",
       "3  A/Taiwan/79429/2018|A_/_H3N2|$SEGMENT_NAME|201...   \n",
       "4  A/Myanmar/18M219/2018|A_/_H3N2|$SEGMENT_NAME|2...   \n",
       "\n",
       "                                            sequence  \n",
       "0  [M, N, P, N, Q, K, I, I, T, I, G, S, V, S, L, ...  \n",
       "1  [M, N, P, N, Q, K, I, I, T, I, G, S, V, S, L, ...  \n",
       "2  [M, N, P, N, Q, K, I, I, T, I, G, S, V, S, L, ...  \n",
       "3  [M, N, P, N, Q, K, I, I, T, I, G, S, V, S, L, ...  \n",
       "4  [M, N, P, N, Q, K, I, I, T, I, G, S, V, S, L, ...  "
      ]
     },
     "execution_count": 21,
     "metadata": {},
     "output_type": "execute_result"
    }
   ],
   "source": [
    "# load fasta data\n",
    "df_na = enet_na.load_data(filepath=DATA_DIR+'na_sequences.fasta')\n",
    "\n",
    "print('Number of sequences:', len(df_na))\n",
    "df_na.head()"
   ]
  },
  {
   "cell_type": "code",
   "execution_count": 22,
   "id": "4b423757",
   "metadata": {},
   "outputs": [
    {
     "name": "stdout",
     "output_type": "stream",
     "text": [
      "CPU times: user 2min 26s, sys: 682 ms, total: 2min 27s\n",
      "Wall time: 2min 27s\n"
     ]
    }
   ],
   "source": [
    "%%time\n",
    "# train enet (automatically includes target sequence with df)\n",
    "enet_na1 = enet_na.train(seq_df=df_na, sample_size=1000, n_jobs=1)\n",
    "# save enet\n",
    "save_model(enet=enet_na1, outfile=DATA_DIR+'na_enet.joblib')"
   ]
  },
  {
   "cell_type": "code",
   "execution_count": 23,
   "id": "90aa211f",
   "metadata": {},
   "outputs": [],
   "source": [
    "# load enet\n",
    "enet_na1 = load_model(filepath=DATA_DIR+'na_enet.joblib')"
   ]
  },
  {
   "cell_type": "code",
   "execution_count": 24,
   "id": "90c01096",
   "metadata": {},
   "outputs": [
    {
     "name": "stdout",
     "output_type": "stream",
     "text": [
      "Emergenet Risk Score: 0.03050091990424366\n",
      "Variance: 1.564767759048388e-05\n",
      "CPU times: user 31.2 s, sys: 11.9 ms, total: 31.2 s\n",
      "Wall time: 31.2 s\n"
     ]
    }
   ],
   "source": [
    "%%time\n",
    "# compute risk score\n",
    "risk_score_na, variance_na = enet_na.emergence_risk(seq_df=df_na, enet=enet_na1, sample_size=1000)\n",
    "\n",
    "print('Emergenet Risk Score:', risk_score_na)\n",
    "print('Variance:', variance_na)"
   ]
  },
  {
   "cell_type": "code",
   "execution_count": 26,
   "id": "cfa5545e",
   "metadata": {},
   "outputs": [
    {
     "name": "stdout",
     "output_type": "stream",
     "text": [
      "Emergenet Risk Score: 0.030511130875083347\n",
      "Bounds: [0.03021676107351499, 0.030865105872841463]\n",
      "Variance: 1.5402245650034415e-05\n",
      "CPU times: user 5min 25s, sys: 376 ms, total: 5min 25s\n",
      "Wall time: 5min 25s\n"
     ]
    }
   ],
   "source": [
    "%%time\n",
    "# compute risk score with qsampling to get upper and lower bounds, see qsampling module\n",
    "# https://zeroknowledgediscovery.github.io/quasinet/build/html/quasinet.html#quasinet.qsampling.qsample\n",
    "avg_na, min_na, max_na, var_na = enet_na.emergence_risk_qsampling(seq_df=df_na, enet=enet_na1, sample_size=1000, qsamples=10, steps=10)\n",
    "\n",
    "print('Emergenet Risk Score:', avg_na)\n",
    "print('Bounds:', [min_na, max_na])\n",
    "print('Variance:', var_na)"
   ]
  },
  {
   "cell_type": "markdown",
   "id": "b6f0c953",
   "metadata": {},
   "source": [
    "## Average Emergence Risk Score\n",
    "- Emergence risk scores should match values in SI-Table 16 (with some variation due to sampling differences in training Enet)"
   ]
  },
  {
   "cell_type": "code",
   "execution_count": 28,
   "id": "f9d5f381",
   "metadata": {},
   "outputs": [
    {
     "name": "stdout",
     "output_type": "stream",
     "text": [
      "Geometric Mean of HA and NA risk scores: 0.024893\n",
      "Emergenet prediction of IRAT emergence estimate: 6.3\n",
      "IRAT emergence estimate: 6.6\n",
      "Emergenet prediction of IRAT impact estimate: 6.4\n",
      "IRAT impact estimate: 5.8\n"
     ]
    }
   ],
   "source": [
    "# compute geometric mean emergence risk\n",
    "import numpy as np\n",
    "geom_mean_risk_score = np.sqrt(risk_score_ha * risk_score_na)\n",
    "irat_emergence_prediction, irat_impact_prediction = irat_risk(risk_score_ha, risk_score_na)\n",
    "\n",
    "print('Geometric Mean of HA and NA risk scores:', round(geom_mean_risk_score, 6))\n",
    "print('Emergenet prediction of IRAT emergence estimate:', round(irat_emergence_prediction, 1))\n",
    "print('IRAT emergence estimate: 6.6')\n",
    "print('Emergenet prediction of IRAT impact estimate:', round(irat_impact_prediction, 1))\n",
    "print('IRAT impact estimate: 5.8')"
   ]
  },
  {
   "cell_type": "code",
   "execution_count": null,
   "id": "267def52",
   "metadata": {},
   "outputs": [],
   "source": []
  }
 ],
 "metadata": {
  "kernelspec": {
   "display_name": "Python 3 (ipykernel)",
   "language": "python",
   "name": "python3"
  },
  "language_info": {
   "codemirror_mode": {
    "name": "ipython",
    "version": 3
   },
   "file_extension": ".py",
   "mimetype": "text/x-python",
   "name": "python",
   "nbconvert_exporter": "python",
   "pygments_lexer": "ipython3",
   "version": "3.10.8"
  }
 },
 "nbformat": 4,
 "nbformat_minor": 5
}
