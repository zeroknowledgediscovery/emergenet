{
 "cells": [
  {
   "cell_type": "markdown",
   "id": "8161f32b",
   "metadata": {},
   "source": [
    "# Evaluating Sequence Risk with `emergenet.emergenet`\n",
    "\n",
    "## Installation"
   ]
  },
  {
   "cell_type": "code",
   "execution_count": 14,
   "id": "bc198808",
   "metadata": {},
   "outputs": [],
   "source": [
    "%%capture\n",
    "!pip install emergenet --upgrade\n",
    "\n",
    "import pandas as pd\n",
    "from emergenet.emergenet import Enet, predict_irat_emergence"
   ]
  },
  {
   "cell_type": "markdown",
   "id": "8751daf6",
   "metadata": {},
   "source": [
    "## Evaluation of Risk at a Particular Time\n",
    "\n",
    "We demonstrate the usage of `emergenet.emergenet` on an IRAT-analyzed sequence, A/mink/Spain/3691-8_22VIR10586-10/2022. IRAT analyzed the risk in April 2023, so we will do the same."
   ]
  },
  {
   "cell_type": "code",
   "execution_count": 15,
   "id": "52b1382a",
   "metadata": {},
   "outputs": [
    {
     "name": "stdout",
     "output_type": "stream",
     "text": [
      "Influenza Virus                              A/mink/Spain/3691-8_22VIR10586-10/2022\n",
      "Virus Type                                                                     H5N1\n",
      "Date of Risk Assessment                                                  2023-04-01\n",
      "Risk Score Category                                                        Moderate\n",
      "Emergence Score                                                                 5.1\n",
      "Impact Score                                                                    6.2\n",
      "Mean Low Acceptable Emergence                                                  3.96\n",
      "Mean High Acceptable Emergence                                                 6.27\n",
      "Mean Low Acceptable Impact                                                     4.95\n",
      "Mean High Acceptable Impact                                                    7.43\n",
      "HA Sequence                       MENIVLLLAIVSLVKSDQICIGYHANNSTEQVDTIMEKNVTVTHAQ...\n",
      "NA Sequence                       MNPNQRIITTGSICMVIGIVSLMLQIGNIISIWVSHSIQTGNQYQP...\n",
      "HA Length                                                                       567\n",
      "NA Length                                                                       469\n",
      "Name: 0, dtype: object\n"
     ]
    }
   ],
   "source": [
    "# Load IRAT sequence - A/mink/Spain/3691-8_22VIR10586-10/2022\n",
    "irat_df = pd.read_csv('data/emergenet/irat.csv')\n",
    "row = irat_df.iloc[0]\n",
    "print(row)"
   ]
  },
  {
   "cell_type": "markdown",
   "id": "c275567a",
   "metadata": {},
   "source": [
    "The `Enet` model requires the analysis date in format YYYY-MM-DD, the HA sequence, and the NA sequence. It will train multiple Emergenet models, so it will take several minutes.\n",
    "\n",
    "**As of 2024-04-01, Emergenet only supports sequences from 2010-01-01 to 2024-01-01.**\n",
    "\n",
    "Optionally, you can provide a `save_data` directory, which saves trained Emergenet models, the data used to train those models, and the risk results."
   ]
  },
  {
   "cell_type": "code",
   "execution_count": null,
   "id": "1cb4f90a",
   "metadata": {},
   "outputs": [],
   "source": [
    "analysis_date = row['Date of Risk Assessment']\n",
    "ha_seq = row['HA Sequence']\n",
    "na_seq = row['NA Sequence']\n",
    "SAVE_DIR = 'data/emergenet/example_results/'\n",
    "\n",
    "# Initialize the Enet\n",
    "enet = Enet(analysis_date, ha_seq, na_seq, random_state=42)\n",
    "\n",
    "# Estimate the Enet risk scores\n",
    "ha_risk, na_risk = enet.risk(sample_size=10000)\n",
    "\n",
    "# Map the Enet risk scores to the IRAT risk scale\n",
    "irat, irat_low, irat_high = predict_irat_emergence(ha_risk, na_risk)"
   ]
  },
  {
   "cell_type": "markdown",
   "id": "bfaa79f6",
   "metadata": {},
   "source": [
    "## Evaluation of Risk at Present Time\n",
    "\n",
    "**As of 2024-04-01, \"present_time\" = 2024-01-01.**\n",
    "\n",
    "What if we want to evaluate the risk of A/mink/Spain/3691-8_22VIR10586-10/2022 at present time? Instead of providing an analysis date, set it to `'PRESENT'`. This uses pre-trained Enet models trained as of **\"present_time\"**, so will only take a couple minutes."
   ]
  },
  {
   "cell_type": "code",
   "execution_count": null,
   "id": "9ed9cba0",
   "metadata": {},
   "outputs": [],
   "source": [
    "# Initialize the Enet\n",
    "enet_present = Enet('PRESENT', ha_seq, na_seq, random_state=42)\n",
    "\n",
    "# Estimate the Enet risk scores at present\n",
    "ha_risk_present, na_risk_present = enet_present.risk(sample_size=10000)\n",
    "\n",
    "# Map the Enet risk scores to the IRAT risk scale\n",
    "irat_present, irat_low_present, irat_high_present = predict_irat_emergence(ha_risk_present, enet_present)"
   ]
  }
 ],
 "metadata": {
  "kernelspec": {
   "display_name": "Python 3",
   "language": "python",
   "name": "python3"
  },
  "language_info": {
   "codemirror_mode": {
    "name": "ipython",
    "version": 3
   },
   "file_extension": ".py",
   "mimetype": "text/x-python",
   "name": "python",
   "nbconvert_exporter": "python",
   "pygments_lexer": "ipython3",
   "version": "3.8.8"
  }
 },
 "nbformat": 4,
 "nbformat_minor": 5
}
