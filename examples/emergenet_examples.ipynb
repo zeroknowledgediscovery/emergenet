{
 "cells": [
  {
   "cell_type": "markdown",
   "id": "fbbbd5e5",
   "metadata": {},
   "source": [
    "# Example Using Emergenet\n",
    "- Compares risk assesment from IRAT and risk assessment using Emergenet\n",
    "- Analyzes HA and NA subsegments of A/Ohio/13/2017 (H3N2), which was evaluated by IRAT on July 2019\n",
    "- Data sources:\n",
    "    - IRAT (CDC): https://www.cdc.gov/flu/pandemic-resources/monitoring/irat-virus-summaries.htm#H1N2variant\n",
    "    - GISAID: https://platform.epicov.org/epi3/cfrontend#586f5f\n",
    "- Collected Human HA and NA strains within one year prior to IRAT analysis (July 1, 2018 - June 30, 2019)"
   ]
  },
  {
   "cell_type": "code",
   "execution_count": 1,
   "id": "449063ea",
   "metadata": {},
   "outputs": [],
   "source": [
    "%%capture\n",
    "!pip install emergenet --upgrade"
   ]
  },
  {
   "cell_type": "code",
   "execution_count": 2,
   "id": "1ed06d86",
   "metadata": {},
   "outputs": [],
   "source": [
    "import matplotlib.pyplot as plt\n",
    "%matplotlib inline\n",
    "\n",
    "from emergenet.emergenet import Enet, save_model, load_model\n",
    "\n",
    "DATA_DIR = 'example_data/'"
   ]
  },
  {
   "cell_type": "markdown",
   "id": "4fc79324",
   "metadata": {},
   "source": [
    "## HA Emergence Risk Score"
   ]
  },
  {
   "cell_type": "code",
   "execution_count": 3,
   "id": "67a401c3",
   "metadata": {},
   "outputs": [
    {
     "name": "stdout",
     "output_type": "stream",
     "text": [
      "Initializing Enet with fasta file\n",
      "---------------------------------\n",
      "\n",
      "A/Ohio/13/2017|A_/_H3N2|$SEGMENT_NAME|2017-07-14|EPI1056653|\n",
      "MKTIIALSHILCLVFAQKLPGNDNNMATLCLGHHAVPNGTIVKTITNDQIEVTNATELVQSFSTGEICNSPYQILDGENCTLIDALLGDPQCDGFQNNKWDLFVERSKAHSNCYPYDVPDYASLRSLVASSGTLEFNNESFNWTGVTQDGASSSCKRRSSNSFFSRLNWLTHLNFKYPALEVTMPNNEQFDKLYIWGVHHPATDKDQISLYAQAAGRIIVSTKRNQQAVIPNIGSRPRVRDIPSRISIYWTIVRPGDILLINSTGNLIAPRGYFKIRSGKSSIMRSDAPIGKCNSACITPNGSIPNDKPFQNVNRITYGACPRYVKQNTLKLATGMRNIPEKQTRGIFGAIAGFIENGWEGMVDGWYGFRHQNSEGRGQAADLKSTQAAIDQINGKLNRLIGKTNEKFHQIEKEFSDVEGRIQDLEKYVEDTKIDLWSYNAELLVALENQHTIDLTDSEMNKLFEKTKKQLRENAEDMGNGCFKIYHKCDNACIGSIRNGTYDHDVYRNEALNNRFQIKGVELKSEYKDWILWISFAISCFLLCVALLGFIMWACQKGNIKCNICI\n",
      "Length of target sequence: 566\n"
     ]
    }
   ],
   "source": [
    "# initialize the Enet with a sequence not currently circulating\n",
    "enet_ha = Enet(seq=DATA_DIR+'ha_target_sequence.fasta', seq_trunc_length=550, random_state=42)\n",
    "\n",
    "print('Initializing Enet with fasta file\\n---------------------------------\\n')\n",
    "print(enet_ha.seq_metadata)\n",
    "print(enet_ha.seq)\n",
    "print('Length of target sequence:', len(enet_ha.seq))"
   ]
  },
  {
   "cell_type": "code",
   "execution_count": 4,
   "id": "c168442d",
   "metadata": {},
   "outputs": [
    {
     "name": "stdout",
     "output_type": "stream",
     "text": [
      "Initializing Enet with nucleotide sequence\n",
      "------------------------------------------\n",
      "\n",
      "A/Ohio/13/2017|A_/_H3N2|$SEGMENT_NAME|2017-07-14|EPI1056653|\n",
      "MKTIIALSHILCLVFAQKLPGNDNNMATLCLGHHAVPNGTIVKTITNDQIEVTNATELVQSFSTGEICNSPYQILDGENCTLIDALLGDPQCDGFQNNKWDLFVERSKAHSNCYPYDVPDYASLRSLVASSGTLEFNNESFNWTGVTQDGASSSCKRRSSNSFFSRLNWLTHLNFKYPALEVTMPNNEQFDKLYIWGVHHPATDKDQISLYAQAAGRIIVSTKRNQQAVIPNIGSRPRVRDIPSRISIYWTIVRPGDILLINSTGNLIAPRGYFKIRSGKSSIMRSDAPIGKCNSACITPNGSIPNDKPFQNVNRITYGACPRYVKQNTLKLATGMRNIPEKQTRGIFGAIAGFIENGWEGMVDGWYGFRHQNSEGRGQAADLKSTQAAIDQINGKLNRLIGKTNEKFHQIEKEFSDVEGRIQDLEKYVEDTKIDLWSYNAELLVALENQHTIDLTDSEMNKLFEKTKKQLRENAEDMGNGCFKIYHKCDNACIGSIRNGTYDHDVYRNEALNNRFQIKGVELKSEYKDWILWISFAISCFLLCVALLGFIMWACQKGNIKCNICI\n",
      "Length of target sequence: 566\n"
     ]
    }
   ],
   "source": [
    "# can also initialize with sequence rather than fasta file\n",
    "enet_ha_1 = Enet(seq='MKTIIALSHILCLVFAQKLPGNDNNMATLCLGHHAVPNGTIVKTITNDQIEVTNATELVQSFSTGEICNSPYQILDGENCTLIDALLGDPQCDGFQNNKWDLFVERSKAHSNCYPYDVPDYASLRSLVASSGTLEFNNESFNWTGVTQDGASSSCKRRSSNSFFSRLNWLTHLNFKYPALEVTMPNNEQFDKLYIWGVHHPATDKDQISLYAQAAGRIIVSTKRNQQAVIPNIGSRPRVRDIPSRISIYWTIVRPGDILLINSTGNLIAPRGYFKIRSGKSSIMRSDAPIGKCNSACITPNGSIPNDKPFQNVNRITYGACPRYVKQNTLKLATGMRNIPEKQTRGIFGAIAGFIENGWEGMVDGWYGFRHQNSEGRGQAADLKSTQAAIDQINGKLNRLIGKTNEKFHQIEKEFSDVEGRIQDLEKYVEDTKIDLWSYNAELLVALENQHTIDLTDSEMNKLFEKTKKQLRENAEDMGNGCFKIYHKCDNACIGSIRNGTYDHDVYRNEALNNRFQIKGVELKSEYKDWILWISFAISCFLLCVALLGFIMWACQKGNIKCNICI',\n",
    "               seq_trunc_length=550, seq_metadata='A/Ohio/13/2017|A_/_H3N2|$SEGMENT_NAME|2017-07-14|EPI1056653|', random_state=42)\n",
    "\n",
    "print('Initializing Enet with nucleotide sequence\\n------------------------------------------\\n')\n",
    "print(enet_ha_1.seq_metadata)\n",
    "print(enet_ha_1.seq)\n",
    "print('Length of target sequence:', len(enet_ha_1.seq))"
   ]
  },
  {
   "cell_type": "code",
   "execution_count": 5,
   "id": "9234ff53",
   "metadata": {},
   "outputs": [
    {
     "name": "stdout",
     "output_type": "stream",
     "text": [
      "Number of sequences: 12389\n"
     ]
    },
    {
     "data": {
      "text/html": [
       "<div>\n",
       "<style scoped>\n",
       "    .dataframe tbody tr th:only-of-type {\n",
       "        vertical-align: middle;\n",
       "    }\n",
       "\n",
       "    .dataframe tbody tr th {\n",
       "        vertical-align: top;\n",
       "    }\n",
       "\n",
       "    .dataframe thead th {\n",
       "        text-align: right;\n",
       "    }\n",
       "</style>\n",
       "<table border=\"1\" class=\"dataframe\">\n",
       "  <thead>\n",
       "    <tr style=\"text-align: right;\">\n",
       "      <th></th>\n",
       "      <th>id</th>\n",
       "      <th>sequence</th>\n",
       "    </tr>\n",
       "  </thead>\n",
       "  <tbody>\n",
       "    <tr>\n",
       "      <th>0</th>\n",
       "      <td>A/Taiwan/79440/2018|A_/_H3N2|$SEGMENT_NAME|201...</td>\n",
       "      <td>[M, K, T, I, I, A, L, S, Y, I, L, C, L, V, F, ...</td>\n",
       "    </tr>\n",
       "    <tr>\n",
       "      <th>1</th>\n",
       "      <td>A/Taiwan/79440/2018|A_/_H3N2|$SEGMENT_NAME|201...</td>\n",
       "      <td>[M, K, T, I, I, A, L, S, Y, I, L, C, L, V, F, ...</td>\n",
       "    </tr>\n",
       "    <tr>\n",
       "      <th>2</th>\n",
       "      <td>A/Taiwan/80749/2018|A_/_H3N2|$SEGMENT_NAME|201...</td>\n",
       "      <td>[M, K, T, I, I, A, L, S, Y, I, L, C, L, V, F, ...</td>\n",
       "    </tr>\n",
       "    <tr>\n",
       "      <th>3</th>\n",
       "      <td>A/Taiwan/79429/2018|A_/_H3N2|$SEGMENT_NAME|201...</td>\n",
       "      <td>[M, K, T, I, I, A, L, S, Y, I, L, C, L, V, F, ...</td>\n",
       "    </tr>\n",
       "    <tr>\n",
       "      <th>4</th>\n",
       "      <td>A/Myanmar/18M219/2018|A_/_H3N2|$SEGMENT_NAME|2...</td>\n",
       "      <td>[M, K, T, I, I, A, L, S, Y, I, L, C, L, V, F, ...</td>\n",
       "    </tr>\n",
       "  </tbody>\n",
       "</table>\n",
       "</div>"
      ],
      "text/plain": [
       "                                                  id  \\\n",
       "0  A/Taiwan/79440/2018|A_/_H3N2|$SEGMENT_NAME|201...   \n",
       "1  A/Taiwan/79440/2018|A_/_H3N2|$SEGMENT_NAME|201...   \n",
       "2  A/Taiwan/80749/2018|A_/_H3N2|$SEGMENT_NAME|201...   \n",
       "3  A/Taiwan/79429/2018|A_/_H3N2|$SEGMENT_NAME|201...   \n",
       "4  A/Myanmar/18M219/2018|A_/_H3N2|$SEGMENT_NAME|2...   \n",
       "\n",
       "                                            sequence  \n",
       "0  [M, K, T, I, I, A, L, S, Y, I, L, C, L, V, F, ...  \n",
       "1  [M, K, T, I, I, A, L, S, Y, I, L, C, L, V, F, ...  \n",
       "2  [M, K, T, I, I, A, L, S, Y, I, L, C, L, V, F, ...  \n",
       "3  [M, K, T, I, I, A, L, S, Y, I, L, C, L, V, F, ...  \n",
       "4  [M, K, T, I, I, A, L, S, Y, I, L, C, L, V, F, ...  "
      ]
     },
     "execution_count": 5,
     "metadata": {},
     "output_type": "execute_result"
    }
   ],
   "source": [
    "# load fasta data\n",
    "df_ha = enet_ha.load_data(filepath=DATA_DIR+'ha_sequences.fasta', outfile=DATA_DIR+'ha_sequences.csv')\n",
    "\n",
    "print('Number of sequences:', len(df_ha))\n",
    "df_ha.head()"
   ]
  },
  {
   "cell_type": "code",
   "execution_count": 5,
   "id": "3848f9c8",
   "metadata": {},
   "outputs": [
    {
     "name": "stdout",
     "output_type": "stream",
     "text": [
      "CPU times: user 3min 21s, sys: 504 ms, total: 3min 22s\n",
      "Wall time: 3min 23s\n"
     ]
    }
   ],
   "source": [
    "%%time\n",
    "# train qnet (automatically includes target sequence with df sequences)\n",
    "qnet_ha = enet_ha.train(seq_df=df_ha, sample_size=1000, n_jobs=1)"
   ]
  },
  {
   "cell_type": "code",
   "execution_count": 6,
   "id": "1ff38cc1",
   "metadata": {},
   "outputs": [],
   "source": [
    "# save qnet\n",
    "save_model(qnet=qnet_ha, outfile=DATA_DIR+'ha_qnet.joblib')"
   ]
  },
  {
   "cell_type": "code",
   "execution_count": 6,
   "id": "2edc3ee8",
   "metadata": {},
   "outputs": [],
   "source": [
    "# load qnet\n",
    "qnet_ha = load_model(filepath=DATA_DIR+'ha_qnet.joblib')"
   ]
  },
  {
   "cell_type": "code",
   "execution_count": 7,
   "id": "8cc97367",
   "metadata": {
    "scrolled": true
   },
   "outputs": [
    {
     "name": "stdout",
     "output_type": "stream",
     "text": [
      "Emergence Risk Score: 0.02119112226233963\n",
      "Variance: 1.824587801130338e-05\n",
      "CPU times: user 36.9 s, sys: 59.8 ms, total: 36.9 s\n",
      "Wall time: 37.3 s\n"
     ]
    }
   ],
   "source": [
    "%%time\n",
    "# compute emergence risk score\n",
    "emergence_risk_score_ha, variance_ha = enet_ha.emergence_risk(seq_df=df_ha, qnet=qnet_ha, sample_size=1000)\n",
    "\n",
    "print('Emergence Risk Score:', emergence_risk_score_ha)\n",
    "print('Variance:', variance_ha)"
   ]
  },
  {
   "cell_type": "code",
   "execution_count": 21,
   "id": "9278aab5",
   "metadata": {},
   "outputs": [
    {
     "name": "stdout",
     "output_type": "stream",
     "text": [
      "Emergence Risk Score: 0.021208561494572797\n",
      "Bounds: [0.02088684025877966, 0.021631276096607685]\n",
      "Variance: 1.7805422211186396e-05\n",
      "CPU times: user 7min 15s, sys: 202 ms, total: 7min 15s\n",
      "Wall time: 7min 16s\n"
     ]
    }
   ],
   "source": [
    "%%time\n",
    "# compute emergence risk score with qsampling to get upper and lower bounds, see qsampling module\n",
    "# https://zeroknowledgediscovery.github.io/quasinet/build/html/quasinet.html#quasinet.qsampling.qsample\n",
    "avg_ha, min_ha, max_ha, var_ha = enet_ha.emergence_risk_qsampling(seq_df=df_ha, qnet=qnet_ha, sample_size=1000, qsamples=10, steps=10)\n",
    "\n",
    "print('Emergence Risk Score:', avg_ha)\n",
    "print('Bounds:', [min_ha, max_ha])\n",
    "print('Variance:', var_ha)"
   ]
  },
  {
   "cell_type": "code",
   "execution_count": 9,
   "id": "a1cc32c6",
   "metadata": {
    "scrolled": true
   },
   "outputs": [
    {
     "data": {
      "image/png": "[encoded data removed]",
      "text/plain": [
       "<Figure size 432x288 with 1 Axes>"
      ]
     },
     "metadata": {
      "needs_background": "light"
     },
     "output_type": "display_data"
    }
   ],
   "source": [
    "# visualize membership degree distribution\n",
    "# https://zeroknowledgediscovery.github.io/quasinet/build/html/quasinet.html#quasinet.qnet.membership_degree\n",
    "mem_ha = enet_ha.sequence_membership(seq_df=df_ha, qnet=qnet_ha, sample_size=1000)\n",
    "plt.hist(mem_ha[mem_ha>-50],bins=10);"
   ]
  },
  {
   "cell_type": "markdown",
   "id": "8012bc62",
   "metadata": {},
   "source": [
    "## NA Emergence Risk Score"
   ]
  },
  {
   "cell_type": "code",
   "execution_count": 10,
   "id": "0ffd676f",
   "metadata": {},
   "outputs": [
    {
     "name": "stdout",
     "output_type": "stream",
     "text": [
      "Initializing Enet with fasta file\n",
      "---------------------------------\n",
      "\n",
      "A/Ohio/13/2017|A_/_H3N2|$SEGMENT_NAME|2017-07-14|EPI1056652|\n",
      "MNPNQKIITIGSVSLIIATICFLMQIAILVTTITLHFKQHNCDSSPNNHVMFCEPTIIERNKTEIVYLTNTTVEKEICPKPTEYRNWSKPQCNITGFAPFSKDNSIRLSAGGDIWVTREPYVSCDQDKCYQFALGQGTTLNNGHSNDTVHDRTPYRTLLMNELGVPFHLGTRQVCIAWSSSSCHDGKAWLHVCITGDDKNATASLIYNGRLVDSIGSWSKNILRTQESECVCINGTCTVVMTDGSASGKADTKILFIEEGKIIHISTLSGSAQHVEECSCYPRYSGVRCVCRDNWKGSNRPIVDINVKDYSTVSSYICSGLVGDTPRKNDSFSSSNCLDPNNEEGGHGVKGWAFDDGNDLWMGRTISEKSRLGYETFKVVKGWSEPNSKLQSNRQVIVDRGNRSGYSGIFSIEGKNCINRCFYVELIRGRKEETKVLWTSNSIVVFCGTSGTYGTGSWPDGADINLMPI\n",
      "Length of target sequence: 469\n"
     ]
    }
   ],
   "source": [
    "# initialize the Enet with a sequence not currently circulating\n",
    "enet_na = Enet(seq=DATA_DIR+'na_target_sequence.fasta', seq_trunc_length=449, random_state=42)\n",
    "\n",
    "print('Initializing Enet with fasta file\\n---------------------------------\\n')\n",
    "print(enet_na.seq_metadata)\n",
    "print(enet_na.seq)\n",
    "print('Length of target sequence:', len(enet_na.seq))"
   ]
  },
  {
   "cell_type": "code",
   "execution_count": 11,
   "id": "1a050858",
   "metadata": {},
   "outputs": [
    {
     "name": "stdout",
     "output_type": "stream",
     "text": [
      "Initializing Enet with nucleotide sequence\n",
      "------------------------------------------\n",
      "\n",
      "A/Ohio/13/2017|A_/_H3N2|$SEGMENT_NAME|2017-07-14|EPI1056653|\n",
      "MNPNQKIITIGSVSLIIATICFLMQIAILVTTITLHFKQHNCDSSPNNHVMFCEPTIIERNKTEIVYLTNTTVEKEICPKPTEYRNWSKPQCNITGFAPFSKDNSIRLSAGGDIWVTREPYVSCDQDKCYQFALGQGTTLNNGHSNDTVHDRTPYRTLLMNELGVPFHLGTRQVCIAWSSSSCHDGKAWLHVCITGDDKNATASLIYNGRLVDSIGSWSKNILRTQESECVCINGTCTVVMTDGSASGKADTKILFIEEGKIIHISTLSGSAQHVEECSCYPRYSGVRCVCRDNWKGSNRPIVDINVKDYSTVSSYICSGLVGDTPRKNDSFSSSNCLDPNNEEGGHGVKGWAFDDGNDLWMGRTISEKSRLGYETFKVVKGWSEPNSKLQSNRQVIVDRGNRSGYSGIFSIEGKNCINRCFYVELIRGRKEETKVLWTSNSIVVFCGTSGTYGTGSWPDGADINLMPI\n",
      "Length of target sequence: 469\n"
     ]
    }
   ],
   "source": [
    "# can also initialize with sequence rather than fasta file\n",
    "enet_na_1 = Enet(seq='MNPNQKIITIGSVSLIIATICFLMQIAILVTTITLHFKQHNCDSSPNNHVMFCEPTIIERNKTEIVYLTNTTVEKEICPKPTEYRNWSKPQCNITGFAPFSKDNSIRLSAGGDIWVTREPYVSCDQDKCYQFALGQGTTLNNGHSNDTVHDRTPYRTLLMNELGVPFHLGTRQVCIAWSSSSCHDGKAWLHVCITGDDKNATASLIYNGRLVDSIGSWSKNILRTQESECVCINGTCTVVMTDGSASGKADTKILFIEEGKIIHISTLSGSAQHVEECSCYPRYSGVRCVCRDNWKGSNRPIVDINVKDYSTVSSYICSGLVGDTPRKNDSFSSSNCLDPNNEEGGHGVKGWAFDDGNDLWMGRTISEKSRLGYETFKVVKGWSEPNSKLQSNRQVIVDRGNRSGYSGIFSIEGKNCINRCFYVELIRGRKEETKVLWTSNSIVVFCGTSGTYGTGSWPDGADINLMPI',\n",
    "                 seq_trunc_length=449, seq_metadata='A/Ohio/13/2017|A_/_H3N2|$SEGMENT_NAME|2017-07-14|EPI1056653|', random_state=42)\n",
    "\n",
    "print('Initializing Enet with nucleotide sequence\\n------------------------------------------\\n')\n",
    "print(enet_na_1.seq_metadata)\n",
    "print(enet_na_1.seq)\n",
    "print('Length of target sequence:', len(enet_na_1.seq))"
   ]
  },
  {
   "cell_type": "code",
   "execution_count": 12,
   "id": "0d9456b6",
   "metadata": {},
   "outputs": [
    {
     "name": "stdout",
     "output_type": "stream",
     "text": [
      "Number of sequences: 12388\n"
     ]
    },
    {
     "data": {
      "text/html": [
       "<div>\n",
       "<style scoped>\n",
       "    .dataframe tbody tr th:only-of-type {\n",
       "        vertical-align: middle;\n",
       "    }\n",
       "\n",
       "    .dataframe tbody tr th {\n",
       "        vertical-align: top;\n",
       "    }\n",
       "\n",
       "    .dataframe thead th {\n",
       "        text-align: right;\n",
       "    }\n",
       "</style>\n",
       "<table border=\"1\" class=\"dataframe\">\n",
       "  <thead>\n",
       "    <tr style=\"text-align: right;\">\n",
       "      <th></th>\n",
       "      <th>id</th>\n",
       "      <th>sequence</th>\n",
       "    </tr>\n",
       "  </thead>\n",
       "  <tbody>\n",
       "    <tr>\n",
       "      <th>0</th>\n",
       "      <td>A/Taiwan/79440/2018|A_/_H3N2|$SEGMENT_NAME|201...</td>\n",
       "      <td>[M, N, P, N, Q, K, I, I, T, I, G, S, V, S, L, ...</td>\n",
       "    </tr>\n",
       "    <tr>\n",
       "      <th>1</th>\n",
       "      <td>A/Taiwan/79440/2018|A_/_H3N2|$SEGMENT_NAME|201...</td>\n",
       "      <td>[M, N, P, N, Q, K, I, I, T, I, G, S, V, S, L, ...</td>\n",
       "    </tr>\n",
       "    <tr>\n",
       "      <th>2</th>\n",
       "      <td>A/Taiwan/80749/2018|A_/_H3N2|$SEGMENT_NAME|201...</td>\n",
       "      <td>[M, N, P, N, Q, K, I, I, T, I, G, S, V, S, L, ...</td>\n",
       "    </tr>\n",
       "    <tr>\n",
       "      <th>3</th>\n",
       "      <td>A/Taiwan/79429/2018|A_/_H3N2|$SEGMENT_NAME|201...</td>\n",
       "      <td>[M, N, P, N, Q, K, I, I, T, I, G, S, V, S, L, ...</td>\n",
       "    </tr>\n",
       "    <tr>\n",
       "      <th>4</th>\n",
       "      <td>A/Myanmar/18M219/2018|A_/_H3N2|$SEGMENT_NAME|2...</td>\n",
       "      <td>[M, N, P, N, Q, K, I, I, T, I, G, S, V, S, L, ...</td>\n",
       "    </tr>\n",
       "  </tbody>\n",
       "</table>\n",
       "</div>"
      ],
      "text/plain": [
       "                                                  id  \\\n",
       "0  A/Taiwan/79440/2018|A_/_H3N2|$SEGMENT_NAME|201...   \n",
       "1  A/Taiwan/79440/2018|A_/_H3N2|$SEGMENT_NAME|201...   \n",
       "2  A/Taiwan/80749/2018|A_/_H3N2|$SEGMENT_NAME|201...   \n",
       "3  A/Taiwan/79429/2018|A_/_H3N2|$SEGMENT_NAME|201...   \n",
       "4  A/Myanmar/18M219/2018|A_/_H3N2|$SEGMENT_NAME|2...   \n",
       "\n",
       "                                            sequence  \n",
       "0  [M, N, P, N, Q, K, I, I, T, I, G, S, V, S, L, ...  \n",
       "1  [M, N, P, N, Q, K, I, I, T, I, G, S, V, S, L, ...  \n",
       "2  [M, N, P, N, Q, K, I, I, T, I, G, S, V, S, L, ...  \n",
       "3  [M, N, P, N, Q, K, I, I, T, I, G, S, V, S, L, ...  \n",
       "4  [M, N, P, N, Q, K, I, I, T, I, G, S, V, S, L, ...  "
      ]
     },
     "execution_count": 12,
     "metadata": {},
     "output_type": "execute_result"
    }
   ],
   "source": [
    "# load fasta data\n",
    "df_na = enet_na.load_data(filepath=DATA_DIR+'na_sequences.fasta', outfile=DATA_DIR+'na_sequences.csv')\n",
    "\n",
    "print('Number of sequences:', len(df_na))\n",
    "df_na.head()"
   ]
  },
  {
   "cell_type": "code",
   "execution_count": 11,
   "id": "4b423757",
   "metadata": {},
   "outputs": [
    {
     "name": "stdout",
     "output_type": "stream",
     "text": [
      "CPU times: user 2min, sys: 247 ms, total: 2min 1s\n",
      "Wall time: 2min 1s\n"
     ]
    }
   ],
   "source": [
    "%%time\n",
    "# train qnet (automatically includes target sequence with df sequences)\n",
    "qnet_na = enet_na.train(seq_df=df_na, sample_size=1000, n_jobs=1)"
   ]
  },
  {
   "cell_type": "code",
   "execution_count": 12,
   "id": "3abc18f7",
   "metadata": {},
   "outputs": [],
   "source": [
    "# save qnet\n",
    "save_model(qnet=qnet_na, outfile=DATA_DIR+'na_qnet.joblib')"
   ]
  },
  {
   "cell_type": "code",
   "execution_count": 13,
   "id": "90aa211f",
   "metadata": {},
   "outputs": [],
   "source": [
    "# load qnet\n",
    "qnet_na = load_model(filepath=DATA_DIR+'na_qnet.joblib')"
   ]
  },
  {
   "cell_type": "code",
   "execution_count": 14,
   "id": "86b00133",
   "metadata": {},
   "outputs": [
    {
     "name": "stdout",
     "output_type": "stream",
     "text": [
      "Emergence Risk Score: 0.03134153156313303\n",
      "Variance: 1.1981003862313043e-05\n",
      "CPU times: user 29.4 s, sys: 20.8 ms, total: 29.4 s\n",
      "Wall time: 29.4 s\n"
     ]
    }
   ],
   "source": [
    "%%time\n",
    "# compute emergence risk score\n",
    "emergence_risk_score_na, variance_na = enet_na.emergence_risk(seq_df=df_na, qnet=qnet_na, sample_size=1000)\n",
    "\n",
    "print('Emergence Risk Score:', emergence_risk_score_na)\n",
    "print('Variance:', variance_na)"
   ]
  },
  {
   "cell_type": "code",
   "execution_count": 22,
   "id": "aba52bd2",
   "metadata": {},
   "outputs": [
    {
     "name": "stdout",
     "output_type": "stream",
     "text": [
      "Emergence Risk Score: 0.03134277509057835\n",
      "Bounds: [0.031008088966072118, 0.031690064461674265]\n",
      "Variance: 1.1733016310633312e-05\n",
      "CPU times: user 5min 17s, sys: 88 ms, total: 5min 17s\n",
      "Wall time: 5min 19s\n"
     ]
    }
   ],
   "source": [
    "%%time\n",
    "# compute emergence risk score with qsampling to get upper and lower bounds, see qsampling module\n",
    "# https://zeroknowledgediscovery.github.io/quasinet/build/html/quasinet.html#quasinet.qsampling.qsample\n",
    "avg_na, min_na, max_na, var_na = enet_na.emergence_risk_qsampling(seq_df=df_na, qnet=qnet_na, sample_size=1000, qsamples=10, steps=10)\n",
    "\n",
    "print('Emergence Risk Score:', avg_na)\n",
    "print('Bounds:', [min_na, max_na])\n",
    "print('Variance:', var_na)"
   ]
  },
  {
   "cell_type": "code",
   "execution_count": 20,
   "id": "6a5b2391",
   "metadata": {},
   "outputs": [
    {
     "data": {
      "image/png": "[encoded data removed]",
      "text/plain": [
       "<Figure size 432x288 with 1 Axes>"
      ]
     },
     "metadata": {
      "needs_background": "light"
     },
     "output_type": "display_data"
    }
   ],
   "source": [
    "# visualize membership degree distribution\n",
    "# https://zeroknowledgediscovery.github.io/quasinet/build/html/quasinet.html#quasinet.qnet.membership_degree\n",
    "mem_na = enet_na.sequence_membership(seq_df=df_na, qnet=qnet_na, sample_size=1000)\n",
    "plt.hist(mem_na[mem_na>-35],bins=10);"
   ]
  },
  {
   "cell_type": "markdown",
   "id": "b6f0c953",
   "metadata": {},
   "source": [
    "## Average Emergence Risk Score\n",
    "- Emergence risk scores should match values in SI-Table 16 (with some variation due to sampling differences in training Qnet)"
   ]
  },
  {
   "cell_type": "code",
   "execution_count": 17,
   "id": "fa159210",
   "metadata": {},
   "outputs": [
    {
     "name": "stdout",
     "output_type": "stream",
     "text": [
      "Emergenet potential emergence estimate: 0.026266\n",
      "IRAT potential emergence estimate: 6.6\n"
     ]
    }
   ],
   "source": [
    "# compute average emergence risk (recall we used 1000 samples in each)\n",
    "emergence_risk_score_avg = (emergence_risk_score_ha * 1000 + emergence_risk_score_na * 1000)/2000\n",
    "\n",
    "print('Emergenet potential emergence estimate:', round(emergence_risk_score_avg, 6))\n",
    "print('IRAT potential emergence estimate: 6.6')"
   ]
  },
  {
   "cell_type": "code",
   "execution_count": null,
   "id": "267def52",
   "metadata": {},
   "outputs": [],
   "source": []
  }
 ],
 "metadata": {
  "kernelspec": {
   "display_name": "Python 3",
   "language": "python",
   "name": "python3"
  },
  "language_info": {
   "codemirror_mode": {
    "name": "ipython",
    "version": 3
   },
   "file_extension": ".py",
   "mimetype": "text/x-python",
   "name": "python",
   "nbconvert_exporter": "python",
   "pygments_lexer": "ipython3",
   "version": "3.7.6"
  }
 },
 "nbformat": 4,
 "nbformat_minor": 5
}
