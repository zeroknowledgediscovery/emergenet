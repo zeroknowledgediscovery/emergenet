{
 "cells": [
  {
   "cell_type": "code",
   "execution_count": 1,
   "id": "c1c8c94e",
   "metadata": {},
   "outputs": [],
   "source": [
    "import sys\n",
    "sys.path.append(\"..\")\n",
    "import pandas as pd\n",
    "import numpy as np\n",
    "from Bio import SeqIO\n",
    "\n",
    "from emergenet.emergenet import Enet, save_model, load_model\n",
    "\n",
    "DATA_DIR = 'example_data/'"
   ]
  },
  {
   "cell_type": "code",
   "execution_count": 2,
   "id": "67a401c3",
   "metadata": {},
   "outputs": [
    {
     "name": "stdout",
     "output_type": "stream",
     "text": [
      "AAT73274.1 |hemagglutinin, partial [Influenza A virus (A/Viet Nam/1203/2004(H5N1))]|Viet Nam||hemagglutinin|\n",
      "MEKIVLLFAIVSLVKSDQICIGYHANNSTEQVDTIMEKNVTVTHAQDILEKKHNGKLCDLDGVKPLILRDCSVAGWLLGNPMCDEFINVPEWSYIVEKANPVNDLCYPGDFNDYEELKHLLSRINHFEKIQIIPKSSWSSHEASLGVSSACPYQGKSSFFRNVVWLIKKNSTYPTIKRSYNNTNQEDLLVLWGIHHPNDAAEQTKLYQNPTTYISVGTSTLNQRLVPRIATRSKVNGQSGRMEFFWTILKPNDAINFESNGNFIAPEYAYKIVKKGDSTIMKSELEYGNCNTKCQTPMGAINSSMPFHNIHPLTIGECPKYVKSNRLVLATGLRNSPQRERRRKKRGLFGAIAGFIEGGWQGMVDGWYGYHHSNEQGSGYAADKESTQKAIDGVTNKVNSIIDKMNTQFEAVGREFNNLERRIENLNKKMEDGFLDVWTYNAELLVLMENERTLDFHDSNVKNLYDKVRLQLRDNAKELGNGCFEFYHKCDNECMESVRNGTYDYPQYSEEARLKREEISGVKLESIGIYQILSIYSTVASSLALAIMVAGLSLWMCSNGSLQCR\n",
      "Length of target sequence: 565\n"
     ]
    }
   ],
   "source": [
    "# initialize the Enet with a sequence not currently circulating\n",
    "# for this example we chose A/Vietnam/1203/2004, an H5N1 sequence previously analyzed by IRAT\n",
    "enet = Enet(seq=DATA_DIR+'target_sequence.fasta', seq_trunc_length=550, random_state=42)\n",
    "print(enet.seq_metadata)\n",
    "print(enet.seq)\n",
    "print('Length of target sequence:', len(enet.seq))"
   ]
  },
  {
   "cell_type": "code",
   "execution_count": 3,
   "id": "9234ff53",
   "metadata": {},
   "outputs": [
    {
     "name": "stdout",
     "output_type": "stream",
     "text": [
      "Number of sequences: 257\n"
     ]
    },
    {
     "data": {
      "text/html": [
       "<div>\n",
       "<style scoped>\n",
       "    .dataframe tbody tr th:only-of-type {\n",
       "        vertical-align: middle;\n",
       "    }\n",
       "\n",
       "    .dataframe tbody tr th {\n",
       "        vertical-align: top;\n",
       "    }\n",
       "\n",
       "    .dataframe thead th {\n",
       "        text-align: right;\n",
       "    }\n",
       "</style>\n",
       "<table border=\"1\" class=\"dataframe\">\n",
       "  <thead>\n",
       "    <tr style=\"text-align: right;\">\n",
       "      <th></th>\n",
       "      <th>id</th>\n",
       "      <th>sequence</th>\n",
       "    </tr>\n",
       "  </thead>\n",
       "  <tbody>\n",
       "    <tr>\n",
       "      <th>0</th>\n",
       "      <td>A/Hunan/2/2009|A_/_H5N1|$SEGMENT_NAME|2009-01-...</td>\n",
       "      <td>[M, E, K, I, V, L, L, L, A, I, V, S, L, V, R, ...</td>\n",
       "    </tr>\n",
       "    <tr>\n",
       "      <th>1</th>\n",
       "      <td>A/Hunan/1/2009|A_/_H5N1|$SEGMENT_NAME|2009-01-...</td>\n",
       "      <td>[M, E, K, I, V, L, L, L, A, I, V, S, L, V, K, ...</td>\n",
       "    </tr>\n",
       "    <tr>\n",
       "      <th>2</th>\n",
       "      <td>A/Beijing/1/2009|A_/_H5N1|$SEGMENT_NAME|2008-1...</td>\n",
       "      <td>[M, E, K, I, V, L, L, L, A, I, V, S, L, V, K, ...</td>\n",
       "    </tr>\n",
       "    <tr>\n",
       "      <th>3</th>\n",
       "      <td>A/Jiangsu/2/2007|A_/_H5N1|$SEGMENT_NAME|2007-1...</td>\n",
       "      <td>[M, E, K, I, V, L, L, L, A, I, V, S, L, V, K, ...</td>\n",
       "    </tr>\n",
       "    <tr>\n",
       "      <th>4</th>\n",
       "      <td>A/Jiangsu/1/2007|A_/_H5N1|$SEGMENT_NAME|2007-1...</td>\n",
       "      <td>[M, E, K, I, V, L, L, L, A, I, V, S, L, V, K, ...</td>\n",
       "    </tr>\n",
       "  </tbody>\n",
       "</table>\n",
       "</div>"
      ],
      "text/plain": [
       "                                                  id  \\\n",
       "0  A/Hunan/2/2009|A_/_H5N1|$SEGMENT_NAME|2009-01-...   \n",
       "1  A/Hunan/1/2009|A_/_H5N1|$SEGMENT_NAME|2009-01-...   \n",
       "2  A/Beijing/1/2009|A_/_H5N1|$SEGMENT_NAME|2008-1...   \n",
       "3  A/Jiangsu/2/2007|A_/_H5N1|$SEGMENT_NAME|2007-1...   \n",
       "4  A/Jiangsu/1/2007|A_/_H5N1|$SEGMENT_NAME|2007-1...   \n",
       "\n",
       "                                            sequence  \n",
       "0  [M, E, K, I, V, L, L, L, A, I, V, S, L, V, R, ...  \n",
       "1  [M, E, K, I, V, L, L, L, A, I, V, S, L, V, K, ...  \n",
       "2  [M, E, K, I, V, L, L, L, A, I, V, S, L, V, K, ...  \n",
       "3  [M, E, K, I, V, L, L, L, A, I, V, S, L, V, K, ...  \n",
       "4  [M, E, K, I, V, L, L, L, A, I, V, S, L, V, K, ...  "
      ]
     },
     "execution_count": 3,
     "metadata": {},
     "output_type": "execute_result"
    }
   ],
   "source": [
    "# load fasta data (typically use human sequences of that subtype within 1 year prior of target sequence)\n",
    "df = enet.load_data(filepath=DATA_DIR+'sequences.fasta', outfile=DATA_DIR+'sequences.csv')\n",
    "print('Number of sequences:', len(df))\n",
    "df.head()"
   ]
  },
  {
   "cell_type": "code",
   "execution_count": 4,
   "id": "3848f9c8",
   "metadata": {},
   "outputs": [
    {
     "name": "stdout",
     "output_type": "stream",
     "text": [
      "CPU times: user 7min, sys: 815 ms, total: 7min 1s\n",
      "Wall time: 7min 1s\n"
     ]
    }
   ],
   "source": [
    "%%time\n",
    "# train qnet (automatically includes target sequence with df sequences)\n",
    "myqnet = enet.train(seq_df=df, n_jobs=1)"
   ]
  },
  {
   "cell_type": "code",
   "execution_count": 10,
   "id": "1ff38cc1",
   "metadata": {},
   "outputs": [],
   "source": [
    "# save qnet\n",
    "save_model(qnet=myqnet, outfile=DATA_DIR+'qnet.joblib')"
   ]
  },
  {
   "cell_type": "code",
   "execution_count": 11,
   "id": "2edc3ee8",
   "metadata": {},
   "outputs": [],
   "source": [
    "# load qnet\n",
    "myqnet = load_model(filepath=DATA_DIR+'qnet.joblib')"
   ]
  },
  {
   "cell_type": "code",
   "execution_count": 12,
   "id": "8cc97367",
   "metadata": {},
   "outputs": [
    {
     "name": "stdout",
     "output_type": "stream",
     "text": [
      "0.1684691325423223\n",
      "CPU times: user 20.6 s, sys: 14 ms, total: 20.6 s\n",
      "Wall time: 20.6 s\n"
     ]
    }
   ],
   "source": [
    "%%time\n",
    "# compute emergence risk score\n",
    "emergence_risk_score = enet.emergence_risk(seq_df=df, qnet=myqnet)\n",
    "print(emergence_risk_score)"
   ]
  },
  {
   "cell_type": "code",
   "execution_count": null,
   "id": "305b33cd",
   "metadata": {},
   "outputs": [],
   "source": []
  }
 ],
 "metadata": {
  "kernelspec": {
   "display_name": "Python 3",
   "language": "python",
   "name": "python3"
  },
  "language_info": {
   "codemirror_mode": {
    "name": "ipython",
    "version": 3
   },
   "file_extension": ".py",
   "mimetype": "text/x-python",
   "name": "python",
   "nbconvert_exporter": "python",
   "pygments_lexer": "ipython3",
   "version": "3.7.6"
  }
 },
 "nbformat": 4,
 "nbformat_minor": 5
}
