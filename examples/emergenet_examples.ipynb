{
 "cells": [
  {
   "cell_type": "markdown",
   "id": "a98e88c4",
   "metadata": {},
   "source": [
    "# Estimating Emergence Risk with `emergenet.emergenet`\n",
    "\n",
    "## Installation"
   ]
  },
  {
   "cell_type": "code",
   "execution_count": 13,
   "id": "3c13f801",
   "metadata": {},
   "outputs": [],
   "source": [
    "%%capture\n",
    "!pip install emergenet --upgrade\n",
    "\n",
    "import pandas as pd\n",
    "from emergenet.emergenet import Enet, predict_irat_emergence\n",
    "\n",
    "DATA_DIR = 'data/emergenet/'"
   ]
  },
  {
   "cell_type": "markdown",
   "id": "f8d4db23",
   "metadata": {},
   "source": [
    "## Evaluation of Risk at a Particular Time\n",
    "\n",
    "We demonstrate the usage of `emergenet.emergenet` on an IRAT-analyzed sequence, **A/Indiana/08/2011**. IRAT analyzed the risk in December 2012, so we will do the same."
   ]
  },
  {
   "cell_type": "code",
   "execution_count": 14,
   "id": "1ef828bd",
   "metadata": {},
   "outputs": [
    {
     "name": "stdout",
     "output_type": "stream",
     "text": [
      "Influenza Virus                                                   A/Indiana/08/2011\n",
      "Virus Type                                                                     H3N2\n",
      "Date of Risk Assessment                                                  2012-12-01\n",
      "Risk Score Category                                                        Moderate\n",
      "Emergence Score                                                                 6.0\n",
      "Impact Score                                                                    4.5\n",
      "Mean Low Acceptable Emergence                                                  -1.0\n",
      "Mean High Acceptable Emergence                                                 -1.0\n",
      "Mean Low Acceptable Impact                                                     -1.0\n",
      "Mean High Acceptable Impact                                                    -1.0\n",
      "HA Sequence                       MKTIIAFSCILCLIFAQKLPGSDNSMATLCLGHHAVPNGTLVKTIT...\n",
      "NA Sequence                       MNPNQKIITIGSVSLIIATICFLMQIAILVTTVTLHFKQHDYNSPP...\n",
      "HA Length                                                                       566\n",
      "NA Length                                                                       469\n",
      "Name: 20, dtype: object\n"
     ]
    }
   ],
   "source": [
    "# Load IRAT sequence - A/Indiana/08/2011\n",
    "irat_df = pd.read_csv(DATA_DIR+'irat.csv')\n",
    "row = irat_df.iloc[20]\n",
    "print(row)"
   ]
  },
  {
   "cell_type": "markdown",
   "id": "fffeac42",
   "metadata": {},
   "source": [
    "The `Enet` model requires the analysis date in format YYYY-MM-DD, the HA sequence, and the NA sequence. It will train multiple Emergenet models, so it will take some time.\n",
    "\n",
    "**As of 2024-04-01, Emergenet only supports sequences from 2010-01-01 to 2024-01-01.**\n",
    "\n",
    "Optionally, you can provide a `save_data` directory, which saves trained Emergenet models, the data used to train those models, and the risk results."
   ]
  },
  {
   "cell_type": "code",
   "execution_count": 15,
   "id": "bfa863f6",
   "metadata": {},
   "outputs": [
    {
     "name": "stdout",
     "output_type": "stream",
     "text": [
      "Number of human sequences: 6416\n",
      "Counter({'H3': 2389, 'H1': 800, 'H5': 18, 'H7': 1})\n",
      "Counter({'N2': 2392, 'N1': 815, 'N3': 1})\n",
      "\n",
      "HA Risk: 0.000055\n",
      "NA Risk: 0.000080\n",
      "\n",
      "IRAT Emergence Score Prediction: 7.64\n",
      "IRAT Low Emergence Score Prediction: 6.10\n",
      "IRAT High Emergence Score Prediction: 9.07\n",
      "\n",
      "CPU times: user 1h 24min 25s, sys: 16.8 s, total: 1h 24min 42s\n",
      "Wall time: 1h 24min 45s\n"
     ]
    }
   ],
   "source": [
    "%%time\n",
    "# We need the analysis date, and HA and NA sequences\n",
    "# Optionally, we can proved a save_data directory\n",
    "analysis_date = row['Date of Risk Assessment']\n",
    "ha_seq = row['HA Sequence']\n",
    "na_seq = row['NA Sequence']\n",
    "SAVE_DIR = 'data/emergenet/example_results/'\n",
    "\n",
    "# Initialize the Enet\n",
    "enet = Enet(analysis_date=analysis_date, \n",
    "            ha_seq=ha_seq, \n",
    "            na_seq=na_seq, \n",
    "            save_data=SAVE_DIR, \n",
    "            random_state=42)\n",
    "\n",
    "# Estimate the Enet risk scores\n",
    "ha_risk, na_risk = enet.risk()\n",
    "print(f'\\nHA Risk: {ha_risk:.6f}')\n",
    "print(f'NA Risk: {na_risk:.6f}\\n')\n",
    "\n",
    "# Map the Enet risk scores to the IRAT risk scale\n",
    "irat, irat_low, irat_high = predict_irat_emergence(ha_risk=ha_risk, \n",
    "                                                   na_risk=na_risk)\n",
    "print(f'IRAT Emergence Score Prediction: {irat:.2f}')\n",
    "print(f'IRAT Low Emergence Score Prediction: {irat_low:.2f}')\n",
    "print(f'IRAT High Emergence Score Prediction: {irat_high:.2f}\\n')"
   ]
  },
  {
   "cell_type": "markdown",
   "id": "1ea9b3d6",
   "metadata": {},
   "source": [
    "## Evaluation of Risk at Present Time\n",
    "\n",
    "**As of 2024-04-01, \"present_time\" = 2024-01-01.**\n",
    "\n",
    "What if we want to evaluate the risk of **A/Indiana/08/2011** at present time? Instead of providing an analysis date, set it to `'PRESENT'`. This uses pre-trained Enet models trained as of **\"present_time\"**, so will only take a couple minutes."
   ]
  },
  {
   "cell_type": "code",
   "execution_count": 16,
   "id": "7a4918b0",
   "metadata": {},
   "outputs": [
    {
     "name": "stdout",
     "output_type": "stream",
     "text": [
      "HA Risk: 0.001735\n",
      "NA Risk: 0.000913\n",
      "\n",
      "IRAT Emergence Score Prediction: 6.38\n",
      "IRAT Low Emergence Score Prediction: 5.02\n",
      "IRAT High Emergence Score Prediction: 7.69\n",
      "\n",
      "CPU times: user 18min 40s, sys: 1.81 s, total: 18min 42s\n",
      "Wall time: 18min 42s\n"
     ]
    }
   ],
   "source": [
    "%%time\n",
    "# Initialize the Enet\n",
    "enet_present = Enet(analysis_date='PRESENT', \n",
    "                    ha_seq=ha_seq, \n",
    "                    na_seq=na_seq, \n",
    "                    random_state=42)\n",
    "\n",
    "# Estimate the Enet risk scores at present time (2024-01-01)\n",
    "ha_risk_present, na_risk_present = enet_present.risk()\n",
    "print(f'HA Risk: {ha_risk_present:.6f}')\n",
    "print(f'NA Risk: {na_risk_present:.6f}\\n')\n",
    "\n",
    "# Map the Enet risk scores to the IRAT risk scale\n",
    "irat_present, irat_low_present, irat_high_present = predict_irat_emergence(ha_risk=ha_risk_present, \n",
    "                                                                           na_risk=ha_risk_present)\n",
    "print(f'IRAT Emergence Score Prediction: {irat_present:.2f}')\n",
    "print(f'IRAT Low Emergence Score Prediction: {irat_low_present:.2f}')\n",
    "print(f'IRAT High Emergence Score Prediction: {irat_high_present:.2f}\\n')"
   ]
  }
 ],
 "metadata": {
  "kernelspec": {
   "display_name": "Python 3",
   "language": "python",
   "name": "python3"
  },
  "language_info": {
   "codemirror_mode": {
    "name": "ipython",
    "version": 3
   },
   "file_extension": ".py",
   "mimetype": "text/x-python",
   "name": "python",
   "nbconvert_exporter": "python",
   "pygments_lexer": "ipython3",
   "version": "3.8.8"
  }
 },
 "nbformat": 4,
 "nbformat_minor": 5
}
