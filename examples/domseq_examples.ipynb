{
 "cells": [
  {
   "cell_type": "markdown",
   "id": "fbbbd5e5",
   "metadata": {},
   "source": [
    "# Example Using emergenet.domseq\n",
    "- Computing current season dominant strain and predicting future dominant strain using Emergenet\n",
    "- Analyzes H1N1 HA segment from 2021-2022, northern hemisphere\n",
    "- These predictions reproduce results from the paper, see `emergenet/qnet_predictions/dominant_sequences_2021_2022.ipynb` and `emergenet/qnet_predictions/influenza_qnet_predictions_2022_2023.ipynb`\n",
    "- Data sources:\n",
    "    - GISAID: https://platform.epicov.org/epi3/cfrontend#586f5f"
   ]
  },
  {
   "cell_type": "code",
   "execution_count": 27,
   "id": "449063ea",
   "metadata": {},
   "outputs": [],
   "source": [
    "%%capture\n",
    "!pip install emergenet --upgrade"
   ]
  },
  {
   "cell_type": "code",
   "execution_count": 1,
   "id": "1ed06d86",
   "metadata": {},
   "outputs": [],
   "source": [
    "from emergenet.domseq import DomSeq, save_model, load_model\n",
    "\n",
    "DATA_DIR = 'example_data/domseq/'"
   ]
  },
  {
   "cell_type": "code",
   "execution_count": 2,
   "id": "e291abfc",
   "metadata": {},
   "outputs": [],
   "source": [
    "# initialize the DomSeq\n",
    "domseq = DomSeq(seq_trunc_length=566, random_state=42)"
   ]
  },
  {
   "cell_type": "markdown",
   "id": "4fc79324",
   "metadata": {},
   "source": [
    "## Dominant Strain 2021-2022 Season\n",
    "Levenshtein Centroid: $$\\widehat{x}^{dom} = argmin_{x\\in P^t} \\sum_{y \\in P^t} \\theta(x,y)$$\n",
    "- Where $P^t$ is the sequence population at time $t$.\n",
    "- $\\theta(x,y)$ is the edit distance between x and y"
   ]
  },
  {
   "cell_type": "code",
   "execution_count": 13,
   "id": "9234ff53",
   "metadata": {},
   "outputs": [
    {
     "name": "stdout",
     "output_type": "stream",
     "text": [
      "Number of sequences: 976\n"
     ]
    },
    {
     "data": {
      "text/html": [
       "<div>\n",
       "<style scoped>\n",
       "    .dataframe tbody tr th:only-of-type {\n",
       "        vertical-align: middle;\n",
       "    }\n",
       "\n",
       "    .dataframe tbody tr th {\n",
       "        vertical-align: top;\n",
       "    }\n",
       "\n",
       "    .dataframe thead th {\n",
       "        text-align: right;\n",
       "    }\n",
       "</style>\n",
       "<table border=\"1\" class=\"dataframe\">\n",
       "  <thead>\n",
       "    <tr style=\"text-align: right;\">\n",
       "      <th></th>\n",
       "      <th>id</th>\n",
       "      <th>sequence</th>\n",
       "    </tr>\n",
       "  </thead>\n",
       "  <tbody>\n",
       "    <tr>\n",
       "      <th>0</th>\n",
       "      <td>A/Ile_de_France/52803/2021|A_/_H1N1|$SEGMENT_N...</td>\n",
       "      <td>MKAILVVLLYTFTTANADTLCIGYHANNSTDTVDTVLEKNVTVTHS...</td>\n",
       "    </tr>\n",
       "    <tr>\n",
       "      <th>1</th>\n",
       "      <td>A/Ile_de_France/50420/2021|A_/_H1N1|$SEGMENT_N...</td>\n",
       "      <td>MKAILVVLLYTFTTANADTLCIGYHANNSTDTVDTVLEKNVTVTHS...</td>\n",
       "    </tr>\n",
       "    <tr>\n",
       "      <th>2</th>\n",
       "      <td>A/DIJON/48658/2021|A_/_H1N1|$SEGMENT_NAME|2021...</td>\n",
       "      <td>MKAILVVLLYTFTTANADTLCIGYHANNSTDTVDTVLEKNVTVTHS...</td>\n",
       "    </tr>\n",
       "    <tr>\n",
       "      <th>3</th>\n",
       "      <td>A/SAINT-DENIS/48408/2021|A_/_H1N1|$SEGMENT_NAM...</td>\n",
       "      <td>MKAILVVLLYTFTTANADTLCIGYHANNSTDTVDTVLEKNVTVTHS...</td>\n",
       "    </tr>\n",
       "    <tr>\n",
       "      <th>4</th>\n",
       "      <td>A/TOURS/37554/2021|A_/_H1N1|$SEGMENT_NAME|2021...</td>\n",
       "      <td>MKAILVVLLYTFTTANADTLCIGYHANNSTDTVDTVLEKNVTVTHS...</td>\n",
       "    </tr>\n",
       "  </tbody>\n",
       "</table>\n",
       "</div>"
      ],
      "text/plain": [
       "                                                  id  \\\n",
       "0  A/Ile_de_France/52803/2021|A_/_H1N1|$SEGMENT_N...   \n",
       "1  A/Ile_de_France/50420/2021|A_/_H1N1|$SEGMENT_N...   \n",
       "2  A/DIJON/48658/2021|A_/_H1N1|$SEGMENT_NAME|2021...   \n",
       "3  A/SAINT-DENIS/48408/2021|A_/_H1N1|$SEGMENT_NAM...   \n",
       "4  A/TOURS/37554/2021|A_/_H1N1|$SEGMENT_NAME|2021...   \n",
       "\n",
       "                                            sequence  \n",
       "0  MKAILVVLLYTFTTANADTLCIGYHANNSTDTVDTVLEKNVTVTHS...  \n",
       "1  MKAILVVLLYTFTTANADTLCIGYHANNSTDTVDTVLEKNVTVTHS...  \n",
       "2  MKAILVVLLYTFTTANADTLCIGYHANNSTDTVDTVLEKNVTVTHS...  \n",
       "3  MKAILVVLLYTFTTANADTLCIGYHANNSTDTVDTVLEKNVTVTHS...  \n",
       "4  MKAILVVLLYTFTTANADTLCIGYHANNSTDTVDTVLEKNVTVTHS...  "
      ]
     },
     "execution_count": 13,
     "metadata": {},
     "output_type": "execute_result"
    }
   ],
   "source": [
    "# load fasta data\n",
    "df = domseq.load_data(filepath=DATA_DIR+'north_h1n1_ha_21.fasta')\n",
    "\n",
    "print('Number of sequences:', len(df))\n",
    "df.head()"
   ]
  },
  {
   "cell_type": "code",
   "execution_count": 20,
   "id": "8cc97367",
   "metadata": {
    "scrolled": true
   },
   "outputs": [
    {
     "name": "stdout",
     "output_type": "stream",
     "text": [
      "Name: A/Ireland/20935/2022|A_/_H1N1|$SEGMENT_NAME|2022-04-10|EPI2069085|\n",
      "\n",
      "Sequence: MKAILVVLLYTFTTANADTLCIGYHANNSTDTVDTVLEKNVTVTHSVNLLEDKHNGKLCKLRGVAPLHLGKCNIAGWILGNPECESLSTARSWSYIVETSNSDNGTCYPGDFINYEELREQLSSVSSFERFEIFPKTSSWPNHDSDKGVTAACPHAGAKSFYKNLIWLVKKGNSYPKLNQTYINDKGKEVLVLWGIHHPPTIAAQESLYQNADAYVFVGTSRYSKKFKPEIATRPKVRDQEGRMNYYWTLVEPGDKITFEATGNLVVPRYAFTMERDAGSGIIISDTPVHDCNTTCQTPEGAINTSLPFQNVHPITIGKCPKYVKSTKLRLATGLRNVPSIQSRGLFGAIAGFIEGGWTGMVDGWYGYHHQNEQGSGYAADLKSTQNAIDKITNKVNSVIEKMNTQFTAVGKEFNHLEKRIENLNKKVDDGFLDIWTYNAELLVLLENERTLDYHDSNVKNLYEKVRNQLKNNAKEIGNGCFEFYHKCDNTCMESVKNGTYDYPKYSEEAKLNREKIDGVKLESTRIYQILAIYSTVASSLVLVVSLGAISFWMCSNGSLQCRICI\n",
      "CPU times: user 5min 29s, sys: 181 ms, total: 5min 29s\n",
      "Wall time: 5min 37s\n"
     ]
    }
   ],
   "source": [
    "%%time\n",
    "# compute dominant sequence\n",
    "dom_id, dom_seq = domseq.compute_domseq(seq_df=df, sample_size=1000)\n",
    "\n",
    "print('Name:', dom_id)\n",
    "print()\n",
    "print('Sequence:', dom_seq)"
   ]
  },
  {
   "cell_type": "markdown",
   "id": "8012bc62",
   "metadata": {},
   "source": [
    "## Prediction for Dominant Strain 2022-2023 Season\n",
    "E-Centroid: $$x_{*}^{t+\\delta} = argmin_{y\\in \\bigcup_{r\\leq t}H^{\\tau}} \\sum_{x \\in {H^t}} \\theta(x,y) - |H^t|A \\text{ln}\\omega_y$$\n",
    "- $x_{*}^{t+\\delta}$ is the dominant strain in the upcoming flu season at time $t+\\omega$\n",
    "- $H^t$ is the sequence population at time $t$\n",
    "- $\\theta(x,y)$ is the qdistance between $x$ and $y$ in their respective Qnets\n",
    "- $A = \\frac{1-\\alpha}{\\sqrt{8}N^2}$, where $\\alpha$ is a fixed significance level and $N$ is the sequence length considered\n",
    "- $\\text{ln}\\omega_y$ is the membership degree of sequence $y$"
   ]
  },
  {
   "cell_type": "code",
   "execution_count": 22,
   "id": "0d9456b6",
   "metadata": {},
   "outputs": [
    {
     "name": "stdout",
     "output_type": "stream",
     "text": [
      "Number of sequences: 1257\n"
     ]
    },
    {
     "data": {
      "text/html": [
       "<div>\n",
       "<style scoped>\n",
       "    .dataframe tbody tr th:only-of-type {\n",
       "        vertical-align: middle;\n",
       "    }\n",
       "\n",
       "    .dataframe tbody tr th {\n",
       "        vertical-align: top;\n",
       "    }\n",
       "\n",
       "    .dataframe thead th {\n",
       "        text-align: right;\n",
       "    }\n",
       "</style>\n",
       "<table border=\"1\" class=\"dataframe\">\n",
       "  <thead>\n",
       "    <tr style=\"text-align: right;\">\n",
       "      <th></th>\n",
       "      <th>id</th>\n",
       "      <th>sequence</th>\n",
       "    </tr>\n",
       "  </thead>\n",
       "  <tbody>\n",
       "    <tr>\n",
       "      <th>0</th>\n",
       "      <td>A/Ile_de_France/52803/2021|A_/_H1N1|$SEGMENT_N...</td>\n",
       "      <td>MKAILVVLLYTFTTANADTLCIGYHANNSTDTVDTVLEKNVTVTHS...</td>\n",
       "    </tr>\n",
       "    <tr>\n",
       "      <th>1</th>\n",
       "      <td>A/Ile_de_France/50420/2021|A_/_H1N1|$SEGMENT_N...</td>\n",
       "      <td>MKAILVVLLYTFTTANADTLCIGYHANNSTDTVDTVLEKNVTVTHS...</td>\n",
       "    </tr>\n",
       "    <tr>\n",
       "      <th>2</th>\n",
       "      <td>A/DIJON/48658/2021|A_/_H1N1|$SEGMENT_NAME|2021...</td>\n",
       "      <td>MKAILVVLLYTFTTANADTLCIGYHANNSTDTVDTVLEKNVTVTHS...</td>\n",
       "    </tr>\n",
       "    <tr>\n",
       "      <th>3</th>\n",
       "      <td>A/SAINT-DENIS/48408/2021|A_/_H1N1|$SEGMENT_NAM...</td>\n",
       "      <td>MKAILVVLLYTFTTANADTLCIGYHANNSTDTVDTVLEKNVTVTHS...</td>\n",
       "    </tr>\n",
       "    <tr>\n",
       "      <th>4</th>\n",
       "      <td>A/TOURS/37554/2021|A_/_H1N1|$SEGMENT_NAME|2021...</td>\n",
       "      <td>MKAILVVLLYTFTTANADTLCIGYHANNSTDTVDTVLEKNVTVTHS...</td>\n",
       "    </tr>\n",
       "  </tbody>\n",
       "</table>\n",
       "</div>"
      ],
      "text/plain": [
       "                                                  id  \\\n",
       "0  A/Ile_de_France/52803/2021|A_/_H1N1|$SEGMENT_N...   \n",
       "1  A/Ile_de_France/50420/2021|A_/_H1N1|$SEGMENT_N...   \n",
       "2  A/DIJON/48658/2021|A_/_H1N1|$SEGMENT_NAME|2021...   \n",
       "3  A/SAINT-DENIS/48408/2021|A_/_H1N1|$SEGMENT_NAM...   \n",
       "4  A/TOURS/37554/2021|A_/_H1N1|$SEGMENT_NAME|2021...   \n",
       "\n",
       "                                            sequence  \n",
       "0  MKAILVVLLYTFTTANADTLCIGYHANNSTDTVDTVLEKNVTVTHS...  \n",
       "1  MKAILVVLLYTFTTANADTLCIGYHANNSTDTVDTVLEKNVTVTHS...  \n",
       "2  MKAILVVLLYTFTTANADTLCIGYHANNSTDTVDTVLEKNVTVTHS...  \n",
       "3  MKAILVVLLYTFTTANADTLCIGYHANNSTDTVDTVLEKNVTVTHS...  \n",
       "4  MKAILVVLLYTFTTANADTLCIGYHANNSTDTVDTVLEKNVTVTHS...  "
      ]
     },
     "execution_count": 22,
     "metadata": {},
     "output_type": "execute_result"
    }
   ],
   "source": [
    "# load fasta data\n",
    "import pandas as pd\n",
    "df_north = domseq.load_data(filepath=DATA_DIR+'north_h1n1_ha_21.fasta')\n",
    "df_south = domseq.load_data(filepath=DATA_DIR+'south_h1n1_ha_21.fasta')\n",
    "df1 = pd.concat([df_north, df_south])\n",
    "\n",
    "print('Number of sequences:', len(df1))\n",
    "df1.head()"
   ]
  },
  {
   "cell_type": "code",
   "execution_count": 24,
   "id": "32f6c608",
   "metadata": {},
   "outputs": [
    {
     "name": "stdout",
     "output_type": "stream",
     "text": [
      "CPU times: user 3min 52s, sys: 2.53 s, total: 3min 55s\n",
      "Wall time: 3min 58s\n"
     ]
    }
   ],
   "source": [
    "%%time\n",
    "# train enet\n",
    "enet = domseq.train(seq_df=df_north, sample_size=1000, n_jobs=1)\n",
    "# save qnet\n",
    "save_model(enet=enet, outfile=DATA_DIR+'enet.joblib')"
   ]
  },
  {
   "cell_type": "code",
   "execution_count": 25,
   "id": "b2cf6174",
   "metadata": {},
   "outputs": [],
   "source": [
    "# load enet\n",
    "enet = load_model(filepath=DATA_DIR+'enet.joblib')"
   ]
  },
  {
   "cell_type": "code",
   "execution_count": 26,
   "id": "267def52",
   "metadata": {},
   "outputs": [
    {
     "name": "stdout",
     "output_type": "stream",
     "text": [
      "Name: A/Netherlands/00068/2022|A_/_H1N1|$SEGMENT_NAME|2022-02-11|EPI1988870|\n",
      "\n",
      "Sequence: MKAILVVLLYTFTTANADTLCIGYHANNSTDTVDTVLEKNVTVTHSVNLLEDKHNGKLCKLRGVAPLHLGKCNIAGWILGNPECESLSTARSWSYIVETSNSDNGTCYPGDFINYEELREQLSSVSSFERFEIFPKTSSWPNHDSDKGVTAACPHAGAKSFYKNLIWLVKKGNSYPKLNQTYINDKGKEVLVLWGIHHPPTIAAQESLYQNADAYVFVGTSRYSKKFKPEIATRPKVRDQEGRMNYYWTLVEPGDKITFEATGNLVVPRYAFTMERDAGSGIIISDTPVHDCNTTCQTPEGAINTSLPFQNVHPITIGKCPKYVKSTKLRLATGLRNVPSIQSRGLFGAIAGFIEGGWTGMVDGWYGYHHQNEQGSGYAADLKSTQNAIDKITNKVNSVIEKMNTQFTAVGKEFNHLEKRIENLNKKVDDGFLDIWTYNAELLVLLENERTLDYHDSNVKNLYEKVRNQLKNNAKEIGNGCFEFYHKCDNTCMESVKNGTYDYPKYSEEAKLNREKIDGVKLESTRTYQILAIYSTVASSLVLVVSLGAISFWMCSNGSLQCRICI\n",
      "CPU times: user 26min 7s, sys: 3.25 s, total: 26min 10s\n",
      "Wall time: 26min 40s\n"
     ]
    }
   ],
   "source": [
    "%%time\n",
    "# compute prediction sequence\n",
    "pred_id, pred_seq = domseq.predict_domseq(seq_df=df1, enet=enet, sample_size=1000)\n",
    "\n",
    "print('Name:', pred_id)\n",
    "print()\n",
    "print('Sequence:', pred_seq)"
   ]
  },
  {
   "cell_type": "code",
   "execution_count": null,
   "id": "7d7e3b60",
   "metadata": {},
   "outputs": [],
   "source": []
  }
 ],
 "metadata": {
  "kernelspec": {
   "display_name": "Python 3",
   "language": "python",
   "name": "python3"
  },
  "language_info": {
   "codemirror_mode": {
    "name": "ipython",
    "version": 3
   },
   "file_extension": ".py",
   "mimetype": "text/x-python",
   "name": "python",
   "nbconvert_exporter": "python",
   "pygments_lexer": "ipython3",
   "version": "3.7.6"
  }
 },
 "nbformat": 4,
 "nbformat_minor": 5
}
