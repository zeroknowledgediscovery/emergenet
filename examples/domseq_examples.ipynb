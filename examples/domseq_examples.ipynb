{
 "cells": [
  {
   "cell_type": "markdown",
   "id": "fbbbd5e5",
   "metadata": {},
   "source": [
    "# Predicting Seasonal Vaccine Strains with `emergenet.domseq`\n",
    "\n",
    "This example H1N1 from 2021-2022, northern hemisphere to predict the dominant H1N1 strain for the 2022-2023 season.\n",
    "\n",
    "## Installation"
   ]
  },
  {
   "cell_type": "code",
   "execution_count": 1,
   "id": "449063ea",
   "metadata": {},
   "outputs": [],
   "source": [
    "%%capture\n",
    "!pip install emergenet --upgrade\n",
    "\n",
    "import pandas as pd\n",
    "from emergenet.domseq import DomSeq\n",
    "from emergenet.utils import save_model, load_model\n",
    "\n",
    "DATA_DIR = 'data/domseq/'"
   ]
  },
  {
   "cell_type": "markdown",
   "id": "8012bc62",
   "metadata": {},
   "source": [
    "## Predicting the Dominant H1N1 Strain for the 2022-2023 Season\n",
    "E-Centroid: $$x_{*}^{t+\\delta} = argmin_{y\\in \\bigcup_{r\\leq t}H^{\\tau}} \\sum_{x \\in {H^t}} \\theta(x,y) - |H^t|A \\text{ln}\\omega_y$$\n",
    "- $x_{*}^{t+\\delta}$ is the dominant strain in the upcoming flu season at time $t+\\omega$\n",
    "- $H^t$ is the sequence population at time $t$\n",
    "- $\\theta(x,y)$ is the e-distance between $x$ and $y$ in their respective Enets\n",
    "- $A = \\frac{1-\\alpha}{\\sqrt{8}N^2}$, where $\\alpha$ is a fixed significance level and $N$ is the sequence length considered\n",
    "- $\\text{ln}\\omega_y$ is the membership degree of sequence $y$\n",
    "- We do this computation for each cluster (clusters defined by e-distance matrix)"
   ]
  },
  {
   "cell_type": "markdown",
   "id": "38c4813f",
   "metadata": {},
   "source": [
    "### Training the Model"
   ]
  },
  {
   "cell_type": "code",
   "execution_count": 2,
   "id": "0a440eb9",
   "metadata": {},
   "outputs": [
    {
     "name": "stdout",
     "output_type": "stream",
     "text": [
      "Number of sequences: 735\n"
     ]
    },
    {
     "data": {
      "text/html": [
       "<div>\n",
       "<style scoped>\n",
       "    .dataframe tbody tr th:only-of-type {\n",
       "        vertical-align: middle;\n",
       "    }\n",
       "\n",
       "    .dataframe tbody tr th {\n",
       "        vertical-align: top;\n",
       "    }\n",
       "\n",
       "    .dataframe thead th {\n",
       "        text-align: right;\n",
       "    }\n",
       "</style>\n",
       "<table border=\"1\" class=\"dataframe\">\n",
       "  <thead>\n",
       "    <tr style=\"text-align: right;\">\n",
       "      <th></th>\n",
       "      <th>acc</th>\n",
       "      <th>name</th>\n",
       "      <th>date</th>\n",
       "      <th>sequence</th>\n",
       "      <th>acc_na</th>\n",
       "      <th>sequence_na</th>\n",
       "    </tr>\n",
       "  </thead>\n",
       "  <tbody>\n",
       "    <tr>\n",
       "      <th>0</th>\n",
       "      <td>EPI1877640</td>\n",
       "      <td>A/Togo/0146/2021</td>\n",
       "      <td>2021-02-15</td>\n",
       "      <td>MKAILVVLLYTFTTANADTLCIGYHANNSTDTVDTVLEKNVTVTHS...</td>\n",
       "      <td>EPI1877636</td>\n",
       "      <td>MNPNQKIITIGSICMTIGMANLILQIGNIISIWVSHSIQIGNQSQI...</td>\n",
       "    </tr>\n",
       "    <tr>\n",
       "      <th>1</th>\n",
       "      <td>EPI1877399</td>\n",
       "      <td>A/Togo/0093/2021</td>\n",
       "      <td>2021-02-15</td>\n",
       "      <td>MKAILVVLLYTFTTANADTLCIGYHANNSTDTVDTVLEKNVTVTHS...</td>\n",
       "      <td>EPI1877398</td>\n",
       "      <td>MNPNQKIITIGSICMTIGMANLILQIGNIISIWVSHSIQIGNQSQI...</td>\n",
       "    </tr>\n",
       "    <tr>\n",
       "      <th>2</th>\n",
       "      <td>EPI1877567</td>\n",
       "      <td>A/Togo/0094/2021</td>\n",
       "      <td>2021-02-15</td>\n",
       "      <td>MKAILVVLLYTFTTANADTLCIGYHANNSTDTVDTVLEKNVTVTHS...</td>\n",
       "      <td>EPI1877566</td>\n",
       "      <td>MNPNQKIITIGSICMTIGMANLILQIGNIISIWVSHSIQIGNQSQI...</td>\n",
       "    </tr>\n",
       "    <tr>\n",
       "      <th>3</th>\n",
       "      <td>EPI1877448</td>\n",
       "      <td>A/Togo/0079/2021</td>\n",
       "      <td>2021-02-15</td>\n",
       "      <td>MKAILVVLLYTFTTANADTLCIGYHANNSTDTVDTVLEKNVTVTHS...</td>\n",
       "      <td>EPI1877447</td>\n",
       "      <td>MNPNQKIITIGSICMTIGMANLILQIGNIISIWVSHSIQIGNQSQI...</td>\n",
       "    </tr>\n",
       "    <tr>\n",
       "      <th>4</th>\n",
       "      <td>EPI1877427</td>\n",
       "      <td>A/Togo/0169/2021</td>\n",
       "      <td>2021-02-16</td>\n",
       "      <td>MKAILVVLLYTFTTANADTLCIGYHANNSTDTVDTVLEKNVTVTHS...</td>\n",
       "      <td>EPI1877426</td>\n",
       "      <td>MNPNQKIITIGSICMAIGTANLILQIGNIISIWVSHSIQIGNQSQI...</td>\n",
       "    </tr>\n",
       "  </tbody>\n",
       "</table>\n",
       "</div>"
      ],
      "text/plain": [
       "          acc              name        date  \\\n",
       "0  EPI1877640  A/Togo/0146/2021  2021-02-15   \n",
       "1  EPI1877399  A/Togo/0093/2021  2021-02-15   \n",
       "2  EPI1877567  A/Togo/0094/2021  2021-02-15   \n",
       "3  EPI1877448  A/Togo/0079/2021  2021-02-15   \n",
       "4  EPI1877427  A/Togo/0169/2021  2021-02-16   \n",
       "\n",
       "                                            sequence      acc_na  \\\n",
       "0  MKAILVVLLYTFTTANADTLCIGYHANNSTDTVDTVLEKNVTVTHS...  EPI1877636   \n",
       "1  MKAILVVLLYTFTTANADTLCIGYHANNSTDTVDTVLEKNVTVTHS...  EPI1877398   \n",
       "2  MKAILVVLLYTFTTANADTLCIGYHANNSTDTVDTVLEKNVTVTHS...  EPI1877566   \n",
       "3  MKAILVVLLYTFTTANADTLCIGYHANNSTDTVDTVLEKNVTVTHS...  EPI1877447   \n",
       "4  MKAILVVLLYTFTTANADTLCIGYHANNSTDTVDTVLEKNVTVTHS...  EPI1877426   \n",
       "\n",
       "                                         sequence_na  \n",
       "0  MNPNQKIITIGSICMTIGMANLILQIGNIISIWVSHSIQIGNQSQI...  \n",
       "1  MNPNQKIITIGSICMTIGMANLILQIGNIISIWVSHSIQIGNQSQI...  \n",
       "2  MNPNQKIITIGSICMTIGMANLILQIGNIISIWVSHSIQIGNQSQI...  \n",
       "3  MNPNQKIITIGSICMTIGMANLILQIGNIISIWVSHSIQIGNQSQI...  \n",
       "4  MNPNQKIITIGSICMAIGTANLILQIGNIISIWVSHSIQIGNQSQI...  "
      ]
     },
     "execution_count": 2,
     "metadata": {},
     "output_type": "execute_result"
    }
   ],
   "source": [
    "# Initialize the DomSeq\n",
    "domseq = DomSeq(seq_trunc_length=565, random_state=42)\n",
    "\n",
    "# Load data from current time period (2021-2022 season)\n",
    "df = pd.read_csv(DATA_DIR+'north_h1n1_21_22.csv')\n",
    "\n",
    "print('Number of sequences:', len(df))\n",
    "df.head()"
   ]
  },
  {
   "cell_type": "code",
   "execution_count": 3,
   "id": "38f76ccb",
   "metadata": {
    "scrolled": true
   },
   "outputs": [
    {
     "name": "stdout",
     "output_type": "stream",
     "text": [
      "CPU times: user 6min 23s, sys: 4.95 s, total: 6min 28s\n",
      "Wall time: 6min 29s\n"
     ]
    }
   ],
   "source": [
    "%%time\n",
    "# Train enet\n",
    "enet = domseq.train(seq_df=df, sample_size=3000, n_jobs=1)\n",
    "# Save enet\n",
    "save_model(enet=enet, outfile=DATA_DIR+'enet.joblib')"
   ]
  },
  {
   "cell_type": "code",
   "execution_count": 4,
   "id": "3461786b",
   "metadata": {},
   "outputs": [],
   "source": [
    "# Load enet\n",
    "enet_model = load_model(filepath=DATA_DIR+'enet.joblib')"
   ]
  },
  {
   "cell_type": "markdown",
   "id": "aa7923ca",
   "metadata": {},
   "source": [
    "### Multi-cluster predictions\n",
    "\n",
    "First, we use our model to compute three predictions, one from each of the top three largest clusters."
   ]
  },
  {
   "cell_type": "code",
   "execution_count": 5,
   "id": "68915324",
   "metadata": {},
   "outputs": [
    {
     "name": "stdout",
     "output_type": "stream",
     "text": [
      "Number of sequences: 18057\n"
     ]
    },
    {
     "data": {
      "text/html": [
       "<div>\n",
       "<style scoped>\n",
       "    .dataframe tbody tr th:only-of-type {\n",
       "        vertical-align: middle;\n",
       "    }\n",
       "\n",
       "    .dataframe tbody tr th {\n",
       "        vertical-align: top;\n",
       "    }\n",
       "\n",
       "    .dataframe thead th {\n",
       "        text-align: right;\n",
       "    }\n",
       "</style>\n",
       "<table border=\"1\" class=\"dataframe\">\n",
       "  <thead>\n",
       "    <tr style=\"text-align: right;\">\n",
       "      <th></th>\n",
       "      <th>acc</th>\n",
       "      <th>name</th>\n",
       "      <th>date</th>\n",
       "      <th>sequence</th>\n",
       "      <th>acc_na</th>\n",
       "      <th>sequence_na</th>\n",
       "    </tr>\n",
       "  </thead>\n",
       "  <tbody>\n",
       "    <tr>\n",
       "      <th>0</th>\n",
       "      <td>AJK00834.1</td>\n",
       "      <td>A/Memphis/1/2001</td>\n",
       "      <td>2001-09-25</td>\n",
       "      <td>MKAKLLVLLCTFTATYADTICIGYHANNSTDTVDTVLEKNVTVTHS...</td>\n",
       "      <td>ABO38024.1</td>\n",
       "      <td>MNPNQKIITIGSISIAIGIISLMLQIGNIISIWASHSIQTGSQNHT...</td>\n",
       "    </tr>\n",
       "    <tr>\n",
       "      <th>1</th>\n",
       "      <td>AJK02489.1</td>\n",
       "      <td>A/Memphis/7/2001</td>\n",
       "      <td>2001-09-25</td>\n",
       "      <td>MKAKLLVLLCTFTATYADTICIGYHANNSTDTVDTVLEKNVTVTHS...</td>\n",
       "      <td>ABO32962.1</td>\n",
       "      <td>MNPNQKIITIGSISIAIGIISLMLQIGNIISIWASHSIQTGSKNHT...</td>\n",
       "    </tr>\n",
       "    <tr>\n",
       "      <th>2</th>\n",
       "      <td>AJK02965.1</td>\n",
       "      <td>A/Memphis/8/2001</td>\n",
       "      <td>2001-09-25</td>\n",
       "      <td>MKAKLLVLLCTFTATYADTICIGYHANNSTDTVDTVLEKNVTVTHS...</td>\n",
       "      <td>ABN51080.1</td>\n",
       "      <td>MNPNQKIITIGSISIAIGIISLMLQIGNIISIWASHSIQTGSQNHT...</td>\n",
       "    </tr>\n",
       "    <tr>\n",
       "      <th>3</th>\n",
       "      <td>AJK03129.1</td>\n",
       "      <td>A/Memphis/6/2001</td>\n",
       "      <td>2001-09-25</td>\n",
       "      <td>MRAKLLVLLCTFTATYADTICIGYHANNSTDTVDTVLEKNVTVTHS...</td>\n",
       "      <td>ABO32951.1</td>\n",
       "      <td>MNPNQKIITIGSISIAIGIISLMLQIGNIISIWASHSIQTGSQNHT...</td>\n",
       "    </tr>\n",
       "    <tr>\n",
       "      <th>4</th>\n",
       "      <td>AFQ90527.1</td>\n",
       "      <td>A/Chile/8885/2001</td>\n",
       "      <td>2001-09-25</td>\n",
       "      <td>MKAKLLVLLCTFTATYADTICIGYHANNSTDTVDTVLEKNVTVTHS...</td>\n",
       "      <td>AFO66161.1</td>\n",
       "      <td>MNPNQKIITIGSISIAIGIISLMLQIGNIISIWASHSIQTGSQNHT...</td>\n",
       "    </tr>\n",
       "  </tbody>\n",
       "</table>\n",
       "</div>"
      ],
      "text/plain": [
       "           acc               name        date  \\\n",
       "0  AJK00834.1    A/Memphis/1/2001  2001-09-25   \n",
       "1  AJK02489.1    A/Memphis/7/2001  2001-09-25   \n",
       "2  AJK02965.1    A/Memphis/8/2001  2001-09-25   \n",
       "3  AJK03129.1    A/Memphis/6/2001  2001-09-25   \n",
       "4  AFQ90527.1   A/Chile/8885/2001  2001-09-25   \n",
       "\n",
       "                                            sequence       acc_na  \\\n",
       "0  MKAKLLVLLCTFTATYADTICIGYHANNSTDTVDTVLEKNVTVTHS...  ABO38024.1    \n",
       "1  MKAKLLVLLCTFTATYADTICIGYHANNSTDTVDTVLEKNVTVTHS...  ABO32962.1    \n",
       "2  MKAKLLVLLCTFTATYADTICIGYHANNSTDTVDTVLEKNVTVTHS...  ABN51080.1    \n",
       "3  MRAKLLVLLCTFTATYADTICIGYHANNSTDTVDTVLEKNVTVTHS...  ABO32951.1    \n",
       "4  MKAKLLVLLCTFTATYADTICIGYHANNSTDTVDTVLEKNVTVTHS...  AFO66161.1    \n",
       "\n",
       "                                         sequence_na  \n",
       "0  MNPNQKIITIGSISIAIGIISLMLQIGNIISIWASHSIQTGSQNHT...  \n",
       "1  MNPNQKIITIGSISIAIGIISLMLQIGNIISIWASHSIQTGSKNHT...  \n",
       "2  MNPNQKIITIGSISIAIGIISLMLQIGNIISIWASHSIQTGSQNHT...  \n",
       "3  MNPNQKIITIGSISIAIGIISLMLQIGNIISIWASHSIQTGSQNHT...  \n",
       "4  MNPNQKIITIGSISIAIGIISLMLQIGNIISIWASHSIQTGSQNHT...  "
      ]
     },
     "execution_count": 5,
     "metadata": {},
     "output_type": "execute_result"
    }
   ],
   "source": [
    "# Load candidate sequences for recommendation\n",
    "# This includes all human H1N1 strains up until the 2021-2022 season\n",
    "candidate_df = pd.read_csv(DATA_DIR+'north_h1n1_21_22_pred.csv')\n",
    "\n",
    "print('Number of sequences:', len(candidate_df))\n",
    "candidate_df.head()"
   ]
  },
  {
   "cell_type": "code",
   "execution_count": 6,
   "id": "e3d60f83",
   "metadata": {},
   "outputs": [
    {
     "name": "stdout",
     "output_type": "stream",
     "text": [
      "symmetric case\n",
      "CPU times: user 2h 48min 2s, sys: 3min 38s, total: 2h 51min 40s\n",
      "Wall time: 1h 19min 2s\n"
     ]
    },
    {
     "data": {
      "text/html": [
       "<div>\n",
       "<style scoped>\n",
       "    .dataframe tbody tr th:only-of-type {\n",
       "        vertical-align: middle;\n",
       "    }\n",
       "\n",
       "    .dataframe tbody tr th {\n",
       "        vertical-align: top;\n",
       "    }\n",
       "\n",
       "    .dataframe thead th {\n",
       "        text-align: right;\n",
       "    }\n",
       "</style>\n",
       "<table border=\"1\" class=\"dataframe\">\n",
       "  <thead>\n",
       "    <tr style=\"text-align: right;\">\n",
       "      <th></th>\n",
       "      <th>acc</th>\n",
       "      <th>name</th>\n",
       "      <th>date</th>\n",
       "      <th>sequence</th>\n",
       "      <th>acc_na</th>\n",
       "      <th>sequence_na</th>\n",
       "      <th>first_term</th>\n",
       "      <th>second_term</th>\n",
       "      <th>sum</th>\n",
       "      <th>cluster_count</th>\n",
       "      <th>cluster_area</th>\n",
       "    </tr>\n",
       "  </thead>\n",
       "  <tbody>\n",
       "    <tr>\n",
       "      <th>17401</th>\n",
       "      <td>EPI1794713</td>\n",
       "      <td>A/Portugal/SU306/2020</td>\n",
       "      <td>2020-02-27</td>\n",
       "      <td>MKAILVVLLYTFTTANADTLCIGYHANNSTDTVDTVLEKNVTVTHS...</td>\n",
       "      <td>EPI1794714</td>\n",
       "      <td>MNPNQKIITIGSICMTIGMANLILQIGNIISIWVSHSIQTGNQSQI...</td>\n",
       "      <td>0.234122</td>\n",
       "      <td>-0.001800</td>\n",
       "      <td>0.235922</td>\n",
       "      <td>528</td>\n",
       "      <td>116.320435</td>\n",
       "    </tr>\n",
       "    <tr>\n",
       "      <th>17834</th>\n",
       "      <td>EPI1925191</td>\n",
       "      <td>A/Bangladesh/9004/2021</td>\n",
       "      <td>2021-09-08</td>\n",
       "      <td>MKAILVVMLYTFTTANADTLCIGYHANNSTDTVDTVLEKNVTVTHS...</td>\n",
       "      <td>EPI1925190</td>\n",
       "      <td>MNPNQKIITIGSICMTIGTANLILQIGNIISIWVSHSIQIGNQSQI...</td>\n",
       "      <td>0.088810</td>\n",
       "      <td>-0.004613</td>\n",
       "      <td>0.093424</td>\n",
       "      <td>193</td>\n",
       "      <td>39.533846</td>\n",
       "    </tr>\n",
       "    <tr>\n",
       "      <th>17824</th>\n",
       "      <td>EPI1918841</td>\n",
       "      <td>A/North_Dakota/12226/2021</td>\n",
       "      <td>2021-09-01</td>\n",
       "      <td>MKAILVVLLYTFTTANADTLCIGYHANNSTDTVDTVLEKNVTVTHS...</td>\n",
       "      <td>EPI1918840</td>\n",
       "      <td>MNPNQKIITIGSICMTIGMANLILQIGNIISIWVSHSIQIGNQNQI...</td>\n",
       "      <td>0.009333</td>\n",
       "      <td>-0.000253</td>\n",
       "      <td>0.009587</td>\n",
       "      <td>3</td>\n",
       "      <td>2.774466</td>\n",
       "    </tr>\n",
       "  </tbody>\n",
       "</table>\n",
       "</div>"
      ],
      "text/plain": [
       "              acc                       name        date  \\\n",
       "17401  EPI1794713      A/Portugal/SU306/2020  2020-02-27   \n",
       "17834  EPI1925191     A/Bangladesh/9004/2021  2021-09-08   \n",
       "17824  EPI1918841  A/North_Dakota/12226/2021  2021-09-01   \n",
       "\n",
       "                                                sequence      acc_na  \\\n",
       "17401  MKAILVVLLYTFTTANADTLCIGYHANNSTDTVDTVLEKNVTVTHS...  EPI1794714   \n",
       "17834  MKAILVVMLYTFTTANADTLCIGYHANNSTDTVDTVLEKNVTVTHS...  EPI1925190   \n",
       "17824  MKAILVVLLYTFTTANADTLCIGYHANNSTDTVDTVLEKNVTVTHS...  EPI1918840   \n",
       "\n",
       "                                             sequence_na  first_term  \\\n",
       "17401  MNPNQKIITIGSICMTIGMANLILQIGNIISIWVSHSIQTGNQSQI...    0.234122   \n",
       "17834  MNPNQKIITIGSICMTIGTANLILQIGNIISIWVSHSIQIGNQSQI...    0.088810   \n",
       "17824  MNPNQKIITIGSICMTIGMANLILQIGNIISIWVSHSIQIGNQNQI...    0.009333   \n",
       "\n",
       "       second_term       sum  cluster_count  cluster_area  \n",
       "17401    -0.001800  0.235922            528    116.320435  \n",
       "17834    -0.004613  0.093424            193     39.533846  \n",
       "17824    -0.000253  0.009587              3      2.774466  "
      ]
     },
     "execution_count": 6,
     "metadata": {},
     "output_type": "execute_result"
    },
    {
     "data": {
      "image/png": "[encoded data removed]",
      "text/plain": [
       "<Figure size 720x720 with 1 Axes>"
      ]
     },
     "metadata": {
      "needs_background": "light"
     },
     "output_type": "display_data"
    }
   ],
   "source": [
    "%%time\n",
    "# Compute prediction sequences (return predictions from top 3 largest clusters)\n",
    "pred_df = domseq.predict_domseq(seq_df=df, \n",
    "                                pred_seq_df=candidate_df, \n",
    "                                enet=enet_model, \n",
    "                                n_clusters=3, \n",
    "                                sample_size=3000)\n",
    "pred_df = pred_df.sort_values(by=['cluster_count'], ascending=False)\n",
    "pred_df.to_csv(DATA_DIR+'predictions_for_22_23.csv', index=False)\n",
    "pred_df"
   ]
  },
  {
   "cell_type": "markdown",
   "id": "5cd9bbf6",
   "metadata": {},
   "source": [
    "### Single-cluster Predictions\n",
    "\n",
    "We use our multi-cluster predictions to estimate a single best dominant strain for the 2022-2023 season.\n",
    "\n",
    "The `predict_single_domseq` function requires two inputs:\n",
    "\n",
    "1. `pred_seqs` - Emergenet recommended sequences, with additional column `cluster_count`. This should have at least two rows (i.e. predictions from two clusters)\n",
    "2. `pred_seq_df` - DataFrame of candidate sequences"
   ]
  },
  {
   "cell_type": "code",
   "execution_count": 7,
   "id": "b9b70173",
   "metadata": {},
   "outputs": [
    {
     "data": {
      "text/html": [
       "<div>\n",
       "<style scoped>\n",
       "    .dataframe tbody tr th:only-of-type {\n",
       "        vertical-align: middle;\n",
       "    }\n",
       "\n",
       "    .dataframe tbody tr th {\n",
       "        vertical-align: top;\n",
       "    }\n",
       "\n",
       "    .dataframe thead th {\n",
       "        text-align: right;\n",
       "    }\n",
       "</style>\n",
       "<table border=\"1\" class=\"dataframe\">\n",
       "  <thead>\n",
       "    <tr style=\"text-align: right;\">\n",
       "      <th></th>\n",
       "      <th>acc</th>\n",
       "      <th>name</th>\n",
       "      <th>date</th>\n",
       "      <th>sequence</th>\n",
       "      <th>acc_na</th>\n",
       "      <th>sequence_na</th>\n",
       "      <th>ratio</th>\n",
       "    </tr>\n",
       "  </thead>\n",
       "  <tbody>\n",
       "    <tr>\n",
       "      <th>16435</th>\n",
       "      <td>EPI1684151</td>\n",
       "      <td>A/Kansas/02/2020</td>\n",
       "      <td>2020-01-07</td>\n",
       "      <td>MKAILVVLLYTFTTANADTLCIGYHANNSTDTVDTVLEKNVTVTHS...</td>\n",
       "      <td>EPI1684150</td>\n",
       "      <td>MNPNQKIITIGSICMTIGMANLILQIGNIISIWVSHSIQTENQSQI...</td>\n",
       "      <td>0.198864</td>\n",
       "    </tr>\n",
       "  </tbody>\n",
       "</table>\n",
       "</div>"
      ],
      "text/plain": [
       "              acc              name        date  \\\n",
       "16435  EPI1684151  A/Kansas/02/2020  2020-01-07   \n",
       "\n",
       "                                                sequence      acc_na  \\\n",
       "16435  MKAILVVLLYTFTTANADTLCIGYHANNSTDTVDTVLEKNVTVTHS...  EPI1684150   \n",
       "\n",
       "                                             sequence_na     ratio  \n",
       "16435  MNPNQKIITIGSICMTIGMANLILQIGNIISIWVSHSIQTENQSQI...  0.198864  "
      ]
     },
     "execution_count": 7,
     "metadata": {},
     "output_type": "execute_result"
    }
   ],
   "source": [
    "# Again, load candidate sequences for recommendation\n",
    "candidate_df = pd.read_csv(DATA_DIR+'north_h1n1_21_22_pred.csv')\n",
    "\n",
    "# Load the 3-cluster predictions from the previous cell\n",
    "pred_df = pd.read_csv(DATA_DIR+'predictions_for_22_23.csv')\n",
    "\n",
    "# Compute a single prediction for the dominant strain\n",
    "single_pred_seq = domseq.predict_single_domseq(pred_seqs=pred_df, \n",
    "                                               pred_seq_df=candidate_df)\n",
    "single_pred_seq.to_csv(DATA_DIR+'single_prediction_for_22_23.csv', index=False)\n",
    "single_pred_seq"
   ]
  }
 ],
 "metadata": {
  "kernelspec": {
   "display_name": "Python 3",
   "language": "python",
   "name": "python3"
  },
  "language_info": {
   "codemirror_mode": {
    "name": "ipython",
    "version": 3
   },
   "file_extension": ".py",
   "mimetype": "text/x-python",
   "name": "python",
   "nbconvert_exporter": "python",
   "pygments_lexer": "ipython3",
   "version": "3.8.8"
  }
 },
 "nbformat": 4,
 "nbformat_minor": 5
}
