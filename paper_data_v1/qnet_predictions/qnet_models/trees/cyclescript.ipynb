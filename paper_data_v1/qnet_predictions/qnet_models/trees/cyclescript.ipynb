{
 "cells": [
  {
   "cell_type": "code",
   "execution_count": 1,
   "id": "fbc190da",
   "metadata": {},
   "outputs": [],
   "source": [
    "import sys\n",
    "\n",
    "from quasinet.qnet import qdistance\n",
    "from quasinet.qnet import load_qnet\n",
    "import pandas as pd\n",
    "import numpy as np\n",
    "from tqdm import tqdm\n",
    "\n",
    "import sys\n",
    "\n",
    "from quasinet.qnet import load_qnet\n",
    "import seaborn as sns\n",
    "from quasinet.qnet import export_qnet_tree\n",
    "import graph_tool.all as gt\n",
    "from matplotlib import cm\n",
    "import glob"
   ]
  },
  {
   "cell_type": "code",
   "execution_count": 2,
   "id": "a7284566",
   "metadata": {},
   "outputs": [],
   "source": [
    "import zipfile\n",
    "import os\n",
    "with zipfile.ZipFile('../north_h1n1_ha_20.joblib.zip', 'r') as zip_ref:\n",
    "    zip_ref.extractall('./')\n",
    "qnet=load_qnet('./north_h1n1_ha_20.joblib')\n",
    "os.remove('./north_h1n1_ha_20.joblib')"
   ]
  },
  {
   "cell_type": "code",
   "execution_count": 3,
   "id": "cada5551",
   "metadata": {},
   "outputs": [],
   "source": [
    "from quasinet.qnet import export_qnet_graph\n",
    "dotfile='qgraph.dot'\n",
    "export_qnet_graph(qnet,threshold=0.08,outfile=dotfile)\n"
   ]
  },
  {
   "cell_type": "code",
   "execution_count": 4,
   "id": "67044b74",
   "metadata": {},
   "outputs": [],
   "source": [
    "def getLoops(DOTNAME,VERBOSE=False,suffix='',STRONG_COMPONENT=True,varnames=None):\n",
    "    g = gt.load_graph(DOTNAME)\n",
    "    if VERBOSE:\n",
    "        for v in g.vertices():\n",
    "            print('deg',v.out_degree())\n",
    "        g.list_properties()\n",
    "\n",
    "    if STRONG_COMPONENT:\n",
    "        g=gt.extract_largest_component(\n",
    "                    g, directed=True, prune=True)\n",
    "    C=gt.all_circuits(g)\n",
    "    \n",
    "    for count,c in enumerate(C):\n",
    "        a=np.intersect1d(c,varinds)\n",
    "        if len(a) > 0:\n",
    "            break\n",
    "\n",
    "    return vars,varinds,c\n",
    "\n",
    "def getShortestPath2andF(DOTNAME,src=None,tgt=None,VERBOSE=False,suffix='',varnames=None):\n",
    "    '''\n",
    "        get shortest path \n",
    "    '''\n",
    "    g = gt.load_graph(DOTNAME)\n",
    "    g=gt.extract_largest_component(\n",
    "                    g, directed=True, prune=True)\n",
    "    names=np.array([g.vp.vertex_name[v] for v in g.vertices()])\n",
    "    \n",
    "    src=np.where(names==src)[0][0]\n",
    "    tgt=np.where(names==tgt)[0][0]\n",
    "    \n",
    "    vlist, elist = gt.shortest_path(g, g.vertex(src), g.vertex(tgt))\n",
    "    vlist1, elist1 = gt.shortest_path(g, g.vertex(tgt), g.vertex(src))\n",
    "    \n",
    "    a=np.array([int(str(v)) for v in vlist])\n",
    "    b=np.array([int(str(v)) for v in vlist1])\n",
    "    c=np.hstack((a[1:],b[1:]))\n",
    "    \n",
    "    unq=False\n",
    "    if len(list(c)) == len(list(set(list(c)))):\n",
    "        unq=True\n",
    "    \n",
    "    return c,names[c],len(c),unq\n",
    "\n",
    "\n",
    "def getvarsStronglyconnected(dotfile,POLEFILE=None):\n",
    "    '''\n",
    "        return variables in the strongly connected component, and the \n",
    "        name index map\n",
    "        if POLEFILE is set, return only vars from the poles\n",
    "    '''\n",
    "    g = gt.load_graph(dotfile)\n",
    "    g=gt.extract_largest_component(\n",
    "                    g, directed=True, prune=True)\n",
    "    names=np.array([g.vp.vertex_name[v] for v in g.vertices()])\n",
    "    vars=pd.DataFrame(names,columns=['var']).reset_index().set_index('var').transpose()\n",
    "    if POLEFILE is not None:\n",
    "        polevar=pd.read_csv(POLEFILE,index_col=0).index\n",
    "        polevars_=[x for x in polevar if x in vars]\n",
    "        vars=vars[polevars_]\n",
    "    vars=vars.transpose()\n",
    "    vars.columns=['ind']\n",
    "        \n",
    "    namemap=pd.DataFrame(names,columns=['nm'])\n",
    "\n",
    "    return vars,namemap\n",
    "\n",
    "col={'soc':'IndianRed1!50','reli':'SeaGreen2!50',\n",
    "     'pol':'DodgerBlue4!50',\n",
    "     '':'white',\n",
    "     'edu':'Yellow2!70','soc2':'IndianRed1!50',\n",
    "     'soc3':'IndianRed1!50','mark':'Orchid1'}\n",
    "def genFig(dotfile,name1,name2,suffix='x',RAD=4,namemap=None,col=None):\n",
    "\n",
    "    def namemap_(ind):\n",
    "        if namemap is None:\n",
    "            return ''\n",
    "        if ind in namemap.keys():\n",
    "            return namemap[ind]\n",
    "        else:\n",
    "            if 'con' in ind[:3]:\n",
    "                return 'pol'\n",
    "            if 'reli' in ind[:4]:\n",
    "                return 'reli'\n",
    "            \n",
    "            return ''\n",
    "    \n",
    "    path_,pathname_,L,unq=getShortestPath2andF(dotfile,src=name1,tgt=name2)\n",
    "    print(path_,pathname_)\n",
    "    a=pathname_\n",
    "    \n",
    "    if namemap is not None:\n",
    "        vartype=[col[namemap_(i)] for i in pathname_]\n",
    "            \n",
    "    \n",
    "    #print(namemap.vartype.values[path_])\n",
    "    if unq:\n",
    "        amat=None\n",
    "        for i in range(len(a)-1):\n",
    "            if amat is None:\n",
    "                amat=[a[i],a[i+1]]\n",
    "            else:\n",
    "                amat=np.vstack((amat,[a[i],a[i+1]]))\n",
    "        amat=np.vstack((amat,[a[-1],a[0]]))\n",
    "        \n",
    "        pd.DataFrame(amat,columns=['u','v']).assign(Direct='true').to_csv('edges'+suffix+'.csv',index=None)\n",
    "        vertices=pd.DataFrame(pathname_,columns=['id'])\n",
    "        n=vertices.index.size\n",
    "        RAD=RAD\n",
    "        x=[np.round(RAD*np.cos((i/n)*2*np.pi),2) for i in range(n)]\n",
    "        y=[np.round(-RAD*np.sin((i/n)*2*np.pi),2) for i in range(n)]\n",
    "        vertices=vertices.assign(label=vertices.id,x=x,y=y)\n",
    "        if namemap is not None:\n",
    "            vertices=vertices.assign(color=vartype)\n",
    "        vertices.to_csv('vertices'+suffix+'.csv',index=None)\n",
    "        return\n",
    "    \n",
    "    print(np.unique(path_, return_counts=True))\n",
    "    print('not a true cycle')\n",
    "    return a,namemap.vartype.values"
   ]
  },
  {
   "cell_type": "code",
   "execution_count": 5,
   "id": "2a49d5ab",
   "metadata": {},
   "outputs": [],
   "source": [
    "vars,ddf=getvarsStronglyconnected(dotfile,POLEFILE=None)\n",
    "ddf=np.array([x[0] for x in ddf.values])"
   ]
  },
  {
   "cell_type": "code",
   "execution_count": 6,
   "id": "3fb5ef0e",
   "metadata": {},
   "outputs": [
    {
     "data": {
      "text/plain": [
       "(array([30, 22, 12, 53, 38, 27, 37]),\n",
       " array(['x278', 'x223', 'x155', 'x63', 'x318', 'x274', 'x304'], dtype='<U4'),\n",
       " 7,\n",
       " True)"
      ]
     },
     "execution_count": 6,
     "metadata": {},
     "output_type": "execute_result"
    }
   ],
   "source": [
    "getShortestPath2andF(dotfile,src='x304',tgt='x223')"
   ]
  },
  {
   "cell_type": "code",
   "execution_count": 7,
   "id": "7e9cb8cb",
   "metadata": {},
   "outputs": [
    {
     "name": "stdout",
     "output_type": "stream",
     "text": [
      "x155 x14 4 ['x63' 'x14' 'x223' 'x155']\n",
      "x158 x144 3 ['x144' 'x337' 'x158']\n",
      "x171 x141 3 ['x201' 'x141' 'x171']\n",
      "x179 x158 3 ['x158' 'x299' 'x179']\n",
      "x201 x141 3 ['x141' 'x171' 'x201']\n",
      "x201 x171 3 ['x141' 'x171' 'x201']\n",
      "x213 x212 2 ['x212' 'x213']\n",
      "x223 x14 2 ['x14' 'x223']\n",
      "x223 x155 4 ['x155' 'x63' 'x14' 'x223']\n",
      "x250 x15 2 ['x15' 'x250']\n",
      "x299 x158 2 ['x158' 'x299']\n",
      "x299 x179 3 ['x179' 'x158' 'x299']\n",
      "x337 x144 3 ['x158' 'x144' 'x337']\n",
      "x337 x158 2 ['x158' 'x337']\n",
      "x386 x287 2 ['x287' 'x386']\n",
      "x392 x10 2 ['x10' 'x392']\n",
      "x456 x201 2 ['x201' 'x456']\n",
      "x467 x10 4 ['x47' 'x10' 'x392' 'x467']\n",
      "x467 x113 2 ['x113' 'x467']\n",
      "x467 x392 4 ['x47' 'x10' 'x392' 'x467']\n",
      "x47 x10 4 ['x10' 'x392' 'x467' 'x47']\n",
      "x47 x392 4 ['x10' 'x392' 'x467' 'x47']\n",
      "x47 x467 4 ['x10' 'x392' 'x467' 'x47']\n",
      "x490 x299 2 ['x299' 'x490']\n",
      "x52 x211 2 ['x211' 'x52']\n",
      "x525 x2 2 ['x2' 'x525']\n",
      "x525 x277 2 ['x277' 'x525']\n",
      "x63 x123 2 ['x123' 'x63']\n",
      "x63 x14 4 ['x14' 'x223' 'x155' 'x63']\n",
      "x63 x155 4 ['x14' 'x223' 'x155' 'x63']\n",
      "x63 x223 4 ['x14' 'x223' 'x155' 'x63']\n",
      "x89 x63 2 ['x63' 'x89']\n"
     ]
    }
   ],
   "source": [
    "for i in np.arange(len(ddf)):\n",
    "    for j in np.arange(0,i):\n",
    "        a,b,c,d=getShortestPath2andF(dotfile,src=ddf[i],tgt=ddf[j])\n",
    "        if  d and c<5:\n",
    "            print(ddf[i],ddf[j],c,b)\n",
    "        "
   ]
  },
  {
   "cell_type": "code",
   "execution_count": 8,
   "id": "dcc98f8e",
   "metadata": {},
   "outputs": [
    {
     "name": "stdout",
     "output_type": "stream",
     "text": [
      "[12 53  6 22] ['x155' 'x63' 'x14' 'x223']\n"
     ]
    }
   ],
   "source": [
    "genFig(dotfile,'x223','x155',suffix='x',RAD=4,namemap=None,col=None)"
   ]
  },
  {
   "cell_type": "code",
   "execution_count": null,
   "id": "ed4d82d1",
   "metadata": {},
   "outputs": [],
   "source": []
  }
 ],
 "metadata": {
  "kernelspec": {
   "display_name": "Python 3 (ipykernel)",
   "language": "python",
   "name": "python3"
  },
  "language_info": {
   "codemirror_mode": {
    "name": "ipython",
    "version": 3
   },
   "file_extension": ".py",
   "mimetype": "text/x-python",
   "name": "python",
   "nbconvert_exporter": "python",
   "pygments_lexer": "ipython3",
   "version": "3.10.6"
  }
 },
 "nbformat": 4,
 "nbformat_minor": 5
}
