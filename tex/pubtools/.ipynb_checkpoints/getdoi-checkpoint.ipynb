{
 "cells": [
  {
   "cell_type": "code",
   "execution_count": 1,
   "metadata": {},
   "outputs": [],
   "source": [
    "from habanero import Crossref\n",
    "import bibtexparser\n",
    "from tqdm import tqdm\n",
    "cr = Crossref()\n",
    "#x = cr.works(query = \"ishanu and chattopadhyay\", limit = 95)\n",
    "#ITEMS=x['message']['items']"
   ]
  },
  {
   "cell_type": "code",
   "execution_count": 2,
   "metadata": {},
   "outputs": [],
   "source": [
    "with open('../allbib.bib') as bibtex_file:\n",
    "    bib_database = bibtexparser.load(bibtex_file)"
   ]
  },
  {
   "cell_type": "code",
   "execution_count": 3,
   "metadata": {},
   "outputs": [],
   "source": [
    "L=[]\n",
    "P=[]\n",
    "for entry in bib_database.entries:\n",
    "    if 'doi' not in entry.keys():\n",
    "        L=L+[entry]\n",
    "    else:\n",
    "        P=P+[entry]"
   ]
  },
  {
   "cell_type": "code",
   "execution_count": 4,
   "metadata": {},
   "outputs": [
    {
     "name": "stderr",
     "output_type": "stream",
     "text": [
      "100%|█████████████████████████████████████████| 123/123 [01:17<00:00,  1.59it/s]\n"
     ]
    }
   ],
   "source": [
    "for entry in tqdm(L):\n",
    "    doi=None\n",
    "    if 'title' in entry.keys():\n",
    "        x= cr.works(query = entry['title'], limit = 1)\n",
    "        if 'DOI' in x['message']['items'][0].keys():\n",
    "            doi=x['message']['items'][0]['DOI']   \n",
    "            #print(entry['title'],doi)\n",
    "            entry['doi']=doi\n",
    "OUT=L+P"
   ]
  },
  {
   "cell_type": "code",
   "execution_count": null,
   "metadata": {},
   "outputs": [],
   "source": [
    "count=0\n",
    "count_present=0\n",
    "count_total=0\n",
    "for entry in tqdm(bib_database.entries):\n",
    "    count_total=count_total+1\n",
    "    if 'doi' not in entry.keys():\n",
    "        if 'title' in entry.keys():\n",
    "            x= cr.works(query = entry['title'], limit = 1)\n",
    "            if 'DOI' in x['message']['items'][0].keys():\n",
    "                entry['doi']=x['message']['items'][0]['DOI'] \n",
    "                count=count+1\n",
    "    else:\n",
    "        count_present=count_present+1\n"
   ]
  },
  {
   "cell_type": "code",
   "execution_count": null,
   "metadata": {},
   "outputs": [],
   "source": [
    "with open('bibtex_.bib', 'w') as bibtex_file:\n",
    "    bibtexparser.dump(bibtex_database, bibtex_file)"
   ]
  }
 ],
 "metadata": {
  "kernelspec": {
   "display_name": "Python 3 (ipykernel)",
   "language": "python",
   "name": "python3"
  },
  "language_info": {
   "codemirror_mode": {
    "name": "ipython",
    "version": 3
   },
   "file_extension": ".py",
   "mimetype": "text/x-python",
   "name": "python",
   "nbconvert_exporter": "python",
   "pygments_lexer": "ipython3",
   "version": "3.10.5"
  }
 },
 "nbformat": 4,
 "nbformat_minor": 4
}
