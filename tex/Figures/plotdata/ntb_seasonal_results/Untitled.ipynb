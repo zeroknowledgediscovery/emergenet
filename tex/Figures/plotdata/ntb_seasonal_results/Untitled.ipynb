{
 "cells": [
  {
   "cell_type": "code",
   "execution_count": 1,
   "metadata": {},
   "outputs": [],
   "source": [
    "import pandas as pd"
   ]
  },
  {
   "cell_type": "code",
   "execution_count": 3,
   "metadata": {},
   "outputs": [
    {
     "data": {
      "text/plain": [
       "Index(['year', 'WHO_recommendation_name', 'WHO_recommendation_sequence',\n",
       "       'dominant_strain_accession', 'dominant_strain_sequence',\n",
       "       'dominant_strain_accession_name', 'qdistance_recommendation_accession',\n",
       "       'qdistance_recommendation_sequence',\n",
       "       'qdistance_recommendation_accession_name', 'ldistance_WHO',\n",
       "       'ldistance_Qnet_recommendation', 'qnet_sample_size'],\n",
       "      dtype='object')"
      ]
     },
     "execution_count": 3,
     "metadata": {},
     "output_type": "execute_result"
    }
   ],
   "source": [
    "df=pd.read_csv('../north_h1n1_ha.csv')\n",
    "df.columns"
   ]
  },
  {
   "cell_type": "code",
   "execution_count": 13,
   "metadata": {},
   "outputs": [
    {
     "name": "stdout",
     "output_type": "stream",
     "text": [
      "6.055761952500853e-17\n"
     ]
    }
   ],
   "source": [
    "xf=df[['ldistance_Qnet_recommendation','ldistance_WHO']]\n",
    "dx=xf.diff(axis=1).iloc[:,1]\n",
    "mx=dx.mean()\n",
    "sx=dx.std()\n",
    "zx=(dx-mx)/sx\n",
    "# H0: dx==0\n",
    "print(zx.mean())"
   ]
  },
  {
   "cell_type": "code",
   "execution_count": 16,
   "metadata": {},
   "outputs": [
    {
     "data": {
      "text/plain": [
       "<AxesSubplot:>"
      ]
     },
     "execution_count": 16,
     "metadata": {},
     "output_type": "execute_result"
    },
    {
     "data": {
      "image/png": "[encoded data removed]",
      "text/plain": [
       "<Figure size 432x288 with 1 Axes>"
      ]
     },
     "metadata": {},
     "output_type": "display_data"
    }
   ],
   "source": [
    "import pylab as plt\n",
    "plt.style.use('dark_background')\n",
    "zx.hist()"
   ]
  },
  {
   "cell_type": "code",
   "execution_count": 24,
   "metadata": {},
   "outputs": [
    {
     "name": "stdout",
     "output_type": "stream",
     "text": [
      "1.5443725626546811 3.727272727272727 5.910172891890773\n"
     ]
    }
   ],
   "source": [
    "import numpy as np\n",
    "F=2\n",
    "print(mx - F*sx/(np.sqrt(dx.index.size)),mx,mx + F*sx/(np.sqrt(dx.index.size)))"
   ]
  },
  {
   "cell_type": "code",
   "execution_count": 43,
   "metadata": {},
   "outputs": [
    {
     "data": {
      "text/html": [
       "<div>\n",
       "<style scoped>\n",
       "    .dataframe tbody tr th:only-of-type {\n",
       "        vertical-align: middle;\n",
       "    }\n",
       "\n",
       "    .dataframe tbody tr th {\n",
       "        vertical-align: top;\n",
       "    }\n",
       "\n",
       "    .dataframe thead th {\n",
       "        text-align: right;\n",
       "    }\n",
       "</style>\n",
       "<table border=\"1\" class=\"dataframe\">\n",
       "  <thead>\n",
       "    <tr style=\"text-align: right;\">\n",
       "      <th></th>\n",
       "      <th>ldistance_Qnet_recommendation</th>\n",
       "      <th>ldistance_WHO</th>\n",
       "    </tr>\n",
       "  </thead>\n",
       "  <tbody>\n",
       "    <tr>\n",
       "      <th>0</th>\n",
       "      <td>6</td>\n",
       "      <td>4</td>\n",
       "    </tr>\n",
       "    <tr>\n",
       "      <th>1</th>\n",
       "      <td>1</td>\n",
       "      <td>3</td>\n",
       "    </tr>\n",
       "    <tr>\n",
       "      <th>2</th>\n",
       "      <td>2</td>\n",
       "      <td>5</td>\n",
       "    </tr>\n",
       "    <tr>\n",
       "      <th>3</th>\n",
       "      <td>4</td>\n",
       "      <td>7</td>\n",
       "    </tr>\n",
       "    <tr>\n",
       "      <th>4</th>\n",
       "      <td>10</td>\n",
       "      <td>8</td>\n",
       "    </tr>\n",
       "    <tr>\n",
       "      <th>5</th>\n",
       "      <td>1</td>\n",
       "      <td>6</td>\n",
       "    </tr>\n",
       "    <tr>\n",
       "      <th>6</th>\n",
       "      <td>11</td>\n",
       "      <td>8</td>\n",
       "    </tr>\n",
       "    <tr>\n",
       "      <th>7</th>\n",
       "      <td>2</td>\n",
       "      <td>2</td>\n",
       "    </tr>\n",
       "    <tr>\n",
       "      <th>8</th>\n",
       "      <td>119</td>\n",
       "      <td>119</td>\n",
       "    </tr>\n",
       "    <tr>\n",
       "      <th>9</th>\n",
       "      <td>1</td>\n",
       "      <td>5</td>\n",
       "    </tr>\n",
       "    <tr>\n",
       "      <th>10</th>\n",
       "      <td>2</td>\n",
       "      <td>7</td>\n",
       "    </tr>\n",
       "    <tr>\n",
       "      <th>11</th>\n",
       "      <td>4</td>\n",
       "      <td>11</td>\n",
       "    </tr>\n",
       "    <tr>\n",
       "      <th>12</th>\n",
       "      <td>2</td>\n",
       "      <td>10</td>\n",
       "    </tr>\n",
       "    <tr>\n",
       "      <th>13</th>\n",
       "      <td>0</td>\n",
       "      <td>12</td>\n",
       "    </tr>\n",
       "    <tr>\n",
       "      <th>14</th>\n",
       "      <td>2</td>\n",
       "      <td>14</td>\n",
       "    </tr>\n",
       "    <tr>\n",
       "      <th>15</th>\n",
       "      <td>0</td>\n",
       "      <td>16</td>\n",
       "    </tr>\n",
       "    <tr>\n",
       "      <th>16</th>\n",
       "      <td>4</td>\n",
       "      <td>5</td>\n",
       "    </tr>\n",
       "    <tr>\n",
       "      <th>17</th>\n",
       "      <td>1</td>\n",
       "      <td>6</td>\n",
       "    </tr>\n",
       "    <tr>\n",
       "      <th>18</th>\n",
       "      <td>1</td>\n",
       "      <td>5</td>\n",
       "    </tr>\n",
       "    <tr>\n",
       "      <th>19</th>\n",
       "      <td>8</td>\n",
       "      <td>4</td>\n",
       "    </tr>\n",
       "    <tr>\n",
       "      <th>20</th>\n",
       "      <td>3</td>\n",
       "      <td>9</td>\n",
       "    </tr>\n",
       "    <tr>\n",
       "      <th>21</th>\n",
       "      <td>-1</td>\n",
       "      <td>-1</td>\n",
       "    </tr>\n",
       "  </tbody>\n",
       "</table>\n",
       "</div>"
      ],
      "text/plain": [
       "    ldistance_Qnet_recommendation  ldistance_WHO\n",
       "0                               6              4\n",
       "1                               1              3\n",
       "2                               2              5\n",
       "3                               4              7\n",
       "4                              10              8\n",
       "5                               1              6\n",
       "6                              11              8\n",
       "7                               2              2\n",
       "8                             119            119\n",
       "9                               1              5\n",
       "10                              2              7\n",
       "11                              4             11\n",
       "12                              2             10\n",
       "13                              0             12\n",
       "14                              2             14\n",
       "15                              0             16\n",
       "16                              4              5\n",
       "17                              1              6\n",
       "18                              1              5\n",
       "19                              8              4\n",
       "20                              3              9\n",
       "21                             -1             -1"
      ]
     },
     "execution_count": 43,
     "metadata": {},
     "output_type": "execute_result"
    }
   ],
   "source": [
    "xf"
   ]
  },
  {
   "cell_type": "code",
   "execution_count": null,
   "metadata": {},
   "outputs": [],
   "source": [
    "wf=xf.iloc[:,1].values\n",
    "qf=xf.iloc[:,0].values\n",
    "lf=pd.DataFrame(((wf-qf)/wf)).replace(-np.inf,np.nan)#.dropna().mean()\n",
    "lf.hist()"
   ]
  },
  {
   "cell_type": "code",
   "execution_count": 49,
   "metadata": {},
   "outputs": [],
   "source": [
    "from distfit import distfit\n",
    "#import distfit"
   ]
  },
  {
   "cell_type": "code",
   "execution_count": 61,
   "metadata": {},
   "outputs": [
    {
     "name": "stdout",
     "output_type": "stream",
     "text": [
      "[distfit] >fit..\n",
      "[distfit] >transform..\n",
      "[distfit] >[norm      ] [0.00 sec] [RSS: 29.7889] [loc=1.678 scale=0.704]\n",
      "[distfit] >[expon     ] [0.00 sec] [RSS: 31.4573] [loc=0.368 scale=1.310]\n",
      "[distfit] >[pareto    ] [0.06 sec] [RSS: 33.6027] [loc=-0.656 scale=1.024]\n",
      "[distfit] >[dweibull  ] [0.02 sec] [RSS: 27.4526] [loc=1.453 scale=0.760]\n",
      "[distfit] >[t         ] [0.06 sec] [RSS: 29.7884] [loc=1.678 scale=0.704]\n",
      "[distfit] >[genextreme] [0.03 sec] [RSS: 28.6513] [loc=1.549 scale=0.790]\n",
      "[distfit] >[gamma     ] [0.07 sec] [RSS: 29.8947] [loc=-10.464 scale=0.042]\n",
      "[distfit] >[lognorm   ] [0.15 sec] [RSS: 29.81] [loc=-154.866 scale=156.543]\n",
      "[distfit] >[beta      ] [0.08 sec] [RSS: 27.5899] [loc=0.134 scale=2.584]\n",
      "[distfit] >[uniform   ] [0.00 sec] [RSS: 28.3491] [loc=0.368 scale=2.350]\n",
      "[distfit] >[loggamma  ] [0.01 sec] [RSS: 28.7745] [loc=2.188 scale=0.490]\n",
      "[distfit] >Compute confidence interval [parametric]\n"
     ]
    },
    {
     "data": {
      "text/plain": [
       "{'model': {'distr': <scipy.stats._continuous_distns.dweibull_gen at 0x7fa4426633a0>,\n",
       "  'stats': 'RSS',\n",
       "  'params': (2.3876437193219564, 1.4530677878141764, 0.7604166965962804),\n",
       "  'name': 'dweibull',\n",
       "  'model': <scipy.stats._distn_infrastructure.rv_frozen at 0x7fa4413eca00>,\n",
       "  'score': 27.452582903045595,\n",
       "  'loc': 1.4530677878141764,\n",
       "  'scale': 0.7604166965962804,\n",
       "  'arg': (2.3876437193219564,),\n",
       "  'CII_min_alpha': 0.374727354997874,\n",
       "  'CII_max_alpha': 2.531408220630479},\n",
       " 'summary':          distr      score  LLE         loc       scale  \\\n",
       " 0     dweibull  27.452583  NaN    1.453068    0.760417   \n",
       " 1         beta  27.589916  NaN    0.134487    2.583794   \n",
       " 2      uniform  28.349108  NaN    0.367879    2.350402   \n",
       " 3   genextreme  28.651252  NaN    1.548941    0.790338   \n",
       " 4     loggamma  28.774545  NaN    2.188211    0.489614   \n",
       " 5            t  29.788444  NaN    1.678108    0.704172   \n",
       " 6         norm  29.788864  NaN    1.678111    0.704105   \n",
       " 7      lognorm  29.809974  NaN -154.865755  156.543036   \n",
       " 8        gamma  29.894714  NaN  -10.464477    0.041621   \n",
       " 9        expon   31.45726  NaN    0.367879    1.310231   \n",
       " 10      pareto  33.602709  NaN   -0.656362    1.024241   \n",
       " \n",
       "                                         arg  \n",
       " 0                     (2.3876437193219564,)  \n",
       " 1   (0.9377876895477544, 0.666562130605318)  \n",
       " 2                                        ()  \n",
       " 3                     (0.6195805385859092,)  \n",
       " 4                     (0.7676345070920918,)  \n",
       " 5                      (22816266.01105786,)  \n",
       " 6                                        ()  \n",
       " 7                   (0.004490009699361577,)  \n",
       " 8                       (291.661795876013,)  \n",
       " 9                                        ()  \n",
       " 10                     (1.202991231020006,)  ,\n",
       " 'histdata': (array([0.96695242, 0.        , 0.        , 0.        , 0.        ,\n",
       "         0.96695242, 0.96695242, 0.        , 0.96695242, 0.        ,\n",
       "         0.        , 0.        , 0.        , 2.90085726, 0.        ,\n",
       "         0.        , 0.        , 0.        , 0.96695242, 0.        ,\n",
       "         0.        , 0.        , 0.        , 0.        , 0.96695242,\n",
       "         0.        , 0.        , 0.        , 0.        , 0.        ,\n",
       "         0.96695242, 0.        , 0.96695242, 1.93390484, 0.        ,\n",
       "         0.96695242, 0.        , 0.        , 0.        , 2.90085726,\n",
       "         0.        , 1.93390484, 0.96695242, 0.        , 0.        ,\n",
       "         0.        , 0.        , 0.        , 0.        , 1.93390484]),\n",
       "  array([0.39138347, 0.43839151, 0.48539956, 0.53240761, 0.57941566,\n",
       "         0.6264237 , 0.67343175, 0.7204398 , 0.76744785, 0.81445589,\n",
       "         0.86146394, 0.90847199, 0.95548004, 1.00248809, 1.04949613,\n",
       "         1.09650418, 1.14351223, 1.19052028, 1.23752832, 1.28453637,\n",
       "         1.33154442, 1.37855247, 1.42556052, 1.47256856, 1.51957661,\n",
       "         1.56658466, 1.61359271, 1.66060075, 1.7076088 , 1.75461685,\n",
       "         1.8016249 , 1.84863295, 1.89564099, 1.94264904, 1.98965709,\n",
       "         2.03666514, 2.08367318, 2.13068123, 2.17768928, 2.22469733,\n",
       "         2.27170537, 2.31871342, 2.36572147, 2.41272952, 2.45973757,\n",
       "         2.50674561, 2.55375366, 2.60076171, 2.64776976, 2.6947778 ])),\n",
       " 'size': 22,\n",
       " 'alpha': 0.05,\n",
       " 'stats': 'RSS',\n",
       " 'bins': 50,\n",
       " 'bound': 'both',\n",
       " 'distr': 'popular',\n",
       " 'method': 'parametric',\n",
       " 'multtest': 'fdr_bh',\n",
       " 'n_perm': 10000,\n",
       " 'smooth': None,\n",
       " 'weighted': True,\n",
       " 'f': 1.5}"
      ]
     },
     "execution_count": 61,
     "metadata": {},
     "output_type": "execute_result"
    }
   ],
   "source": [
    "dist = distfit()\n",
    "\n",
    "# Search for best theoretical fit on your empirical data\n",
    "dist.fit_transform(np.exp(lf.values))"
   ]
  },
  {
   "cell_type": "code",
   "execution_count": 59,
   "metadata": {},
   "outputs": [
    {
     "name": "stdout",
     "output_type": "stream",
     "text": [
      "[distfit] >plot..\n"
     ]
    },
    {
     "data": {
      "text/plain": [
       "(<Figure size 720x576 with 1 Axes>,\n",
       " <AxesSubplot:title={'center':'\\nloggamma\\nRSS(c=1.0493e-06, loc=1.00002, scale=6.31534e-07)'}, xlabel='Values', ylabel='Frequency'>)"
      ]
     },
     "execution_count": 59,
     "metadata": {},
     "output_type": "execute_result"
    },
    {
     "data": {
      "image/png": "[encoded data removed]",
      "text/plain": [
       "<Figure size 720x576 with 1 Axes>"
      ]
     },
     "metadata": {},
     "output_type": "display_data"
    }
   ],
   "source": [
    "plt.style.use('ggplot')\n",
    "dist.plot()"
   ]
  },
  {
   "cell_type": "code",
   "execution_count": 60,
   "metadata": {},
   "outputs": [
    {
     "data": {
      "text/html": [
       "<div>\n",
       "<style scoped>\n",
       "    .dataframe tbody tr th:only-of-type {\n",
       "        vertical-align: middle;\n",
       "    }\n",
       "\n",
       "    .dataframe tbody tr th {\n",
       "        vertical-align: top;\n",
       "    }\n",
       "\n",
       "    .dataframe thead th {\n",
       "        text-align: right;\n",
       "    }\n",
       "</style>\n",
       "<table border=\"1\" class=\"dataframe\">\n",
       "  <thead>\n",
       "    <tr style=\"text-align: right;\">\n",
       "      <th></th>\n",
       "      <th>distr</th>\n",
       "      <th>score</th>\n",
       "      <th>LLE</th>\n",
       "      <th>loc</th>\n",
       "      <th>scale</th>\n",
       "      <th>arg</th>\n",
       "    </tr>\n",
       "  </thead>\n",
       "  <tbody>\n",
       "    <tr>\n",
       "      <th>0</th>\n",
       "      <td>loggamma</td>\n",
       "      <td>47.105813</td>\n",
       "      <td>NaN</td>\n",
       "      <td>1.000018</td>\n",
       "      <td>0.000001</td>\n",
       "      <td>(1.0492975506710348e-06,)</td>\n",
       "    </tr>\n",
       "  </tbody>\n",
       "</table>\n",
       "</div>"
      ],
      "text/plain": [
       "      distr      score  LLE       loc     scale                        arg\n",
       "0  loggamma  47.105813  NaN  1.000018  0.000001  (1.0492975506710348e-06,)"
      ]
     },
     "execution_count": 60,
     "metadata": {},
     "output_type": "execute_result"
    }
   ],
   "source": [
    "dist.summary"
   ]
  }
 ],
 "metadata": {
  "kernelspec": {
   "display_name": "Python 3 (ipykernel)",
   "language": "python",
   "name": "python3"
  },
  "language_info": {
   "codemirror_mode": {
    "name": "ipython",
    "version": 3
   },
   "file_extension": ".py",
   "mimetype": "text/x-python",
   "name": "python",
   "nbconvert_exporter": "python",
   "pygments_lexer": "ipython3",
   "version": "3.10.6"
  }
 },
 "nbformat": 4,
 "nbformat_minor": 4
}
