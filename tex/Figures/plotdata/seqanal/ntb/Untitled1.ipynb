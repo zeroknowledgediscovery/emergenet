{
 "cells": [
  {
   "cell_type": "code",
   "execution_count": 1,
   "metadata": {},
   "outputs": [],
   "source": [
    "import pandas as pd"
   ]
  },
  {
   "cell_type": "code",
   "execution_count": 46,
   "metadata": {},
   "outputs": [],
   "source": [
    "DUMMY=False\n",
    "STRA='L{1in}|L{1.25in}|L{1.25in}|L{1.5in}|L{.3in}|L{.3in}'\n",
    "\n",
    "def texTable(df,tabname='tmp.tex',FORMAT='%1.2f',INDEX=False,DUMMY=DUMMY,HDR=None):\n",
    "    '''\n",
    "        write latex table\n",
    "    '''\n",
    "    if DUMMY:\n",
    "        return\n",
    "    if INDEX:\n",
    "        df=df.reset_index()\n",
    "    columns=df.columns\n",
    "    df.columns=[x.replace('_','\\\\_') for x in columns]\n",
    "    for col in df.columns:\n",
    "        if df[col].dtype == 'object':\n",
    "            df[col]=df[col].str.replace('_','\\\\_')\n",
    "    \n",
    "    if HDR is not None:\n",
    "        TABFORMAT=HDR\n",
    "    else:\n",
    "        TABFORMAT='L{1in}|'*len(df.columns)\n",
    "        TABFORMAT=TABFORMAT[:-1]\n",
    "    STR='\\\\begin{tabular}{'+TABFORMAT+'}\\n'        \n",
    "    with open(tabname,'w') as f:\n",
    "        f.write(STR)\n",
    "    df.to_csv(tabname,float_format=FORMAT,\n",
    "              line_terminator='\\\\\\\\\\\\hline\\n',\n",
    "              sep='&',quotechar=' ',index=None,mode='a')\n",
    "    \n",
    "    with open(tabname,'a') as f:\n",
    "        f.write('\\\\end{tabular}\\n')"
   ]
  },
  {
   "cell_type": "code",
   "execution_count": 47,
   "metadata": {},
   "outputs": [],
   "source": [
    "df=pd.read_csv('../HA_449210134203_conversion_table.txt',sep='\\t')\n",
    "df=df.iloc[:,0:3]\n",
    "df1=df.head(90)\n",
    "df2=df.iloc[91:181,:]\n",
    "df3=df.iloc[181:271,:]\n",
    "df4=df.iloc[271:361,:]\n"
   ]
  },
  {
   "cell_type": "code",
   "execution_count": 48,
   "metadata": {},
   "outputs": [
    {
     "name": "stderr",
     "output_type": "stream",
     "text": [
      "/usr/lib/python3.7/site-packages/ipykernel_launcher.py:16: SettingWithCopyWarning: \n",
      "A value is trying to be set on a copy of a slice from a DataFrame.\n",
      "Try using .loc[row_indexer,col_indexer] = value instead\n",
      "\n",
      "See the caveats in the documentation: http://pandas.pydata.org/pandas-docs/stable/user_guide/indexing.html#returning-a-view-versus-a-copy\n",
      "  app.launch_new_instance()\n"
     ]
    }
   ],
   "source": [
    "HDR='L{.2in}|L{.32in}|L{.15in}'\n",
    "texTable(df1,tabname='tmp1.tex',FORMAT='%df',DUMMY=DUMMY,HDR=HDR)\n",
    "texTable(df2,tabname='tmp2.tex',FORMAT='%df',DUMMY=DUMMY,HDR=HDR)\n",
    "texTable(df3,tabname='tmp3.tex',FORMAT='%df',DUMMY=DUMMY,HDR=HDR)\n",
    "texTable(df4,tabname='tmp4.tex',FORMAT='%df',DUMMY=DUMMY,HDR=HDR)\n"
   ]
  },
  {
   "cell_type": "code",
   "execution_count": null,
   "metadata": {},
   "outputs": [],
   "source": []
  }
 ],
 "metadata": {
  "kernelspec": {
   "display_name": "Python 3",
   "language": "python",
   "name": "python3"
  },
  "language_info": {
   "codemirror_mode": {
    "name": "ipython",
    "version": 3
   },
   "file_extension": ".py",
   "mimetype": "text/x-python",
   "name": "python",
   "nbconvert_exporter": "python",
   "pygments_lexer": "ipython3",
   "version": "3.7.1"
  }
 },
 "nbformat": 4,
 "nbformat_minor": 2
}
