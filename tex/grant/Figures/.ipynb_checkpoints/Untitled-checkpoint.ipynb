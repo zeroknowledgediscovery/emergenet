{
 "cells": [
  {
   "cell_type": "code",
   "execution_count": 19,
   "metadata": {},
   "outputs": [
    {
     "data": {
      "text/plain": [
       "array(['Clomipramine', 'Paroxetine', 'Nefazodone HCl', 'Doxepin',\n",
       "       'Citalopram', 'Desvenlafaxine', 'Amitriptyline', 'Fluoxetine',\n",
       "       'Escitalopram', 'Trazodone', 'Bupropion', 'Duloxetine HCl',\n",
       "       'Venlafaxine HCl', 'Sertraline', 'Vilazodone', 'Imipramine',\n",
       "       'Nortriptyline', 'Fluvoxamine Maleate', 'Mirtazapine',\n",
       "       'Vortioxetine', 'Levomilnacipran'], dtype=object)"
      ]
     },
     "execution_count": 19,
     "metadata": {},
     "output_type": "execute_result"
    }
   ],
   "source": [
    "import pandas as pd\n",
    "df=pd.read_csv('table1.csv').fillna('')\n",
    "df=df.drop(0)\n",
    "df=df.replace('Amitriptyline & Comb.','Amitriptyline')\n",
    "df['Drug name'].values"
   ]
  },
  {
   "cell_type": "code",
   "execution_count": 25,
   "metadata": {},
   "outputs": [],
   "source": [
    "from zedstat.textable import textable\n",
    "textable(df,INDEX=False,tabname='drugs1.tex',FORMAT='%1.1f',\n",
    "         LNTERM='\\\\\\\\\\n')\n"
   ]
  },
  {
   "cell_type": "code",
   "execution_count": 21,
   "metadata": {},
   "outputs": [
    {
     "name": "stdout",
     "output_type": "stream",
     "text": [
      "\\begin{tabular}{L{1in}|L{1in}|L{1in}|L{1in}|L{1in}|L{1in}}\\hline\r\n",
      " Drug  name & ASD  Risk  Ratio & ASD  Risk  Ratio  (antidep.  takers) & Intellectual  Disorders  Risk  Ratio* & Cerebral  Palsy  Risk  Ratio* \\\\\r\n",
      "Clomipramine& 0.597  (0.115,  3.237) & 0.551  (0.106,  3.004) & 20.243  (5.812,  66.318) & No  data \\\\\r\n",
      "Paroxetine& 0.743  (0.577,  0.981) & 0.687  (0.524,  0.901) & 0.883  (0.331,  2.325) & 0.699  (0.210,  2.254) \\\\\r\n",
      " Nefazodone  HCl & 0.804  (0.151,  4.352) & 0.743  (0.141,  4.041) & No  data & No  data \\\\\r\n",
      "Doxepin& 0.841  (0.158,  4.548) & 0.777  (0.146,  4.223) & 13.802  (2.473,  73.089) & No  data \\\\\r\n",
      "Citalopram& 0.952  (0.821,  1.109) & 0.880  (0.742,  1.021) & 1.058  (0.590,  1.931) & 1.118  (0.605,  2.141) \\\\\r\n",
      "Desvenlafaxine& 0.969  (0.608,  1.550) & 0.896  (0.562,  1.440) & 2.345  (0.726,  7.790) & No  data \\\\\r\n",
      "Amitriptyline& 0.973  (0.738,  1.286) & 0.899  (0.680,  1.195) & 2.066  (0.996,  4.639) & 0.489  (0.091,  2.526) \\\\\r\n",
      "Fluoxetine& 0.981  (0.844,  1.141) & 0.906  (0.766,  1.055) & 1.218  (0.713,  2.222) & 0.578  (0.231,  1.282) \\\\\r\n",
      "Escitalopram& 1.075  (0.943,  1.220) & 0.994  (0.864,  1.142) & 0.382  (0.146,  0.798) & 1.024  (0.563,  1.879) \\\\\r\n",
      "Trazodone& 1.084  (0.848,  1.375) & 1.002  (0.782,  1.282) & 1.725  (0.827,  3.847) & 0.818  (0.247,  2.659) \\\\\r\n",
      "Bupropion& 1.107  (0.960,  1.266) & 1.023  (0.884,  1.189) & 0.569  (0.247,  1.147) & 1.764  (1.186,  3.398) \\\\\r\n",
      " Duloxetine  HCl & 1.126  (0.887,  1.414) & 1.041  (0.820,  1.321) & 0.659  (0.199,  2.119) & 1.178  (0.446,  3.162) \\\\\r\n",
      " Venlafaxine  HCl & 1.161  (0.949,  1.401) & 1.073  (0.878,  1.314) & 0.236  (0.043,  1.180) & 0.562  (0.167,  1.789) \\\\\r\n",
      "Sertraline& 1.241  (1.138,  1.344) & 1.147  (1.109,  1.370) & 1.060  (0.715,  1.680) & 0.997  (0.621,  1.595) \\\\\r\n",
      "Vilazodone& 1.261  (0.467,  3.314) & 1.165  (0.433,  3.080) & No  data & No  data \\\\\r\n",
      "Imipramine& 1.479  (0.432,  4.820) & 1.367  (0.401,  4.480) & No  data & No  data \\\\\r\n",
      "Nortriptyline& 1.547  (1.028,  2.207) & 1.430  (0.955,  2.065) & 3.558  (1.374,  9.725) & 1.400  (0.266,  7.422) \\\\\r\n",
      " Fluvoxamine  Maleate & 1.567  (0.709,  3.269) & 1.448  (0.658,  3.043) & 14.934  (5.527,  40.407) & No  data \\\\\r\n",
      "Mirtazapine& 1.730  (1.087,  2.562) & 1.599  (1.011,  2.396) & 4.951  (1.906,  13.548) & No  data \\\\\r\n",
      "Vortioxetine& 2.054  (0.347,  10.942) & 1.899  (0.322,  10.166) & No  data & No  data \\\\\r\n",
      "Levomilnacipran& 3.698  (0.550,  19.201) & 4.272  (0.597,  21.959) & No  data & 90.283  (12.0,  453.78) \\\\\r\n",
      "\\hline\\end{tabular}\r\n"
     ]
    }
   ],
   "source": [
    "! cat drugs1.tex"
   ]
  },
  {
   "cell_type": "code",
   "execution_count": null,
   "metadata": {},
   "outputs": [],
   "source": []
  }
 ],
 "metadata": {
  "kernelspec": {
   "display_name": "Python 3 (ipykernel)",
   "language": "python",
   "name": "python3"
  },
  "language_info": {
   "codemirror_mode": {
    "name": "ipython",
    "version": 3
   },
   "file_extension": ".py",
   "mimetype": "text/x-python",
   "name": "python",
   "nbconvert_exporter": "python",
   "pygments_lexer": "ipython3",
   "version": "3.10.6"
  }
 },
 "nbformat": 4,
 "nbformat_minor": 4
}
