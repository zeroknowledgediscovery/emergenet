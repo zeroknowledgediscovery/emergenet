{
 "cells": [
  {
   "cell_type": "markdown",
   "id": "59c4fdeb",
   "metadata": {},
   "source": [
    "# Influenza Enet Predictions\n",
    "- Predicting dominant strains using Emergenet"
   ]
  },
  {
   "cell_type": "code",
   "execution_count": 3,
   "id": "044273eb",
   "metadata": {},
   "outputs": [],
   "source": [
    "import os \n",
    "import numpy as np\n",
    "import pandas as pd\n",
    "import warnings\n",
    "warnings.filterwarnings('ignore')"
   ]
  },
  {
   "cell_type": "markdown",
   "id": "88a82805",
   "metadata": {},
   "source": [
    "## Create Enet Models\n",
    "- Truncate HA at 565 amino acids, we only need HA models\n",
    "- Give Enet the same name as the data file\n",
    "    \n",
    "### Running Processes\n",
    "\n",
    "Computations are done in:\n",
    "- `enet_train.py`\n",
    "- `run_enet_train.sh`\n",
    "\n",
    "To run, navigate to terminal and do\n",
    "\n",
    "`chmod ugo+rwx run_enet_train.sh`\n",
    "\n",
    "`./run_enet_train.sh`"
   ]
  },
  {
   "cell_type": "markdown",
   "id": "5ee3de2e",
   "metadata": {},
   "source": [
    "## Predictions\n",
    "E-Centroid: $$x_{*}^{t+\\delta} = argmin_{y\\in \\bigcup_{r\\leq t}H^{\\tau}} \\sum_{x \\in {H^t}} \\theta(x,y) - |H^t|A \\text{ln}\\omega_y$$\n",
    "- $x_{*}^{t+\\delta}$ is the dominant strain in the upcoming flu season at time $t+\\omega$\n",
    "- $H^t$ is the sequence population at time $t$\n",
    "- $\\theta(x,y)$ is the e-distance between $x$ and $y$ in their respective Enets\n",
    "- $A = \\frac{1-\\alpha}{\\sqrt{8}N^2}$, where $\\alpha$ is a fixed significance level and $N$ is the sequence length considered\n",
    "- $\\text{ln}\\omega_y$ is the membership degree of sequence $y$\n",
    "- **Predict dominant strain based on HA data only** \n",
    "    - Then take corresponding NA strain\n",
    "- Perform MeanShift clustering on the q-distance matrix for $H^t$\n",
    "    - Cluster on $H^t$, then compute $x_{*}^{t+\\delta}$ for the top ten largest clusters (we will use the largest two clusters for our predictions)\n",
    "\n",
    "### Running Processes\n",
    "\n",
    "Computations are done in:\n",
    "- `enet_predictions.py`\n",
    "- `run_enet_predictions.sh`\n",
    "\n",
    "To run, navigate to terminal and do\n",
    "\n",
    "`chmod ugo+rwx run_enet_predictions.sh`\n",
    "\n",
    "`./run_enet_predictions.sh`"
   ]
  },
  {
   "cell_type": "markdown",
   "id": "bd357922",
   "metadata": {},
   "source": [
    "## Aggregate Predictions"
   ]
  },
  {
   "cell_type": "code",
   "execution_count": 4,
   "id": "5b0ef78a-b715-43f6-b99f-3578da2addb2",
   "metadata": {},
   "outputs": [],
   "source": [
    "PRED_DIR = 'results/enet_predictions/seasonal_predictions/'\n",
    "DATA_DIR = 'raw_data/merged/'\n",
    "DM_DIR = 'results/enet_predictions/distance_matrices/'\n",
    "\n",
    "FILES = ['north_h1n1', 'north_h3n2', 'south_h1n1', 'south_h3n2']\n",
    "\n",
    "NORTH_YEARS = []\n",
    "for i in np.arange(3, 24):\n",
    "    YEAR = ''\n",
    "    if i < 10:\n",
    "        YEAR += '0' + str(i)\n",
    "    else:\n",
    "        YEAR += (str(i))\n",
    "    if i + 1 < 10:\n",
    "        YEAR += '_0' + str(i + 1)\n",
    "    else:\n",
    "        YEAR += '_' + str(i + 1)\n",
    "    NORTH_YEARS.append(YEAR)\n",
    "        \n",
    "SOUTH_YEARS = []\n",
    "for i in np.arange(3, 24):\n",
    "    if i < 10:\n",
    "        SOUTH_YEARS.append('0' + str(i))\n",
    "    else:\n",
    "        SOUTH_YEARS.append(str(i))"
   ]
  },
  {
   "cell_type": "code",
   "execution_count": 5,
   "id": "4be014cb",
   "metadata": {},
   "outputs": [],
   "source": [
    "for FILE in FILES:\n",
    "    pred_df = pd.DataFrame(columns=['season',\n",
    "                                    'name_0','cluster_size_0','ha_acc_0','ha_seq_0','na_acc_0','na_seq_0',\n",
    "                                    'name_1','cluster_size_1','ha_acc_1','ha_seq_1','na_acc_1','na_seq_1',\n",
    "                                    'name_2','cluster_size_2','ha_acc_2','ha_seq_2','na_acc_2','na_seq_2']) \n",
    "    YEARS = []\n",
    "    if FILE[:5] == 'north':\n",
    "        YEARS = NORTH_YEARS\n",
    "    else:\n",
    "        YEARS = SOUTH_YEARS\n",
    "    for i in range(21):\n",
    "        if not os.path.isfile(PRED_DIR + FILE + '/' + FILE + '_' + YEARS[i] + '_predictions.csv'):\n",
    "            df1 = pd.DataFrame({'season':[YEARS[i]]})\n",
    "            for j in range(3):\n",
    "                df1['name_'+str(j)] = -1\n",
    "                df1['cluster_size_'+str(j)] = -1\n",
    "                df1['ha_acc_'+str(j)] = -1\n",
    "                df1['ha_seq_'+str(j)] = -1\n",
    "                df1['na_acc_'+str(j)] = -1\n",
    "                df1['na_seq_'+str(j)] = -1\n",
    "            pred_df = pd.concat([pred_df, df1])\n",
    "            continue\n",
    "                \n",
    "        df = pd.read_csv(PRED_DIR + FILE + '/' + FILE + '_' + YEARS[i] + '_predictions.csv')\n",
    "        \n",
    "        # expand to larger dataframe\n",
    "        df1 = pd.DataFrame({'season':[YEARS[i]]})\n",
    "        for j in range(3):\n",
    "            df1['name_'+str(j)] = df['name'].values[j]\n",
    "            df1['cluster_size_'+str(j)] = df['cluster_size'].values[j]\n",
    "            df1['ha_acc_'+str(j)] = df['acc'].values[j]\n",
    "            df1['ha_seq_'+str(j)] = df['sequence'].values[j]\n",
    "            df1['na_acc_'+str(j)] = df['acc_na'].values[j]\n",
    "            df1['na_seq_'+str(j)] = df['sequence_na'].values[j]\n",
    "            \n",
    "        # append to pred_df\n",
    "        pred_df = pd.concat([pred_df, df1])\n",
    "        \n",
    "    # Enet recommendation accession, name, sequence\n",
    "    pred_df.to_csv('results/enet_predictions/' + FILE + '_predictions.csv', index=False)"
   ]
  },
  {
   "cell_type": "code",
   "execution_count": null,
   "id": "3090e35a",
   "metadata": {},
   "outputs": [],
   "source": []
  }
 ],
 "metadata": {
  "kernelspec": {
   "display_name": "Python 3",
   "language": "python",
   "name": "python3"
  },
  "language_info": {
   "codemirror_mode": {
    "name": "ipython",
    "version": 3
   },
   "file_extension": ".py",
   "mimetype": "text/x-python",
   "name": "python",
   "nbconvert_exporter": "python",
   "pygments_lexer": "ipython3",
   "version": "3.8.8"
  }
 },
 "nbformat": 4,
 "nbformat_minor": 5
}
