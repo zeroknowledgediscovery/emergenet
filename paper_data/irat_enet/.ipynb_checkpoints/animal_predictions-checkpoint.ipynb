{
 "cells": [
  {
   "cell_type": "markdown",
   "id": "c3d52741",
   "metadata": {},
   "source": [
    "# Animal Influenza Emergence Risk Predictions\n",
    "- **Note: Enet and Qnet are interchangeable, Qnet was the old name**\n",
    "- Uses the Emergenet package to generate emergence risk scores for animal strains\n",
    "- Collected animal HA and NA strains from January 1, 2020 - September 30, 2022\n",
    "- Used Enets from `enet_models/current_enets/`"
   ]
  },
  {
   "cell_type": "code",
   "execution_count": 90,
   "id": "6b182d89",
   "metadata": {},
   "outputs": [],
   "source": [
    "import os \n",
    "import numpy as np\n",
    "import pandas as pd\n",
    "import scipy.stats as stats\n",
    "from matplotlib import pyplot as plt\n",
    "import math\n",
    "from tqdm.notebook import trange, tqdm\n",
    "import warnings\n",
    "warnings.filterwarnings('ignore')\n",
    "from Bio import SeqIO\n",
    "\n",
    "# linear model\n",
    "import statsmodels.api as sm\n",
    "import statsmodels.formula.api as smf\n",
    "\n",
    "from emergenet import Enet, save_model, load_model\n",
    "from quasinet.qnet import Qnet, qdistance, qdistance_matrix, membership_degree, save_qnet, load_qnet\n",
    "from zedstat.textable import textable"
   ]
  },
  {
   "cell_type": "code",
   "execution_count": 91,
   "id": "993ff235",
   "metadata": {},
   "outputs": [],
   "source": [
    "DATA_DIR = 'raw_data/gisaid_animal/'\n",
    "HUMAN_DATA_DIR = 'raw_data/gisaid_current/'\n",
    "ENET_DIR = 'enet_models/current_enets/'\n",
    "OUT_DIR = 'results/animal_predictions/'\n",
    "\n",
    "NA_TRUNC = 449\n",
    "HA_TRUNC = 550\n",
    "\n",
    "FILES = ['h1n1', 'h1n2', 'h3n2', 'h5n1', 'h5n2', 'h5n6', 'h5n8', 'h7', 'h9n2']"
   ]
  },
  {
   "cell_type": "code",
   "execution_count": 92,
   "id": "51eb26fe",
   "metadata": {},
   "outputs": [],
   "source": [
    "# input: na risk, ha risk, geometric mean\n",
    "# output: emergence and impact predictions\n",
    "def predict_irat(emergence_mod, impact_mod, ha_risk, na_risk, geom_mean):\n",
    "    df = pd.DataFrame({'Geometric_Mean':[geom_mean],\n",
    "                       'HA_Avg_Qdist':[ha_risk],\n",
    "                       'NA_Avg_Qdist':[na_risk]})\n",
    "    emergence_risk = emergence_mod.predict(df)[0]\n",
    "    impact_risk = impact_mod.predict(df)[0]\n",
    "    if geom_mean > 0.3:\n",
    "        emergence_risk = 3.8\n",
    "        impact_risk = 4.45\n",
    "    return emergence_risk, impact_risk\n",
    "\n",
    "\n",
    "# input: fasta file name, length to truncate each sequence\n",
    "# output: dataframe of sequences (containing only name and accession)\n",
    "def parse_fasta(file_name, trunc):\n",
    "    name = []\n",
    "    acc = []\n",
    "    subtype = []\n",
    "    for record in SeqIO.parse(file_name, 'fasta'):\n",
    "        if len(record.seq) < trunc:\n",
    "            continue\n",
    "        name.append(record.id.split('|')[0])\n",
    "        acc.append(record.id.split('|')[4])\n",
    "        subtype.append(record.id.split('|')[1][-4:])\n",
    "    df = pd.DataFrame({'id':name, 'subtype':subtype, 'accession':acc})\n",
    "    return df"
   ]
  },
  {
   "cell_type": "markdown",
   "id": "1d42540c",
   "metadata": {},
   "source": [
    "## Predictions\n",
    "- For each animal strain, compute average NA and HA risk compared to human population of that strain\n",
    "    - Do it 10 times for variance computation\n",
    "    - For variance computation, compute 10 impact/emergence scores for each strain and take sample variance\n",
    "    \n",
    "### Running Processes\n",
    "\n",
    "Computations are done in:\n",
    "- `animal_predictions.py`\n",
    "- `run_animal_predictions.sh`\n",
    "\n",
    "To run, navigate to terminal and do\n",
    "\n",
    "`chmod ugo+rwx run_animal_predictions.sh\n",
    "./run_animal_predictions.sh`"
   ]
  },
  {
   "cell_type": "markdown",
   "id": "9eddde2f",
   "metadata": {},
   "source": [
    "## Scale Predictions with GLM"
   ]
  },
  {
   "cell_type": "code",
   "execution_count": 53,
   "id": "3dd1b1d6",
   "metadata": {},
   "outputs": [],
   "source": [
    "data = pd.read_csv('results/irat_average_qdistances.csv')\n",
    "data = data.rename(columns={'Potential Emergence Estimate':'IRAT_Emergence_Score',\n",
    "                            'Potential Impact Estimate':'IRAT_Impact_Score',\n",
    "                            'Geometric Mean':'Geometric_Mean',\n",
    "                            'HA Average Qdistance':'HA_Avg_Qdist',\n",
    "                            'NA Average Qdistance':'NA_Avg_Qdist'})\n",
    "# remove Yunnan and Netherlands outliers, and Duck strain\n",
    "data = data[(data['HA_Avg_Qdist'] > 0) & (data['NA_Avg_Qdist'] > 0)].drop(labels=[10, 12], axis=0)"
   ]
  },
  {
   "cell_type": "code",
   "execution_count": 54,
   "id": "c0b5582b",
   "metadata": {},
   "outputs": [
    {
     "name": "stdout",
     "output_type": "stream",
     "text": [
      "                  Generalized Linear Model Regression Results                   \n",
      "================================================================================\n",
      "Dep. Variable:     IRAT_Emergence_Score   No. Observations:                   20\n",
      "Model:                              GLM   Df Residuals:                       17\n",
      "Model Family:                  Gaussian   Df Model:                            2\n",
      "Link Function:                 identity   Scale:                         0.74617\n",
      "Method:                            IRLS   Log-Likelihood:                -23.826\n",
      "Date:                  Thu, 23 Feb 2023   Deviance:                       12.685\n",
      "Time:                          01:17:20   Pearson chi2:                     12.7\n",
      "No. Iterations:                       3   Pseudo R-squ. (CS):             0.7678\n",
      "Covariance Type:              nonrobust                                         \n",
      "=============================================================================================\n",
      "                                coef    std err          z      P>|z|      [0.025      0.975]\n",
      "---------------------------------------------------------------------------------------------\n",
      "Intercept                     6.7809      0.460     14.736      0.000       5.879       7.683\n",
      "Geometric_Mean              -19.3647      8.078     -2.397      0.017     -35.198      -3.531\n",
      "NA_Avg_Qdist:HA_Avg_Qdist    31.5402     26.392      1.195      0.232     -20.187      83.267\n",
      "=============================================================================================\n"
     ]
    }
   ],
   "source": [
    "# IRAT_Emergence_Score ~ Geometric_Mean + HA_Avg_Qdist:NA_Avg_Qdist\n",
    "formula1 = 'IRAT_Emergence_Score ~ Geometric_Mean + NA_Avg_Qdist:HA_Avg_Qdist'\n",
    "mod1 = smf.glm(formula=formula1, data=data).fit()\n",
    "print(mod1.summary())"
   ]
  },
  {
   "cell_type": "code",
   "execution_count": 55,
   "id": "2f2b1991",
   "metadata": {},
   "outputs": [
    {
     "name": "stdout",
     "output_type": "stream",
     "text": [
      "                 Generalized Linear Model Regression Results                  \n",
      "==============================================================================\n",
      "Dep. Variable:      IRAT_Impact_Score   No. Observations:                   20\n",
      "Model:                            GLM   Df Residuals:                       17\n",
      "Model Family:                Gaussian   Df Model:                            2\n",
      "Link Function:               identity   Scale:                          1.0345\n",
      "Method:                          IRLS   Log-Likelihood:                -27.093\n",
      "Date:                Thu, 23 Feb 2023   Deviance:                       17.587\n",
      "Time:                        01:17:21   Pearson chi2:                     17.6\n",
      "No. Iterations:                     3   Pseudo R-squ. (CS):             0.4584\n",
      "Covariance Type:            nonrobust                                         \n",
      "=============================================================================================\n",
      "                                coef    std err          z      P>|z|      [0.025      0.975]\n",
      "---------------------------------------------------------------------------------------------\n",
      "Intercept                     6.6913      0.542     12.350      0.000       5.629       7.753\n",
      "Geometric_Mean              -15.5210      9.512     -1.632      0.103     -34.165       3.123\n",
      "NA_Avg_Qdist:HA_Avg_Qdist    26.8979     31.076      0.866      0.387     -34.010      87.806\n",
      "=============================================================================================\n"
     ]
    }
   ],
   "source": [
    "# IRAT_Impact_Score ~ Geometric_Mean + HA_Avg_Qdist:NA_Avg_Qdist\n",
    "formula2 = 'IRAT_Impact_Score ~ Geometric_Mean + NA_Avg_Qdist:HA_Avg_Qdist'\n",
    "mod2 = smf.glm(formula=formula2, data=data).fit()\n",
    "print(mod2.summary())"
   ]
  },
  {
   "cell_type": "code",
   "execution_count": 71,
   "id": "bd8583bf",
   "metadata": {},
   "outputs": [
    {
     "data": {
      "application/vnd.jupyter.widget-view+json": {
       "model_id": "d4d05c3e701a4597b9ce786f2f6a2d1c",
       "version_major": 2,
       "version_minor": 0
      },
      "text/plain": [
       "  0%|          | 0/9 [00:00<?, ?it/s]"
      ]
     },
     "metadata": {},
     "output_type": "display_data"
    }
   ],
   "source": [
    "df_merged = pd.DataFrame({})\n",
    "\n",
    "for FILE in tqdm(FILES):\n",
    "    ha_df = parse_fasta(DATA_DIR + FILE + '_ha.fasta', HA_TRUNC)\n",
    "    na_df = parse_fasta(DATA_DIR + FILE + '_na.fasta', NA_TRUNC)\n",
    "    \n",
    "    # df1: metadata\n",
    "    df1 = ha_df.merge(na_df, how='inner', on='id').drop(columns=['subtype_y'])\n",
    "    df1.rename(columns={'subtype_x':'subtype','accession_x':'ha_accession', 'accession_y':'na_accession'}, inplace=True)\n",
    "    \n",
    "    # df2: results\n",
    "    df2 = pd.read_csv(OUT_DIR + FILE + '.csv')\n",
    "    df2['ha_risk'] = df2['ha_risk'].apply(eval)\n",
    "    df2['na_risk'] = df2['na_risk'].apply(eval)\n",
    "    df2['geometric_mean_risk'] = df2['geometric_mean_risk'].apply(eval)\n",
    "    emergence_risks = []\n",
    "    emergence_risks_var = []\n",
    "    impact_risks = []\n",
    "    impact_risks_var = []\n",
    "    for i in range(len(df2)):\n",
    "        ha = df2['ha_risk'].iloc[i]\n",
    "        na = df2['na_risk'].iloc[i]\n",
    "        gm = df2['geometric_mean_risk'].iloc[i]\n",
    "        emergence_risk = []\n",
    "        impact_risk = []\n",
    "        for j in range(10):\n",
    "            er, ir = predict_irat(mod1, mod2, ha[j], na[j], gm[j])\n",
    "            emergence_risk.append(er)\n",
    "            impact_risk.append(ir)\n",
    "        emergence_risks.append(np.mean(emergence_risk))\n",
    "        emergence_risks_var.append(np.var(emergence_risk))\n",
    "        impact_risks.append(np.mean(impact_risk))\n",
    "        impact_risks_var.append(np.var(impact_risk))\n",
    "    df2['emergence_risk'] = emergence_risks\n",
    "    df2['emergence_risk_var'] = emergence_risks_var\n",
    "    df2['impact_risk'] = impact_risks\n",
    "    df2['impact_risk_var'] = impact_risks_var\n",
    "    \n",
    "    # df3: merge df1 and df2\n",
    "    df3 = df1.merge(df2, how='inner', on='id').drop_duplicates(subset=['id'])\n",
    "    df3 = df3[df3['id'] != 'not_release_-_host_x_isolate_name_not_match']\n",
    "    if len(df_merged) == 0:\n",
    "        df_merged = df3\n",
    "    else:\n",
    "        df_merged = df_merged.append(df3, ignore_index=True)\n",
    "\n",
    "df_merged.to_csv(OUT_DIR + 'combined_results.csv', index=False)"
   ]
  },
  {
   "cell_type": "markdown",
   "id": "f2b9b442",
   "metadata": {},
   "source": [
    "## Results"
   ]
  },
  {
   "cell_type": "code",
   "execution_count": 107,
   "id": "13822f1c",
   "metadata": {
    "scrolled": false
   },
   "outputs": [
    {
     "data": {
      "text/html": [
       "<div>\n",
       "<style scoped>\n",
       "    .dataframe tbody tr th:only-of-type {\n",
       "        vertical-align: middle;\n",
       "    }\n",
       "\n",
       "    .dataframe tbody tr th {\n",
       "        vertical-align: top;\n",
       "    }\n",
       "\n",
       "    .dataframe thead th {\n",
       "        text-align: right;\n",
       "    }\n",
       "</style>\n",
       "<table border=\"1\" class=\"dataframe\">\n",
       "  <thead>\n",
       "    <tr style=\"text-align: right;\">\n",
       "      <th></th>\n",
       "      <th>id</th>\n",
       "      <th>subtype</th>\n",
       "      <th>ha_accession</th>\n",
       "      <th>na_accession</th>\n",
       "      <th>ha</th>\n",
       "      <th>na</th>\n",
       "      <th>ha_risk</th>\n",
       "      <th>na_risk</th>\n",
       "      <th>geometric_mean_risk</th>\n",
       "      <th>emergence_risk</th>\n",
       "      <th>emergence_risk_var</th>\n",
       "      <th>impact_risk</th>\n",
       "      <th>impact_risk_var</th>\n",
       "    </tr>\n",
       "  </thead>\n",
       "  <tbody>\n",
       "    <tr>\n",
       "      <th>218</th>\n",
       "      <td>A/swine/Missouri/A02524711/2020</td>\n",
       "      <td>H1N1</td>\n",
       "      <td>EPI1818121</td>\n",
       "      <td>EPI1818122</td>\n",
       "      <td>MKAILVVMLYTFTTANADTLCIGYHANNSTDTVDTVLEKNVTVTHS...</td>\n",
       "      <td>MNPNQKIITIGSICMTIGTANLILQIGNIISIWVSHSIQIGNQSQI...</td>\n",
       "      <td>[0.007702821053332326, 0.00794167832708008, 0....</td>\n",
       "      <td>[0.0016000691389129699, 0.0019043683598783635,...</td>\n",
       "      <td>[0.0035107045233124007, 0.003888943420830784, ...</td>\n",
       "      <td>6.711046</td>\n",
       "      <td>0.000005</td>\n",
       "      <td>6.635308</td>\n",
       "      <td>0.000003</td>\n",
       "    </tr>\n",
       "    <tr>\n",
       "      <th>142</th>\n",
       "      <td>A/swine/Wisconsin/A02479131/2020</td>\n",
       "      <td>H1N1</td>\n",
       "      <td>EPI1780098</td>\n",
       "      <td>EPI1780099</td>\n",
       "      <td>MKAILVVMLYTFTTANADTLCIGYHANNSTDTVDTVLEKNVTVTHS...</td>\n",
       "      <td>MNPNQKIITIGSICMTIGTANLILQIGNIISIWVSHSIQIGNQSQI...</td>\n",
       "      <td>[0.007716075008593186, 0.007954902925217054, 0...</td>\n",
       "      <td>[0.0016000691389129699, 0.0019043683598783635,...</td>\n",
       "      <td>[0.0035137235939651807, 0.0038921800365203044,...</td>\n",
       "      <td>6.710986</td>\n",
       "      <td>0.000005</td>\n",
       "      <td>6.635261</td>\n",
       "      <td>0.000003</td>\n",
       "    </tr>\n",
       "    <tr>\n",
       "      <th>157</th>\n",
       "      <td>A/swine/Missouri/A02479157/2020</td>\n",
       "      <td>H1N1</td>\n",
       "      <td>EPI1780243</td>\n",
       "      <td>EPI1780244</td>\n",
       "      <td>MKAILVVMLYTFTTANADTLCIGYHANNSTDTVDTVLEKNVTVTHS...</td>\n",
       "      <td>MNPNQKIITIGSICMTIGTANLILQIGNIISIWVSHSIQIGNQSQI...</td>\n",
       "      <td>[0.007726353641666193, 0.007963408153388233, 0...</td>\n",
       "      <td>[0.0016000691389129699, 0.0019043683598783635,...</td>\n",
       "      <td>[0.003516063141975399, 0.0038942602024145657, ...</td>\n",
       "      <td>6.710945</td>\n",
       "      <td>0.000005</td>\n",
       "      <td>6.635227</td>\n",
       "      <td>0.000003</td>\n",
       "    </tr>\n",
       "    <tr>\n",
       "      <th>124</th>\n",
       "      <td>A/swine/Missouri/A02479058/2020</td>\n",
       "      <td>H1N1</td>\n",
       "      <td>EPI1778732</td>\n",
       "      <td>EPI1778733</td>\n",
       "      <td>MKAILVVMLYTFTTANADTLCIGYHANNSTDTVDTVLEKNVTVTHS...</td>\n",
       "      <td>MNPNQKIITIGSICMTIGTANLILQIGNIISIWVSHSIQIGNQSQI...</td>\n",
       "      <td>[0.007702821053332326, 0.00794167832708008, 0....</td>\n",
       "      <td>[0.0016092572145346776, 0.0019136101393346001,...</td>\n",
       "      <td>[0.0035207698522261646, 0.003898368398450086, ...</td>\n",
       "      <td>6.710859</td>\n",
       "      <td>0.000005</td>\n",
       "      <td>6.635159</td>\n",
       "      <td>0.000003</td>\n",
       "    </tr>\n",
       "    <tr>\n",
       "      <th>165</th>\n",
       "      <td>A/swine/North_Carolina/A02479181/2020</td>\n",
       "      <td>H1N1</td>\n",
       "      <td>EPI1780419</td>\n",
       "      <td>EPI1780420</td>\n",
       "      <td>MKAILVVMLYTFTTANADTLCIGYHANNSTDTVDTVLEKNVTVTHS...</td>\n",
       "      <td>MNPNQKIITIGSICMTIGTANLILQIGNIISIWVSHSIQIGNQSQI...</td>\n",
       "      <td>[0.007702821053332326, 0.00794167832708008, 0....</td>\n",
       "      <td>[0.0016092572145346776, 0.0019136101393346001,...</td>\n",
       "      <td>[0.0035207698522261646, 0.003898368398450086, ...</td>\n",
       "      <td>6.710859</td>\n",
       "      <td>0.000005</td>\n",
       "      <td>6.635159</td>\n",
       "      <td>0.000003</td>\n",
       "    </tr>\n",
       "  </tbody>\n",
       "</table>\n",
       "</div>"
      ],
      "text/plain": [
       "                                        id subtype ha_accession na_accession  \\\n",
       "218        A/swine/Missouri/A02524711/2020    H1N1   EPI1818121   EPI1818122   \n",
       "142       A/swine/Wisconsin/A02479131/2020    H1N1   EPI1780098   EPI1780099   \n",
       "157        A/swine/Missouri/A02479157/2020    H1N1   EPI1780243   EPI1780244   \n",
       "124        A/swine/Missouri/A02479058/2020    H1N1   EPI1778732   EPI1778733   \n",
       "165  A/swine/North_Carolina/A02479181/2020    H1N1   EPI1780419   EPI1780420   \n",
       "\n",
       "                                                    ha  \\\n",
       "218  MKAILVVMLYTFTTANADTLCIGYHANNSTDTVDTVLEKNVTVTHS...   \n",
       "142  MKAILVVMLYTFTTANADTLCIGYHANNSTDTVDTVLEKNVTVTHS...   \n",
       "157  MKAILVVMLYTFTTANADTLCIGYHANNSTDTVDTVLEKNVTVTHS...   \n",
       "124  MKAILVVMLYTFTTANADTLCIGYHANNSTDTVDTVLEKNVTVTHS...   \n",
       "165  MKAILVVMLYTFTTANADTLCIGYHANNSTDTVDTVLEKNVTVTHS...   \n",
       "\n",
       "                                                    na  \\\n",
       "218  MNPNQKIITIGSICMTIGTANLILQIGNIISIWVSHSIQIGNQSQI...   \n",
       "142  MNPNQKIITIGSICMTIGTANLILQIGNIISIWVSHSIQIGNQSQI...   \n",
       "157  MNPNQKIITIGSICMTIGTANLILQIGNIISIWVSHSIQIGNQSQI...   \n",
       "124  MNPNQKIITIGSICMTIGTANLILQIGNIISIWVSHSIQIGNQSQI...   \n",
       "165  MNPNQKIITIGSICMTIGTANLILQIGNIISIWVSHSIQIGNQSQI...   \n",
       "\n",
       "                                               ha_risk  \\\n",
       "218  [0.007702821053332326, 0.00794167832708008, 0....   \n",
       "142  [0.007716075008593186, 0.007954902925217054, 0...   \n",
       "157  [0.007726353641666193, 0.007963408153388233, 0...   \n",
       "124  [0.007702821053332326, 0.00794167832708008, 0....   \n",
       "165  [0.007702821053332326, 0.00794167832708008, 0....   \n",
       "\n",
       "                                               na_risk  \\\n",
       "218  [0.0016000691389129699, 0.0019043683598783635,...   \n",
       "142  [0.0016000691389129699, 0.0019043683598783635,...   \n",
       "157  [0.0016000691389129699, 0.0019043683598783635,...   \n",
       "124  [0.0016092572145346776, 0.0019136101393346001,...   \n",
       "165  [0.0016092572145346776, 0.0019136101393346001,...   \n",
       "\n",
       "                                   geometric_mean_risk  emergence_risk  \\\n",
       "218  [0.0035107045233124007, 0.003888943420830784, ...        6.711046   \n",
       "142  [0.0035137235939651807, 0.0038921800365203044,...        6.710986   \n",
       "157  [0.003516063141975399, 0.0038942602024145657, ...        6.710945   \n",
       "124  [0.0035207698522261646, 0.003898368398450086, ...        6.710859   \n",
       "165  [0.0035207698522261646, 0.003898368398450086, ...        6.710859   \n",
       "\n",
       "     emergence_risk_var  impact_risk  impact_risk_var  \n",
       "218            0.000005     6.635308         0.000003  \n",
       "142            0.000005     6.635261         0.000003  \n",
       "157            0.000005     6.635227         0.000003  \n",
       "124            0.000005     6.635159         0.000003  \n",
       "165            0.000005     6.635159         0.000003  "
      ]
     },
     "execution_count": 107,
     "metadata": {},
     "output_type": "execute_result"
    }
   ],
   "source": [
    "df_merged = pd.read_csv(OUT_DIR + 'combined_results.csv')\n",
    "df_merged.sort_values(by='emergence_risk', ascending=False).head(5)"
   ]
  },
  {
   "cell_type": "code",
   "execution_count": 109,
   "id": "5afdb572",
   "metadata": {},
   "outputs": [
    {
     "data": {
      "image/png": "[encoded data removed]",
      "text/plain": [
       "<Figure size 432x288 with 1 Axes>"
      ]
     },
     "metadata": {
      "needs_background": "light"
     },
     "output_type": "display_data"
    }
   ],
   "source": [
    "plt.scatter(df_merged['geometric_mean_risk'].apply(eval).apply(np.mean), df_merged['emergence_risk'], label='Emergence')\n",
    "plt.scatter(df_merged['geometric_mean_risk'].apply(eval).apply(np.mean), df_merged['impact_risk'], label='Impact')\n",
    "plt.xlabel('Geometric Mean of HA and NA Qdistance')\n",
    "plt.ylabel('Predicted IRAT Score')\n",
    "plt.legend();"
   ]
  },
  {
   "cell_type": "code",
   "execution_count": 110,
   "id": "306753a2",
   "metadata": {},
   "outputs": [
    {
     "data": {
      "text/plain": [
       "subtype\n",
       "H1N1     938\n",
       "H1N2     784\n",
       "H3N2     826\n",
       "H5N1    1598\n",
       "H5N2      20\n",
       "H5N6     140\n",
       "H5N8    1382\n",
       "H7N1       3\n",
       "H7N2       1\n",
       "H7N3      99\n",
       "H7N5       1\n",
       "H7N6       8\n",
       "H7N7      11\n",
       "H7N8       3\n",
       "H7N9      17\n",
       "H9N2     235\n",
       "Name: id, dtype: int64"
      ]
     },
     "execution_count": 110,
     "metadata": {},
     "output_type": "execute_result"
    }
   ],
   "source": [
    "df_merged.groupby(by='subtype').count()['id']"
   ]
  },
  {
   "cell_type": "code",
   "execution_count": null,
   "id": "de89f497",
   "metadata": {},
   "outputs": [],
   "source": []
  }
 ],
 "metadata": {
  "kernelspec": {
   "display_name": "Python 3 (ipykernel)",
   "language": "python",
   "name": "python3"
  },
  "language_info": {
   "codemirror_mode": {
    "name": "ipython",
    "version": 3
   },
   "file_extension": ".py",
   "mimetype": "text/x-python",
   "name": "python",
   "nbconvert_exporter": "python",
   "pygments_lexer": "ipython3",
   "version": "3.7.6"
  }
 },
 "nbformat": 4,
 "nbformat_minor": 5
}
