{
 "cells": [
  {
   "cell_type": "markdown",
   "id": "59c4fdeb",
   "metadata": {},
   "source": [
    "# Influenza Enet Predictions\n",
    "- Predicting dominant strains using Emergenet"
   ]
  },
  {
   "cell_type": "code",
   "execution_count": 60,
   "id": "044273eb",
   "metadata": {},
   "outputs": [],
   "source": [
    "import os \n",
    "import numpy as np\n",
    "import pandas as pd\n",
    "import warnings\n",
    "warnings.filterwarnings('ignore')\n",
    "from tqdm.notebook import trange\n",
    "from sklearn.cluster import KMeans\n",
    "from sklearn.manifold import MDS"
   ]
  },
  {
   "cell_type": "markdown",
   "id": "0071c53c",
   "metadata": {},
   "source": [
    "## Downloading Data\n",
    "**Sources: [GISAID](https://platform.epicov.org/epi3/cfrontend#586f5f) and [NCBI](https://www.ncbi.nlm.nih.gov/labs/virus/vssi/#/virus?SeqType_s=Protein&HostLineage_ss=Homo%20sapiens%20(human),%20taxid:9606&LabHost_s=include&ProtNames_ss=hemagglutinin&CollectionDate_dr=2003-11-01T00:00:00.00Z%20TO%202004-05-01T23:59:59.00Z&SLen_i=550%20TO%20566&VirusLineage_ss=H1N1%20subtype,%20taxid:114727)**\n",
    "\n",
    "- Data collected from NCBI and GISAID in `dominant_sequences.ipynb`\n",
    "- Merged NCBI and GISAID data found in `raw_data/merged/`"
   ]
  },
  {
   "cell_type": "markdown",
   "id": "88a82805",
   "metadata": {},
   "source": [
    "## Create Enet Models\n",
    "- Truncate HA at 565 amino acids, we only need HA models\n",
    "- Give enet the same name as the data file\n",
    "    \n",
    "### Running Processes\n",
    "\n",
    "Computations are done in:\n",
    "- `enet_train.py`\n",
    "- `run_enet_train.sh`\n",
    "\n",
    "To run, navigate to terminal and do\n",
    "\n",
    "`chmod ugo+rwx run_enet_train.sh\n",
    "./run_enet_train.sh`"
   ]
  },
  {
   "cell_type": "markdown",
   "id": "5ee3de2e",
   "metadata": {},
   "source": [
    "## Predictions\n",
    "E-Centroid: $$x_{*}^{t+\\delta} = argmin_{y\\in \\bigcup_{r\\leq t}H^{\\tau}} \\sum_{x \\in {H^t}} \\theta(x,y) - |H^t|A \\text{ln}\\omega_y$$\n",
    "- $x_{*}^{t+\\delta}$ is the dominant strain in the upcoming flu season at time $t+\\omega$\n",
    "- $H^t$ is the sequence population at time $t$\n",
    "- $\\theta(x,y)$ is the e-distance between $x$ and $y$ in their respective Enets\n",
    "- $A = \\frac{1-\\alpha}{\\sqrt{8}N^2}$, where $\\alpha$ is a fixed significance level and $N$ is the sequence length considered\n",
    "- $\\text{ln}\\omega_y$ is the membership degree of sequence $y$\n",
    "- Predict dominant strain based on HA data only\n",
    "- Run 3 cluster predictions (i.e. 3 strains per season) and take the top 2\n",
    "\n",
    "### Running Processes\n",
    "\n",
    "Computations are done in:\n",
    "- `enet_predictions.py`\n",
    "- `run_enet_predictions.sh`\n",
    "\n",
    "To run, navigate to terminal and do\n",
    "\n",
    "`chmod ugo+rwx run_enet_predictions.sh\n",
    "./run_enet_predictions.sh`"
   ]
  },
  {
   "cell_type": "markdown",
   "id": "c74b2a52",
   "metadata": {},
   "source": [
    "### Predict on Complete Strains\n",
    "- Both HA and NA sequence available\n",
    "    - Found in `raw_data/merged/<HEMISPHERE_SUBTYPE>/`\n",
    "    - These record HA sequence data only for the purpose of prediction, the NA data will be retreived after running predictions"
   ]
  },
  {
   "cell_type": "code",
   "execution_count": 40,
   "id": "1b0aa65f",
   "metadata": {},
   "outputs": [],
   "source": [
    "PRED_DIR = 'results/enet_predictions/seasonal_predictions/'\n",
    "DATA_DIR = 'raw_data/merged/'\n",
    "DM_DIR = 'results/enet_predictions/distance_matrices/'\n",
    "FILES = ['north_h1n1', 'north_h3n2', 'south_h1n1', 'south_h3n2']\n",
    "\n",
    "NORTH_YEARS = []\n",
    "for i in np.arange(1, 23):\n",
    "    YEAR = ''\n",
    "    if i < 10:\n",
    "        YEAR += '0' + str(i)\n",
    "    else:\n",
    "        YEAR += (str(i))\n",
    "    if i + 1 < 10:\n",
    "        YEAR += '_0' + str(i + 1)\n",
    "    else:\n",
    "        YEAR += '_' + str(i + 1)\n",
    "    NORTH_YEARS.append(YEAR)\n",
    "        \n",
    "SOUTH_YEARS = []\n",
    "for i in np.arange(2, 24):\n",
    "    if i < 10:\n",
    "        SOUTH_YEARS.append('0' + str(i))\n",
    "    else:\n",
    "        SOUTH_YEARS.append(str(i))"
   ]
  },
  {
   "cell_type": "code",
   "execution_count": 47,
   "id": "9b029d97",
   "metadata": {},
   "outputs": [],
   "source": [
    "for FILE in FILES: \n",
    "    YEARS = []\n",
    "    if FILE[:5] == 'north':\n",
    "        YEARS = NORTH_YEARS\n",
    "    else:\n",
    "        YEARS = SOUTH_YEARS\n",
    "    for i in range(21):\n",
    "        ha_df = pd.read_csv(DATA_DIR + FILE + '_ha/' + FILE + '_ha_' + YEARS[i] + '.csv')\n",
    "        na_df = pd.read_csv(DATA_DIR + FILE + '_na/' + FILE + '_na_' + YEARS[i] + '.csv')\n",
    "        # keep only HA sequences which also have an NA sequence\n",
    "        ha_df = ha_df[ha_df['name'].isin(na_df['name'])]\n",
    "        ha_df.to_csv(DATA_DIR + FILE + '/' + FILE + '_ha_' + YEARS[i] + '.csv', index = False)"
   ]
  },
  {
   "cell_type": "markdown",
   "id": "bd357922",
   "metadata": {},
   "source": [
    "## Aggregate Predictions"
   ]
  },
  {
   "cell_type": "code",
   "execution_count": 72,
   "id": "4be014cb",
   "metadata": {},
   "outputs": [],
   "source": [
    "for FILE in FILES:\n",
    "    pred_df = pd.DataFrame(columns=['season',\n",
    "                                    'name_0','cluster_size_0','ha_acc_0','ha_seq_0','na_acc_0','na_seq_0',\n",
    "                                    'name_1','cluster_size_1','ha_acc_1','ha_seq_1','na_acc_1','na_seq_1',\n",
    "                                    'name_2','cluster_size_2','ha_acc_2','ha_seq_2','na_acc_2','na_seq_2']) \n",
    "    YEARS = []\n",
    "    if FILE[:5] == 'north':\n",
    "        YEARS = NORTH_YEARS\n",
    "    else:\n",
    "        YEARS = SOUTH_YEARS\n",
    "    for i in range(21):\n",
    "        df = pd.read_csv(PRED_DIR + FILE + '_ha/' + FILE + '_ha_' + YEARS[i + 1] + '_predictions.csv')\n",
    "        na_df = pd.read_csv(DATA_DIR + FILE + '_na/' + FILE + '_na_' + YEARS[i] + '.csv')\n",
    "        \n",
    "        # expand to larger dataframe, get NA sequence\n",
    "        df1 = pd.DataFrame({'season':[df['season'][0]]})\n",
    "        for j in range(3):\n",
    "            na_seq_df = na_df[na_df['name'] == df['name'].values[j]]\n",
    "            df1['name_'+str(j)] = df['name'].values[j]\n",
    "            df1['cluster_size_'+str(j)] = df['cluster_size'].values[j]\n",
    "            df1['ha_acc_'+str(j)] = df['acc'].values[j]\n",
    "            df1['ha_seq_'+str(j)] = df['sequence'].values[j]\n",
    "            df1['na_acc_'+str(j)] = na_seq_df['acc'].values[0]\n",
    "            df1['na_seq_'+str(j)] = na_seq_df['sequence'].values[0]\n",
    "            \n",
    "        # append to pred_df\n",
    "        pred_df = pd.concat([pred_df, df1])\n",
    "        \n",
    "    # Enet recommendation accession, name, sequence\n",
    "    pred_df.to_csv('results/enet_predictions/' + FILE + '_predictions.csv', index=False)"
   ]
  },
  {
   "cell_type": "markdown",
   "id": "d52874e5",
   "metadata": {},
   "source": [
    "## Strain Clusters Per Season\n",
    "- Show cluster sizes when clustering 2-5\n",
    "- Use precomputed distance matrices from `enet_predictions/distance_matrices`"
   ]
  },
  {
   "cell_type": "code",
   "execution_count": 64,
   "id": "1ef1a8ec",
   "metadata": {},
   "outputs": [],
   "source": [
    "# find cluster sizes for n_clusters\n",
    "def cluster_proportions(dm_path, n_clusters):\n",
    "    # load qdistance matrix\n",
    "    dm = pd.read_csv(dm_path, index_col=0)\n",
    "    # convert distance matrix to embedding\n",
    "    embedding = MDS(n_components=2, dissimilarity=\"precomputed\", random_state=42)\n",
    "    dm_embed = embedding.fit_transform(dm)\n",
    "    # cluster the distance matrix\n",
    "    clustering = KMeans(n_clusters=n_clusters, random_state=42)\n",
    "    clustering_predictions = clustering.fit_predict(dm_embed)\n",
    "    # find unique clusters\n",
    "    unique_clusters = np.unique(clustering_predictions)\n",
    "    # cluster_sizes\n",
    "    cluster_sizes = []\n",
    "    for class_ in unique_clusters:\n",
    "        # separate distance matrix into submatrices\n",
    "        wanted_names = dm.columns[clustering_predictions == class_]\n",
    "        cluster_sizes.append(len(wanted_names))\n",
    "    cluster_sizes = sorted(cluster_sizes, reverse=True)\n",
    "    cluster_props = [sum(cluster_sizes[:min(len(cluster_sizes),i)])/sum(cluster_sizes) for i in range(1, 4)]\n",
    "    return np.array(cluster_props)"
   ]
  },
  {
   "cell_type": "code",
   "execution_count": 66,
   "id": "27eaffbc",
   "metadata": {},
   "outputs": [
    {
     "data": {
      "application/vnd.jupyter.widget-view+json": {
       "model_id": "7888b95f7c934297a1f294c136d8735c",
       "version_major": 2,
       "version_minor": 0
      },
      "text/plain": [
       "  0%|          | 0/5 [00:00<?, ?it/s]"
      ]
     },
     "metadata": {},
     "output_type": "display_data"
    },
    {
     "name": "stdout",
     "output_type": "stream",
     "text": [
      "[0.69444444 1.         1.        ]\n",
      "[1.51023392 2.         2.        ]\n",
      "[2.4232774 3.        3.       ]\n",
      "[3.09674678 4.         4.        ]\n",
      "[4.02907761 5.         5.        ]\n",
      "[5.02694769 6.         6.        ]\n",
      "[5.9228807 7.        7.       ]\n",
      "[6.4918807 8.        8.       ]\n",
      "[7.48587469 9.         9.        ]\n",
      "[ 8.48487269 10.         10.        ]\n",
      "[ 9.18276187 11.         11.        ]\n",
      "[10.18176187 12.         12.        ]\n",
      "[11.17876187 13.         13.        ]\n",
      "[12.15376187 14.         14.        ]\n",
      "[13.15276187 15.         15.        ]\n",
      "[13.95276187 16.         16.        ]\n",
      "[14.87476187 17.         17.        ]\n",
      "[15.72576187 18.         18.        ]\n",
      "[16.44276187 19.         19.        ]\n",
      "[17.40328819 20.         20.        ]\n",
      "[18.04128819 21.         21.        ]\n",
      "[18.95998737 22.         22.        ]\n",
      "[19.70560141 23.         23.        ]\n",
      "[20.49038402 24.         24.        ]\n",
      "[21.38919354 25.         25.        ]\n",
      "[22.38155995 26.         26.        ]\n",
      "[23.3796873 27.        27.       ]\n",
      "[24.19370003 28.         28.        ]\n",
      "[24.94286763 29.         29.        ]\n",
      "[25.93449943 30.         30.        ]\n",
      "[26.93249943 31.         31.        ]\n",
      "[27.91949943 32.         32.        ]\n",
      "[28.80949943 33.         33.        ]\n",
      "[29.66049943 34.         34.        ]\n",
      "[30.51706913 35.         35.        ]\n",
      "[31.19406913 36.         36.        ]\n",
      "[31.83006913 37.         37.        ]\n",
      "[32.82906913 38.         38.        ]\n",
      "[33.36506913 39.         39.        ]\n",
      "[34.02206913 40.         40.        ]\n",
      "[34.73003374 41.         41.        ]\n",
      "[35.48203374 42.         42.        ]\n",
      "[36.1487004 43.        43.       ]\n",
      "[36.86298612 44.         44.        ]\n",
      "[37.66298612 45.         45.        ]\n",
      "[38.6281024 46.        46.       ]\n",
      "[39.31349565 47.         47.        ]\n",
      "[40.31021697 48.         48.        ]\n",
      "[41.30395392 49.         49.        ]\n",
      "[42.27495392 50.         50.        ]\n",
      "[43.26993384 51.         51.        ]\n",
      "[44.26606537 52.         52.        ]\n",
      "[45.10634314 53.         53.        ]\n",
      "[46.10365135 54.         54.        ]\n",
      "[47.10175021 55.         55.        ]\n",
      "[48.10070199 56.         56.        ]\n",
      "[49.09669398 57.         57.        ]\n",
      "[49.93469398 58.         58.        ]\n",
      "[50.83269398 59.         59.        ]\n",
      "[51.65669398 60.         60.        ]\n",
      "[52.40669398 61.         61.        ]\n",
      "[52.96383684 62.         62.        ]\n",
      "[53.79883684 63.         63.        ]\n",
      "[54.6443304 64.        64.       ]\n",
      "[55.63374839 65.         65.        ]\n",
      "[56.51085682 66.         66.        ]\n",
      "[57.15408599 67.         67.        ]\n",
      "[57.84639368 68.         68.        ]\n",
      "[58.84193934 69.         69.        ]\n",
      "[59.55988806 70.         70.        ]\n",
      "[60.22488806 71.         71.        ]\n",
      "[60.76751594 72.         72.        ]\n",
      "[61.75851594 73.         73.        ]\n",
      "[62.75751594 74.         74.        ]\n",
      "[63.73212295 75.         75.        ]\n",
      "[64.29612295 76.         76.        ]\n",
      "[65.22112295 77.         77.        ]\n",
      "[66.02912295 78.         78.        ]\n",
      "[66.58412295 79.         79.        ]\n",
      "[67.15212295 80.         80.        ]\n",
      "[68.01712295 81.         81.        ]\n",
      "[68.55558449 82.         82.        ]\n",
      "[69.42358449 83.         83.        ]\n",
      "[70.07258449 84.         84.        ]\n",
      "[0.63888889 0.94444444 1.        ]\n",
      "[1.44152047 1.91812865 2.        ]\n",
      "[2.1806509  2.83117213 3.        ]\n",
      "[2.85412029 3.79035581 4.        ]\n",
      "[3.50073683 4.72268663 5.        ]\n",
      "[4.49647698 5.72162167 6.        ]\n",
      "[5.39241    6.71803315 7.        ]\n",
      "[5.96141    7.70803315 8.        ]\n",
      "[6.95540399 8.70703215 9.        ]\n",
      "[ 7.72694708  9.70603015 10.        ]\n",
      "[ 8.423517   10.70339163 11.        ]\n",
      "[ 9.339517   11.70239163 12.        ]\n",
      "[10.335517   12.70139163 13.        ]\n",
      "[11.310517   13.70039163 14.        ]\n",
      "[12.298517   14.69939163 15.        ]\n",
      "[13.082517   15.68439163 16.        ]\n",
      "[13.826517   16.61139163 17.        ]\n",
      "[14.539517   17.47139163 18.        ]\n",
      "[15.190517   18.40539163 19.        ]\n",
      "[16.15104331 19.40100566 20.        ]\n",
      "[16.78804331 20.40000566 21.        ]\n",
      "[17.70267746 21.37155038 22.        ]\n",
      "[18.43074763 22.35400652 23.        ]\n",
      "[19.11770416 23.24965869 24.        ]\n",
      "[20.01651368 24.24073012 25.        ]\n",
      "[21.00888009 25.23691333 26.        ]\n",
      "[22.00513477 26.23504067 27.        ]\n",
      "[22.50449783 27.04905341 28.        ]\n",
      "[23.25144567 28.04572377 29.        ]\n",
      "[23.90834943 29.03735557 30.        ]\n",
      "[24.90634943 30.03635557 31.        ]\n",
      "[25.89234943 31.03335557 32.        ]\n",
      "[26.77834943 32.02835557 33.        ]\n",
      "[27.62734943 33.02635557 34.        ]\n",
      "[28.48091011 34.02334654 35.        ]\n",
      "[28.86791011 34.73234654 36.        ]\n",
      "[29.50391011 35.69034654 37.        ]\n",
      "[30.50191011 36.68934654 38.        ]\n",
      "[31.00191011 37.65334654 39.        ]\n",
      "[31.34491011 38.32934654 40.        ]\n",
      "[32.04992486 39.32344684 41.        ]\n",
      "[32.75192486 40.25344684 42.        ]\n",
      "[33.25192486 41.08678017 43.        ]\n",
      "[33.96621058 41.97249446 44.        ]\n",
      "[34.76621058 42.87249446 45.        ]\n",
      "[35.73132686 43.86086655 46.        ]\n",
      "[36.23694483 44.68109127 47.        ]\n",
      "[37.23038746 45.67781258 48.        ]\n",
      "[38.22412441 46.6757249  49.        ]\n",
      "[39.19512441 47.6747249  50.        ]\n",
      "[40.19010433 48.67271687 51.        ]\n",
      "[41.18623586 49.67078263 52.        ]\n",
      "[41.97558771 50.61754189 53.        ]\n",
      "[42.97289592 51.616196   54.        ]\n",
      "[43.93297196 52.61429485 55.        ]\n",
      "[44.92982731 53.61324664 56.        ]\n",
      "[45.92481729 54.61224463 57.        ]\n",
      "[46.75981729 55.61124463 58.        ]\n",
      "[47.54481729 56.50924463 59.        ]\n",
      "[48.30781729 57.44824463 60.        ]\n",
      "[48.84353158 58.23395892 61.        ]\n",
      "[49.39115062 59.22443511 62.        ]\n",
      "[49.81515062 60.06043511 63.        ]\n",
      "[50.66064419 61.00464112 64.        ]\n",
      "[51.65006218 61.99935011 65.        ]\n",
      "[52.33680916 62.88850674 66.        ]\n",
      "[52.96180916 63.87027757 67.        ]\n",
      "[53.46180916 64.71643142 68.        ]\n",
      "[54.45067331 65.71197708 69.        ]\n",
      "[55.17594803 66.57644594 70.        ]\n",
      "[55.84094803 67.57344594 71.        ]\n",
      "[56.38056689 68.56642488 72.        ]\n",
      "[57.06056689 69.55842488 73.        ]\n",
      "[58.05856689 70.55742488 74.        ]\n",
      "[59.0331739 71.5550065 75.       ]\n",
      "[59.4691739 72.3230065 76.       ]\n"
     ]
    },
    {
     "ename": "KeyboardInterrupt",
     "evalue": "",
     "output_type": "error",
     "traceback": [
      "\u001b[0;31m---------------------------------------------------------------------------\u001b[0m",
      "\u001b[0;31mKeyboardInterrupt\u001b[0m                         Traceback (most recent call last)",
      "\u001b[0;32m<__array_function__ internals>\u001b[0m in \u001b[0;36mwhere\u001b[0;34m(*args, **kwargs)\u001b[0m\n",
      "\u001b[0;31mKeyboardInterrupt\u001b[0m: "
     ]
    },
    {
     "name": "stderr",
     "output_type": "stream",
     "text": [
      "Exception ignored in: 'sklearn.cluster._k_means_common._relocate_empty_clusters_dense'\n",
      "Traceback (most recent call last):\n",
      "  File \"<__array_function__ internals>\", line 2, in where\n",
      "KeyboardInterrupt\n"
     ]
    },
    {
     "ename": "KeyboardInterrupt",
     "evalue": "",
     "output_type": "error",
     "traceback": [
      "\u001b[0;31m---------------------------------------------------------------------------\u001b[0m",
      "\u001b[0;31mKeyboardInterrupt\u001b[0m                         Traceback (most recent call last)",
      "\u001b[0;32m<__array_function__ internals>\u001b[0m in \u001b[0;36mwhere\u001b[0;34m(*args, **kwargs)\u001b[0m\n",
      "\u001b[0;31mKeyboardInterrupt\u001b[0m: "
     ]
    },
    {
     "name": "stderr",
     "output_type": "stream",
     "text": [
      "Exception ignored in: 'sklearn.cluster._k_means_common._relocate_empty_clusters_dense'\n",
      "Traceback (most recent call last):\n",
      "  File \"<__array_function__ internals>\", line 2, in where\n",
      "KeyboardInterrupt\n"
     ]
    },
    {
     "name": "stdout",
     "output_type": "stream",
     "text": [
      "[60.3401739 73.2640065 77.       ]\n",
      "[60.9171739 74.0940065 78.       ]\n",
      "[61.4651739 75.0870065 79.       ]\n"
     ]
    },
    {
     "ename": "KeyboardInterrupt",
     "evalue": "",
     "output_type": "error",
     "traceback": [
      "\u001b[0;31m---------------------------------------------------------------------------\u001b[0m",
      "\u001b[0;31mKeyboardInterrupt\u001b[0m                         Traceback (most recent call last)",
      "\u001b[0;32m/tmp/jobs/26739400/ipykernel_25298/1345776126.py\u001b[0m in \u001b[0;36m<module>\u001b[0;34m\u001b[0m\n\u001b[1;32m     10\u001b[0m             \u001b[0mNAME\u001b[0m \u001b[0;34m=\u001b[0m \u001b[0mFILE\u001b[0m \u001b[0;34m+\u001b[0m \u001b[0;34m'_ha_'\u001b[0m \u001b[0;34m+\u001b[0m \u001b[0mYEAR\u001b[0m\u001b[0;34m\u001b[0m\u001b[0;34m\u001b[0m\u001b[0m\n\u001b[1;32m     11\u001b[0m             \u001b[0mDM_PATH\u001b[0m \u001b[0;34m=\u001b[0m \u001b[0mDM_DIR\u001b[0m \u001b[0;34m+\u001b[0m \u001b[0mFILE\u001b[0m \u001b[0;34m+\u001b[0m \u001b[0;34m'_ha/'\u001b[0m \u001b[0;34m+\u001b[0m \u001b[0mNAME\u001b[0m \u001b[0;34m+\u001b[0m \u001b[0;34m'.csv'\u001b[0m\u001b[0;34m\u001b[0m\u001b[0;34m\u001b[0m\u001b[0m\n\u001b[0;32m---> 12\u001b[0;31m             \u001b[0mtotal_cluster_props\u001b[0m \u001b[0;34m+=\u001b[0m \u001b[0mcluster_proportions\u001b[0m\u001b[0;34m(\u001b[0m\u001b[0mDM_PATH\u001b[0m\u001b[0;34m,\u001b[0m \u001b[0mn\u001b[0m\u001b[0;34m)\u001b[0m\u001b[0;34m\u001b[0m\u001b[0;34m\u001b[0m\u001b[0m\n\u001b[0m\u001b[1;32m     13\u001b[0m             \u001b[0mprint\u001b[0m\u001b[0;34m(\u001b[0m\u001b[0mtotal_cluster_props\u001b[0m\u001b[0;34m)\u001b[0m\u001b[0;34m\u001b[0m\u001b[0;34m\u001b[0m\u001b[0m\n\u001b[1;32m     14\u001b[0m     \u001b[0maverage_cluster_props\u001b[0m\u001b[0;34m.\u001b[0m\u001b[0mappend\u001b[0m\u001b[0;34m(\u001b[0m\u001b[0mtotal_cluster_props\u001b[0m\u001b[0;34m/\u001b[0m\u001b[0;34m(\u001b[0m\u001b[0;36m4\u001b[0m\u001b[0;34m*\u001b[0m\u001b[0mlen\u001b[0m\u001b[0;34m(\u001b[0m\u001b[0mYEARS\u001b[0m\u001b[0;34m)\u001b[0m\u001b[0;34m)\u001b[0m\u001b[0;34m)\u001b[0m\u001b[0;34m\u001b[0m\u001b[0;34m\u001b[0m\u001b[0m\n",
      "\u001b[0;32m/tmp/jobs/26739400/ipykernel_25298/301286885.py\u001b[0m in \u001b[0;36mcluster_proportions\u001b[0;34m(dm_path, n_clusters)\u001b[0m\n\u001b[1;32m      5\u001b[0m     \u001b[0;31m# convert distance matrix to embedding\u001b[0m\u001b[0;34m\u001b[0m\u001b[0;34m\u001b[0m\u001b[0;34m\u001b[0m\u001b[0m\n\u001b[1;32m      6\u001b[0m     \u001b[0membedding\u001b[0m \u001b[0;34m=\u001b[0m \u001b[0mMDS\u001b[0m\u001b[0;34m(\u001b[0m\u001b[0mn_components\u001b[0m\u001b[0;34m=\u001b[0m\u001b[0;36m2\u001b[0m\u001b[0;34m,\u001b[0m \u001b[0mdissimilarity\u001b[0m\u001b[0;34m=\u001b[0m\u001b[0;34m\"precomputed\"\u001b[0m\u001b[0;34m,\u001b[0m \u001b[0mrandom_state\u001b[0m\u001b[0;34m=\u001b[0m\u001b[0;36m42\u001b[0m\u001b[0;34m)\u001b[0m\u001b[0;34m\u001b[0m\u001b[0;34m\u001b[0m\u001b[0m\n\u001b[0;32m----> 7\u001b[0;31m     \u001b[0mdm_embed\u001b[0m \u001b[0;34m=\u001b[0m \u001b[0membedding\u001b[0m\u001b[0;34m.\u001b[0m\u001b[0mfit_transform\u001b[0m\u001b[0;34m(\u001b[0m\u001b[0mdm\u001b[0m\u001b[0;34m)\u001b[0m\u001b[0;34m\u001b[0m\u001b[0;34m\u001b[0m\u001b[0m\n\u001b[0m\u001b[1;32m      8\u001b[0m     \u001b[0;31m# cluster the distance matrix\u001b[0m\u001b[0;34m\u001b[0m\u001b[0;34m\u001b[0m\u001b[0;34m\u001b[0m\u001b[0m\n\u001b[1;32m      9\u001b[0m     \u001b[0mclustering\u001b[0m \u001b[0;34m=\u001b[0m \u001b[0mKMeans\u001b[0m\u001b[0;34m(\u001b[0m\u001b[0mn_clusters\u001b[0m\u001b[0;34m=\u001b[0m\u001b[0mn_clusters\u001b[0m\u001b[0;34m,\u001b[0m \u001b[0mrandom_state\u001b[0m\u001b[0;34m=\u001b[0m\u001b[0;36m42\u001b[0m\u001b[0;34m)\u001b[0m\u001b[0;34m\u001b[0m\u001b[0;34m\u001b[0m\u001b[0m\n",
      "\u001b[0;32m/software/python-anaconda-2020.02-el7-x86_64/lib/python3.7/site-packages/sklearn/manifold/_mds.py\u001b[0m in \u001b[0;36mfit_transform\u001b[0;34m(self, X, y, init)\u001b[0m\n\u001b[1;32m    543\u001b[0m             \u001b[0meps\u001b[0m\u001b[0;34m=\u001b[0m\u001b[0mself\u001b[0m\u001b[0;34m.\u001b[0m\u001b[0meps\u001b[0m\u001b[0;34m,\u001b[0m\u001b[0;34m\u001b[0m\u001b[0;34m\u001b[0m\u001b[0m\n\u001b[1;32m    544\u001b[0m             \u001b[0mrandom_state\u001b[0m\u001b[0;34m=\u001b[0m\u001b[0mself\u001b[0m\u001b[0;34m.\u001b[0m\u001b[0mrandom_state\u001b[0m\u001b[0;34m,\u001b[0m\u001b[0;34m\u001b[0m\u001b[0;34m\u001b[0m\u001b[0m\n\u001b[0;32m--> 545\u001b[0;31m             \u001b[0mreturn_n_iter\u001b[0m\u001b[0;34m=\u001b[0m\u001b[0;32mTrue\u001b[0m\u001b[0;34m,\u001b[0m\u001b[0;34m\u001b[0m\u001b[0;34m\u001b[0m\u001b[0m\n\u001b[0m\u001b[1;32m    546\u001b[0m         )\n\u001b[1;32m    547\u001b[0m \u001b[0;34m\u001b[0m\u001b[0m\n",
      "\u001b[0;32m/software/python-anaconda-2020.02-el7-x86_64/lib/python3.7/site-packages/sklearn/manifold/_mds.py\u001b[0m in \u001b[0;36msmacof\u001b[0;34m(dissimilarities, metric, n_components, init, n_init, n_jobs, max_iter, verbose, eps, random_state, return_n_iter)\u001b[0m\n\u001b[1;32m    275\u001b[0m                 \u001b[0mverbose\u001b[0m\u001b[0;34m=\u001b[0m\u001b[0mverbose\u001b[0m\u001b[0;34m,\u001b[0m\u001b[0;34m\u001b[0m\u001b[0;34m\u001b[0m\u001b[0m\n\u001b[1;32m    276\u001b[0m                 \u001b[0meps\u001b[0m\u001b[0;34m=\u001b[0m\u001b[0meps\u001b[0m\u001b[0;34m,\u001b[0m\u001b[0;34m\u001b[0m\u001b[0;34m\u001b[0m\u001b[0m\n\u001b[0;32m--> 277\u001b[0;31m                 \u001b[0mrandom_state\u001b[0m\u001b[0;34m=\u001b[0m\u001b[0mrandom_state\u001b[0m\u001b[0;34m,\u001b[0m\u001b[0;34m\u001b[0m\u001b[0;34m\u001b[0m\u001b[0m\n\u001b[0m\u001b[1;32m    278\u001b[0m             )\n\u001b[1;32m    279\u001b[0m             \u001b[0;32mif\u001b[0m \u001b[0mbest_stress\u001b[0m \u001b[0;32mis\u001b[0m \u001b[0;32mNone\u001b[0m \u001b[0;32mor\u001b[0m \u001b[0mstress\u001b[0m \u001b[0;34m<\u001b[0m \u001b[0mbest_stress\u001b[0m\u001b[0;34m:\u001b[0m\u001b[0;34m\u001b[0m\u001b[0;34m\u001b[0m\u001b[0m\n",
      "\u001b[0;32m/software/python-anaconda-2020.02-el7-x86_64/lib/python3.7/site-packages/sklearn/manifold/_mds.py\u001b[0m in \u001b[0;36m_smacof_single\u001b[0;34m(dissimilarities, metric, n_components, init, max_iter, verbose, eps, random_state)\u001b[0m\n\u001b[1;32m    119\u001b[0m \u001b[0;34m\u001b[0m\u001b[0m\n\u001b[1;32m    120\u001b[0m         \u001b[0;31m# Compute stress\u001b[0m\u001b[0;34m\u001b[0m\u001b[0;34m\u001b[0m\u001b[0;34m\u001b[0m\u001b[0m\n\u001b[0;32m--> 121\u001b[0;31m         \u001b[0mstress\u001b[0m \u001b[0;34m=\u001b[0m \u001b[0;34m(\u001b[0m\u001b[0;34m(\u001b[0m\u001b[0mdis\u001b[0m\u001b[0;34m.\u001b[0m\u001b[0mravel\u001b[0m\u001b[0;34m(\u001b[0m\u001b[0;34m)\u001b[0m \u001b[0;34m-\u001b[0m \u001b[0mdisparities\u001b[0m\u001b[0;34m.\u001b[0m\u001b[0mravel\u001b[0m\u001b[0;34m(\u001b[0m\u001b[0;34m)\u001b[0m\u001b[0;34m)\u001b[0m \u001b[0;34m**\u001b[0m \u001b[0;36m2\u001b[0m\u001b[0;34m)\u001b[0m\u001b[0;34m.\u001b[0m\u001b[0msum\u001b[0m\u001b[0;34m(\u001b[0m\u001b[0;34m)\u001b[0m \u001b[0;34m/\u001b[0m \u001b[0;36m2\u001b[0m\u001b[0;34m\u001b[0m\u001b[0;34m\u001b[0m\u001b[0m\n\u001b[0m\u001b[1;32m    122\u001b[0m \u001b[0;34m\u001b[0m\u001b[0m\n\u001b[1;32m    123\u001b[0m         \u001b[0;31m# Update X using the Guttman transform\u001b[0m\u001b[0;34m\u001b[0m\u001b[0;34m\u001b[0m\u001b[0;34m\u001b[0m\u001b[0m\n",
      "\u001b[0;31mKeyboardInterrupt\u001b[0m: "
     ]
    }
   ],
   "source": [
    "average_cluster_props = []\n",
    "\n",
    "for n in trange(2, 7):\n",
    "    total_cluster_props = np.zeros(3)\n",
    "    for FILE in FILES:  \n",
    "        YEARS = NORTH_YEARS[:21]\n",
    "        if FILE[:5] == 'south':\n",
    "            YEARS = SOUTH_YEARS[:21]\n",
    "        for YEAR in YEARS:\n",
    "            NAME = FILE + '_ha_' + YEAR\n",
    "            DM_PATH = DM_DIR + FILE + '_ha/' + NAME + '.csv'\n",
    "            total_cluster_props += cluster_proportions(DM_PATH, n)\n",
    "            print(total_cluster_props)\n",
    "    average_cluster_props.append(total_cluster_props/(4*len(YEARS)))\n",
    "\n",
    "average_cluster_props"
   ]
  },
  {
   "cell_type": "code",
   "execution_count": 67,
   "id": "5eb9db8d",
   "metadata": {},
   "outputs": [
    {
     "data": {
      "text/plain": [
       "[array([0.79627937, 0.95454545, 0.95454545])]"
      ]
     },
     "execution_count": 67,
     "metadata": {},
     "output_type": "execute_result"
    }
   ],
   "source": [
    "average_cluster_props"
   ]
  },
  {
   "cell_type": "code",
   "execution_count": null,
   "id": "898a49fe",
   "metadata": {},
   "outputs": [],
   "source": []
  }
 ],
 "metadata": {
  "kernelspec": {
   "display_name": "Python 3 (ipykernel)",
   "language": "python",
   "name": "python3"
  },
  "language_info": {
   "codemirror_mode": {
    "name": "ipython",
    "version": 3
   },
   "file_extension": ".py",
   "mimetype": "text/x-python",
   "name": "python",
   "nbconvert_exporter": "python",
   "pygments_lexer": "ipython3",
   "version": "3.7.6"
  }
 },
 "nbformat": 4,
 "nbformat_minor": 5
}
