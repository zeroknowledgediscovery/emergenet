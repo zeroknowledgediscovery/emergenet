{
 "cells": [
  {
   "cell_type": "code",
   "execution_count": 133,
   "metadata": {},
   "outputs": [],
   "source": [
    "import copy\n",
    "import pandas as pd\n",
    "import numpy as np\n",
    "import Levenshtein\n",
    "from tqdm import tqdm"
   ]
  },
  {
   "cell_type": "code",
   "execution_count": 134,
   "metadata": {},
   "outputs": [
    {
     "data": {
      "text/plain": [
       "1773"
      ]
     },
     "execution_count": 134,
     "metadata": {},
     "output_type": "execute_result"
    }
   ],
   "source": [
    "tmpf=pd.read_csv('./combined_results.csv')\n",
    "tmpf[tmpf.predicted_emergence_score>6].index.size"
   ]
  },
  {
   "cell_type": "code",
   "execution_count": 135,
   "metadata": {},
   "outputs": [],
   "source": [
    "# parameters\n",
    "threshold=6  # draw tree above this emergenec risk threshold\n",
    "CONSTRUCT_PHYLO=False  # use constructed tree (tree construction takes hours)\n",
    "OUTPUT_DIR='./'\n",
    "PHYLO_TREE_DIR='./'\n",
    "PHYLO_DIR='./'\n",
    "COMBINED_RESULTS='./combined_results.csv'\n",
    "#CONSTRUCT_PHYLO=False\n",
    "num_collapsed=19  # number of mutations within which leaves are collapsed\n",
    "VERBOSE=False"
   ]
  },
  {
   "cell_type": "markdown",
   "metadata": {},
   "source": [
    "# class definition to hold multi sequence data"
   ]
  },
  {
   "cell_type": "code",
   "execution_count": 136,
   "metadata": {},
   "outputs": [],
   "source": [
    "class SeqInfo(object):\n",
    "    \"\"\"Holds information regarding the sequence.\n",
    "    \n",
    "    \"\"\"\n",
    "    def __init__(self, seq, \n",
    "                 protein,\n",
    "                 accession,\n",
    "                 subtype=None,\n",
    "                 id=None,\n",
    "                 name=None,\n",
    "                 host=None, \n",
    "                 date=None, \n",
    "                 erisk=None,\n",
    "                 irisk=None,\n",
    "                 risk_flag=None,\n",
    "                 country=None):\n",
    "        self.name = name\n",
    "        self.id = id\n",
    "        self.protein=protein\n",
    "        self.subtype=subtype        \n",
    "        self.seq = seq\n",
    "        self.accession = accession \n",
    "        self.host = host\n",
    "        self.date = date\n",
    "        self.erisk = erisk\n",
    "        self.irisk = irisk\n",
    "        self.risk_flag = risk_flag\n",
    "        self.country = country\n",
    "        \n",
    "class MultipleSeqInfo(object):\n",
    "    \"\"\"Holds information regarding multiple sequences.\n",
    "    \n",
    "    Args:\n",
    "        dataframe (pandas.DataFrame): list of records parsed from NCBI\n",
    "        accessionname (str): column name for accession id\n",
    "        proteinname (str): protein name \n",
    "        risk_threshold (float): emergence risk threshold to compute distance matrix\n",
    "    \"\"\"\n",
    "    def __init__(self,\n",
    "                 dataframe,\n",
    "                 accessionname,\n",
    "                 proteinname,\n",
    "                 risk_threshold=6.2):\n",
    "        \n",
    "        self.seq_infos = {}\n",
    "        self.risk_threshold = risk_threshold\n",
    "        for i in np.arange(dataframe.index.size):\n",
    "            record=dataframe.iloc[i,:]\n",
    "            seqinfo = SeqInfo(\n",
    "                name=record.id,\n",
    "                seq=record[proteinname], \n",
    "                protein=proteinname,\n",
    "                accession=record[accessionname],\n",
    "                subtype=record.subtype,\n",
    "                erisk=record.predicted_emergence_score,\n",
    "                irisk=record.predicted_impact_score,\n",
    "                risk_flag = record.predicted_emergence_score > self.risk_threshold,\n",
    "                host=None,\n",
    "                date=None,\n",
    "                country=None)\n",
    "            #print(record.predicted_emergence_score > self.risk_threshold)\n",
    "            self.seq_infos[seqinfo.accession] = seqinfo\n",
    "            \n",
    "    \n",
    "    def compute_L_distance_matrix(self):\n",
    "        highriskseq = pd.DataFrame.from_dict({key:val.seq \n",
    "                                              for (key,val) in self.seq_infos.items() \n",
    "                                              if val.risk_flag},orient='index',columns=['seq'])\n",
    "        num=highriskseq.index.size\n",
    "        d=np.zeros([num,num])\n",
    "        for x in tqdm(np.arange(num*num)):\n",
    "            j=x//num\n",
    "            i=x-num*j\n",
    "            if i > j:\n",
    "                d[i,j] = Levenshtein.distance(highriskseq.seq.values[i],\n",
    "                                                  highriskseq.seq.values[j])\n",
    "        ds=pd.DataFrame(d)        \n",
    "        ds=(ds+ds.transpose())\n",
    "        ds.columns=highriskseq.index.values\n",
    "        self.highriskdistancematrix=ds.copy()\n",
    "        \n",
    "        self.highriskdistancematrix.to_csv('dm'+str(self.risk_threshold)+'.csv',index=None)\n",
    "        return \n",
    "    \n",
    "    \n",
    "    def accessions_to_subtype(self, accessions):\n",
    "        \"\"\"Create a dictionary mapping the accession to the host.\n",
    "        \"\"\"\n",
    "        \n",
    "        subtypes = []\n",
    "        for accession in accessions:\n",
    "            seqinfo = self.seq_infos[accession]\n",
    "            subtypes.append(seqinfo.subtype)\n",
    "            \n",
    "        return subtypes\n",
    "\n",
    "    def accessions_to_host(self, accessions):\n",
    "        \"\"\"Create a dictionary mapping the accession to the host.\n",
    "        \"\"\"\n",
    "        \n",
    "        hosts = []\n",
    "        for accession in accessions:\n",
    "            seqinfo = self.seq_infos[accession]\n",
    "            hosts.append(seqinfo.host)\n",
    "        return hosts\n",
    "           \n",
    "    "
   ]
  },
  {
   "cell_type": "code",
   "execution_count": 137,
   "metadata": {},
   "outputs": [],
   "source": [
    "df=pd.read_csv(COMBINED_RESULTS,index_col=0).reset_index()\n",
    "#ALLinfoHA=MultipleSeqInfo(df.reset_index(),'ha_accession','ha',risk_threshold=6.054)\n",
    "ALLinfoHA=MultipleSeqInfo(df.reset_index(),'ha_accession','ha',risk_threshold=threshold)"
   ]
  },
  {
   "cell_type": "code",
   "execution_count": 138,
   "metadata": {},
   "outputs": [
    {
     "data": {
      "text/plain": [
       "H1N1    906\n",
       "H3N2    821\n",
       "H9N2     36\n",
       "H7N9     10\n",
       "Name: subtype, dtype: int64"
      ]
     },
     "execution_count": 138,
     "metadata": {},
     "output_type": "execute_result"
    }
   ],
   "source": [
    "df[df.predicted_emergence_score>threshold].subtype.value_counts()"
   ]
  },
  {
   "cell_type": "markdown",
   "metadata": {
    "scrolled": true
   },
   "source": [
    "# generate distance matrix"
   ]
  },
  {
   "cell_type": "code",
   "execution_count": 139,
   "metadata": {
    "scrolled": true
   },
   "outputs": [
    {
     "name": "stderr",
     "output_type": "stream",
     "text": [
      "100%|██████████████████████████████| 3143529/3143529 [01:17<00:00, 40769.78it/s]\n"
     ]
    }
   ],
   "source": [
    "ALLinfoHA.compute_L_distance_matrix()"
   ]
  },
  {
   "cell_type": "markdown",
   "metadata": {},
   "source": [
    "# tree construction from distance matrix using biopython"
   ]
  },
  {
   "cell_type": "code",
   "execution_count": 140,
   "metadata": {},
   "outputs": [],
   "source": [
    "from Bio.Phylo import TreeConstruction\n",
    "from Bio import Phylo\n",
    "from Bio.SeqRecord import SeqRecord\n",
    "from Bio.Seq import Seq\n",
    "from Bio.Align import MultipleSeqAlignment\n",
    "from Bio import Entrez\n",
    "from Bio import SeqIO\n",
    "\n",
    "\n",
    "def load_dm(file_, upper_diag=True):\n",
    "    \"\"\"Load the distance matrix. \n",
    "    \n",
    "    Also, do some preprocessing. \n",
    "    \"\"\"\n",
    "    \n",
    "    df = pd.read_csv(file_)\n",
    "    #df.set_index('Unnamed: 0', inplace=True)\n",
    "    #assert np.all(df.columns == df.index)\n",
    "    \n",
    "    # drop duplicate columns after reading csv\n",
    "    #df = df.loc[:, ~df.columns.str.replace(\"(\\.\\d+)$\", \"\").duplicated()]\n",
    "    \n",
    "    if upper_diag:\n",
    "        df = df + df.T\n",
    "    return df\n",
    "\n",
    "def save_tree(tree, file_name, save_type='xml'):\n",
    "    \"\"\"Saved the created phylogenetic tree.\"\"\"\n",
    "    \n",
    "    if save_type == 'pickle':\n",
    "        graph = Phylo.to_networkx(tree)\n",
    "        save_pickled(graph, file_name)\n",
    "    elif save_type == 'xml':\n",
    "        Phylo.write(tree, file_name, 'phyloxml')\n",
    "    else:\n",
    "        raise ValueError('Not a correct save type.')\n",
    "    \n",
    "def pandas_dm_to_biopython_dm(dm):\n",
    "    \"\"\"Convert the pandas distance matrix to the biopython distance matrix.\n",
    "    \n",
    "    Returns:\n",
    "        biopython distance matrix\n",
    "    \"\"\"\n",
    "    \n",
    "    accessions = dm.columns\n",
    "    bio_dm = []\n",
    "    for i, accession in enumerate(accessions):\n",
    "        bio_dm.append(list(dm.iloc[i, :i+1].values))\n",
    "        \n",
    "    bio_dm = TreeConstruction._DistanceMatrix(\n",
    "        list(dm.columns), \n",
    "        bio_dm)\n",
    "    \n",
    "    return bio_dm\n",
    "\n",
    "def distance_matrix_to_phylo_tree(dm, outfile=None):\n",
    "    \"\"\"Create a phylogenetic tree from the distance matrix.\"\"\"\n",
    "    \n",
    "    dm = pandas_dm_to_biopython_dm(dm)\n",
    "    \n",
    "    treeConstructor = TreeConstruction.DistanceTreeConstructor()\n",
    "    tree = treeConstructor.nj(dm)\n",
    "    \n",
    "    if outfile is not None:\n",
    "        save_tree(tree, outfile)"
   ]
  },
  {
   "cell_type": "markdown",
   "metadata": {},
   "source": [
    "# ete3 function, not all of these are used here"
   ]
  },
  {
   "cell_type": "code",
   "execution_count": 141,
   "metadata": {},
   "outputs": [],
   "source": [
    "from ete3 import Tree, TreeStyle\n",
    "from ete3 import Phyloxml\n",
    "from ete3 import AttrFace, faces, Tree, NodeStyle, TreeStyle\n",
    "\n",
    "def load_pickled(file_name):\n",
    "    with open(file_name, 'rb') as f:\n",
    "        return pickle.load(f, encoding='latin')\n",
    "\n",
    "\n",
    "def get_farthest_node(tree, sequence):\n",
    "    return (tree&sequence).get_farthest_node()\n",
    "\n",
    "def get_all_accessions_from_tree(tree):\n",
    "    return [leaf_node.name for leaf_node in tree.get_leaves()]\n",
    "\n",
    "def remove_certain_hosts_from_tree(tree, hosts):\n",
    "    \"\"\"Remove leaf nodes if the host of that leaf is in `hosts`\"\"\"\n",
    "    \n",
    "    tree = copy.deepcopy(tree)\n",
    "    \n",
    "    removed_accessions = []\n",
    "    for leaf_node in tree.get_leaves():\n",
    "        if leaf_node.host in hosts:\n",
    "            leaf_node.detach()\n",
    "            \n",
    "    return tree\n",
    "\n",
    "def set_midpoint_outgroup(tree):\n",
    "    tree.set_outgroup(tree.get_midpoint_outgroup())\n",
    "\n",
    "\n",
    "def load_tree(filename, type_='phyloxml'):\n",
    "    \"\"\"Load saved phylogenetic tree.\n",
    "    \"\"\"\n",
    "    \n",
    "    if type_ == 'phyloxml':\n",
    "        project = Phyloxml()\n",
    "        project.build_from_file(filename)\n",
    "\n",
    "        for tree in project.get_phylogeny():\n",
    "            break\n",
    "\n",
    "        t=tree\n",
    "        \n",
    "    elif type_ == 'newick':\n",
    "        t = Tree(filename, format=1)\n",
    "    else:\n",
    "        raise ValueError('Not a correct type.')\n",
    "    \n",
    "    return t"
   ]
  },
  {
   "cell_type": "markdown",
   "metadata": {},
   "source": [
    "# construct tree from distance matrix"
   ]
  },
  {
   "cell_type": "code",
   "execution_count": 142,
   "metadata": {},
   "outputs": [],
   "source": [
    "#CONSTRUCT_PHYLO=True\n",
    "if CONSTRUCT_PHYLO:\n",
    "    ALL_dm_ldistance = load_dm(\n",
    "        OUTPUT_DIR + 'dm'+str(threshold)+'.csv', \n",
    "        upper_diag=False)\n",
    "    \n",
    "    distance_matrix_to_phylo_tree(\n",
    "        ALL_dm_ldistance, PHYLO_TREE_DIR + 'ldistance'+str(threshold)+'.xml')"
   ]
  },
  {
   "cell_type": "markdown",
   "metadata": {},
   "source": [
    "# convert phyloxml tree to newick tree to manipulate trees"
   ]
  },
  {
   "cell_type": "code",
   "execution_count": 143,
   "metadata": {},
   "outputs": [],
   "source": [
    "\n",
    "Phylo.convert(\n",
    "    PHYLO_DIR + 'ldistance'+str(threshold)+'.xml','phyloxml',\n",
    "    PHYLO_DIR + 'ldistance'+str(threshold)+'.nhx','newick')\n",
    "\n",
    "ltree = load_tree(\n",
    "    PHYLO_DIR + 'ldistance'+str(threshold)+'.nhx',\n",
    "    type_='newick')"
   ]
  },
  {
   "cell_type": "markdown",
   "metadata": {},
   "source": [
    "# label nodes in tree to add other attributes like subtype risk etc"
   ]
  },
  {
   "cell_type": "code",
   "execution_count": 144,
   "metadata": {},
   "outputs": [],
   "source": [
    "def bandify(val,min=6.05,max=6.71):\n",
    "    maptoten=int(np.ceil(((val-min)/(max-min))*10))\n",
    "    return ' '+u'\\u2580'*maptoten\n",
    "\n",
    "def label_nodes(\n",
    "        tree, \n",
    "        recordinfo):\n",
    "    \"\"\"Label the nodes of the tree.\n",
    "    \n",
    "    We label nodes on whether:\n",
    "        it is covid19\n",
    "    \"\"\"\n",
    "    \n",
    "    tree = copy.deepcopy(tree)\n",
    "    \n",
    "    for node in tree:\n",
    "        name = node.name      \n",
    "        node.subtype = recordinfo.seq_infos[name].subtype\n",
    "        node.erisk =recordinfo.seq_infos[name].erisk\n",
    "        node.id = recordinfo.seq_infos[name].name + bandify(recordinfo.seq_infos[name].erisk,min=threshold)\n",
    "        if VERBOSE:\n",
    "            print(node.name,node.subtype,node.id,node.erisk)\n",
    "    return tree"
   ]
  },
  {
   "cell_type": "markdown",
   "metadata": {},
   "source": [
    "# construct labelled tree"
   ]
  },
  {
   "cell_type": "code",
   "execution_count": 145,
   "metadata": {},
   "outputs": [],
   "source": [
    "labelled_tree=label_nodes(\n",
    "    ltree, ALLinfoHA)"
   ]
  },
  {
   "cell_type": "markdown",
   "metadata": {},
   "source": [
    "# functions to collapse simialr leaves"
   ]
  },
  {
   "cell_type": "code",
   "execution_count": 146,
   "metadata": {},
   "outputs": [],
   "source": [
    "def prune_nodes(t):\n",
    "    # collapsed nodes are labeled, so you locate them and prune them\n",
    "    for n in t.search_nodes(collapsed=True):\n",
    "        for ch in n.get_children():\n",
    "            ch.detach()\n",
    "            \n",
    "            \n",
    "def mean(array):\n",
    "    return sum(array)/float(len(array))\n",
    "\n",
    "def cache_distances(tree):\n",
    "    ''' precalculate distances of all nodes to the root''' \n",
    "    node2rootdist = {tree:0}\n",
    "    for node in tree.iter_descendants('preorder'):\n",
    "        node2rootdist[node] = node.dist + node2rootdist[node.up]\n",
    "    return node2rootdist\n",
    "\n",
    "def closest_node(node, node2tips, root_distance):\n",
    "    \"\"\"Find the closest node.\"\"\"\n",
    "    \n",
    "    tips = []\n",
    "    distances = []\n",
    "    for tip in node2tips[node]:\n",
    "        distances.append(root_distance[tip]-root_distance[node])\n",
    "        tips.append(tip)\n",
    "        #     index = np.argmin([root_distance[tip]-root_distance[node] for tip in node2tips[node]])\n",
    "    index = np.argmin(distances)\n",
    "    return tips[index]\n",
    "\n",
    "def riskiest_node(node, node2tips):\n",
    "    \"\"\"Find the closest node.\"\"\"\n",
    "    \n",
    "    tips = []\n",
    "    risks = []\n",
    "    for tip in node2tips[node]:\n",
    "        risks.append(tip.erisk)\n",
    "        tips.append(tip)\n",
    "        #     index = np.argmin([root_distance[tip]-root_distance[node] for tip in node2tips[node]])\n",
    "    index = np.argmax(risks)\n",
    "    return tips[index]\n",
    "\n",
    "def collapse(tree, min_dist,AllrecordInfo):\n",
    "    # cache the tip content of each node to reduce the number of times the tree is traversed\n",
    "    \n",
    "    tree = copy.deepcopy(tree)\n",
    "    \n",
    "    node2tips = tree.get_cached_content()\n",
    "    root_distance = cache_distances(tree)\n",
    "\n",
    "    for node in tree.get_descendants('preorder'):\n",
    "        if not node.is_leaf():\n",
    "            avg_distance_to_tips = mean([root_distance[tip]-root_distance[node]\n",
    "                                         for tip in node2tips[node]])\n",
    "            if VERBOSE:\n",
    "                print(avg_distance_to_tips)\n",
    "            if avg_distance_to_tips < min_dist:\n",
    "                # do whatever, ete support node annotation, deletion, labeling, etc.\n",
    "            \n",
    "                #closest_name = closest_node(node, node2tips, root_distance).name\n",
    "                closest_name = riskiest_node(node, node2tips).name\n",
    "                node.subtype = AllrecordInfo.seq_infos[closest_name].subtype\n",
    "                node.id = AllrecordInfo.seq_infos[closest_name].name + bandify(AllrecordInfo.seq_infos[closest_name].erisk,min=threshold)\n",
    "                node.name = '%s (%g)' %(closest_name,avg_distance_to_tips)\n",
    "                \n",
    "            \n",
    "                node.add_features(collapsed=True)\n",
    "\n",
    "                # set drawing attribute so they look collapsed when displayed with tree.show()\n",
    "                node.img_style['draw_descendants'] = False\n",
    "\n",
    "    return tree"
   ]
  },
  {
   "cell_type": "code",
   "execution_count": 147,
   "metadata": {},
   "outputs": [],
   "source": [
    "# collapse leaved"
   ]
  },
  {
   "cell_type": "code",
   "execution_count": 148,
   "metadata": {},
   "outputs": [],
   "source": [
    "num_collapsed=25\n",
    "ltree_collapsed = collapse(\n",
    "    labelled_tree, \n",
    "    min_dist=num_collapsed, \n",
    "    AllrecordInfo=ALLinfoHA)\n",
    "\n",
    "prune_nodes(ltree_collapsed)"
   ]
  },
  {
   "cell_type": "markdown",
   "metadata": {},
   "source": [
    "# code for actual rendering"
   ]
  },
  {
   "cell_type": "code",
   "execution_count": 149,
   "metadata": {},
   "outputs": [],
   "source": [
    "# COLBAT='DarkRed'\n",
    "# COLRAT='SteelBlue'\n",
    "COLH3N2='Blue'\n",
    "COLH1N1='DarkRed'\n",
    "COLH7N9='DarkGreen'\n",
    "COLH9N2='#BD890F'\n",
    "COLDEF='BLACK'\n",
    "\n",
    "FS=50\n",
    "PW=10\n",
    "\n",
    "\n",
    "def nodeAttribConstruct(color, node):\n",
    "    N = AttrFace(\n",
    "        \"id\", fsize=FS, \n",
    "        text_prefix=\" \",penwidth=PW,ftype='Arial',\n",
    "        fgcolor=color,fstyle='bold')\n",
    "    faces.add_face_to_node(N, node, 1, position=\"branch-right\")\n",
    "    return N\n",
    "\n",
    "def layout(node):\n",
    "    if node.is_leaf():\n",
    "        if  node.subtype == 'H1N1':\n",
    "            N = nodeAttribConstruct(COLH1N1,node)\n",
    "        elif node.subtype == 'H3N2':\n",
    "            N = nodeAttribConstruct(COLH3N2,node)\n",
    "        elif node.subtype == 'H7N9':\n",
    "            N = nodeAttribConstruct(COLH7N9,node)\n",
    "        elif node.subtype == 'H9N2':\n",
    "            N = nodeAttribConstruct(COLH9N2,node)\n",
    "        else:\n",
    "            N = nodeAttribConstruct(COLDEF,node)\n",
    "            \n",
    "\n",
    "            \n",
    "def render_tree(tree, outfile):# all_seq_data, display_type='nearest_host'):\n",
    "    \"\"\"Render the tree inside the file to a circular \n",
    "    phylogenetic tree.\n",
    "    \n",
    "    NOTE: outfile should be in .pdf for best visuals\n",
    "    Returns:\n",
    "    \"\"\"\n",
    "    #tree = Tree(nwfile,format=1)\n",
    "\n",
    "    ts = TreeStyle()\n",
    "    ns = NodeStyle()\n",
    "    ts.show_leaf_name = False\n",
    "    #ts.rotation = 90\n",
    "    ts.mode = \"r\"\n",
    "    #ts.arc_start = -360 # 0 degrees = 3 o'clock\n",
    "    #ts.arc_span = 360\n",
    "    ts.scale=1\n",
    "    ts.show_scale=False\n",
    "    ts.branch_vertical_margin = .5 # 10 pixels between adjacent branches\n",
    "    # ts.show_branch_length=True\n",
    "    #ts.min_leaf_separation=10\n",
    "    #ts.optimal_scale_level='full'\n",
    "    #ts.branch_vertical_margin=0\n",
    "    \n",
    "    ns.hz_line_width=2\n",
    "    ns.vt_line_width=1\n",
    "    #ts.layout_fn = layout\n",
    "    ns[\"vt_line_width\"] = 16\n",
    "    ns[\"hz_line_width\"] = 16\n",
    "    #     ns['fsize'] = 20\n",
    "    for n in tree.traverse():\n",
    "        n.set_style(ns)\n",
    "        \n",
    "    #all_accessions = all_seq_data['accessions'].values\n",
    "    for n in tree:\n",
    "        ts.layout_fn = layout\n",
    "\n",
    "        \n",
    "    tree.set_style(ns)\n",
    "    tree.set_style(ts)\n",
    "    \n",
    "    ax=tree.render(\n",
    "        outfile, \n",
    "        dpi=300, \n",
    "        w=300,\n",
    "        tree_style=ts)"
   ]
  },
  {
   "cell_type": "code",
   "execution_count": 150,
   "metadata": {},
   "outputs": [
    {
     "data": {
      "text/html": [
       "<div>\n",
       "<style scoped>\n",
       "    .dataframe tbody tr th:only-of-type {\n",
       "        vertical-align: middle;\n",
       "    }\n",
       "\n",
       "    .dataframe tbody tr th {\n",
       "        vertical-align: top;\n",
       "    }\n",
       "\n",
       "    .dataframe thead th {\n",
       "        text-align: right;\n",
       "    }\n",
       "</style>\n",
       "<table border=\"1\" class=\"dataframe\">\n",
       "  <thead>\n",
       "    <tr style=\"text-align: right;\">\n",
       "      <th></th>\n",
       "      <th>id</th>\n",
       "      <th>subtype</th>\n",
       "      <th>ha_accession</th>\n",
       "      <th>na_accession</th>\n",
       "      <th>predicted_impact_score</th>\n",
       "      <th>predicted_emergence_score</th>\n",
       "    </tr>\n",
       "  </thead>\n",
       "  <tbody>\n",
       "  </tbody>\n",
       "</table>\n",
       "</div>"
      ],
      "text/plain": [
       "Empty DataFrame\n",
       "Columns: [id, subtype, ha_accession, na_accession, predicted_impact_score, predicted_emergence_score]\n",
       "Index: []"
      ]
     },
     "execution_count": 150,
     "metadata": {},
     "output_type": "execute_result"
    }
   ],
   "source": [
    "r=5\n",
    "medrisknames=[]\n",
    "for node in ltree_collapsed:\n",
    "    if ALLinfoHA.seq_infos[node.name.split()[0]].erisk > r:\n",
    "        medrisknames=np.append(medrisknames,\n",
    "                                ALLinfoHA.seq_infos[node.name.split()[0]].name)\n",
    "medrisknames=df[df.id.isin(medrisknames)][['id','subtype',\n",
    "                                               'ha_accession',\n",
    "                                               'na_accession',\n",
    "                                               'predicted_impact_score',\n",
    "                                               'predicted_emergence_score']].sort_values('predicted_emergence_score',\n",
    "                                                                                         ascending=False)\n",
    "medrisknames.to_csv('allriskystrains_collapsed.csv',index=None)\n",
    "\n",
    "medrisknames[medrisknames.id.str.contains('Karaganda')]"
   ]
  },
  {
   "cell_type": "markdown",
   "metadata": {},
   "source": [
    "# Render phylogenetic trees"
   ]
  },
  {
   "cell_type": "code",
   "execution_count": null,
   "metadata": {},
   "outputs": [],
   "source": [
    "ax=render_tree(\n",
    "    labelled_tree,\n",
    "    './riskyphylo'+str(threshold)+'.pdf')"
   ]
  },
  {
   "cell_type": "code",
   "execution_count": null,
   "metadata": {},
   "outputs": [],
   "source": [
    "ax=render_tree(\n",
    "    ltree_collapsed,\n",
    "    '../../../tex/Figures/riskyphylo'+str(threshold)+'_collapsed_'+str(num_collapsed)+'.pdf')"
   ]
  },
  {
   "cell_type": "code",
   "execution_count": null,
   "metadata": {},
   "outputs": [],
   "source": [
    "ltree_collapsed"
   ]
  },
  {
   "cell_type": "markdown",
   "metadata": {},
   "source": [
    "# Find high risk strains which are on distinct branches on phylogenetic tree"
   ]
  },
  {
   "cell_type": "code",
   "execution_count": null,
   "metadata": {},
   "outputs": [],
   "source": [
    "r=6.057\n",
    "r=6.25\n",
    "highrisknames=[]\n",
    "for node in ltree_collapsed:\n",
    "    if ALLinfoHA.seq_infos[node.name.split()[0]].erisk > r:\n",
    "        highrisknames=np.append(highrisknames,\n",
    "                                ALLinfoHA.seq_infos[node.name.split()[0]].name)\n",
    "highrisknamesdf=df[df.id.isin(highrisknames)][['id','subtype',\n",
    "                                               'ha_accession',\n",
    "                                               'na_accession',\n",
    "                                               'predicted_impact_score',\n",
    "                                               'predicted_emergence_score']].sort_values('predicted_emergence_score',\n",
    "                                                                                         ascending=False)\n",
    "highrisknamesdf = highrisknamesdf.rename(columns={'id':'strain',\n",
    "                                                  'ha_accession':'HA accession',\n",
    "                                                  'na_accession':'NA accession',\n",
    "                                                  'predicted_impact_score':'predicted IRAT impact',\n",
    "                                                  'predicted_emergence_score':'predicted IRAT emergence'}).set_index('strain')\n",
    "highrisknamesdf#.drop_duplicates()"
   ]
  },
  {
   "cell_type": "code",
   "execution_count": null,
   "metadata": {},
   "outputs": [],
   "source": [
    "COLDICT={'H1N1':'Red3!20','H3N2':'Blue1!30','H7N9':'Green3!50','H9N2':'DarkOrange!40'}\n",
    "def rowcolor(row):\n",
    "    return '\\\\rowcolor{' + COLDICT[row.subtype]+'}' + row['strain']\n",
    "\n",
    "highrisknamesdf1 = highrisknamesdf.reset_index(drop=False)\n",
    "highrisknamesdf1['strain']=highrisknamesdf1.apply(rowcolor,axis=1)\n",
    "highrisknamesdf1=highrisknamesdf1.set_index('strain')\n",
    "highrisknamesdf1"
   ]
  },
  {
   "cell_type": "code",
   "execution_count": null,
   "metadata": {},
   "outputs": [],
   "source": [
    "from zedstat.textable import textable\n",
    "textable(pd.concat([highrisknamesdf1.head(30),highrisknamesdf1.tail(10)]),\n",
    "         tabname='../../../tex/Figures/tabdata/highrisk.tex',\n",
    "         FORMAT='%1.4f',INDEX=True,\n",
    "         TABFORMAT='L{1.95in}|L{.25in}|L{.60in}|L{.6in}|C{1in}|C{1in}',LNTERM='\\\\\\\\\\n')\n",
    "! cat highrisk.tex"
   ]
  },
  {
   "cell_type": "code",
   "execution_count": null,
   "metadata": {},
   "outputs": [],
   "source": [
    "count=0\n",
    "Subtype={'H1N1':0,'H3N2':0,'H7N9':0,'H9N2':0}\n",
    "MaxriskStrain={'H1N1':None,'H3N2':None,'H7N9':None,'H9N2':None}\n",
    "Subtype_strat={ 6.2:{'H1N1':0,'H3N2':0,'H7N9':0,'H9N2':0},              6.3:{'H1N1':0,'H3N2':0,'H7N9':0,'H9N2':0},\n",
    "               6.4:{'H1N1':0,'H3N2':0,'H7N9':0,'H9N2':0},6.5:{'H1N1':0,'H3N2':0,'H7N9':0,'H9N2':0}}\n",
    "for node in ltree_collapsed:\n",
    "    Subtype[node.subtype]=Subtype[node.subtype]+1\n",
    "    if MaxriskStrain[node.subtype] is None:\n",
    "        MaxriskStrain[node.subtype]=(ALLinfoHA.seq_infos[node.name.split()[0]].name,\n",
    "                                     ALLinfoHA.seq_infos[node.name.split()[0]].erisk)\n",
    "    else:\n",
    "        if MaxriskStrain[node.subtype][1]<ALLinfoHA.seq_infos[node.name.split()[0]].erisk:\n",
    "            MaxriskStrain[node.subtype]=(ALLinfoHA.seq_infos[node.name.split()[0]].name,\n",
    "                                         ALLinfoHA.seq_infos[node.name.split()[0]].erisk)\n",
    "    for r in [6.2,6.3,6.4,6.5]:\n",
    "        if r<ALLinfoHA.seq_infos[node.name.split()[0]].erisk:\n",
    "            #print(node.subtype,ALLinfoHA.seq_infos[node.name.split()[0]].erisk)\n",
    "            Subtype_strat[r][node.subtype]=Subtype_strat[r][node.subtype]+1\n",
    "        \n",
    "    count=count+1\n",
    "maxriskdf = pd.DataFrame(MaxriskStrain)\n",
    "Subtype_strat_df = pd.DataFrame(Subtype_strat)\n",
    "display(maxriskdf)\n",
    "display(Subtype_strat_df)\n",
    "print(count)\n",
    "df[df.id.isin(maxriskdf.iloc[0,:].values)]"
   ]
  },
  {
   "cell_type": "code",
   "execution_count": null,
   "metadata": {},
   "outputs": [],
   "source": [
    "def write_fasta(seqs, fasta_file, wrap=80):\n",
    "    \"\"\"Write sequences to a fasta file.\n",
    "\n",
    "    Parameters\n",
    "    ----------\n",
    "    seqs : dict[seq_id] -> seq\n",
    "        Sequences indexed by sequence id.\n",
    "    fasta_file : str\n",
    "        Path to write the sequences to.\n",
    "    wrap: int\n",
    "        Number of AA/NT before the line is wrapped.\n",
    "    \"\"\"\n",
    "    with open(fasta_file, 'w') as f:\n",
    "        for gid, gseq in seqs.items():\n",
    "            f.write('>{}\\n'.format(gid))\n",
    "            for i in range(0, len(gseq), wrap):\n",
    "                f.write('{}\\n'.format(gseq[i:i + wrap])) \n",
    "\n",
    "for i,name in zip(df[df.id.isin(maxriskdf.iloc[0,:].values)].ha.values,\n",
    "                 df[df.id.isin(maxriskdf.iloc[0,:].values)].ha_accession.values):\n",
    "    write_fasta({name:i},name+'.fasta')\n",
    "    \n",
    "! ls -lhtr *fasta"
   ]
  },
  {
   "cell_type": "code",
   "execution_count": null,
   "metadata": {},
   "outputs": [],
   "source": [
    "from Bio import SeqIO\n",
    "from Bio.Blast import NCBIWWW\n",
    "my_query = SeqIO.read(\"EPI1818121.fasta\", format=\"fasta\")\n",
    "result_handle = NCBIWWW.qblast(\"blastp\", \"nr\", my_query.seq)\n",
    "blast_result = open(\"my_blast.xml\", \"w\")\n",
    "blast_result.write(result_handle.read())\n",
    "blast_result.close()\n",
    "result_handle.close()"
   ]
  },
  {
   "cell_type": "code",
   "execution_count": null,
   "metadata": {},
   "outputs": [],
   "source": [
    "def parse_blast(resultfile): #takes in the BLAST result, outputs list that can be made into csv\n",
    "    from Bio.Blast import NCBIXML\n",
    "    result_handle = open(resultfile)\n",
    "    blast_records = NCBIXML.parse(result_handle)\n",
    "    csv_list = []\n",
    "    \n",
    "    header = [  'accession','Query',\n",
    "                'Name', 'Length', 'Score', 'Expect',\n",
    "                'QueryStart', 'QueryEnd',\n",
    "                'SubjectStart', 'SubjectEnd','pct'\n",
    "            ]\n",
    "    \n",
    "    #csv_list.append(header)\n",
    "    count = 0\n",
    "    for blast_record in blast_records:\n",
    "        '''help(blast_record.alignments[0].hsps[0])''' # these give help info for the parts \n",
    "        '''help(blast_record.alignments[0])        '''\n",
    "        count +=1\n",
    "        \n",
    "        query = blast_record.query\n",
    "        for alignment in blast_record.alignments:\n",
    "\n",
    "            name = alignment.title\n",
    "            length = alignment.length\n",
    "    \n",
    "            hsp = alignment.hsps[0] # I don't know if we will ever have more than one, so might as well take the first one.\n",
    "            score = hsp.score\n",
    "            expect = hsp.expect\n",
    "            querystart = hsp.query_start\n",
    "            queryend = hsp.query_end\n",
    "            subjectstart = hsp.sbjct_start\n",
    "            subjectend = hsp.sbjct_end\n",
    "            pct=hsp.positives/hsp.align_length\n",
    "            accession=alignment.accession\n",
    "            row = [accession,query,name,length,score,expect,querystart,queryend,subjectstart,subjectend,pct]\n",
    "            csv_list.append(row)\n",
    "            \n",
    "    result_handle.close()\n",
    "    return pd.DataFrame(csv_list,columns=header)\n",
    " "
   ]
  },
  {
   "cell_type": "code",
   "execution_count": null,
   "metadata": {},
   "outputs": [],
   "source": [
    "csv_list=parse_blast('my_blast.xml')\n",
    "csv_list"
   ]
  },
  {
   "cell_type": "code",
   "execution_count": null,
   "metadata": {},
   "outputs": [],
   "source": [
    "from Bio import Entrez\n",
    "Entrez.email = \"ishanu@uchicago.edu\"     # Always tell NCBI who you are\n",
    "handle = Entrez.esearch(db=\"protein\", term=\"QJT24340\")\n",
    "record = Entrez.read(handle)\n",
    "id=record[\"IdList\"]\n",
    "id"
   ]
  },
  {
   "cell_type": "code",
   "execution_count": null,
   "metadata": {},
   "outputs": [],
   "source": [
    "handle = Entrez.efetch(db=\"protein\", rettype=\"gb\", retmode=\"text\", id=\"1834373412\")\n",
    "#record = SeqIO.read(handle, \"genbank\")\n",
    "handle.read()"
   ]
  },
  {
   "cell_type": "markdown",
   "metadata": {},
   "source": [
    "H9N2: minks are probable mixing vessels\n",
    "https://www.ncbi.nlm.nih.gov/nuccore/ON870694.1\n",
    " https://www.tandfonline.com/doi/full/10.1080/22221751.2021.1899058\n",
    " Pandemic influenza, typically caused by the reassortment of human and avian influenza viruses, can result in severe or fatal infections in humans. Timely identification of potential pandemic viruses must be a priority in influenza virus surveillance. However, the range of host species responsible for the generation of novel pandemic influenza viruses remains unclear. In this study, we conducted serological surveys for avian and human influenza virus infections in farmed mink and determined the susceptibility of mink to prevailing avian and human virus subtypes. The results showed that farmed mink were commonly infected with human (H3N2 and H1N1/pdm) and avian (H7N9, H5N6, and H9N2) influenza A viruses. Correlational analysis indicated that transmission of human influenza viruses occurred from humans to mink, and that feed source was a probable route of avian influenza virus transmission to farmed mink. Animal experiments showed that mink were susceptible and permissive to circulating avian and human influenza viruses, and that human influenza viruses (H3N2 and H1N1/pdm), but not avian viruses, were capable of aerosol transmission among mink. These results indicate that farmed mink could be highly permissive “mixing vessels” for the reassortment of circulating human and avian influenza viruses. \n",
    " \n",
    " H7N9\n",
    " https://www.bmj.com/content/347/bmj.f4752?tab=responses\n",
    " HH transmission has been suspected\n",
    " Asian lineage H7N9 virus is rated by the Influenza Risk Assessment Tool as having the greatest potential to cause a pandemic, as well as potentially posing the greatest risk to severely impact public health if it were to achieve sustained human-to-human transmission.\n",
    " \n",
    " H3N2 swine\n",
    " https://www.cdc.gov/flu/swineflu/spotlights/first-human-infection-2022.htm\n",
    " Human infection detected in US this Aug\n",
    " \n",
    " H1N1\n",
    " Submitted (03-NOV-2020) USDA Swine Surveillance, USDA Swine\n",
    "            Surveillance, 1920 Dayton, Ames, IA 50010, USA\n",
    "COMMENT     Method: conceptual translation.\n",
    "\n"
   ]
  },
  {
   "cell_type": "code",
   "execution_count": null,
   "metadata": {},
   "outputs": [],
   "source": []
  }
 ],
 "metadata": {
  "kernelspec": {
   "display_name": "Python 3 (ipykernel)",
   "language": "python",
   "name": "python3"
  },
  "language_info": {
   "codemirror_mode": {
    "name": "ipython",
    "version": 3
   },
   "file_extension": ".py",
   "mimetype": "text/x-python",
   "name": "python",
   "nbconvert_exporter": "python",
   "pygments_lexer": "ipython3",
   "version": "3.7.5"
  }
 },
 "nbformat": 4,
 "nbformat_minor": 4
}
