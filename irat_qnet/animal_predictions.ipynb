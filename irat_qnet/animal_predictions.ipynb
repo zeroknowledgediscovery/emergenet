{
 "cells": [
  {
   "cell_type": "markdown",
   "id": "c3d52741",
   "metadata": {},
   "source": [
    "# Animal Influenza Emergence Risk Predictions\n",
    "- Uses the Emergenet package to generate emergence risk scores for animal strains\n",
    "- Collected animal HA and NA strains for the last year (September 30, 2021 - September 30, 2022)\n",
    "- Used qnets from `qnet_models/current_qnets/`"
   ]
  },
  {
   "cell_type": "code",
   "execution_count": 1,
   "id": "6b182d89",
   "metadata": {},
   "outputs": [],
   "source": [
    "import os \n",
    "import numpy as np\n",
    "import pandas as pd\n",
    "import scipy.stats as stats\n",
    "import math\n",
    "from tqdm.notebook import trange, tqdm\n",
    "import warnings\n",
    "warnings.filterwarnings('ignore')\n",
    "from Bio import SeqIO\n",
    "\n",
    "# linear model\n",
    "import statsmodels.api as sm\n",
    "import statsmodels.formula.api as smf\n",
    "\n",
    "from emergenet import Enet, save_model, load_model\n",
    "# from emergenet.emergenet import Enet, save_model, load_model\n",
    "from quasinet.qnet import Qnet, qdistance, qdistance_matrix, membership_degree, save_qnet, load_qnet\n",
    "# from zedstat.textable import textable"
   ]
  },
  {
   "cell_type": "code",
   "execution_count": 2,
   "id": "51eb26fe",
   "metadata": {},
   "outputs": [],
   "source": [
    "# input: fasta file name, length to truncate each sequence\n",
    "# output: dataframe of sequences\n",
    "def parse_fasta(file_name, trunc, seq_array = False):\n",
    "    acc = []\n",
    "    seq = []\n",
    "    for record in SeqIO.parse(file_name, 'fasta'):\n",
    "        if len(record.seq) < trunc:\n",
    "            continue\n",
    "        acc.append(record.id.split('|')[0])\n",
    "        if seq_array:\n",
    "            seq.append(np.array(record.seq[:trunc].upper()))\n",
    "        else:\n",
    "            seq.append(str(record.seq[:trunc].upper()))\n",
    "    df = pd.DataFrame({'id':acc, 'sequence':seq})\n",
    "    return df\n",
    "\n",
    "\n",
    "# input: dataframe of sequences, number of samples\n",
    "# output: array of nucleotide lists\n",
    "def sequence_array(seq_df):\n",
    "    seqs = seq_df['sequence'].values\n",
    "    seq_lst = []\n",
    "    for seq in seqs:\n",
    "        seq_lst.append(seq)\n",
    "    return np.array(seq_lst)\n",
    "\n",
    "\n",
    "# input: name to call qnet, array of nucleotide lists, number of nucleotides\n",
    "# output: save qnet as joblib\n",
    "def train_save_qnet(name, seq_arr, num_nuc):\n",
    "    myqnet = Qnet(feature_names=['x'+str(i) for i in np.arange(num_nuc)],n_jobs=1)\n",
    "    myqnet.fit(seq_arr)\n",
    "    save_qnet(myqnet, QNET_DIR + name + '.joblib')"
   ]
  },
  {
   "cell_type": "markdown",
   "id": "1d42540c",
   "metadata": {},
   "source": [
    "## Predictions"
   ]
  },
  {
   "cell_type": "code",
   "execution_count": 3,
   "id": "b096f47a",
   "metadata": {},
   "outputs": [],
   "source": [
    "DATA_DIR = 'raw_data/gisaid_animal/'\n",
    "HUMAN_DATA_DIR = 'raw_data/gisaid_current/'\n",
    "QNET_DIR = 'qnet_models/current_qnets/'\n",
    "OUT_DIR = 'results/animal_predictions/'\n",
    "\n",
    "NA_TRUNC = 449\n",
    "HA_TRUNC = 550\n",
    "\n",
    "FILES = ['h1n1', 'h1n2', 'h3n2', 'h5n1', 'h5n2', 'h5n6', 'h5n8', 'h7', 'h9n2']"
   ]
  },
  {
   "cell_type": "code",
   "execution_count": null,
   "id": "ac9c9f1e",
   "metadata": {},
   "outputs": [
    {
     "data": {
      "application/vnd.jupyter.widget-view+json": {
       "model_id": "390df5b6d12543e3b6a91784a847dbfd",
       "version_major": 2,
       "version_minor": 0
      },
      "text/plain": [
       "  0%|          | 0/1 [00:00<?, ?it/s]"
      ]
     },
     "metadata": {},
     "output_type": "display_data"
    },
    {
     "data": {
      "application/vnd.jupyter.widget-view+json": {
       "model_id": "21ec6fe5674847d8b21c75b22fe57640",
       "version_major": 2,
       "version_minor": 0
      },
      "text/plain": [
       "  0%|          | 0/1484 [00:00<?, ?it/s]"
      ]
     },
     "metadata": {},
     "output_type": "display_data"
    }
   ],
   "source": [
    "for FILE in tqdm(FILES):\n",
    "    ha_qnet = load_model(QNET_DIR + FILE + '_ha.joblib')\n",
    "    na_qnet = load_model(QNET_DIR + FILE + '_na.joblib')\n",
    "    \n",
    "    ha_df = parse_fasta(DATA_DIR + FILE + '_ha.fasta', HA_TRUNC)\n",
    "    na_df = parse_fasta(DATA_DIR + FILE + '_na.fasta', NA_TRUNC)\n",
    "    \n",
    "    df = ha_df.merge(na_df, how='inner', on='id').rename(columns={'sequence_x':'ha', 'sequence_y':'na'})\n",
    "    human_ha_df = parse_fasta(HUMAN_DATA_DIR + FILE + '_ha.fasta', HA_TRUNC, seq_array=True)\n",
    "    human_na_df = parse_fasta(HUMAN_DATA_DIR + FILE + '_na.fasta', NA_TRUNC, seq_array=True)\n",
    "    \n",
    "    ha_emergence_risk = []\n",
    "    ha_variance = []\n",
    "    na_emergence_risk = []\n",
    "    na_variance = []\n",
    "    geometric_mean_risk = []\n",
    "\n",
    "    for i in trange(len(df)):\n",
    "        row = df.iloc[i]\n",
    "        enet_ha = Enet(seq=row['ha'], seq_trunc_length=HA_TRUNC, random_state=42)\n",
    "        enet_na = Enet(seq=row['na'], seq_trunc_length=NA_TRUNC, random_state=42)\n",
    "\n",
    "        emergence_risk_score_ha, variance_ha = enet_ha.emergence_risk(seq_df=human_ha_df, qnet=ha_qnet, sample_size=100)\n",
    "        emergence_risk_score_na, variance_na = enet_na.emergence_risk(seq_df=human_na_df, qnet=na_qnet, sample_size=100)\n",
    "\n",
    "        ha_emergence_risk.append(emergence_risk_score_ha)\n",
    "        ha_variance.append(variance_ha)\n",
    "        na_emergence_risk.append(emergence_risk_score_na)\n",
    "        na_variance.append(variance_na)\n",
    "        geometric_mean_risk.append(math.sqrt(emergence_risk_score_ha * emergence_risk_score_na))\n",
    "\n",
    "    df['ha_risk'] = ha_emergence_risk\n",
    "    df['ha_variance'] = ha_variance\n",
    "    df['na_risk'] = na_emergence_risk\n",
    "    df['na_variance'] = na_variance\n",
    "    df['geometric_mean_risk'] = geometric_mean_risk\n",
    "\n",
    "    # save dataframe as csv\n",
    "    os.makedirs(OUT_DIR, exist_ok=True)\n",
    "    df.to_csv(OUT_DIR + FILE + '.csv', index=False)"
   ]
  },
  {
   "cell_type": "markdown",
   "id": "9eddde2f",
   "metadata": {},
   "source": [
    "## Scale Predictions with GLM"
   ]
  },
  {
   "cell_type": "code",
   "execution_count": 6,
   "id": "3dd1b1d6",
   "metadata": {},
   "outputs": [],
   "source": [
    "data = pd.read_csv('results/irat_average_qdistances_filled.csv')\n",
    "data = data.rename(columns={'Potential Emergence Estimate':'IRAT_Emergence_Score',\n",
    "                            'Potential Impact Estimate':'IRAT_Impact_Score',\n",
    "                            'Geometric Mean':'Geometric_Mean',\n",
    "                            'HA Average Qdistance':'HA_Avg_Qdist',\n",
    "                            'NA Average Qdistance':'NA_Avg_Qdist'})\n",
    "data = data[(data['HA_Avg_Qdist'] > 0) & (data['NA_Avg_Qdist'] > 0)]"
   ]
  },
  {
   "cell_type": "code",
   "execution_count": 7,
   "id": "0c70d6b7",
   "metadata": {},
   "outputs": [
    {
     "name": "stdout",
     "output_type": "stream",
     "text": [
      "                  Generalized Linear Model Regression Results                   \n",
      "================================================================================\n",
      "Dep. Variable:     IRAT_Emergence_Score   No. Observations:                   22\n",
      "Model:                              GLM   Df Residuals:                       17\n",
      "Model Family:                  Gaussian   Df Model:                            4\n",
      "Link Function:                 identity   Scale:                         0.69369\n",
      "Method:                            IRLS   Log-Likelihood:                -24.357\n",
      "Date:                  Mon, 07 Nov 2022   Deviance:                       11.793\n",
      "Time:                          23:49:41   Pearson chi2:                     11.8\n",
      "No. Iterations:                       3   Pseudo R-squ. (CS):             0.7797\n",
      "Covariance Type:              nonrobust                                         \n",
      "=============================================================================================\n",
      "                                coef    std err          z      P>|z|      [0.025      0.975]\n",
      "---------------------------------------------------------------------------------------------\n",
      "Intercept                     6.8403      0.442     15.459      0.000       5.973       7.708\n",
      "Geometric_Mean              -23.7466      9.674     -2.455      0.014     -42.707      -4.786\n",
      "HA_Avg_Qdist                  1.9097      3.979      0.480      0.631      -5.889       9.708\n",
      "NA_Avg_Qdist                 -1.8133      2.826     -0.642      0.521      -7.353       3.726\n",
      "HA_Avg_Qdist:NA_Avg_Qdist    54.2280     21.474      2.525      0.012      12.139      96.317\n",
      "=============================================================================================\n"
     ]
    }
   ],
   "source": [
    "# IRAT_Emergence_Score ~ Geometric_Mean + HA_Avg_Qdist*NA_Avg_Qdist\n",
    "formula1 = 'IRAT_Emergence_Score ~ Geometric_Mean + HA_Avg_Qdist*NA_Avg_Qdist'\n",
    "mod1 = smf.glm(formula=formula1, data=data).fit()\n",
    "print(mod1.summary())"
   ]
  },
  {
   "cell_type": "code",
   "execution_count": 8,
   "id": "c34a89d0",
   "metadata": {},
   "outputs": [
    {
     "name": "stdout",
     "output_type": "stream",
     "text": [
      "                 Generalized Linear Model Regression Results                  \n",
      "==============================================================================\n",
      "Dep. Variable:      IRAT_Impact_Score   No. Observations:                   22\n",
      "Model:                            GLM   Df Residuals:                       17\n",
      "Model Family:                Gaussian   Df Model:                            4\n",
      "Link Function:               identity   Scale:                         0.77760\n",
      "Method:                          IRLS   Log-Likelihood:                -25.614\n",
      "Date:                Mon, 07 Nov 2022   Deviance:                       13.219\n",
      "Time:                        23:49:42   Pearson chi2:                     13.2\n",
      "No. Iterations:                     3   Pseudo R-squ. (CS):             0.6744\n",
      "Covariance Type:            nonrobust                                         \n",
      "=============================================================================================\n",
      "                                coef    std err          z      P>|z|      [0.025      0.975]\n",
      "---------------------------------------------------------------------------------------------\n",
      "Intercept                     6.7133      0.468     14.330      0.000       5.795       7.631\n",
      "Geometric_Mean              -28.2726     10.242     -2.760      0.006     -48.347      -8.198\n",
      "HA_Avg_Qdist                  6.5458      4.213      1.554      0.120      -1.711      14.802\n",
      "NA_Avg_Qdist                 -1.5509      2.992     -0.518      0.604      -7.416       4.314\n",
      "HA_Avg_Qdist:NA_Avg_Qdist    68.5820     22.736      3.016      0.003      24.020     113.144\n",
      "=============================================================================================\n"
     ]
    }
   ],
   "source": [
    "# IRAT_Emergence_Score ~ Geometric_Mean + HA_Avg_Qdist*NA_Avg_Qdist\n",
    "formula2 = 'IRAT_Impact_Score ~ Geometric_Mean + HA_Avg_Qdist*NA_Avg_Qdist'\n",
    "mod2 = smf.glm(formula=formula2, data=data).fit()\n",
    "print(mod2.summary())"
   ]
  },
  {
   "cell_type": "code",
   "execution_count": 9,
   "id": "cc73ff9a",
   "metadata": {},
   "outputs": [
    {
     "data": {
      "application/vnd.jupyter.widget-view+json": {
       "model_id": "adcae5c9d91543ceb83ce77dec11b3cb",
       "version_major": 2,
       "version_minor": 0
      },
      "text/plain": [
       "  0%|          | 0/9 [00:00<?, ?it/s]"
      ]
     },
     "metadata": {},
     "output_type": "display_data"
    }
   ],
   "source": [
    "for FILE in tqdm(FILES):\n",
    "    df = pd.read_csv(OUT_DIR + FILE + '.csv')\n",
    "    df = df.rename(columns={'geometric_mean_risk':'Geometric_Mean',\n",
    "                            'ha_risk':'HA_Avg_Qdist',\n",
    "                            'na_risk':'NA_Avg_Qdist'})\n",
    "    df['predicted_emergence_score'] = mod1.predict(df).values\n",
    "    df['predicted_impact_score'] = mod2.predict(df).values\n",
    "    df.to_csv(OUT_DIR + FILE + '.csv', index=False)"
   ]
  },
  {
   "cell_type": "markdown",
   "id": "263db029",
   "metadata": {},
   "source": [
    "## Number of Strains Evaluated"
   ]
  },
  {
   "cell_type": "code",
   "execution_count": 5,
   "id": "bf284b9c",
   "metadata": {},
   "outputs": [
    {
     "data": {
      "application/vnd.jupyter.widget-view+json": {
       "model_id": "b407ef1cf9e740af984aee7a212657cb",
       "version_major": 2,
       "version_minor": 0
      },
      "text/plain": [
       "  0%|          | 0/9 [00:00<?, ?it/s]"
      ]
     },
     "metadata": {},
     "output_type": "display_data"
    },
    {
     "data": {
      "text/plain": [
       "6254"
      ]
     },
     "execution_count": 5,
     "metadata": {},
     "output_type": "execute_result"
    }
   ],
   "source": [
    "num = 0\n",
    "for FILE in tqdm(FILES):\n",
    "    df = pd.read_csv(OUT_DIR + FILE + '.csv')\n",
    "    num += len(df)\n",
    "num"
   ]
  },
  {
   "cell_type": "code",
   "execution_count": null,
   "id": "5f12ca38",
   "metadata": {},
   "outputs": [],
   "source": []
  }
 ],
 "metadata": {
  "kernelspec": {
   "display_name": "Python 3",
   "language": "python",
   "name": "python3"
  },
  "language_info": {
   "codemirror_mode": {
    "name": "ipython",
    "version": 3
   },
   "file_extension": ".py",
   "mimetype": "text/x-python",
   "name": "python",
   "nbconvert_exporter": "python",
   "pygments_lexer": "ipython3",
   "version": "3.7.6"
  }
 },
 "nbformat": 4,
 "nbformat_minor": 5
}
