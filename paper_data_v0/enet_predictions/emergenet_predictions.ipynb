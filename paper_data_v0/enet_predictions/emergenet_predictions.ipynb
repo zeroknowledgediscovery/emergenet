{
 "cells": [
  {
   "cell_type": "markdown",
   "id": "59c4fdeb",
   "metadata": {},
   "source": [
    "# Influenza Enet Predictions\n",
    "- Predicting dominant strains using Emergenet"
   ]
  },
  {
   "cell_type": "code",
   "execution_count": 1,
   "id": "044273eb",
   "metadata": {
    "tags": []
   },
   "outputs": [],
   "source": [
    "import os \n",
    "import numpy as np\n",
    "import pandas as pd\n",
    "import matplotlib.pyplot as plt\n",
    "import warnings\n",
    "warnings.filterwarnings('ignore')\n",
    "from tqdm.notebook import trange\n",
    "from sklearn.cluster import KMeans\n",
    "from sklearn.manifold import MDS"
   ]
  },
  {
   "cell_type": "markdown",
   "id": "0071c53c",
   "metadata": {},
   "source": [
    "## Downloading Data\n",
    "**Sources: [GISAID](https://platform.epicov.org/epi3/cfrontend#586f5f) and [NCBI](https://www.ncbi.nlm.nih.gov/labs/virus/vssi/#/virus?SeqType_s=Protein&HostLineage_ss=Homo%20sapiens%20(human),%20taxid:9606&LabHost_s=include&ProtNames_ss=hemagglutinin&CollectionDate_dr=2003-11-01T00:00:00.00Z%20TO%202004-05-01T23:59:59.00Z&SLen_i=550%20TO%20566&VirusLineage_ss=H1N1%20subtype,%20taxid:114727)**\n",
    "\n",
    "- Data collected from NCBI and GISAID in `dominant_sequences.ipynb`\n",
    "- Merged NCBI and GISAID data found in `raw_data/merged/`"
   ]
  },
  {
   "cell_type": "markdown",
   "id": "88a82805",
   "metadata": {},
   "source": [
    "## Create Enet Models\n",
    "- Truncate HA at 565 amino acids, we only need HA models\n",
    "- Give enet the same name as the data file\n",
    "    \n",
    "### Running Processes\n",
    "\n",
    "Computations are done in:\n",
    "- `enet_train.py`\n",
    "- `run_enet_train.sh`\n",
    "\n",
    "To run, navigate to terminal and do\n",
    "\n",
    "`chmod ugo+rwx run_enet_train.sh\n",
    "./run_enet_train.sh`"
   ]
  },
  {
   "cell_type": "markdown",
   "id": "5ee3de2e",
   "metadata": {},
   "source": [
    "## Predictions\n",
    "E-Centroid: $$x_{*}^{t+\\delta} = argmin_{y\\in \\bigcup_{r\\leq t}H^{\\tau}} \\sum_{x \\in {H^t}} \\theta(x,y) - |H^t|A \\text{ln}\\omega_y$$\n",
    "- $x_{*}^{t+\\delta}$ is the dominant strain in the upcoming flu season at time $t+\\omega$\n",
    "- $H^t$ is the sequence population at time $t$\n",
    "- $\\theta(x,y)$ is the e-distance between $x$ and $y$ in their respective Enets\n",
    "- $A = \\frac{1-\\alpha}{\\sqrt{8}N^2}$, where $\\alpha$ is a fixed significance level and $N$ is the sequence length considered\n",
    "- $\\text{ln}\\omega_y$ is the membership degree of sequence $y$\n",
    "- Predict dominant strain based on HA data only\n",
    "- Run 3 cluster predictions (i.e. 3 strains per season) and take the top 2\n",
    "\n",
    "### Running Processes\n",
    "\n",
    "Computations are done in:\n",
    "- `enet_predictions.py`\n",
    "- `run_enet_predictions.sh`\n",
    "\n",
    "To run, navigate to terminal and do\n",
    "\n",
    "`chmod ugo+rwx run_enet_predictions.sh\n",
    "./run_enet_predictions.sh`"
   ]
  },
  {
   "cell_type": "markdown",
   "id": "c74b2a52",
   "metadata": {},
   "source": [
    "### Predict on Complete Strains\n",
    "- Both HA and NA sequence available\n",
    "    - Found in `raw_data/merged/<HEMISPHERE_SUBTYPE>/`\n",
    "    - These record HA sequence data only for the purpose of prediction, the NA data will be retreived after running predictions"
   ]
  },
  {
   "cell_type": "code",
   "execution_count": 5,
   "id": "1b0aa65f",
   "metadata": {
    "tags": []
   },
   "outputs": [],
   "source": [
    "PRED_DIR = 'results/enet_predictions/seasonal_predictions/'\n",
    "DATA_DIR = 'raw_data/merged/'\n",
    "DM_DIR = 'results/enet_predictions/distance_matrices/'\n",
    "FILES = ['north_h1n1', 'north_h3n2', 'south_h1n1', 'south_h3n2']\n",
    "\n",
    "NORTH_YEARS = []\n",
    "for i in np.arange(1, 23):\n",
    "    YEAR = ''\n",
    "    if i < 10:\n",
    "        YEAR += '0' + str(i)\n",
    "    else:\n",
    "        YEAR += (str(i))\n",
    "    if i + 1 < 10:\n",
    "        YEAR += '_0' + str(i + 1)\n",
    "    else:\n",
    "        YEAR += '_' + str(i + 1)\n",
    "    NORTH_YEARS.append(YEAR)\n",
    "        \n",
    "SOUTH_YEARS = []\n",
    "for i in np.arange(2, 24):\n",
    "    if i < 10:\n",
    "        SOUTH_YEARS.append('0' + str(i))\n",
    "    else:\n",
    "        SOUTH_YEARS.append(str(i))"
   ]
  },
  {
   "cell_type": "code",
   "execution_count": 6,
   "id": "9b029d97",
   "metadata": {
    "tags": []
   },
   "outputs": [],
   "source": [
    "for FILE in FILES: \n",
    "    YEARS = []\n",
    "    if FILE[:5] == 'north':\n",
    "        YEARS = NORTH_YEARS\n",
    "    else:\n",
    "        YEARS = SOUTH_YEARS\n",
    "    for i in range(21):\n",
    "        ha_df = pd.read_csv(DATA_DIR + FILE + '_ha/' + FILE + '_ha_' + YEARS[i] + '.csv')\n",
    "        na_df = pd.read_csv(DATA_DIR + FILE + '_na/' + FILE + '_na_' + YEARS[i] + '.csv')\n",
    "        # keep only HA sequences which also have an NA sequence\n",
    "        ha_df = ha_df[ha_df['name'].isin(na_df['name'])]\n",
    "        ha_df.to_csv(DATA_DIR + FILE + '/' + FILE + '_ha_' + YEARS[i] + '.csv', index = False)"
   ]
  },
  {
   "cell_type": "markdown",
   "id": "bd357922",
   "metadata": {},
   "source": [
    "## Aggregate Predictions"
   ]
  },
  {
   "cell_type": "code",
   "execution_count": 72,
   "id": "4be014cb",
   "metadata": {},
   "outputs": [],
   "source": [
    "for FILE in FILES:\n",
    "    pred_df = pd.DataFrame(columns=['season',\n",
    "                                    'name_0','cluster_size_0','ha_acc_0','ha_seq_0','na_acc_0','na_seq_0',\n",
    "                                    'name_1','cluster_size_1','ha_acc_1','ha_seq_1','na_acc_1','na_seq_1',\n",
    "                                    'name_2','cluster_size_2','ha_acc_2','ha_seq_2','na_acc_2','na_seq_2']) \n",
    "    YEARS = []\n",
    "    if FILE[:5] == 'north':\n",
    "        YEARS = NORTH_YEARS\n",
    "    else:\n",
    "        YEARS = SOUTH_YEARS\n",
    "    for i in range(21):\n",
    "        df = pd.read_csv(PRED_DIR + FILE + '_ha/' + FILE + '_ha_' + YEARS[i + 1] + '_predictions.csv')\n",
    "        na_df = pd.read_csv(DATA_DIR + FILE + '_na/' + FILE + '_na_' + YEARS[i] + '.csv')\n",
    "        \n",
    "        # expand to larger dataframe, get NA sequence\n",
    "        df1 = pd.DataFrame({'season':[df['season'][0]]})\n",
    "        for j in range(3):\n",
    "            na_seq_df = na_df[na_df['name'] == df['name'].values[j]]\n",
    "            df1['name_'+str(j)] = df['name'].values[j]\n",
    "            df1['cluster_size_'+str(j)] = df['cluster_size'].values[j]\n",
    "            df1['ha_acc_'+str(j)] = df['acc'].values[j]\n",
    "            df1['ha_seq_'+str(j)] = df['sequence'].values[j]\n",
    "            df1['na_acc_'+str(j)] = na_seq_df['acc'].values[0]\n",
    "            df1['na_seq_'+str(j)] = na_seq_df['sequence'].values[0]\n",
    "            \n",
    "        # append to pred_df\n",
    "        pred_df = pd.concat([pred_df, df1])\n",
    "        \n",
    "    # Enet recommendation accession, name, sequence\n",
    "    pred_df.to_csv('results/enet_predictions/' + FILE + '_predictions.csv', index=False)"
   ]
  },
  {
   "cell_type": "markdown",
   "id": "d52874e5",
   "metadata": {},
   "source": [
    "## Strain Clusters Per Season\n",
    "- Show cluster sizes when clustering 4-9\n",
    "- Use precomputed distance matrices from `enet_predictions/distance_matrices`"
   ]
  },
  {
   "cell_type": "code",
   "execution_count": 7,
   "id": "1ef1a8ec",
   "metadata": {
    "tags": []
   },
   "outputs": [],
   "source": [
    "# find cluster sizes for n_clusters\n",
    "def cluster_proportion(dm_path, n_clusters):\n",
    "    # load qdistance matrix\n",
    "    dm = pd.read_csv(dm_path, index_col=0)\n",
    "    # convert distance matrix to embedding\n",
    "    embedding = MDS(n_components=2, dissimilarity=\"precomputed\", random_state=42)\n",
    "    dm_embed = embedding.fit_transform(dm)\n",
    "    # cluster the distance matrix\n",
    "    clustering = KMeans(n_clusters=n_clusters, random_state=42)\n",
    "    clustering_predictions = clustering.fit_predict(dm_embed)\n",
    "    # find unique clusters\n",
    "    unique_clusters = np.unique(clustering_predictions)\n",
    "    # cluster_sizes\n",
    "    cluster_size = []\n",
    "    for class_ in unique_clusters:\n",
    "        # separate distance matrix into submatrices\n",
    "        wanted_names = dm.columns[clustering_predictions == class_]\n",
    "        cluster_size.append(len(wanted_names))\n",
    "    cluster_size = sorted(cluster_size, reverse=True)\n",
    "    # return proportion in largest 3 clusters\n",
    "    cluster_prop = sum(cluster_size[:min(len(cluster_size),3)])/sum(cluster_size)\n",
    "    return cluster_prop"
   ]
  },
  {
   "cell_type": "code",
   "execution_count": 24,
   "id": "27eaffbc",
   "metadata": {
    "tags": []
   },
   "outputs": [
    {
     "data": {
      "application/vnd.jupyter.widget-view+json": {
       "model_id": "0ea6df1719e842bd9817a0fad02ea751",
       "version_major": 2,
       "version_minor": 0
      },
      "text/plain": [
       "  0%|          | 0/4 [00:00<?, ?it/s]"
      ]
     },
     "metadata": {},
     "output_type": "display_data"
    },
    {
     "data": {
      "text/plain": [
       "[1.0, 0.9712400091161068, 0.9484226863032297, 0.9182321212007339]"
      ]
     },
     "execution_count": 24,
     "metadata": {},
     "output_type": "execute_result"
    }
   ],
   "source": [
    "average_cluster_props = []\n",
    "\n",
    "for n in trange(3, 7):\n",
    "    total_cluster_prop = 0\n",
    "    for FILE in FILES:  \n",
    "        YEARS = NORTH_YEARS[:21]\n",
    "        if FILE[:5] == 'south':\n",
    "            YEARS = SOUTH_YEARS[:21]\n",
    "        for YEAR in YEARS:\n",
    "            NAME = FILE + '_ha_' + YEAR\n",
    "            DM_PATH = DM_DIR + FILE + '_ha/' + NAME + '.csv'\n",
    "            total_cluster_prop += cluster_proportion(DM_PATH, n)\n",
    "    average_cluster_props.append(total_cluster_prop/(4*len(YEARS)))\n",
    "\n",
    "average_cluster_props"
   ]
  },
  {
   "cell_type": "code",
   "execution_count": 36,
   "id": "fc49385a",
   "metadata": {
    "tags": []
   },
   "outputs": [
    {
     "data": {
      "image/png": "[encoded data removed]",
      "text/plain": [
       "<Figure size 432x216 with 1 Axes>"
      ]
     },
     "metadata": {
      "needs_background": "light"
     },
     "output_type": "display_data"
    }
   ],
   "source": [
    "x = np.arange(3, 7)\n",
    "y = np.array(average_cluster_props).T\n",
    "\n",
    "plt.figure(figsize=(6, 3))\n",
    "plt.plot(x,y, label = '1')\n",
    "plt.xticks(np.arange(min(x), max(x)+1, 1.0))\n",
    "plt.yticks(np.arange(0.8, 1.09, 0.05))\n",
    "plt.xlabel('Clusters')\n",
    "plt.title('Proportion of Strains in largest 3 clusters');"
   ]
  },
  {
   "cell_type": "code",
   "execution_count": null,
   "id": "453cf2c9-b76f-4978-b121-7551a4bacd42",
   "metadata": {},
   "outputs": [],
   "source": []
  }
 ],
 "metadata": {
  "kernelspec": {
   "display_name": "Python 3 (ipykernel)",
   "language": "python",
   "name": "python3"
  },
  "language_info": {
   "codemirror_mode": {
    "name": "ipython",
    "version": 3
   },
   "file_extension": ".py",
   "mimetype": "text/x-python",
   "name": "python",
   "nbconvert_exporter": "python",
   "pygments_lexer": "ipython3",
   "version": "3.9.2"
  }
 },
 "nbformat": 4,
 "nbformat_minor": 5
}
