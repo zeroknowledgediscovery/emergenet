{
 "cells": [
  {
   "cell_type": "code",
   "execution_count": 7,
   "id": "df9017aa",
   "metadata": {},
   "outputs": [],
   "source": [
    "from quasinet.qseqtools import load_trained_qnet\n",
    "from quasinet.qnet import export_qnet_tree\n",
    "from quasinet.qnet import load_qnet\n",
    "from tqdm import tqdm"
   ]
  },
  {
   "cell_type": "code",
   "execution_count": 6,
   "id": "f062dd9a",
   "metadata": {},
   "outputs": [],
   "source": [
    "#model=load_trained_qnet('influenza', 'h1n1;na;2009')\n",
    "import os\n",
    "import zipfile\n",
    "with zipfile.ZipFile('../north_h1n1_ha_20.joblib.zip', 'r') as zip_ref:\n",
    "    zip_ref.extractall('./')\n",
    "model=load_qnet('./north_h1n1_ha_20.joblib')\n",
    "os.remove('./north_h1n1_ha_20.joblib')"
   ]
  },
  {
   "cell_type": "code",
   "execution_count": 10,
   "id": "624f46b2",
   "metadata": {},
   "outputs": [
    {
     "name": "stderr",
     "output_type": "stream",
     "text": [
      "100%|███████████████████████████████████████| 566/566 [00:00<00:00, 1981.13it/s]\n"
     ]
    }
   ],
   "source": [
    "TREEPATH='./'\n",
    "INDEX=np.arange(566)#model.feature_names\n",
    "#model.feature_names=np.arange(566)\n",
    "for i in tqdm(INDEX):\n",
    "    export_qnet_tree(model,i,TREEPATH+str(i)+'.dot')"
   ]
  },
  {
   "cell_type": "code",
   "execution_count": null,
   "id": "8be7e4b9",
   "metadata": {},
   "outputs": [],
   "source": []
  }
 ],
 "metadata": {
  "kernelspec": {
   "display_name": "Python 3 (ipykernel)",
   "language": "python",
   "name": "python3"
  },
  "language_info": {
   "codemirror_mode": {
    "name": "ipython",
    "version": 3
   },
   "file_extension": ".py",
   "mimetype": "text/x-python",
   "name": "python",
   "nbconvert_exporter": "python",
   "pygments_lexer": "ipython3",
   "version": "3.7.5"
  }
 },
 "nbformat": 4,
 "nbformat_minor": 5
}
