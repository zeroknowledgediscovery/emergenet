{
 "cells": [
  {
   "cell_type": "code",
   "execution_count": 1,
   "id": "df9017aa",
   "metadata": {},
   "outputs": [],
   "source": [
    "from quasinet.qseqtools import load_trained_qnet\n",
    "from quasinet.qnet import export_qnet_tree\n",
    "from quasinet.qnet import load_qnet\n",
    "from tqdm import tqdm"
   ]
  },
  {
   "cell_type": "code",
   "execution_count": 2,
   "id": "f062dd9a",
   "metadata": {},
   "outputs": [],
   "source": [
    "#model=load_trained_qnet('influenza', 'h1n1;na;2009')\n",
    "import os\n",
    "import zipfile\n",
    "with zipfile.ZipFile('../north_h1n1_ha_20.joblib.zip', 'r') as zip_ref:\n",
    "    zip_ref.extractall('./')\n",
    "model=load_qnet('./north_h1n1_ha_20.joblib')\n",
    "os.remove('./north_h1n1_ha_20.joblib')"
   ]
  },
  {
   "cell_type": "code",
   "execution_count": 51,
   "id": "624f46b2",
   "metadata": {},
   "outputs": [
    {
     "name": "stderr",
     "output_type": "stream",
     "text": [
      "100%|███████████████████████████████████████| 566/566 [00:00<00:00, 1309.20it/s]\n"
     ]
    }
   ],
   "source": [
    "import numpy as np\n",
    "TREEPATH='./'\n",
    "INDEX=np.arange(566)#model.feature_names\n",
    "#model.feature_names=np.arange(566)\n",
    "for i in tqdm(INDEX):\n",
    "    export_qnet_tree(model,i,TREEPATH+str(i)+'.dot',\n",
    "                     color_alpha=1.5,edge_color='lightgray',\n",
    "                     labels=['A','B','C','D','E','F','G','H','I','J','K','L','M','N','O','P','Q','R','S','T','U','V','W','X','Y','Z'])"
   ]
  },
  {
   "cell_type": "code",
   "execution_count": 22,
   "metadata": {},
   "outputs": [
    {
     "data": {
      "text/plain": [
       "['A', 'D', 'E', 'G', 'I', 'K', 'L', 'Q', 'S', 'T', 'V', 'Y']"
      ]
     },
     "execution_count": 22,
     "metadata": {},
     "output_type": "execute_result"
    }
   ],
   "source": [
    "allcolors=list(set(list(model.estimators_[63].labels_)+list(model.estimators_[155].labels_)+list(model.estimators_[14].labels_)+list(model.estimators_[223].labels_)))\n",
    "allcolors.sort()\n",
    "allcolors"
   ]
  },
  {
   "cell_type": "code",
   "execution_count": 20,
   "metadata": {},
   "outputs": [],
   "source": [
    "def _rgb_to_hex(rgb):\n",
    "    \"\"\"Convert RGB to hex for colors.\n",
    "\n",
    "    Parameters\n",
    "    ----------\n",
    "    rgb : 1-d like array\n",
    "        RGB array of size 3.\n",
    "\n",
    "    Returns\n",
    "    -------\n",
    "    hex_repr : str\n",
    "        Hexidecimal representation of rgb.\n",
    "    \"\"\"\n",
    "\n",
    "    hex_repr = \"#{:02x}{:02x}{:02x}\".format(rgb[0], rgb[1], rgb[2])\n",
    "    return hex_repr\n",
    "\n",
    "def _color_brew(n, alpha=1.0):\n",
    "    \"\"\"Generate n colors with equally spaced hues.\n",
    "\n",
    "    Parameters\n",
    "    ----------\n",
    "    n : int\n",
    "        The number of colors required.\n",
    "\n",
    "    alpha : float\n",
    "        Factor to upscale all the colors.\n",
    "\n",
    "    Returns\n",
    "    -------\n",
    "    color_array : 2d array-like\n",
    "        Arrat of size (n, 3), where each row is of form (R, G, B), which are \n",
    "        components of each color.\n",
    "    \"\"\"\n",
    "\n",
    "    color_array = []\n",
    "\n",
    "    # initialize saturation & value; calculate chroma & value shift\n",
    "    s, v = 0.75, 0.9\n",
    "    c = s * v\n",
    "    m = v - c\n",
    "\n",
    "    for h in np.arange(25, 385, 360. / n).astype(int):\n",
    "        # calculate some intermediate values\n",
    "        h_bar = h / 60.\n",
    "        x = c * (1 - abs((h_bar % 2) - 1))\n",
    "        # initialize RGB with same hue & chroma as our color\n",
    "        rgb = [(c, x, 0),\n",
    "               (x, c, 0),\n",
    "               (0, c, x),\n",
    "               (0, x, c),\n",
    "               (x, 0, c),\n",
    "               (c, 0, x),\n",
    "               (c, x, 0)]\n",
    "        r, g, b = rgb[int(h_bar)]\n",
    "\n",
    "        # shift the initial RGB values to match value and store\n",
    "        rgb = [(int(255 * (r + m))),\n",
    "               (int(255 * (g + m))),\n",
    "               (int(255 * (b + m)))]\n",
    "\n",
    "        # perform upscaling\n",
    "        rgb = np.array(rgb) * alpha\n",
    "        np.putmask(rgb, rgb > 255, 255)\n",
    "\n",
    "        color_array.append(rgb.astype(int))\n",
    "\n",
    "    return np.array(color_array)"
   ]
  },
  {
   "cell_type": "code",
   "execution_count": 21,
   "id": "8be7e4b9",
   "metadata": {},
   "outputs": [],
   "source": [
    "labels=['A','B','C','D','E','F','G','H','I','J','K','L','M','N','O','P','Q','R','S','T','U','V','W','X','Y','Z']\n",
    "color_brew = _color_brew(len(labels), alpha=1.5)\n",
    "class_colors = {labels[i]: color_brew[i] for i in range(len(labels))}\n"
   ]
  },
  {
   "cell_type": "code",
   "execution_count": 54,
   "metadata": {},
   "outputs": [],
   "source": [
    "COL={x:class_colors[x] for x in allcolors}\n",
    "STR=''\n",
    "for i in COL.items():\n",
    "    STR=STR+'\\definecolor{'+i[0]+'col}{RGB}{'\n",
    "    STR=STR+','.join([str(x) for x in i[1]])+'}xx'"
   ]
  },
  {
   "cell_type": "code",
   "execution_count": 55,
   "metadata": {},
   "outputs": [
    {
     "data": {
      "text/plain": [
       "['\\\\definecolor{Acol}{RGB}{255,193,85}',\n",
       " '\\\\definecolor{Dcol}{RGB}{255,255,85}',\n",
       " '\\\\definecolor{Ecol}{RGB}{255,255,85}',\n",
       " '\\\\definecolor{Gcol}{RGB}{136,255,85}',\n",
       " '\\\\definecolor{Icol}{RGB}{85,255,150}',\n",
       " '\\\\definecolor{Kcol}{RGB}{85,255,255}',\n",
       " '\\\\definecolor{Lcol}{RGB}{85,255,255}',\n",
       " '\\\\definecolor{Qcol}{RGB}{111,85,255}',\n",
       " '\\\\definecolor{Scol}{RGB}{231,85,255}',\n",
       " '\\\\definecolor{Tcol}{RGB}{255,85,255}',\n",
       " '\\\\definecolor{Vcol}{RGB}{255,85,255}',\n",
       " '\\\\definecolor{Ycol}{RGB}{255,85,97}',\n",
       " '']"
      ]
     },
     "execution_count": 55,
     "metadata": {},
     "output_type": "execute_result"
    }
   ],
   "source": [
    "STR.split('xx')"
   ]
  },
  {
   "cell_type": "code",
   "execution_count": 144,
   "metadata": {},
   "outputs": [],
   "source": [
    "from Bio import SeqIO\n",
    "IDX=[14,63,155,223]\n",
    "IDX=[]\n",
    "H={}\n",
    "A=[]\n",
    "input_file='../../raw_data/gisaid/north_h1n1_ha_20.fasta'\n",
    "fasta_sequences = SeqIO.parse(open(input_file),'fasta')\n",
    "for fasta in fasta_sequences:\n",
    "    name, sequence = fasta.description, np.array(list(str(fasta.seq)))\n",
    "    #name1=name.split('|')[1].split('[')[-1].split('(')[-2:][0]\n",
    "    name1=name.split('|')[0]\n",
    "    if sequence[223] in ['G','Y','S']:\n",
    "        H[name1]=''.join(sequence[213:243])\n",
    "\n"
   ]
  },
  {
   "cell_type": "code",
   "execution_count": 145,
   "metadata": {},
   "outputs": [
    {
     "data": {
      "text/plain": [
       "'A/India/Pun-NIV306112/2021_Apr|A_/_H1N1|$SEGMENT_NAME|2021-04-27|EPI1868849|'"
      ]
     },
     "execution_count": 145,
     "metadata": {},
     "output_type": "execute_result"
    }
   ],
   "source": [
    "name"
   ]
  },
  {
   "cell_type": "code",
   "execution_count": 146,
   "metadata": {},
   "outputs": [
    {
     "name": "stdout",
     "output_type": "stream",
     "text": [
      "A/Norway/4776/2021 AYVFVGTSRYSKKFKPEIATRPKVRDQEGR\n",
      "A/Norway/2967/2021 AYVFVGTSRYSKKFKPEIATRPKVRDQEGR\n",
      "A/Ghana/755/2021 AYVFVGTSRYSKKFKPEIATRPKVRDQEGR\n",
      "A/Ghana/64/2021 AYVFVGTSRYSKKFKPEIATRPKVRDQEGR\n",
      "A/Ghana/2252/2020 AYVFVGTSRYSKKFKPEIATRPKVRDQEGR\n",
      "A/Ghana/2080/2020 AYVFVGTSRYSKKFKPEIATRPKVRDQEGR\n",
      "A/Ghana/140/2020 AYVFVETSRYSKMFKPEIATRPKVRDQEGR\n",
      "A/Ghana/138/2020 AYVFVGTSRYSKKFKPEIATRPKVRDQEGR\n",
      "A/Ghana/119/2020 AYVFVGTSRYSKKFKPEIATRPKVRDQEGR\n",
      "A/Nagaski/8/2020 AYVFVGTSRYSKKFKPEIATRPKVRDQEGR\n",
      "A/Fujian-Fengze/SWL11027/2020 AYVFVETSRYSKMFKPEIATRPKVRDQEGR\n",
      "A/Cote_D'Ivoire/1051/2021 AYVFVGTSRYSKKFKPEIATRPKVRDQEGR\n",
      "A/Cote_D'Ivoire/1060/2021 AYVFVGTSRYSKKFKPEIATRPKVRDQEGR\n",
      "A/Cote_D'Ivoire/1211/2021 AYVFVGTSRYSKKFKPEIATRPKVRDQEGR\n",
      "A/Cote_D'Ivoire/1270/2021 AYVFVGTSRYSKKFKPEIATRPKVRDQEGR\n",
      "A/Cote_D'Ivoire/1040/2021 AYVFVGTSRYSKKFKPEIATRPKVRDQEGR\n",
      "A/Cote_D'Ivoire/1448/2021 AYVFVGTSRYSKKFKPEIATRPKVRDQEGR\n",
      "A/Cote_D'Ivoire/1467/2021 AYVFVGTSRYSKKFKPEIATRPKVRDQEGR\n",
      "A/Cote_D'Ivoire/1049/2021 AYVFVGTSRYSKKFKPEIATRPKVRDQEGR\n",
      "A/North_Carolina/01/2021 AYVFVGTSRYSKKFKPEIATRPKVRDQEGR\n",
      "A/North_Carolina/15/2020 SYVFVGSPRYSRKFEPEIATRPKVRDQAGR\n",
      "A/NAGASAKI/8/2020 AYVFVGTSRYSKKFKPEIATRPKVRDQEGR\n",
      "A/NAGASAKI/7/2020 AYVFVGTSRYSKKFKPEIATRPKVRDQEGR\n",
      "A/Iowa/02/2021 AYVFVGTSRYSKKFKPEIATRPKVRDQEGR\n",
      "A/Iowa/01/2021 AYVFVGTSRYSKKFKPEIATRPKVRDQEGR\n",
      "A/Wisconsin/03/2021 AYVFVGSSRYSRKFEPEIATRPKVRDQSGR\n",
      "A/Denmark/1/2021 AYVFVGTPKYSKKFVPEIAIRPKVRNQEGR\n",
      "A/Parana/10835/2021 AYVFVGTSKYGKKFMPEIARRPKVRNQEGR\n",
      "A/Togo/64/2021 AYVFVGTSRYSKKFKPEIATRPKVRDQEGR\n",
      "A/Togo/C48/2021 AYVFVGTSRYSKKFKPEIATRPKVRDQEGR\n",
      "A/Togo/B30/2021 AYVFVGTSRYSKKFKPEIATRPKVRDQEGR\n",
      "A/Togo/B28/2021 AYVFVGTSRYSKKFKPEIATRPKVRDQEGR\n",
      "A/Togo/514/2021 AYVFVGTSRYSKKFKPEIATRPKVRDQEGR\n",
      "A/Togo/507/2021 AYVFVGTSRYSKKFKPEIATRPKVRDQEGR\n",
      "A/Togo/495/2021 AYVFVGTSRYSKKFKPEIATRPKVRDQEGR\n",
      "A/Togo/488/2021 AYVFVGTSRYSKKFKPEIATRPKVRDQEGR\n",
      "A/Togo/487/2021 AYVFVGTSRYSKKFKPEIATRPKVRDQEGR\n",
      "A/Togo/45/2021 AYVFVGTSRYSKKFKPEIATRPKVRDQEGR\n",
      "A/Togo/44/2021 AYVFVGTSRYSKKFKPEIATRPKVRDQEGR\n",
      "A/Togo/35/2021 AYVFVGTSRYSKKFKPEIATRPKVRDQEGR\n",
      "A/Togo/34/2021 AYVFVGTSRYSKKFKPEIATRPKVRDQEGR\n",
      "A/Togo/837/2020 AYVFVGTSRYSKKFKPEIATRPKVRDQEGR\n",
      "A/Togo/0304/2021 AYVFVGTSRYSKKFKPEIATRPKVRDQEGR\n",
      "A/Togo/0167/2021 AYVFVGTSRYSKKFKPEIATRPKVRDQEGR\n",
      "A/Togo/0295/2021 AYVFVGTSRYSKKFKPEIATRPKVRDQEGR\n",
      "A/Togo/0246/2021 AYVFVGTSRYSKKFKPEIATRPKVRDQEGR\n",
      "A/Togo/0339/2021 AYVFVGTSRYSKKFKPEIATRPKVRDQEGR\n",
      "A/Togo/0291/2021 AYVFVGTSRYSKKFKPEIATRPKVRDQEGR\n",
      "A/Togo/0212/2021 AYVFVGTSRYSKKFKPEIATRPKVRDQEGR\n",
      "A/Togo/0257/2021 AYVFVGTSRYSKKFKPEIATRPKVRDQEGR\n",
      "A/Togo/0227/2021 AYVFVGTSRYSKKFKPEIATRPKVRDQEGR\n",
      "A/Togo/0297/2021 AYVFVGTSRYSKKFKPEIATRPKVRDQEGR\n",
      "A/Togo/0234/2021 AYVFVGTSRYSKKFKPEIATRPKVRDQEGR\n",
      "A/Togo/0267/2021 AYVFVGTSRYSKKFKPEIATRPKVRDQEGR\n",
      "A/Togo/0219/2021 AYVFVGTSRYSKKFKPEIATRPKVRDQEGR\n",
      "A/Togo/0218/2021 AYVFVGTSRYSKKFKPEIATRPKVRDQEGR\n",
      "A/Togo/0308/2021 AYVFVGTSRYSKKFKPEIATRPKVRDQEGR\n",
      "A/Togo/0247/2021 AYVFVGTSRYSKKFKPEIATRPKVRDQEGR\n",
      "A/Togo/0290/2021 AYVFVGTSRYSKKFKPEIATRPKVRDQEGR\n",
      "A/Togo/0274/2021 AYVFVGTSRYSKKFKPEIATRPKVRDQEGR\n",
      "A/Togo/0266/2021 AYVFVGTSRYSKKFKPEIATRPKVRDQEGR\n",
      "A/Togo/0231/2021 AYVFVGTSRYSKKFKPEIATRPKVRDQEGR\n",
      "A/Togo/0192/2021 AYVFVGTSRYSKKFKPEIATRPKVRDQEGR\n",
      "A/Togo/0311/2021 AYVFVGTSRYSKKFKPEIATRPKVRDQEGR\n",
      "A/Togo/0211/2021 AYVFVGTSRYSKKFKPEIATRPKVRDQEGR\n",
      "A/Togo/0312/2021 AYVFVGTSRYSKKFKPEIATRPKVRDQEGR\n",
      "A/Togo/0239/2021 AYVFVGTSRYSKKFKPEIATRPKVRDQEGR\n",
      "A/Togo/0284/2021 AYVFVGTSRYSKKFKPEIATRPKVRDQEGR\n",
      "A/Togo/0285/2021 AYVFVGTSRYSKKFKPEIATRPKVRDQEGR\n",
      "A/Togo/0299/2021 AYVFVGTSRYSKKFKPEIATRPKVRDQEGR\n",
      "A/Togo/0310/2021 AYVFVGTSRYSKKFKPEIATRPKVRDQEGR\n",
      "A/Togo/0242/2021 AYVFVGTSRYSKKFKPEIATRPKVRDQEGR\n",
      "A/Togo/0361/2021 AYVFVGTSRYSKKFKPEIATRPKVRDQEGR\n",
      "A/Togo/0319/2021 AYVFVGTSRYSKKFKPEIATRPKVRDQEGR\n",
      "A/Togo/0346/2021 AYVFVGTSRYSKKFKPEIATRPKVRDQEGR\n",
      "A/Togo/0228/2021 AYVFVGTSRYSKKFKPEIATRPKVRDQEGR\n",
      "A/Togo/0263/2021 AYVFVGTSRYSKKFKPEIATRPKVRDQEGR\n",
      "A/Togo/0226/2021 AYVFVGTSRYSKKFKPEIATRPKVRDQEGR\n",
      "A/Togo/0286/2021 AYVFVGTSRYSKKFKPEIATRPKVRDQEGR\n",
      "A/Togo/0298/2021 AYVFVGTSRYSKKFKPEIATRPKVRDQEGR\n",
      "A/Togo/0197/2021 AYVFVGTSRYSKKFKPEIATRPKVRDQEGR\n",
      "A/Togo/0256/2021 AYVFVGTSRYSKKFKPEIATRPKVRDQEGR\n",
      "A/Togo/0220/2021 AYVFVGTSRYSKKFKPEIATRPKVRDQEGR\n",
      "A/Togo/0254/2021 AYVFVGTSRYSKKFKPEIAARPKVRDQEGR\n",
      "A/Togo/0217/2021 AYVFVGTSRYSKKFKPEIATRPKVRDQEGR\n",
      "A/Togo/0337/2021 AYVFVGTSRYSKKFKPEIATRPKVRDQEGR\n",
      "A/Togo/0229/2021 AYVFVGTSRYSKKFKPEIATRPKVRDQEGR\n",
      "A/Togo/0275/2021 AYVFVGTSRYSKKFKPEIATRPKVRDQEGR\n",
      "A/Togo/0141/2021 AYVFVGTSRYSKKFKPEIATRPKVRDQEGR\n",
      "A/Togo/0120/2021 AYVFVGTSRYSKKFKPEIATRPKVRDQEGR\n",
      "A/Togo/0119/2021 AYVFVGTSRYSKKFKPEIATRPKVRDQEGR\n",
      "A/Togo/0115/2021 AYVFVGTSRYSKKFKPEIATRPKVRDQEGR\n",
      "A/Togo/0111/2021 AYVFVGTSRYSKKFKPEIATRPKVRDQEGR\n",
      "A/Togo/0146/2021 AYVFVGTSRYSKKFKPEIATRPKVRDQEGR\n",
      "A/Togo/0103/2021 AYVFVGTSRYSKKFKPEIATRPKVRDQEGR\n",
      "A/Togo/0171/2021 AYVFVGTSRYSKKFKPEIATRPKVRDQEGR\n",
      "A/Togo/0403/2021 AYVFVGTSRYSKKFKPEIATRPKVRDQEGR\n",
      "A/Togo/0137/2021 AYVFVGTSRYSKKFKPEIATRPKVRDQEGR\n",
      "A/Togo/0094/2021 AYVFVGTSRYSKKFKPEIATRPKVRDQEGR\n",
      "A/Togo/0163/2021 AYVFVGTSRYSKKFKPEIATRPKVRDQEGR\n",
      "A/Togo/0108/2021 AYVFVGTSRYSKKFKPEIATRPKVRDQEGR\n",
      "A/Togo/0173/2021 AYVFVGTSRYSKKFKPEIATRPKVRDQEGR\n",
      "A/Togo/0176/2021 AYVFVGTSRYSKKFKPEIATRPKVRDQEGR\n",
      "A/Togo/0118/2021 AYVFVGTSRYSKKFKPEIATRPKVRDQEGR\n",
      "A/Togo/0071/2021 AYVFVGTSRYSKKFKPEIATRPKVRDQEGR\n",
      "A/Togo/0378/2021 AYVFVGTSRYSKKFKPEIATRPKVRDQEGR\n",
      "A/Togo/0099/2021 AYVFVGTSRYSKKFKPEIATRPKVRDQEGR\n",
      "A/Togo/0417/2021 AYVFVGTSRYSKKFKPEIATRPKVRDQEGR\n",
      "A/Togo/0136/2021 AYVFVGTSRYSKKFKPEIATRPKVRDQEGR\n",
      "A/Togo/0189/2021 AYVFVGTSRYSKKFKPEIATRPKVRDQEGR\n",
      "A/Togo/0362/2021 AYVFVGTSRYSKKFKPEIATRPKVRDQEGR\n",
      "A/Togo/0153/2021 AYVFVGTSRYSKKFKPEIATRPKVRDQEGR\n",
      "A/Togo/0079/2021 AYVFVGTSRYSKKFKPEIATRPKVRDQEGR\n",
      "A/Togo/0175/2021 AYVFVGTSRYSKKFKPEIATRPKVRDQEGR\n",
      "A/Togo/0156/2021 AYVFVGTSRYSKKFKPEIATRPKVRDQEGR\n",
      "A/Togo/0169/2021 AYVFVGTSRYSKKFKPEIATRPKVRDQEGR\n",
      "A/Togo/0112/2021 AYVFVGTSRYSKKFKPEIATRPKVRDQEGR\n",
      "A/Togo/0152/2021 AYVFVGTSRYSKKFKPEIATRPKVRDQEGR\n",
      "A/Togo/0100/2021 AYVFVGTSRYSKKFKPEIATRPKVRDQEGR\n",
      "A/Togo/0093/2021 AYVFVGTSRYSKKFKPEIATRPKVRDQEGR\n",
      "A/Togo/0096/2021 AYVFVGTSRYSKKFKPEIATRPKVRDQEGR\n",
      "A/Togo/0127/2021 AYVFVGTSRYSKKFKPEIATRPKVRDQEGR\n",
      "A/Togo/0190/2021 AYVFVGTSRYSKKFKPEIATRPKVRDQEGR\n",
      "A/Togo/0130/2021 AYVFVGTSRYSKKFKPEIATRPKVRDQEGR\n",
      "A/Togo/0074/2021 AYVFVGTSRYSKKFKPEIATRPKVRDQEGR\n",
      "A/Togo/0138/2021 AYVFVGTSRYSKKFKPEIATRPKVRDQEGR\n",
      "A/Togo/0165/2021 AYVFVGTSRYSKKFKPEIATRPKVRDQEGR\n",
      "A/Togo/0168/2021 AYVFVGTSRYSKKFKPEIATRPKVRDQEGR\n",
      "A/Togo/0132/2021 AYVFVGTSRYSKKFKPEIATRPKVRDQEGR\n",
      "A/Togo/0172/2021 AYVFVGTSRYSKKFKPEIATRPKVRDQEGR\n",
      "A/Togo/0092/2021 AYVFVGTSRYSKKFKPEIATRPKVRDQEGR\n",
      "A/Togo/0086/2021 AYVFVGTSRYSKKFKPEIATRPKVRDQEGR\n",
      "A/Togo/0125/2021 AYVFVGTSRYSKKFKPEIATRPKVRDQEGR\n",
      "A/Togo/0410/2021 AYVFVGTSRYSKKFKPEIATRPKVRDQEGR\n",
      "A/Togo/0407/2021 AYVFVGTSRYSKKFKPEIATRPKVRDQEGR\n",
      "A/Togo/0135/2021 AYVFVGTSRYSKKFKPEIATRPKVRDQEGR\n",
      "A/Togo/0091/2021 AYVFVGTSRYSKKFKPEIATRPKVRDQEGR\n",
      "A/Togo/0097/2021 AYVFVGTSRYSKKFKPEIATRPKVRDQEGR\n",
      "A/Togo/0155/2021 AYVFVGTSRYSKKFKPEIATRPKVRDQEGR\n",
      "A/Togo/0140/2021 AYVFVGTSRYSKKFKPEIATRPKVRDQEGR\n",
      "A/Togo/0095/2021 AYVFVGTSRYSKKFKPEIATRPKVRDQEGR\n",
      "A/Togo/0404/2021 AYVFVGTSRYSKKFKPEIATRPKVRDQEGR\n",
      "A/Togo/0164/2021 AYVFVGTSRYSKKFKPEIATRPKVRDQEGR\n",
      "A/Togo/0160/2021 AYVFVGTSRYSKKFKPEIATRPKVRDQEGR\n",
      "A/Togo/881/2020 AYVFVGTSRYSKKFKPEIATRPKVRDQEGR\n",
      "A/Togo/870/2020 AYVFVGTSRYSKKFKPEIATRPKVRDQEGR\n",
      "A/Togo/864/2020 AYVFVGTSRYSKKFKPEIATRPKVRDQEGR\n",
      "A/Togo/839/2020 AYVFVGTSRYSKKFKPEIATRPKVRDQEGR\n",
      "A/Togo/845/2020 AYVFVGTSRYSKKFKPEIATRPKVRDQEGR\n",
      "A/Togo/805/2020 AYVFVGTSRYSKKFKPEIATRPKVRDQEGR\n",
      "A/Togo/792/2020 AYVFVGTSRYSKKFKPEIATRPKVRDQEGR\n",
      "A/Togo/858/2020 AYVFVGTSRYSKKFKPEIATRPKVRDQEGR\n",
      "A/Togo/847/2020 AYVFVGTSRYSKKFKPEIATRPKVRDQEGR\n",
      "A/Togo/865/2020 AYVFVGTSRYSKKFKPEIATRPKVRDQEGR\n",
      "A/Togo/852/2020 AYVFVGTSRYSKKFKPEIATRPKVRDQEGR\n",
      "A/Togo/869/2020 AYVFVGTSRYSKKFKPEIATRPKVRDQEGR\n",
      "A/Togo/905/2020 AYVFVGTSRYSKKFKPEIATRPKVRDQEGR\n",
      "A/Togo/897/2020 AYVFVGTSRYSKKFKPEIATRPKVRDQEGR\n",
      "A/Togo/878/2020 AYVFVGTSRYSKKFKPEIATRPKVRDQEGR\n",
      "A/Togo/882/2020 AYVFVGTSRYSKKFKPEIATRPKVRDQEGR\n",
      "A/Mecklenburg-Vorpommern/1-A/2021 TYISVGSSKYYQRFTPEIAARPKVREQAGR\n",
      "A/Mecklenburg-Vorpommern/1/2021 TYISVGSSKYYQRFTPEIAARPKVREQAGR\n",
      "A/Niger/8940/2021 AYVFVGTSRYSKKFKPEIATRPKVRDQEGR\n",
      "A/Niger/8871/2021 AYVFVGTSRYSKKFKPEIATRPKVRDQEGR\n",
      "A/Niger/8864/2021 AYVFVGTSRYSKKFKPEIATRPKVRDQEGR\n",
      "A/Niger/8934/2021 AYVFVGTSRYSKKFKPEIATRPKVRDQEGR\n",
      "A/Niger/8789/2021 AYVFVGTSRYSKKFKPEIATRPKVRDQEGR\n",
      "A/Niger/8778/2021 AYVFVGTSRYSKKFKPEIATRPKVRDQEGR\n",
      "A/Niger/8873/2021 AYVFVGTSRYSKKFKPEIATRPKVRDQEGR\n",
      "A/Niger/8965/2021 AYVFVGTSRYSKKFKPEIATRPKVRDQEGR\n",
      "A/Niger/8836/2021 AYVFVGTSRYSKKFKPEIATRPKVRDQEGR\n",
      "A/Niger/8832/2021 AYVFVGTSRYSKKFKPEIATRPKVRDQEGR\n",
      "A/Niger/8784/2021 AYVFVGTSRYSKKFKPEIATRPKVRDQEGR\n",
      "A/Niger/8971/2021 AYVFVGTSRYSKKFKPEIATRPKVRDQEGR\n",
      "A/Niger/8970/2021 AYVFVGTSRYSKKFKPEIATRPKVRDQEGR\n",
      "A/Niger/8677/2021 AYVFVGTSRYSKKFKPEIATRPKVRDQEGR\n",
      "A/Niger/8731/2021 AYVFVGTSRYSKKFKPEIATRPKVRDQEGR\n",
      "A/Niger/8673/2020 AYVFVGTSRYSKKFKPEIATRPKVRDQEGR\n",
      "A/Niger/8247/2020 AYVFVGTSRYSKKFKPEIATRPKVRDQEGR\n",
      "A/Niger/8306/2020 AYVFVGTSRYSKKFKPEIATRPKVRDQEGR\n",
      "A/Niger/8327/2020 AYVFVGTSRYSKKFKPEIATRPKVRDQEGR\n",
      "A/Niger/8309/2020 AYVFVGTSRYSKKFKPEIATRPKVRDQEGR\n",
      "A/Niger/8697/2021 AYVFVGTSRYSKKFKPEIATRPKVRDQEGR\n",
      "A/Niger/8661/2020 AYVFVGTSRYSKKFKPEIATRPKVRDQEGR\n",
      "A/Niger/8699/2021 AYVFVGTSRYSKKFKPEIATRPKVRDQEGR\n",
      "A/Niger/8315/2020 AYVFVGTSRYSKKFKPEIATRPKVRDQEGR\n",
      "A/Niger/8318/2020 AYVFVGTSRYSKKFKPEIATRPKVRDQEGR\n",
      "A/Tianjin/00030/2020 TYVSVGSSKYYKRFTPEIVARPKVREQAGR\n",
      "A/Auxonne/0309/2021_mar AYVFVGTSRYSKKFKPEIATRPKVRDQEGR\n",
      "A/Yunnan-Mengzi/1462/2020 TYVSVGSSKYYKRFTPEIVARPKVSEQAGR\n",
      "A/Gansu-Xifeng/1143/2021 TYVSVGSSKYYKRFTPEIVARPKVREQAGR\n",
      "A/Gansu-Xifeng/1194/2021 TYVSVGSSKYYKRFTPEIVARPKVREQAGR\n",
      "A/Belgium/IG0080/2020 AYVFVGTSRYSKKFKPEIATRPKVRDQEGR\n",
      "A/Nigeria/5070/2020 AYVFVGTSRYSKKFKPEIATRPKVRDQEGR\n",
      "A/Nigeria/5054/2020 AYVFVGTSRYSKKFKPEIATRPKVRDQEGR\n",
      "A/Nigeria/5058/2020 AYVFVGTSRYSKKFKPEIATRPKVRDQEGR\n",
      "A/Nigeria/5066/2020 AYVFVGTSRYSKKFKPEIATRPKVRDQEGR\n",
      "A/Nigeria/5065/2020 AYVFVGTSRYSKKFKPEIATRPKVRDQEGR\n",
      "A/Nigeria/5063/2020 AYVFVGTSRYSKKFKPEIATRPKVRDQEGR\n",
      "A/Nigeria/5060/2020 AYVFVGTSRYSKKFKPEIATRPKVRDQDGR\n",
      "A/Nigeria/5072/2020 AYVFVGTSRYSKKFKPEIATRPKVRDQEGR\n",
      "A/Shandong/00204/2021 TYVSVGSSKFYKRFTPEIVARPKVREQAGR\n",
      "A/Sichuan/01208/2021 TYVSVGSSKYYKRFTPEIVARPKVREQAGR\n",
      "A/India/Pun-NIV306112/2021_Apr AYVFVGTSRYSKKFKPEIATRPKVRDQEGR\n"
     ]
    }
   ],
   "source": [
    "for i in H.items():\n",
    "    print(i[0],i[1])"
   ]
  },
  {
   "cell_type": "code",
   "execution_count": 119,
   "metadata": {},
   "outputs": [
    {
     "data": {
      "text/plain": [
       "array(['A', 'C', 'D', 'E', 'G', 'I', 'L', 'N', 'S', 'T', 'V', 'Y'],\n",
       "      dtype='<U32')"
      ]
     },
     "execution_count": 119,
     "metadata": {},
     "output_type": "execute_result"
    }
   ],
   "source": []
  },
  {
   "cell_type": "code",
   "execution_count": 121,
   "metadata": {},
   "outputs": [
    {
     "data": {
      "text/plain": [
       "array(['A', 'D', 'E', 'F', 'G', 'I', 'K', 'N', 'P', 'Q', 'R', 'S', 'T',\n",
       "       'V', 'Y'], dtype='<U32')"
      ]
     },
     "execution_count": 121,
     "metadata": {},
     "output_type": "execute_result"
    }
   ],
   "source": [
    "np.unique(A)"
   ]
  }
 ],
 "metadata": {
  "kernelspec": {
   "display_name": "Python 3 (ipykernel)",
   "language": "python",
   "name": "python3"
  },
  "language_info": {
   "codemirror_mode": {
    "name": "ipython",
    "version": 3
   },
   "file_extension": ".py",
   "mimetype": "text/x-python",
   "name": "python",
   "nbconvert_exporter": "python",
   "pygments_lexer": "ipython3",
   "version": "3.10.6"
  }
 },
 "nbformat": 4,
 "nbformat_minor": 5
}
