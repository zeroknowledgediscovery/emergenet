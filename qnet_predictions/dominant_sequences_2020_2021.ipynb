{
 "cells": [
  {
   "cell_type": "markdown",
   "id": "valid-violence",
   "metadata": {},
   "source": [
    "# Dominant Sequences 2020-2021\n",
    "- Find 2020-2021 dominant strains using edit distance"
   ]
  },
  {
   "cell_type": "code",
   "execution_count": 36,
   "id": "refined-gardening",
   "metadata": {},
   "outputs": [],
   "source": [
    "# basic imports\n",
    "import os \n",
    "import numpy as np\n",
    "import pandas as pd\n",
    "import math\n",
    "import warnings\n",
    "warnings.filterwarnings('ignore')\n",
    "import tqdm\n",
    "from tqdm.notebook import trange, tqdm\n",
    "\n",
    "# visualization\n",
    "import seaborn as sns \n",
    "import matplotlib.pyplot as plt\n",
    "%matplotlib inline\n",
    "\n",
    "# other\n",
    "from Bio import SeqIO\n",
    "from collections import Counter\n",
    "import Levenshtein as lev\n",
    "\n",
    "# qnet\n",
    "from quasinet.qnet import Qnet, qdistance, qdistance_matrix, membership_degree, save_qnet, load_qnet\n",
    "from quasinet.qseqtools import list_trained_qnets, load_trained_qnet"
   ]
  },
  {
   "cell_type": "markdown",
   "id": "homeless-scheduling",
   "metadata": {},
   "source": [
    "## Data Sources\n",
    "- NCBI: https://www.ncbi.nlm.nih.gov/labs/virus/vssi/#/virus?SeqType_s=Protein\n",
    "- GISAID: https://platform.epicov.org/epi3/cfrontend#586f5f"
   ]
  },
  {
   "cell_type": "markdown",
   "id": "0b9cb4fb",
   "metadata": {},
   "source": [
    "## Downloading Data\n",
    "**GISAID (NCBI has few strains for this season):**\n",
    "1. Download amino acid data from both sources with the following filters:\n",
    "    - Host: Human\n",
    "    - Flu Season: \n",
    "        - Northern strains from 10/01/2020 - 5/01/2021\n",
    "        - Southern strains from 04/01/2020 - 10/1/2020\n",
    "        - Flu season dates from [CDC](https://www.cdc.gov/flu/school-business/travelersfacts.htm)\n",
    "    - Segment: HA (4) and NA (6)\n",
    "2. File names for raw data: HEMISPHERE_SEQUENCE_SEGMENT_SEASON\n",
    "    - HEMISPHERE: \"north\" or \"south\"\n",
    "    - SEQUENCE: \"h1n1\" or \"h3n2\"\n",
    "    - SEGMENT: \"ha\" or \"na\"\n",
    "    - SEASON: year the season begins in (ex. 20 for 2020-2021)"
   ]
  },
  {
   "cell_type": "code",
   "execution_count": 37,
   "id": "willing-welcome",
   "metadata": {},
   "outputs": [],
   "source": [
    "NCBI_PATH = 'raw_data/ncbi/'\n",
    "GISAID_PATH = 'raw_data/gisaid/'\n",
    "\n",
    "FILES = ['north_h1n1_ha_20', 'north_h1n1_na_20', 'north_h3n2_ha_20', 'north_h3n2_na_20',\n",
    "         'south_h1n1_ha_20', 'south_h1n1_na_20', 'south_h3n2_ha_20', 'south_h3n2_na_20']\n",
    "\n",
    "NA_TRUNC = 469\n",
    "HA_TRUNC = 566"
   ]
  },
  {
   "cell_type": "markdown",
   "id": "5ce21eca",
   "metadata": {},
   "source": [
    "## Dominant Strain\n",
    "Levenshtein Centroid: $$\\widehat{x}^{dom} = argmin_{x\\in P^t} \\sum_{y \\in P^t} \\theta(x,y)$$\n",
    "- Where $P^t$ is the sequence population at time $t$.\n",
    "- $\\theta(x,y)$ is the edit distance between x and y"
   ]
  },
  {
   "cell_type": "code",
   "execution_count": 39,
   "id": "recent-florida",
   "metadata": {},
   "outputs": [],
   "source": [
    "# input: fasta file name, length to truncate each sequence\n",
    "# output: dataframe of sequences\n",
    "def parse_fasta(file_name, trunc):\n",
    "    acc = []\n",
    "    seq = []\n",
    "    for record in SeqIO.parse(file_name, 'fasta'):\n",
    "        if len(record.seq) < trunc:\n",
    "            continue\n",
    "        acc.append(record.id.split('|')[0])\n",
    "        seq.append(''.join(record.seq[:trunc].upper()))\n",
    "    df = pd.DataFrame({'name':acc, 'sequence':seq})\n",
    "    return df"
   ]
  },
  {
   "cell_type": "code",
   "execution_count": 49,
   "id": "d548b3e5",
   "metadata": {},
   "outputs": [
    {
     "data": {
      "application/vnd.jupyter.widget-view+json": {
       "model_id": "825fbe1f4f8a4312aa21376ce1e88edd",
       "version_major": 2,
       "version_minor": 0
      },
      "text/plain": [
       "  0%|          | 0/8 [00:00<?, ?it/s]"
      ]
     },
     "metadata": {},
     "output_type": "display_data"
    }
   ],
   "source": [
    "dom_files = []\n",
    "dom_names = []\n",
    "dom_seqs = []\n",
    "\n",
    "for FILE in tqdm(FILES):\n",
    "    TRUNC = HA_TRUNC\n",
    "    if 'na' in FILE:\n",
    "        TRUNC = NA_TRUNC\n",
    "    df = parse_fasta(GISAID_PATH + FILE + \".fasta\", TRUNC)\n",
    "    seq_df = df.sample(min(1000, len(df)), random_state = 42)\n",
    "    seqs = seq_df['sequence'].values\n",
    "    \n",
    "    # find centroid of sequences in P^t\n",
    "    edit_dists = []\n",
    "    for seq in seqs:\n",
    "        edit_dist = 0\n",
    "        for seq1 in seqs:\n",
    "            edit_dist += lev.distance(seq, seq1)\n",
    "        edit_dists.append(edit_dist)\n",
    "    ind_min = np.argmin(edit_dists)\n",
    "    dom_name = seq_df.iloc[ind_min].values[0]\n",
    "    dom_seq = seq_df.iloc[ind_min].values[1]\n",
    "        \n",
    "    # save results\n",
    "    dom_files.append(FILE[:13])\n",
    "    dom_names.append(dom_name)\n",
    "    dom_seqs.append(dom_seq)"
   ]
  },
  {
   "cell_type": "code",
   "execution_count": 50,
   "id": "9d404a95",
   "metadata": {},
   "outputs": [
    {
     "data": {
      "text/html": [
       "<div>\n",
       "<style scoped>\n",
       "    .dataframe tbody tr th:only-of-type {\n",
       "        vertical-align: middle;\n",
       "    }\n",
       "\n",
       "    .dataframe tbody tr th {\n",
       "        vertical-align: top;\n",
       "    }\n",
       "\n",
       "    .dataframe thead th {\n",
       "        text-align: right;\n",
       "    }\n",
       "</style>\n",
       "<table border=\"1\" class=\"dataframe\">\n",
       "  <thead>\n",
       "    <tr style=\"text-align: right;\">\n",
       "      <th></th>\n",
       "      <th>strain</th>\n",
       "      <th>name</th>\n",
       "      <th>sequence</th>\n",
       "    </tr>\n",
       "  </thead>\n",
       "  <tbody>\n",
       "    <tr>\n",
       "      <th>0</th>\n",
       "      <td>north_h1n1_ha_20</td>\n",
       "      <td>A/Togo/905/2020</td>\n",
       "      <td>MKAILVVLLYTFTTANADTLCIGYHANNSTDTVDTVLEKNVTVTHS...</td>\n",
       "    </tr>\n",
       "    <tr>\n",
       "      <th>1</th>\n",
       "      <td>north_h1n1_na_20</td>\n",
       "      <td>A/Ghana/119/2020</td>\n",
       "      <td>MNPNQKIITIGSICMTIGMANLILQIGNIISIWVSHSIQIGNQSQI...</td>\n",
       "    </tr>\n",
       "    <tr>\n",
       "      <th>2</th>\n",
       "      <td>north_h3n2_ha_20</td>\n",
       "      <td>A/India/Pun-NIV300460/2021_Apr</td>\n",
       "      <td>MKTIIALSYILCLVFAQKIPGNDNSTATLCLGHHAVPNGTIVKTIT...</td>\n",
       "    </tr>\n",
       "    <tr>\n",
       "      <th>3</th>\n",
       "      <td>north_h3n2_na_20</td>\n",
       "      <td>A/Kenya/122/2021</td>\n",
       "      <td>MNPNQKIITIGSVSLTISTICFFMQIAILITTVTLHFKQYEFNSPP...</td>\n",
       "    </tr>\n",
       "    <tr>\n",
       "      <th>4</th>\n",
       "      <td>south_h1n1_ha_20</td>\n",
       "      <td>A/Cote_d'Ivoire/951/2020</td>\n",
       "      <td>MKAILVVLLYTFTTANADTLCIGYHANNSTDTVDTVLEKNVTVTHS...</td>\n",
       "    </tr>\n",
       "    <tr>\n",
       "      <th>5</th>\n",
       "      <td>south_h1n1_na_20</td>\n",
       "      <td>A/Srinagar/AG_659/2020</td>\n",
       "      <td>MNPNQKIITIGSICMTIGMANLILQIGNIISIWVSHSIQIGNQSQI...</td>\n",
       "    </tr>\n",
       "    <tr>\n",
       "      <th>6</th>\n",
       "      <td>south_h3n2_ha_20</td>\n",
       "      <td>A/Timor-Leste/2/2020</td>\n",
       "      <td>MKTIIALSYILCLVFAQKIPGNDNSTATLCLGHHAVPNGTIVKTIT...</td>\n",
       "    </tr>\n",
       "    <tr>\n",
       "      <th>7</th>\n",
       "      <td>south_h3n2_na_20</td>\n",
       "      <td>A/Bangladesh/3009/2020</td>\n",
       "      <td>MNPNQKIITIGSVSLTISTICFFMQIAILITTVTLHFKQYEFNSPP...</td>\n",
       "    </tr>\n",
       "  </tbody>\n",
       "</table>\n",
       "</div>"
      ],
      "text/plain": [
       "             strain                            name  \\\n",
       "0  north_h1n1_ha_20                 A/Togo/905/2020   \n",
       "1  north_h1n1_na_20                A/Ghana/119/2020   \n",
       "2  north_h3n2_ha_20  A/India/Pun-NIV300460/2021_Apr   \n",
       "3  north_h3n2_na_20                A/Kenya/122/2021   \n",
       "4  south_h1n1_ha_20        A/Cote_d'Ivoire/951/2020   \n",
       "5  south_h1n1_na_20          A/Srinagar/AG_659/2020   \n",
       "6  south_h3n2_ha_20            A/Timor-Leste/2/2020   \n",
       "7  south_h3n2_na_20          A/Bangladesh/3009/2020   \n",
       "\n",
       "                                            sequence  \n",
       "0  MKAILVVLLYTFTTANADTLCIGYHANNSTDTVDTVLEKNVTVTHS...  \n",
       "1  MNPNQKIITIGSICMTIGMANLILQIGNIISIWVSHSIQIGNQSQI...  \n",
       "2  MKTIIALSYILCLVFAQKIPGNDNSTATLCLGHHAVPNGTIVKTIT...  \n",
       "3  MNPNQKIITIGSVSLTISTICFFMQIAILITTVTLHFKQYEFNSPP...  \n",
       "4  MKAILVVLLYTFTTANADTLCIGYHANNSTDTVDTVLEKNVTVTHS...  \n",
       "5  MNPNQKIITIGSICMTIGMANLILQIGNIISIWVSHSIQIGNQSQI...  \n",
       "6  MKTIIALSYILCLVFAQKIPGNDNSTATLCLGHHAVPNGTIVKTIT...  \n",
       "7  MNPNQKIITIGSVSLTISTICFFMQIAILITTVTLHFKQYEFNSPP...  "
      ]
     },
     "execution_count": 50,
     "metadata": {},
     "output_type": "execute_result"
    }
   ],
   "source": [
    "dominant_seqs = pd.DataFrame({'strain':dom_files, 'name':dom_names, 'sequence':dom_seqs})\n",
    "dominant_seqs"
   ]
  },
  {
   "cell_type": "code",
   "execution_count": 51,
   "id": "9a6d1529",
   "metadata": {},
   "outputs": [],
   "source": [
    "# save dataframe as csv\n",
    "os.makedirs('results', exist_ok=True)  \n",
    "dominant_seqs.to_csv('results/dominant_sequences_2020_2021.csv', index=False)  "
   ]
  },
  {
   "cell_type": "code",
   "execution_count": null,
   "id": "902d0c3d",
   "metadata": {},
   "outputs": [],
   "source": []
  }
 ],
 "metadata": {
  "kernelspec": {
   "display_name": "Python 3",
   "language": "python",
   "name": "python3"
  },
  "language_info": {
   "codemirror_mode": {
    "name": "ipython",
    "version": 3
   },
   "file_extension": ".py",
   "mimetype": "text/x-python",
   "name": "python",
   "nbconvert_exporter": "python",
   "pygments_lexer": "ipython3",
   "version": "3.7.6"
  }
 },
 "nbformat": 4,
 "nbformat_minor": 5
}
