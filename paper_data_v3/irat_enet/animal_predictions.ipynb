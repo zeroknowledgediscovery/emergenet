{
 "cells": [
  {
   "cell_type": "markdown",
   "id": "e71c30fc",
   "metadata": {},
   "source": [
    "# Animal Sequence Emergence Predictions\n",
    "\n",
    "For each animal sequence:\n",
    "1. Compute the HA and NA risk using Emergenet (using pretrained Enets from all human strains within 1 year of the present, **1/1/2023 - 1/1/2024**)\n",
    "2. Predict IRAT emergence scores with `emergenet.emergenet.predict_irat_emergence`\n",
    "3. Save results: `results/animal_predictions/animal.csv`\n",
    "\n",
    "    \n",
    "### Running Processes\n",
    "\n",
    "Computations are done in:\n",
    "- `animal_predictions.py`\n",
    "- `run_animal_predictions.sh`\n",
    "\n",
    "To run, navigate to terminal and do\n",
    "\n",
    "`chmod ugo+rwx run_animal_predictions.sh`\n",
    "\n",
    "`./run_animal_predictions.sh`"
   ]
  },
  {
   "cell_type": "code",
   "execution_count": 1,
   "id": "b1b87e7e",
   "metadata": {},
   "outputs": [],
   "source": [
    "import glob\n",
    "import numpy as np\n",
    "import pandas as pd\n",
    "import matplotlib.pyplot as plt\n",
    "import seaborn as sns\n",
    "plt.style.use('default')\n",
    "plt.rcParams['figure.figsize'] = [8, 4]\n",
    "plt.rcParams['figure.dpi'] = 300\n",
    "import warnings\n",
    "warnings.filterwarnings('ignore')\n",
    "from emergenet.emergenet import predict_irat_emergence\n",
    "\n",
    "\n",
    "RESULT_DIR = 'results/animal_predictions/'"
   ]
  },
  {
   "cell_type": "code",
   "execution_count": 2,
   "id": "af131b3a",
   "metadata": {},
   "outputs": [
    {
     "data": {
      "text/html": [
       "<div>\n",
       "<style scoped>\n",
       "    .dataframe tbody tr th:only-of-type {\n",
       "        vertical-align: middle;\n",
       "    }\n",
       "\n",
       "    .dataframe tbody tr th {\n",
       "        vertical-align: top;\n",
       "    }\n",
       "\n",
       "    .dataframe thead th {\n",
       "        text-align: right;\n",
       "    }\n",
       "</style>\n",
       "<table border=\"1\" class=\"dataframe\">\n",
       "  <thead>\n",
       "    <tr style=\"text-align: right;\">\n",
       "      <th></th>\n",
       "      <th>name</th>\n",
       "      <th>subtype</th>\n",
       "      <th>date</th>\n",
       "      <th>emergence</th>\n",
       "    </tr>\n",
       "  </thead>\n",
       "  <tbody>\n",
       "    <tr>\n",
       "      <th>0</th>\n",
       "      <td>A/swine/Iowa/CEIRS-1495/2023</td>\n",
       "      <td>H1N2</td>\n",
       "      <td>2023-06-15</td>\n",
       "      <td>7.733</td>\n",
       "    </tr>\n",
       "    <tr>\n",
       "      <th>1</th>\n",
       "      <td>A/swine/Tver_region/RII-81-1S/2023</td>\n",
       "      <td>H1N1</td>\n",
       "      <td>2023-02-17</td>\n",
       "      <td>7.733</td>\n",
       "    </tr>\n",
       "    <tr>\n",
       "      <th>2</th>\n",
       "      <td>A/swine/Missouri/A02524408/2023</td>\n",
       "      <td>H3N2</td>\n",
       "      <td>2023-01-13</td>\n",
       "      <td>7.733</td>\n",
       "    </tr>\n",
       "    <tr>\n",
       "      <th>3</th>\n",
       "      <td>A/swine/North_Carolina/A02751333/2022</td>\n",
       "      <td>H3N2</td>\n",
       "      <td>2022-12-13</td>\n",
       "      <td>7.733</td>\n",
       "    </tr>\n",
       "    <tr>\n",
       "      <th>4</th>\n",
       "      <td>A/swine/Indiana/A01812310/2020</td>\n",
       "      <td>H1N1</td>\n",
       "      <td>2020-08-17</td>\n",
       "      <td>7.732</td>\n",
       "    </tr>\n",
       "    <tr>\n",
       "      <th>...</th>\n",
       "      <td>...</td>\n",
       "      <td>...</td>\n",
       "      <td>...</td>\n",
       "      <td>...</td>\n",
       "    </tr>\n",
       "    <tr>\n",
       "      <th>6349</th>\n",
       "      <td>A/chicken/China/2106/2021</td>\n",
       "      <td>H9N2</td>\n",
       "      <td>2021-11-30</td>\n",
       "      <td>3.054</td>\n",
       "    </tr>\n",
       "    <tr>\n",
       "      <th>6350</th>\n",
       "      <td>A/chicken/China/2034/2020</td>\n",
       "      <td>H9N2</td>\n",
       "      <td>2020-01-20</td>\n",
       "      <td>3.050</td>\n",
       "    </tr>\n",
       "    <tr>\n",
       "      <th>6351</th>\n",
       "      <td>A/chicken/China/2040/2020</td>\n",
       "      <td>H9N2</td>\n",
       "      <td>2020-01-10</td>\n",
       "      <td>3.050</td>\n",
       "    </tr>\n",
       "    <tr>\n",
       "      <th>6352</th>\n",
       "      <td>A/green-winged-teal/Georgia/DT-22246/2020</td>\n",
       "      <td>H5N8</td>\n",
       "      <td>2020-09-29</td>\n",
       "      <td>3.046</td>\n",
       "    </tr>\n",
       "    <tr>\n",
       "      <th>6353</th>\n",
       "      <td>A/chicken/China/YCDC-KM213/2022</td>\n",
       "      <td>H9N2</td>\n",
       "      <td>2022-01-01</td>\n",
       "      <td>2.984</td>\n",
       "    </tr>\n",
       "  </tbody>\n",
       "</table>\n",
       "<p>6354 rows × 4 columns</p>\n",
       "</div>"
      ],
      "text/plain": [
       "                                           name subtype        date  emergence\n",
       "0                  A/swine/Iowa/CEIRS-1495/2023    H1N2  2023-06-15      7.733\n",
       "1            A/swine/Tver_region/RII-81-1S/2023    H1N1  2023-02-17      7.733\n",
       "2               A/swine/Missouri/A02524408/2023    H3N2  2023-01-13      7.733\n",
       "3         A/swine/North_Carolina/A02751333/2022    H3N2  2022-12-13      7.733\n",
       "4                A/swine/Indiana/A01812310/2020    H1N1  2020-08-17      7.732\n",
       "...                                         ...     ...         ...        ...\n",
       "6349                  A/chicken/China/2106/2021    H9N2  2021-11-30      3.054\n",
       "6350                  A/chicken/China/2034/2020    H9N2  2020-01-20      3.050\n",
       "6351                  A/chicken/China/2040/2020    H9N2  2020-01-10      3.050\n",
       "6352  A/green-winged-teal/Georgia/DT-22246/2020    H5N8  2020-09-29      3.046\n",
       "6353            A/chicken/China/YCDC-KM213/2022    H9N2  2022-01-01      2.984\n",
       "\n",
       "[6354 rows x 4 columns]"
      ]
     },
     "execution_count": 2,
     "metadata": {},
     "output_type": "execute_result"
    }
   ],
   "source": [
    "# Get list of all subsets\n",
    "pattern = 'animal[0-9]*.csv'\n",
    "file_list = glob.glob(f'{RESULT_DIR}/{pattern}')\n",
    "animal = pd.DataFrame()\n",
    "for file in file_list:\n",
    "    df = pd.read_csv(file)\n",
    "    animal = pd.concat([animal, df], ignore_index=True)\n",
    "\n",
    "# Predict emergence risk\n",
    "animal['geom_mean_risk'] = np.sqrt(animal['ha_risk'] * animal['na_risk'])\n",
    "animal[['emergence', 'emergence_low', 'emergence_high']] = animal.apply(lambda row: predict_irat_emergence(row['ha_risk'], row['na_risk']), axis=1, result_type='expand')\n",
    "animal = animal.sort_values(by='emergence', ascending=False).reset_index(drop=True)\n",
    "animal.to_csv(RESULT_DIR + 'animal.csv', index=False)\n",
    "animal[['name', 'subtype', 'date', 'emergence']].round(3)"
   ]
  },
  {
   "cell_type": "code",
   "execution_count": 3,
   "id": "f0302cc3",
   "metadata": {},
   "outputs": [
    {
     "data": {
      "image/png": "[encoded data removed]",
      "text/plain": [
       "<Figure size 432x288 with 1 Axes>"
      ]
     },
     "metadata": {
      "needs_background": "light"
     },
     "output_type": "display_data"
    }
   ],
   "source": [
    "sns.histplot(animal['emergence_high'], label='Mean High', alpha=0.4, color='#1f77b4', linewidth=2, edgecolor='#1f77b4', bins=20)\n",
    "sns.histplot(animal['emergence'], label='Emergence Score', alpha=0.4, color='#ff7f0e', linewidth=2, edgecolor='#ff7f0e', bins=20)\n",
    "sns.histplot(animal['emergence_low'], label='Mean Low', alpha=0.4, color='#2ca02c', linewidth=2, edgecolor='#2ca02c', bins=20)\n",
    "\n",
    "plt.xlabel('Emergence Score')\n",
    "plt.title('Frequency of Predicted IRAT Emergence Scores for Animal Viruses')\n",
    "plt.grid()\n",
    "plt.legend(fontsize=8)\n",
    "plt.savefig('tables/animal.png',bbox_inches='tight',transparent=True);"
   ]
  },
  {
   "cell_type": "markdown",
   "id": "6928a0e6",
   "metadata": {},
   "source": [
    "## Combine Animal + IRAT\n",
    "\n",
    "Add a dummy column to the animal predictions, indicating whether the sequence is from IRAT."
   ]
  },
  {
   "cell_type": "code",
   "execution_count": null,
   "id": "55f8b52b-ec09-4d9d-a970-0518f933010f",
   "metadata": {},
   "outputs": [],
   "source": [
    "! pwd"
   ]
  },
  {
   "cell_type": "code",
   "execution_count": null,
   "id": "f9cbe44d",
   "metadata": {},
   "outputs": [],
   "source": [
    "irat = pd.read_csv('results/irat_predictions/irat.csv')\n",
    "irat_with_accessions = pd.read_csv('data/irat.csv')[['Influenza Virus', 'HA Accession', 'NA Accession']]\n",
    "irat = irat.merge(irat_with_accessions, on='Influenza Virus', how='left')\n",
    "animal = pd.read_csv('results/animal_predictions/animal.csv')\n",
    "irat['is_irat'] = 1\n",
    "animal['is_irat'] = 0\n",
    "irat = irat[['Influenza Virus', 'Virus Type', 'Date of Risk Assessment',\n",
    "             'HA Accession', 'HA Sequence', 'NA Accession', 'NA Sequence', \n",
    "             'HA Risk', 'NA Risk', 'Geom Mean Risk', 'Predicted Emergence',\n",
    "             'Predicted Emergence Low', 'Predicted Emergence High',\n",
    "             'is_irat', 'Emergence Score', 'Impact Score',\n",
    "             'Mean Low Acceptable Emergence', 'Mean High Acceptable Emergence',\n",
    "             'Mean Low Acceptable Impact', 'Mean High Acceptable Impact',]]\n",
    "\n",
    "irat.columns = list(animal.columns) + ['emergence_score', 'impact_score', \n",
    "                                       'mean_low_acceptable_emergence', 'mean_high_acceptable_emergence', \n",
    "                                       'mean_low_acceptable_impact', 'mean_high_acceptable_impact']\n",
    "combined = pd.concat([irat, animal], ignore_index=True)\n",
    "combined.to_csv(RESULT_DIR + 'animal_combined_with_irat.csv', index=False)"
   ]
  },
  {
   "cell_type": "code",
   "execution_count": 4,
   "id": "0605112d-e577-4c95-834b-8b6b324083f4",
   "metadata": {},
   "outputs": [
    {
     "data": {
      "image/png": "[encoded data removed]",
      "text/plain": [
       "<Figure size 432x288 with 1 Axes>"
      ]
     },
     "metadata": {
      "needs_background": "light"
     },
     "output_type": "display_data"
    }
   ],
   "source": [
    "sns.histplot(animal['emergence_high'], label='High', alpha=0.4, color='#1f77b4', linewidth=2, edgecolor='#1f77b4', bins=20)\n",
    "sns.histplot(animal['emergence'], label='Emergence Score', alpha=0.4, color='#ff7f0e', linewidth=2, edgecolor='#ff7f0e', bins=20)\n",
    "sns.histplot(animal['emergence_low'], label='Low', alpha=0.4, color='#2ca02c', linewidth=2, edgecolor='#2ca02c', bins=20)\n",
    "\n",
    "plt.xlabel('Emergence Score')\n",
    "plt.title('Frequency of Predicted IRAT Emergence Scores for Animal Viruses')\n",
    "plt.grid()\n",
    "plt.legend(fontsize=8)\n",
    "plt.savefig('tables/animal.png',bbox_inches='tight',transparent=True);"
   ]
  },
  {
   "cell_type": "code",
   "execution_count": 5,
   "id": "28bbd94f-7c01-4a21-a245-9bd0f38a8f7b",
   "metadata": {},
   "outputs": [
    {
     "data": {
      "text/plain": [
       "Index(['name', 'subtype', 'date', 'ha_accession', 'ha_sequence',\n",
       "       'na_accession', 'na_sequence', 'ha_risk', 'na_risk', 'geom_mean_risk',\n",
       "       'emergence', 'emergence_low', 'emergence_high'],\n",
       "      dtype='object')"
      ]
     },
     "execution_count": 5,
     "metadata": {},
     "output_type": "execute_result"
    }
   ],
   "source": [
    "animal.columns"
   ]
  },
  {
   "cell_type": "code",
   "execution_count": 6,
   "id": "91cbf765-3e77-429c-b920-f9984ab9a943",
   "metadata": {},
   "outputs": [
    {
     "data": {
      "text/plain": [
       "Index(['id', 'subtype', 'ha_accession', 'na_accession', 'impact_risk',\n",
       "       'emergence_risk'],\n",
       "      dtype='object')"
      ]
     },
     "execution_count": 6,
     "metadata": {},
     "output_type": "execute_result"
    }
   ],
   "source": [
    "collapseddf=pd.read_csv('../../paper_data_v1/irat_qnet/results/animal_predictions/allriskystrains_collapsed.csv')\n",
    "collapseddf.columns"
   ]
  },
  {
   "cell_type": "code",
   "execution_count": 7,
   "id": "8c824c7f-e8a1-4f8b-aac0-d5d9efa3906a",
   "metadata": {},
   "outputs": [
    {
     "name": "stdout",
     "output_type": "stream",
     "text": [
      "Fitted normal distribution parameters: mu = 6.675764984510693, std = 0.16373552733685978\n",
      "Tail threshold (90th percentile): 7.195991644301605\n",
      "Tail data: [7.73274639 7.73274639 7.73274639 7.73274639 7.63644379 7.59910398\n",
      " 7.4234061  7.41519281 7.41246853 7.33864781 7.20542672]\n",
      "Tail p-value: 0.0006085089958300927\n",
      "The tail is extreme with a p-value of 0.0006085089958300927, which is less than the significance level of 0.05.\n"
     ]
    },
    {
     "data": {
      "image/png": "[encoded data removed]",
      "text/plain": [
       "<Figure size 432x288 with 1 Axes>"
      ]
     },
     "metadata": {
      "needs_background": "light"
     },
     "output_type": "display_data"
    }
   ],
   "source": [
    "import numpy as np\n",
    "import matplotlib.pyplot as plt\n",
    "from scipy.stats import norm, shapiro, kstest, anderson\n",
    "\n",
    "# Generate some example data with a long right tail\n",
    "\n",
    "# Plot the histogram of the data\n",
    "#plt.hist(data, bins=50, density=True, alpha=0.6, color='g')\n",
    "#plt.title(\"Histogram of the Data\")\n",
    "#plt.show()\n",
    "\n",
    "data = collapseddf.emergence_risk.values#np.concatenate([np.random.normal(0, 1, 1000), np.random.exponential(5, 100)])\n",
    "#data=(animal['emergence'].values)\n",
    "\n",
    "# Fit a normal distribution to the entire data\n",
    "data1=data[data<6.9]\n",
    "data1=data1[data1>6]\n",
    "mu, std = norm.fit(data1)\n",
    "print(f\"Fitted normal distribution parameters: mu = {mu}, std = {std}\")\n",
    "\n",
    "# Plot the fitted normal distribution\n",
    "xmin, xmax = 4,8\n",
    "x = np.linspace(xmin, xmax, 100)\n",
    "p = norm.pdf(x, mu, std)\n",
    "#plt.plot(x, p, 'k', linewidth=2)\n",
    "#plt.hist(data, bins=50, density=True, alpha=0.6, color='g')\n",
    "plt.plot(x, p, 'b', linewidth=4)\n",
    "plt.hist(data, bins=20, density=True, alpha=0.6, color='#555500',edgecolor='w')\n",
    "#plt.title(\"Histogram of Tail Data with Fitted Log-Normal Distribution\")\n",
    "\n",
    "plt.gca().set_ylim(None,3)\n",
    "plt.gca().set_ylabel('probability density')\n",
    "plt.gca().set_xlabel('emergence score')\n",
    "#plt.title(\"Histogram with Fitted Normal Distribution\")\n",
    "\n",
    "# Tail analysis using the normal distribution\n",
    "# Determine the tail cut-off (95th percentile)\n",
    "tail_threshold = np.percentile(data, 88)\n",
    "print(f\"Tail threshold (90th percentile): {tail_threshold}\")\n",
    "\n",
    "#plt.plot(tail_threshold*np.array([1,1]),[0,3],color='r')\n",
    "plt.plot(tail_threshold*np.array([1,1]),[0,3],'--r', linewidth=4)\n",
    "\n",
    "# Extract the tail data\n",
    "tail_data = data[data > tail_threshold]\n",
    "print(f\"Tail data: {tail_data}\")\n",
    "\n",
    "# Calculate p-value for the tail using the normal distribution\n",
    "# This p-value is the probability of observing values as extreme as the tail data under the fitted normal distribution\n",
    "tail_p_value = 1 - norm.cdf(min(tail_data), mu, std)\n",
    "print(f\"Tail p-value: {tail_p_value}\")\n",
    "\n",
    "# Interpretation of the p-value\n",
    "significance_level = 0.05\n",
    "if tail_p_value < significance_level:\n",
    "    print(f\"The tail is extreme with a p-value of {tail_p_value}, which is less than the significance level of {significance_level}.\")\n",
    "else:\n",
    "    print(f\"The tail is not considered extreme with a p-value of {tail_p_value}, which is greater than the significance level of {significance_level}.\")\n",
    "#import tikzplotlib\n",
    "#tikzplotlib.save(\"../../tex/overleaf3/Figures/straindist0.tex\")\n"
   ]
  },
  {
   "cell_type": "code",
   "execution_count": 8,
   "id": "668163cb-9aed-4c2a-ad79-0e40f8935730",
   "metadata": {},
   "outputs": [
    {
     "name": "stdout",
     "output_type": "stream",
     "text": [
      "Tail threshold (90th percentile): 7.1050425349514965\n",
      "Tail data: [7.73274639 7.73274639 7.73274639 7.73274639 7.63644379 7.59910398\n",
      " 7.4234061  7.41519281 7.41246853 7.33864781 7.20542672]\n",
      "Fitted log-normal distribution parameters: shape = 0.036661137982932204, loc = 0.0, scale = 6.493699457681035\n",
      "Tail p-value: 0.0022780678420483147\n",
      "The tail is extreme with a p-value of 0.0022780678420483147, which is less than the significance level of 0.05.\n"
     ]
    },
    {
     "data": {
      "image/png": "[encoded data removed]",
      "text/plain": [
       "<Figure size 432x288 with 1 Axes>"
      ]
     },
     "metadata": {
      "needs_background": "light"
     },
     "output_type": "display_data"
    }
   ],
   "source": [
    "import numpy as np\n",
    "import matplotlib.pyplot as plt\n",
    "from scipy.stats import lognorm, shapiro, kstest, anderson\n",
    "\n",
    "data=animal['emergence'].values#np.exp(-animal['emergence'].values)\n",
    "\n",
    "# Plot the histogram of the data\n",
    "#plt.hist(data, bins=50, density=True, alpha=0.6, color='g')\n",
    "#plt.title(\"Histogram of the Data\")\n",
    "#plt.show()\n",
    "\n",
    "# Fit a log-normal distribution to the tail data\n",
    "# Determine the tail cut-off (88th percentile in this case)\n",
    "tail_threshold = np.percentile(data, 95)\n",
    "tail_threshold1 = np.percentile(data, 90)\n",
    "print(f\"Tail threshold (90th percentile): {tail_threshold}\")\n",
    "\n",
    "# Extract the tail data\n",
    "data2 = data[data < 6.9]\n",
    "data2 = data2[data2 > 6]\n",
    "print(f\"Tail data: {tail_data}\")\n",
    "\n",
    "# Fit a log-normal distribution to the tail data\n",
    "shape, loc, scale = lognorm.fit(data2, floc=0)\n",
    "print(f\"Fitted log-normal distribution parameters: shape = {shape}, loc = {loc}, scale = {scale}\")\n",
    "\n",
    "# Plot the fitted log-normal distribution\n",
    "xmin, xmax = 3,8\n",
    "x = np.linspace(xmin, xmax, 100)\n",
    "p = lognorm.pdf(x, shape, loc, scale)\n",
    "plt.plot(x, p, 'b', linewidth=4)\n",
    "plt.hist(data, bins=35, density=True, alpha=0.6, color='#555500',edgecolor='w')\n",
    "#plt.title(\"Histogram of Tail Data with Fitted Log-Normal Distribution\")\n",
    "plt.plot(tail_threshold*np.array([1,1]),[0,1.8],'--r', linewidth=4)\n",
    "#plt.plot(tail_threshold1*np.array([1,1]),[0,1.8],'--m', linewidth=4)\n",
    "plt.gca().set_ylim(None,1.8)\n",
    "plt.gca().set_xlabel('emergence score')\n",
    "\n",
    "# Calculate p-value for the tail using the log-normal distribution\n",
    "# This p-value is the probability of observing values as extreme as the tail data under the fitted log-normal distribution\n",
    "tail_p_value = 1 - lognorm.cdf(min(tail_data), shape, loc, scale)\n",
    "print(f\"Tail p-value: {tail_p_value}\")\n",
    "\n",
    "# Interpretation of the p-value\n",
    "significance_level = 0.05\n",
    "if tail_p_value < significance_level:\n",
    "    print(f\"The tail is extreme with a p-value of {tail_p_value}, which is less than the significance level of {significance_level}.\")\n",
    "else:\n",
    "    print(f\"The tail is not considered extreme with a p-value of {tail_p_value}, which is greater than the significance level of {significance_level}.\")\n",
    "#import tikzplotlib\n",
    "#tikzplotlib.save(\"../../tex/overleaf3/Figures/straindist1.tex\")\n"
   ]
  },
  {
   "cell_type": "code",
   "execution_count": 9,
   "id": "806da988-c408-4de2-9ad8-635daa968d66",
   "metadata": {},
   "outputs": [
    {
     "data": {
      "text/plain": [
       "[7.008117777650588, 7.32532570481639]"
      ]
     },
     "execution_count": 9,
     "metadata": {},
     "output_type": "execute_result"
    },
    {
     "data": {
      "image/png": "[encoded data removed]",
      "text/plain": [
       "<Figure size 432x288 with 1 Axes>"
      ]
     },
     "metadata": {
      "needs_background": "light"
     },
     "output_type": "display_data"
    }
   ],
   "source": [
    "ax=sns.distplot(collapseddf.emergence_risk.values,norm_hist=True,color='#000000')\n",
    "X=animal['emergence'].values\n",
    "#X=X[X>6.25]\n",
    "sns.distplot(X,ax=ax,norm_hist=True,color='b')\n",
    "ylim=ax.get_ylim()\n",
    "Q=[np.quantile(collapseddf.emergence_risk.values,q=x) for x in [.87,.9]]\n",
    "ax.plot([Q[0],Q[0]],ylim)\n",
    "ax.plot([Q[1],Q[1]],ylim)\n",
    "ax.set_ylim(ylim[0],2.5)\n",
    "Q\n",
    "#import tikzplotlib\n",
    "#tikzplotlib.save(\"../../tex/overleaf3/Figures/straindist.tex\")\n"
   ]
  },
  {
   "cell_type": "code",
   "execution_count": null,
   "id": "e6676bc1-b27e-4c3c-9bc6-7b2e449af184",
   "metadata": {},
   "outputs": [],
   "source": []
  }
 ],
 "metadata": {
  "kernelspec": {
   "display_name": "Python 3 (ipykernel)",
   "language": "python",
   "name": "python3"
  },
  "language_info": {
   "codemirror_mode": {
    "name": "ipython",
    "version": 3
   },
   "file_extension": ".py",
   "mimetype": "text/x-python",
   "name": "python",
   "nbconvert_exporter": "python",
   "pygments_lexer": "ipython3",
   "version": "3.10.8"
  }
 },
 "nbformat": 4,
 "nbformat_minor": 5
}
