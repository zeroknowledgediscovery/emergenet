{
 "cells": [
  {
   "cell_type": "markdown",
   "id": "fb04d802-631a-4948-b7d8-55545c08089d",
   "metadata": {},
   "source": [
    "# Number of parameters and average cross-talk for Inferred Models"
   ]
  },
  {
   "cell_type": "code",
   "execution_count": 3,
   "id": "686692c8-a1fe-49fe-a8aa-6f08043ed343",
   "metadata": {},
   "outputs": [],
   "source": [
    "from quasinet.utils import numparameters\n",
    "from quasinet.qnet import load_qnet\n",
    "import glob\n",
    "from tqdm import tqdm\n",
    "\n",
    "import seaborn as sns"
   ]
  },
  {
   "cell_type": "code",
   "execution_count": 4,
   "id": "ae375ef9-f866-4c4e-a9eb-95b96aa2e936",
   "metadata": {},
   "outputs": [
    {
     "name": "stderr",
     "output_type": "stream",
     "text": [
      "100%|█████████████████████████████████████████| 492/492 [16:23<00:00,  2.00s/it]\n"
     ]
    }
   ],
   "source": [
    "FILESg=glob.glob('/home/ishanu/ZED/Research/qnetcollection/*/*gz')\n",
    "complexityg=[numparameters(load_qnet(file,gz=True)) for file in tqdm(FILESg) if file.split('/')[-1][:4]!='data']"
   ]
  },
  {
   "cell_type": "code",
   "execution_count": null,
   "id": "2fecb840-b0c8-4f03-b390-f13c20a66d5c",
   "metadata": {},
   "outputs": [],
   "source": [
    "sns.distplot([x[0] for x in complexityg])"
   ]
  }
 ],
 "metadata": {
  "kernelspec": {
   "display_name": "Python 3 (ipykernel)",
   "language": "python",
   "name": "python3"
  },
  "language_info": {
   "codemirror_mode": {
    "name": "ipython",
    "version": 3
   },
   "file_extension": ".py",
   "mimetype": "text/x-python",
   "name": "python",
   "nbconvert_exporter": "python",
   "pygments_lexer": "ipython3",
   "version": "3.10.8"
  }
 },
 "nbformat": 4,
 "nbformat_minor": 5
}
